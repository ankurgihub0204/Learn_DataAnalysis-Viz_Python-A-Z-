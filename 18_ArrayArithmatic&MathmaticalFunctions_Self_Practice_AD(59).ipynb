{
 "cells": [
  {
   "cell_type": "code",
   "execution_count": 1,
   "id": "5b18a277",
   "metadata": {},
   "outputs": [],
   "source": [
    "#1. add or +\n",
    "#2. learn about broadcast\n",
    "#3. substract or -\n",
    "#4. multiply or divide by scalar value\n",
    "#5. np.sum\n",
    "#6. np.cumsum\n",
    "#7. np.mean OR array.mean()\n",
    "#8. np.amax\n",
    "#9. np.amin\n",
    "#10. np.std() ---std deviation"
   ]
  },
  {
   "cell_type": "code",
   "execution_count": 2,
   "id": "ca84509e",
   "metadata": {},
   "outputs": [],
   "source": [
    "import numpy as np"
   ]
  },
  {
   "cell_type": "code",
   "execution_count": 5,
   "id": "0c88bf6d",
   "metadata": {},
   "outputs": [],
   "source": [
    "array_1=np.array([[1,2,3,3,3]])"
   ]
  },
  {
   "cell_type": "code",
   "execution_count": 9,
   "id": "334b1a94",
   "metadata": {},
   "outputs": [],
   "source": [
    "array_2=np.array([1,2,3,4,5,5,3,2,4,2,1,2,3,4,5]).reshape(5,3)"
   ]
  },
  {
   "cell_type": "code",
   "execution_count": 10,
   "id": "4ceef29f",
   "metadata": {},
   "outputs": [],
   "source": [
    "array_3=np.array([1,2,3,4,5,5,3,2,4,2,1,2,3,4,5]).reshape(3,5)"
   ]
  },
  {
   "cell_type": "code",
   "execution_count": 11,
   "id": "c9dba50e",
   "metadata": {},
   "outputs": [
    {
     "data": {
      "text/plain": [
       "array([[1, 2, 3, 3, 3]])"
      ]
     },
     "execution_count": 11,
     "metadata": {},
     "output_type": "execute_result"
    }
   ],
   "source": [
    "array_1"
   ]
  },
  {
   "cell_type": "code",
   "execution_count": 12,
   "id": "1accaada",
   "metadata": {},
   "outputs": [
    {
     "data": {
      "text/plain": [
       "array([[1, 2, 3],\n",
       "       [4, 5, 5],\n",
       "       [3, 2, 4],\n",
       "       [2, 1, 2],\n",
       "       [3, 4, 5]])"
      ]
     },
     "execution_count": 12,
     "metadata": {},
     "output_type": "execute_result"
    }
   ],
   "source": [
    "array_2"
   ]
  },
  {
   "cell_type": "code",
   "execution_count": 13,
   "id": "401fdc40",
   "metadata": {},
   "outputs": [
    {
     "data": {
      "text/plain": [
       "array([[1, 2, 3, 4, 5],\n",
       "       [5, 3, 2, 4, 2],\n",
       "       [1, 2, 3, 4, 5]])"
      ]
     },
     "execution_count": 13,
     "metadata": {},
     "output_type": "execute_result"
    }
   ],
   "source": [
    "array_3"
   ]
  },
  {
   "cell_type": "code",
   "execution_count": 14,
   "id": "0e8947ce",
   "metadata": {},
   "outputs": [],
   "source": [
    "#now, if you see here array_2 and array_3 have same element but just reshaped differently - (5,3) and (3,5)"
   ]
  },
  {
   "cell_type": "code",
   "execution_count": 15,
   "id": "1cc331de",
   "metadata": {},
   "outputs": [
    {
     "data": {
      "text/plain": [
       "array([[2, 4, 6, 6, 6]])"
      ]
     },
     "execution_count": 15,
     "metadata": {},
     "output_type": "execute_result"
    }
   ],
   "source": [
    "#add 2 arrays, just use '+'\n",
    "\n",
    "array_1 + array_1"
   ]
  },
  {
   "cell_type": "code",
   "execution_count": 16,
   "id": "9e0300e9",
   "metadata": {},
   "outputs": [],
   "source": [
    "#each element in array_1 is added to each corresponding element in array_1 (concept of broadcasting)"
   ]
  },
  {
   "cell_type": "code",
   "execution_count": 17,
   "id": "2839cc0d",
   "metadata": {},
   "outputs": [],
   "source": [
    "#add function - we can also use add function (only limitation is that it takes 2 argument only, so we cant 'add' 3 arrays)"
   ]
  },
  {
   "cell_type": "code",
   "execution_count": 19,
   "id": "18d08aea",
   "metadata": {},
   "outputs": [
    {
     "data": {
      "text/plain": [
       "array([[2, 4, 6, 6, 6]])"
      ]
     },
     "execution_count": 19,
     "metadata": {},
     "output_type": "execute_result"
    }
   ],
   "source": [
    "np.add(array_1, array_1)"
   ]
  },
  {
   "cell_type": "code",
   "execution_count": 20,
   "id": "938b8079",
   "metadata": {},
   "outputs": [],
   "source": [
    "# lets see what happens if we use array_1 and array_2"
   ]
  },
  {
   "cell_type": "code",
   "execution_count": 21,
   "id": "0139a620",
   "metadata": {},
   "outputs": [
    {
     "ename": "ValueError",
     "evalue": "operands could not be broadcast together with shapes (1,5) (5,3) ",
     "output_type": "error",
     "traceback": [
      "\u001b[1;31m---------------------------------------------------------------------------\u001b[0m",
      "\u001b[1;31mValueError\u001b[0m                                Traceback (most recent call last)",
      "Cell \u001b[1;32mIn[21], line 1\u001b[0m\n\u001b[1;32m----> 1\u001b[0m np\u001b[38;5;241m.\u001b[39madd(array_1, array_2)\n",
      "\u001b[1;31mValueError\u001b[0m: operands could not be broadcast together with shapes (1,5) (5,3) "
     ]
    }
   ],
   "source": [
    "np.add(array_1, array_2)"
   ]
  },
  {
   "cell_type": "code",
   "execution_count": 22,
   "id": "0e5fca8b",
   "metadata": {},
   "outputs": [],
   "source": [
    "#this is because they have different #of columns (basically different shape), so each element of array1 couldn't be broadcasted....\n",
    "#....to corresponding element of array_2\n",
    "\n",
    "#this shoudl work for adding array_1 and array_3"
   ]
  },
  {
   "cell_type": "code",
   "execution_count": 23,
   "id": "3f868b46",
   "metadata": {},
   "outputs": [
    {
     "data": {
      "text/plain": [
       "array([[1, 2, 3, 3, 3]])"
      ]
     },
     "execution_count": 23,
     "metadata": {},
     "output_type": "execute_result"
    }
   ],
   "source": [
    "array_1"
   ]
  },
  {
   "cell_type": "code",
   "execution_count": 24,
   "id": "eaf37e16",
   "metadata": {},
   "outputs": [
    {
     "data": {
      "text/plain": [
       "array([[1, 2, 3, 4, 5],\n",
       "       [5, 3, 2, 4, 2],\n",
       "       [1, 2, 3, 4, 5]])"
      ]
     },
     "execution_count": 24,
     "metadata": {},
     "output_type": "execute_result"
    }
   ],
   "source": [
    "array_3"
   ]
  },
  {
   "cell_type": "code",
   "execution_count": 25,
   "id": "68e6632d",
   "metadata": {},
   "outputs": [
    {
     "data": {
      "text/plain": [
       "array([[2, 4, 6, 7, 8],\n",
       "       [6, 5, 5, 7, 5],\n",
       "       [2, 4, 6, 7, 8]])"
      ]
     },
     "execution_count": 25,
     "metadata": {},
     "output_type": "execute_result"
    }
   ],
   "source": [
    "np.add(array_1, array_3)"
   ]
  },
  {
   "cell_type": "code",
   "execution_count": 26,
   "id": "3ee44433",
   "metadata": {},
   "outputs": [
    {
     "data": {
      "text/plain": [
       "array([[2, 4, 6, 7, 8],\n",
       "       [6, 5, 5, 7, 5],\n",
       "       [2, 4, 6, 7, 8]])"
      ]
     },
     "execution_count": 26,
     "metadata": {},
     "output_type": "execute_result"
    }
   ],
   "source": [
    "#cool, we can also get it by simple '+' sign too\n",
    "\n",
    "array_1 + array_3"
   ]
  },
  {
   "cell_type": "code",
   "execution_count": 27,
   "id": "70848f54",
   "metadata": {},
   "outputs": [
    {
     "data": {
      "text/plain": [
       "array([[ 0,  0,  0, -1, -2],\n",
       "       [-4, -1,  1, -1,  1],\n",
       "       [ 0,  0,  0, -1, -2]])"
      ]
     },
     "execution_count": 27,
     "metadata": {},
     "output_type": "execute_result"
    }
   ],
   "source": [
    "#now, lets see substraction\n",
    "\n",
    "array_1 - array_3"
   ]
  },
  {
   "cell_type": "code",
   "execution_count": 28,
   "id": "a29beff9",
   "metadata": {},
   "outputs": [
    {
     "data": {
      "text/plain": [
       "array([[ 0,  0,  0,  1,  2],\n",
       "       [ 4,  1, -1,  1, -1],\n",
       "       [ 0,  0,  0,  1,  2]])"
      ]
     },
     "execution_count": 28,
     "metadata": {},
     "output_type": "execute_result"
    }
   ],
   "source": [
    "array_3 - array_1"
   ]
  },
  {
   "cell_type": "code",
   "execution_count": 35,
   "id": "e4064799",
   "metadata": {},
   "outputs": [
    {
     "data": {
      "text/plain": [
       "array([[ 0,  0,  0,  1,  2],\n",
       "       [ 4,  1, -1,  1, -1],\n",
       "       [ 0,  0,  0,  1,  2]])"
      ]
     },
     "execution_count": 35,
     "metadata": {},
     "output_type": "execute_result"
    }
   ],
   "source": [
    "#or use np.subtract (note: subtract not substract)\n",
    "\n",
    "np.subtract(array_3, array_1)"
   ]
  },
  {
   "cell_type": "code",
   "execution_count": 29,
   "id": "6b327afa",
   "metadata": {},
   "outputs": [],
   "source": [
    "#so we saw substraction works too the same way"
   ]
  },
  {
   "cell_type": "code",
   "execution_count": 30,
   "id": "805f4cb4",
   "metadata": {},
   "outputs": [],
   "source": [
    "#similarly, we can broadcast an integer value too (lets see few examples)"
   ]
  },
  {
   "cell_type": "code",
   "execution_count": 31,
   "id": "7a2a5e27",
   "metadata": {},
   "outputs": [
    {
     "data": {
      "text/plain": [
       "array([[1, 2, 3, 4, 5],\n",
       "       [5, 3, 2, 4, 2],\n",
       "       [1, 2, 3, 4, 5]])"
      ]
     },
     "execution_count": 31,
     "metadata": {},
     "output_type": "execute_result"
    }
   ],
   "source": [
    "array_3"
   ]
  },
  {
   "cell_type": "code",
   "execution_count": 32,
   "id": "cf22bc50",
   "metadata": {},
   "outputs": [
    {
     "data": {
      "text/plain": [
       "array([[ 6,  7,  8,  9, 10],\n",
       "       [10,  8,  7,  9,  7],\n",
       "       [ 6,  7,  8,  9, 10]])"
      ]
     },
     "execution_count": 32,
     "metadata": {},
     "output_type": "execute_result"
    }
   ],
   "source": [
    "#adding scaler value of 5 will broadcast 5 to each elemnt of array_3 (each element in array_3 will increase by 5)\n",
    "\n",
    "array_3 + 5"
   ]
  },
  {
   "cell_type": "code",
   "execution_count": 33,
   "id": "f46d4f66",
   "metadata": {},
   "outputs": [],
   "source": [
    "#cool, similarly works for substraction, multiply or division"
   ]
  },
  {
   "cell_type": "code",
   "execution_count": 36,
   "id": "e89fec66",
   "metadata": {},
   "outputs": [
    {
     "data": {
      "text/plain": [
       "array([[1, 2, 3, 4, 5],\n",
       "       [5, 3, 2, 4, 2],\n",
       "       [1, 2, 3, 4, 5]])"
      ]
     },
     "execution_count": 36,
     "metadata": {},
     "output_type": "execute_result"
    }
   ],
   "source": [
    "array_3"
   ]
  },
  {
   "cell_type": "code",
   "execution_count": 37,
   "id": "e663648d",
   "metadata": {},
   "outputs": [
    {
     "data": {
      "text/plain": [
       "array([[ 2,  4,  6,  8, 10],\n",
       "       [10,  6,  4,  8,  4],\n",
       "       [ 2,  4,  6,  8, 10]])"
      ]
     },
     "execution_count": 37,
     "metadata": {},
     "output_type": "execute_result"
    }
   ],
   "source": [
    "array_3*2"
   ]
  },
  {
   "cell_type": "code",
   "execution_count": 38,
   "id": "f63e2f5d",
   "metadata": {},
   "outputs": [
    {
     "data": {
      "text/plain": [
       "array([[0.5, 1. , 1.5, 2. , 2.5],\n",
       "       [2.5, 1.5, 1. , 2. , 1. ],\n",
       "       [0.5, 1. , 1.5, 2. , 2.5]])"
      ]
     },
     "execution_count": 38,
     "metadata": {},
     "output_type": "execute_result"
    }
   ],
   "source": [
    "array_3/2"
   ]
  },
  {
   "cell_type": "code",
   "execution_count": 39,
   "id": "9c252fd4",
   "metadata": {},
   "outputs": [],
   "source": [
    "#sum function (note sum is not same as add, as add uses 2 arrays or array+scaler value, sum sums of element of given array)\n",
    "\n",
    "#np.sum(array, axis=0_or_1, ..other optional params..)"
   ]
  },
  {
   "cell_type": "code",
   "execution_count": 41,
   "id": "05d40aca",
   "metadata": {},
   "outputs": [
    {
     "data": {
      "text/plain": [
       "array([[1, 2, 3, 3, 3]])"
      ]
     },
     "execution_count": 41,
     "metadata": {},
     "output_type": "execute_result"
    }
   ],
   "source": [
    "array_1"
   ]
  },
  {
   "cell_type": "code",
   "execution_count": 40,
   "id": "158b9792",
   "metadata": {},
   "outputs": [
    {
     "data": {
      "text/plain": [
       "12"
      ]
     },
     "execution_count": 40,
     "metadata": {},
     "output_type": "execute_result"
    }
   ],
   "source": [
    "np.sum(array_1)"
   ]
  },
  {
   "cell_type": "code",
   "execution_count": 42,
   "id": "6bb3aa42",
   "metadata": {},
   "outputs": [
    {
     "data": {
      "text/plain": [
       "array([[1, 2, 3, 4, 5],\n",
       "       [5, 3, 2, 4, 2],\n",
       "       [1, 2, 3, 4, 5]])"
      ]
     },
     "execution_count": 42,
     "metadata": {},
     "output_type": "execute_result"
    }
   ],
   "source": [
    "array_3"
   ]
  },
  {
   "cell_type": "code",
   "execution_count": 43,
   "id": "9eb8fd30",
   "metadata": {},
   "outputs": [
    {
     "data": {
      "text/plain": [
       "46"
      ]
     },
     "execution_count": 43,
     "metadata": {},
     "output_type": "execute_result"
    }
   ],
   "source": [
    "np.sum(array_3) #if no axis is provided, by default all elements are summed up"
   ]
  },
  {
   "cell_type": "code",
   "execution_count": 44,
   "id": "7c78477f",
   "metadata": {},
   "outputs": [
    {
     "data": {
      "text/plain": [
       "array([ 7,  7,  8, 12, 12])"
      ]
     },
     "execution_count": 44,
     "metadata": {},
     "output_type": "execute_result"
    }
   ],
   "source": [
    "#summing only on axis 0 (meaning column after column: sum-column1, sum-column2,sum-column3...so on)\n",
    "\n",
    "np.sum(array_3, axis=0)"
   ]
  },
  {
   "cell_type": "code",
   "execution_count": 45,
   "id": "0915ea7a",
   "metadata": {},
   "outputs": [
    {
     "data": {
      "text/plain": [
       "array([15, 16, 15])"
      ]
     },
     "execution_count": 45,
     "metadata": {},
     "output_type": "execute_result"
    }
   ],
   "source": [
    "#summing only on axis 1 (meaning row after row: sum-row1, sum-row2,sum-row3...so on)\n",
    "\n",
    "np.sum(array_3,axis=1)\n"
   ]
  },
  {
   "cell_type": "code",
   "execution_count": 46,
   "id": "73bd04d9",
   "metadata": {},
   "outputs": [],
   "source": [
    "#cumsum - same as sum, but its a cumulative sum\n",
    "\n",
    "#np.cumsum(array, axis, other param)\n",
    "#if axis is not provided,then by default all elements are resulted with addition of (sum of previous element)"
   ]
  },
  {
   "cell_type": "code",
   "execution_count": 48,
   "id": "06724c33",
   "metadata": {},
   "outputs": [
    {
     "data": {
      "text/plain": [
       "array([[1, 2, 3, 4, 5],\n",
       "       [5, 3, 2, 4, 2],\n",
       "       [1, 2, 3, 4, 5]])"
      ]
     },
     "execution_count": 48,
     "metadata": {},
     "output_type": "execute_result"
    }
   ],
   "source": [
    "array_3"
   ]
  },
  {
   "cell_type": "code",
   "execution_count": 47,
   "id": "8d6186bb",
   "metadata": {},
   "outputs": [
    {
     "data": {
      "text/plain": [
       "array([ 1,  3,  6, 10, 15, 20, 23, 25, 29, 31, 32, 34, 37, 41, 46])"
      ]
     },
     "execution_count": 47,
     "metadata": {},
     "output_type": "execute_result"
    }
   ],
   "source": [
    "np.cumsum(array_3)"
   ]
  },
  {
   "cell_type": "code",
   "execution_count": 49,
   "id": "cf9866de",
   "metadata": {},
   "outputs": [
    {
     "data": {
      "text/plain": [
       "array([[ 1,  2,  3,  4,  5],\n",
       "       [ 6,  5,  5,  8,  7],\n",
       "       [ 7,  7,  8, 12, 12]])"
      ]
     },
     "execution_count": 49,
     "metadata": {},
     "output_type": "execute_result"
    }
   ],
   "source": [
    "np.cumsum(array_3, axis=0)"
   ]
  },
  {
   "cell_type": "code",
   "execution_count": 50,
   "id": "ecb9e686",
   "metadata": {},
   "outputs": [
    {
     "data": {
      "text/plain": [
       "array([[ 1,  3,  6, 10, 15],\n",
       "       [ 5,  8, 10, 14, 16],\n",
       "       [ 1,  3,  6, 10, 15]])"
      ]
     },
     "execution_count": 50,
     "metadata": {},
     "output_type": "execute_result"
    }
   ],
   "source": [
    "np.cumsum(array_3, axis=1)"
   ]
  },
  {
   "cell_type": "code",
   "execution_count": 51,
   "id": "39f3a52c",
   "metadata": {},
   "outputs": [],
   "source": [
    "#cool"
   ]
  },
  {
   "cell_type": "code",
   "execution_count": 52,
   "id": "ffd21918",
   "metadata": {},
   "outputs": [],
   "source": [
    "#now, lets see mean, amax and amin\n",
    "\n",
    "\n",
    "#np.mean(array, axis, ..other optional param..)\n",
    "#np.amax(array, axis, ..other optional param..)\n",
    "#np.amin(array, axis, ..other optional params..)"
   ]
  },
  {
   "cell_type": "code",
   "execution_count": 54,
   "id": "0036a5b4",
   "metadata": {},
   "outputs": [
    {
     "data": {
      "text/plain": [
       "array([[1, 2, 3, 4, 5],\n",
       "       [5, 3, 2, 4, 2],\n",
       "       [1, 2, 3, 4, 5]])"
      ]
     },
     "execution_count": 54,
     "metadata": {},
     "output_type": "execute_result"
    }
   ],
   "source": [
    "array_3"
   ]
  },
  {
   "cell_type": "code",
   "execution_count": 53,
   "id": "1ee66a6a",
   "metadata": {},
   "outputs": [
    {
     "data": {
      "text/plain": [
       "3.066666666666667"
      ]
     },
     "execution_count": 53,
     "metadata": {},
     "output_type": "execute_result"
    }
   ],
   "source": [
    "np.mean(array_3)"
   ]
  },
  {
   "cell_type": "code",
   "execution_count": 55,
   "id": "9c77156f",
   "metadata": {},
   "outputs": [
    {
     "data": {
      "text/plain": [
       "array([2.33333333, 2.33333333, 2.66666667, 4.        , 4.        ])"
      ]
     },
     "execution_count": 55,
     "metadata": {},
     "output_type": "execute_result"
    }
   ],
   "source": [
    "np.mean(array_3,axis=0) #i.e.mean of column1,column2,column3..so on (by row)"
   ]
  },
  {
   "cell_type": "code",
   "execution_count": 56,
   "id": "af345870",
   "metadata": {},
   "outputs": [
    {
     "data": {
      "text/plain": [
       "array([3. , 3.2, 3. ])"
      ]
     },
     "execution_count": 56,
     "metadata": {},
     "output_type": "execute_result"
    }
   ],
   "source": [
    "#similarly, for axis=1, means mean of row1,row2,row3..so on (by columns)\n",
    "\n",
    "np.mean(array_3, axis=1)"
   ]
  },
  {
   "cell_type": "code",
   "execution_count": 57,
   "id": "56cc5d40",
   "metadata": {},
   "outputs": [],
   "source": [
    "#now, lets see max and min function"
   ]
  },
  {
   "cell_type": "code",
   "execution_count": 58,
   "id": "70a6aa6c",
   "metadata": {},
   "outputs": [
    {
     "data": {
      "text/plain": [
       "array([[1, 2, 3, 4, 5],\n",
       "       [5, 3, 2, 4, 2],\n",
       "       [1, 2, 3, 4, 5]])"
      ]
     },
     "execution_count": 58,
     "metadata": {},
     "output_type": "execute_result"
    }
   ],
   "source": [
    "array_3"
   ]
  },
  {
   "cell_type": "code",
   "execution_count": 62,
   "id": "f1683c6a",
   "metadata": {},
   "outputs": [
    {
     "data": {
      "text/plain": [
       "5"
      ]
     },
     "execution_count": 62,
     "metadata": {},
     "output_type": "execute_result"
    }
   ],
   "source": [
    "np.amax(array_3)"
   ]
  },
  {
   "cell_type": "code",
   "execution_count": 61,
   "id": "c5ebf521",
   "metadata": {},
   "outputs": [
    {
     "data": {
      "text/plain": [
       "5"
      ]
     },
     "execution_count": 61,
     "metadata": {},
     "output_type": "execute_result"
    }
   ],
   "source": [
    "np.max(array_3)"
   ]
  },
  {
   "cell_type": "code",
   "execution_count": 63,
   "id": "4f0ae077",
   "metadata": {},
   "outputs": [],
   "source": [
    "#hmm, looks like amax and max are same, we may find out differences later, but looks same as of now"
   ]
  },
  {
   "cell_type": "code",
   "execution_count": 64,
   "id": "366a626f",
   "metadata": {},
   "outputs": [
    {
     "data": {
      "text/plain": [
       "1"
      ]
     },
     "execution_count": 64,
     "metadata": {},
     "output_type": "execute_result"
    }
   ],
   "source": [
    "np.amin(array_3)"
   ]
  },
  {
   "cell_type": "code",
   "execution_count": 65,
   "id": "b6f23a7a",
   "metadata": {},
   "outputs": [
    {
     "data": {
      "text/plain": [
       "1"
      ]
     },
     "execution_count": 65,
     "metadata": {},
     "output_type": "execute_result"
    }
   ],
   "source": [
    "np.min(array_3)"
   ]
  },
  {
   "cell_type": "code",
   "execution_count": 66,
   "id": "55fa95d3",
   "metadata": {},
   "outputs": [],
   "source": [
    "#hmm, looks like amin and min are same too, we may find out differences later, but looks same as of now"
   ]
  },
  {
   "cell_type": "code",
   "execution_count": 67,
   "id": "e1827db2",
   "metadata": {},
   "outputs": [
    {
     "data": {
      "text/plain": [
       "array([5, 3, 3, 4, 5])"
      ]
     },
     "execution_count": 67,
     "metadata": {},
     "output_type": "execute_result"
    }
   ],
   "source": [
    "np.amax(array_3, axis=0)"
   ]
  },
  {
   "cell_type": "code",
   "execution_count": 68,
   "id": "e6a763ee",
   "metadata": {},
   "outputs": [
    {
     "data": {
      "text/plain": [
       "array([5, 5, 5])"
      ]
     },
     "execution_count": 68,
     "metadata": {},
     "output_type": "execute_result"
    }
   ],
   "source": [
    "np.amax(array_3, axis=1)"
   ]
  },
  {
   "cell_type": "code",
   "execution_count": 69,
   "id": "d74ab19d",
   "metadata": {},
   "outputs": [],
   "source": [
    "#cool,min works the same way,lets see"
   ]
  },
  {
   "cell_type": "code",
   "execution_count": 70,
   "id": "3cef5e22",
   "metadata": {},
   "outputs": [
    {
     "data": {
      "text/plain": [
       "array([[1, 2, 3, 4, 5],\n",
       "       [5, 3, 2, 4, 2],\n",
       "       [1, 2, 3, 4, 5]])"
      ]
     },
     "execution_count": 70,
     "metadata": {},
     "output_type": "execute_result"
    }
   ],
   "source": [
    "array_3"
   ]
  },
  {
   "cell_type": "code",
   "execution_count": 71,
   "id": "8c83ad3f",
   "metadata": {},
   "outputs": [
    {
     "data": {
      "text/plain": [
       "array([1, 2, 2, 4, 2])"
      ]
     },
     "execution_count": 71,
     "metadata": {},
     "output_type": "execute_result"
    }
   ],
   "source": [
    "np.amin(array_3, axis=0)"
   ]
  },
  {
   "cell_type": "code",
   "execution_count": 73,
   "id": "29dd6754",
   "metadata": {},
   "outputs": [
    {
     "data": {
      "text/plain": [
       "array([1, 2, 1])"
      ]
     },
     "execution_count": 73,
     "metadata": {},
     "output_type": "execute_result"
    }
   ],
   "source": [
    "np.min(array_3, axis=1)"
   ]
  },
  {
   "cell_type": "code",
   "execution_count": 74,
   "id": "0a8040ba",
   "metadata": {},
   "outputs": [
    {
     "data": {
      "text/plain": [
       "array([[1, 2, 3],\n",
       "       [4, 5, 5],\n",
       "       [3, 2, 4],\n",
       "       [2, 1, 2],\n",
       "       [3, 4, 5]])"
      ]
     },
     "execution_count": 74,
     "metadata": {},
     "output_type": "execute_result"
    }
   ],
   "source": [
    "array_2"
   ]
  },
  {
   "cell_type": "code",
   "execution_count": 75,
   "id": "8f40bb2c",
   "metadata": {},
   "outputs": [
    {
     "data": {
      "text/plain": [
       "array([1, 1, 2])"
      ]
     },
     "execution_count": 75,
     "metadata": {},
     "output_type": "execute_result"
    }
   ],
   "source": [
    "np.min(array_2, axis=0)"
   ]
  },
  {
   "cell_type": "code",
   "execution_count": 76,
   "id": "3b9b3b15",
   "metadata": {},
   "outputs": [
    {
     "data": {
      "text/plain": [
       "array([1, 4, 2, 1, 3])"
      ]
     },
     "execution_count": 76,
     "metadata": {},
     "output_type": "execute_result"
    }
   ],
   "source": [
    "np.amin(array_2, axis=1)"
   ]
  },
  {
   "cell_type": "code",
   "execution_count": 77,
   "id": "7074e8f2",
   "metadata": {},
   "outputs": [],
   "source": [
    "#cool stuff"
   ]
  },
  {
   "cell_type": "code",
   "execution_count": 81,
   "id": "bb5359a3",
   "metadata": {},
   "outputs": [
    {
     "data": {
      "text/plain": [
       "array([[1, 2, 3, 4, 5],\n",
       "       [5, 3, 2, 4, 2],\n",
       "       [1, 2, 3, 4, 5]])"
      ]
     },
     "execution_count": 81,
     "metadata": {},
     "output_type": "execute_result"
    }
   ],
   "source": [
    "#we can also find statistical thing this way, lets see standard-deviation\n",
    "\n",
    "array_3"
   ]
  },
  {
   "cell_type": "code",
   "execution_count": 80,
   "id": "5cb9d4b8",
   "metadata": {},
   "outputs": [
    {
     "data": {
      "text/plain": [
       "1.339983416149452"
      ]
     },
     "execution_count": 80,
     "metadata": {},
     "output_type": "execute_result"
    }
   ],
   "source": [
    "np.std(array_3)"
   ]
  },
  {
   "cell_type": "code",
   "execution_count": 79,
   "id": "a27da7f4",
   "metadata": {},
   "outputs": [
    {
     "data": {
      "text/plain": [
       "array([1.88561808, 0.47140452, 0.47140452, 0.        , 1.41421356])"
      ]
     },
     "execution_count": 79,
     "metadata": {},
     "output_type": "execute_result"
    }
   ],
   "source": [
    "np.std(array_3, axis=0)"
   ]
  },
  {
   "cell_type": "code",
   "execution_count": 82,
   "id": "bad3294e",
   "metadata": {},
   "outputs": [
    {
     "data": {
      "text/plain": [
       "array([1.41421356, 1.16619038, 1.41421356])"
      ]
     },
     "execution_count": 82,
     "metadata": {},
     "output_type": "execute_result"
    }
   ],
   "source": [
    "np.std(array_3, axis=1)"
   ]
  },
  {
   "cell_type": "code",
   "execution_count": null,
   "id": "e910e6a4",
   "metadata": {},
   "outputs": [],
   "source": []
  }
 ],
 "metadata": {
  "kernelspec": {
   "display_name": "Python 3 (ipykernel)",
   "language": "python",
   "name": "python3"
  },
  "language_info": {
   "codemirror_mode": {
    "name": "ipython",
    "version": 3
   },
   "file_extension": ".py",
   "mimetype": "text/x-python",
   "name": "python",
   "nbconvert_exporter": "python",
   "pygments_lexer": "ipython3",
   "version": "3.11.5"
  }
 },
 "nbformat": 4,
 "nbformat_minor": 5
}
