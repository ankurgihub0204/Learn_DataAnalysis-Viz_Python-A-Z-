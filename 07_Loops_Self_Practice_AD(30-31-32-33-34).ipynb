{
 "cells": [
  {
   "cell_type": "code",
   "execution_count": 1,
   "id": "b1f832eb",
   "metadata": {},
   "outputs": [],
   "source": [
    "#LOOPS"
   ]
  },
  {
   "cell_type": "code",
   "execution_count": null,
   "id": "10e68df6",
   "metadata": {},
   "outputs": [],
   "source": [
    "#iterable objects: objects that are capable of returning their each elements ne at a time\n",
    "#example list below (next - tuples too are iterable)"
   ]
  },
  {
   "cell_type": "code",
   "execution_count": null,
   "id": "10066a52",
   "metadata": {},
   "outputs": [],
   "source": [
    "#syntax for for\n",
    "# for ELEMENT_VARIABLE in ITERABLE_OBJECT:\n",
    "       # print(ELEMENT_VARIABLE)"
   ]
  },
  {
   "cell_type": "code",
   "execution_count": 1,
   "id": "2a4327ed",
   "metadata": {},
   "outputs": [
    {
     "name": "stdout",
     "output_type": "stream",
     "text": [
      "sofa\n",
      "tv,\n",
      "desk\n",
      "lamp\n"
     ]
    }
   ],
   "source": [
    "for x in ['sofa', 'tv,', 'desk', 'lamp']:\n",
    "    print(x)"
   ]
  },
  {
   "cell_type": "code",
   "execution_count": 5,
   "id": "5f836278",
   "metadata": {},
   "outputs": [],
   "source": [
    "#or"
   ]
  },
  {
   "cell_type": "code",
   "execution_count": 6,
   "id": "8f9e1f27",
   "metadata": {},
   "outputs": [],
   "source": [
    "furniture=['sofa', 'tv', 'desk', 'lamp']"
   ]
  },
  {
   "cell_type": "code",
   "execution_count": 7,
   "id": "d1dccb29",
   "metadata": {},
   "outputs": [
    {
     "name": "stdout",
     "output_type": "stream",
     "text": [
      "sofa\n",
      "tv\n",
      "desk\n",
      "lamp\n"
     ]
    }
   ],
   "source": [
    "for x in furniture:\n",
    "    print(x)"
   ]
  },
  {
   "cell_type": "code",
   "execution_count": 14,
   "id": "a42f2671",
   "metadata": {},
   "outputs": [
    {
     "name": "stdout",
     "output_type": "stream",
     "text": [
      "sofa\n",
      "tv\n",
      "desk\n",
      "lamp\n"
     ]
    }
   ],
   "source": [
    "for elements in furniture:\n",
    "    print(elements)"
   ]
  },
  {
   "cell_type": "code",
   "execution_count": 20,
   "id": "d5351dd6",
   "metadata": {},
   "outputs": [
    {
     "name": "stdout",
     "output_type": "stream",
     "text": [
      "elements\n",
      "elements\n",
      "elements\n",
      "elements\n"
     ]
    }
   ],
   "source": [
    "for elements in furniture:\n",
    "    print('elements')"
   ]
  },
  {
   "cell_type": "code",
   "execution_count": null,
   "id": "ee189045",
   "metadata": {},
   "outputs": [],
   "source": [
    "#as we have quoted the word 'elements', it will print the word for # of times corresponding to each list elements"
   ]
  },
  {
   "cell_type": "code",
   "execution_count": 15,
   "id": "8fd62c4d",
   "metadata": {},
   "outputs": [
    {
     "data": {
      "text/plain": [
       "'lamp'"
      ]
     },
     "execution_count": 15,
     "metadata": {},
     "output_type": "execute_result"
    }
   ],
   "source": [
    "x"
   ]
  },
  {
   "cell_type": "code",
   "execution_count": 16,
   "id": "219f0b92",
   "metadata": {},
   "outputs": [
    {
     "name": "stdout",
     "output_type": "stream",
     "text": [
      "lamp\n"
     ]
    }
   ],
   "source": [
    "print(x)"
   ]
  },
  {
   "cell_type": "code",
   "execution_count": 17,
   "id": "9e9ce5ca",
   "metadata": {},
   "outputs": [
    {
     "data": {
      "text/plain": [
       "'lamp'"
      ]
     },
     "execution_count": 17,
     "metadata": {},
     "output_type": "execute_result"
    }
   ],
   "source": [
    "element"
   ]
  },
  {
   "cell_type": "code",
   "execution_count": 18,
   "id": "3099730d",
   "metadata": {},
   "outputs": [],
   "source": [
    "#why returning only last value ....? lets see if we are able to find it out, leave it for now\n",
    "#got it - its because after the loop eneded, x & element have taken the last value :P"
   ]
  },
  {
   "cell_type": "code",
   "execution_count": 32,
   "id": "211c6189",
   "metadata": {},
   "outputs": [],
   "source": [
    "num=0\n",
    "list_1=[1,2,3,4,5]"
   ]
  },
  {
   "cell_type": "code",
   "execution_count": 30,
   "id": "dcc3187a",
   "metadata": {},
   "outputs": [
    {
     "name": "stdout",
     "output_type": "stream",
     "text": [
      "0\n",
      "1\n",
      "2\n",
      "3\n",
      "4\n"
     ]
    }
   ],
   "source": [
    "for x in list_1:\n",
    "    print(num)\n",
    "    num=num+1\n",
    "    "
   ]
  },
  {
   "cell_type": "code",
   "execution_count": null,
   "id": "05b52208",
   "metadata": {},
   "outputs": [],
   "source": [
    "#prints 0, then add 1, then print 1, then adds 1, then prints 2...so in 5 iterations we get 0,1,2,3,4"
   ]
  },
  {
   "cell_type": "code",
   "execution_count": 33,
   "id": "8ef352a0",
   "metadata": {},
   "outputs": [
    {
     "name": "stdout",
     "output_type": "stream",
     "text": [
      "1\n",
      "2\n",
      "3\n",
      "4\n",
      "5\n"
     ]
    }
   ],
   "source": [
    "for x in list_1: # run line 33 after line 32 (dont run line 30, else values chages)\n",
    "        num=num+1\n",
    "        print(num)"
   ]
  },
  {
   "cell_type": "code",
   "execution_count": 34,
   "id": "c497d832",
   "metadata": {},
   "outputs": [],
   "source": [
    "# but here; #first it adds 1 to 0, then print 1, then adds 1, then prints 2...so in 5 iterations we get 1,2,3,4,5\n",
    "#also num = num+1 can be written as \"num+=1\", lets see below"
   ]
  },
  {
   "cell_type": "code",
   "execution_count": 36,
   "id": "bcee3b0b",
   "metadata": {},
   "outputs": [
    {
     "name": "stdout",
     "output_type": "stream",
     "text": [
      "0\n",
      "1\n",
      "2\n",
      "3\n",
      "4\n"
     ]
    }
   ],
   "source": [
    "num=0\n",
    "for x in list_1:\n",
    "    print(num)\n",
    "    num+=1"
   ]
  },
  {
   "cell_type": "code",
   "execution_count": 37,
   "id": "d44c6bd9",
   "metadata": {},
   "outputs": [
    {
     "name": "stdout",
     "output_type": "stream",
     "text": [
      "1\n",
      "2\n",
      "3\n",
      "4\n",
      "5\n"
     ]
    }
   ],
   "source": [
    "num=0\n",
    "for x in list_1:\n",
    "    num+=1\n",
    "    print (num)"
   ]
  },
  {
   "cell_type": "code",
   "execution_count": 38,
   "id": "003a776c",
   "metadata": {},
   "outputs": [],
   "source": [
    "# so this way,\n",
    "# num=num+10 is same as num+=10\n",
    "# num=num-10 is same as num-=10\n",
    "# num=num*10 is same as num*=10\n",
    "# num=num/10 is same as num/=10"
   ]
  },
  {
   "cell_type": "code",
   "execution_count": 39,
   "id": "ac1863cd",
   "metadata": {},
   "outputs": [
    {
     "name": "stdout",
     "output_type": "stream",
     "text": [
      "5\n"
     ]
    }
   ],
   "source": [
    "#indenting is important, lets see why\n",
    "num=0\n",
    "for x in list_1:\n",
    "    num+=1\n",
    "print (num)"
   ]
  },
  {
   "cell_type": "code",
   "execution_count": 40,
   "id": "4d84e6f9",
   "metadata": {},
   "outputs": [],
   "source": [
    "# we got 5 because, code ran 5 times and num ended with value 5, and thats got printed at the end"
   ]
  },
  {
   "cell_type": "code",
   "execution_count": 41,
   "id": "7c10363c",
   "metadata": {},
   "outputs": [],
   "source": [
    "# nested loops"
   ]
  },
  {
   "cell_type": "code",
   "execution_count": 42,
   "id": "354771f9",
   "metadata": {},
   "outputs": [],
   "source": [
    "list_2=[[1,2],[3,4],[5,6]]"
   ]
  },
  {
   "cell_type": "code",
   "execution_count": 43,
   "id": "85c2a3b5",
   "metadata": {},
   "outputs": [
    {
     "name": "stdout",
     "output_type": "stream",
     "text": [
      "[1, 2]\n",
      "[3, 4]\n",
      "[5, 6]\n"
     ]
    }
   ],
   "source": [
    "for x in list_2:\n",
    "    print(x)"
   ]
  },
  {
   "cell_type": "code",
   "execution_count": 44,
   "id": "dd70f0aa",
   "metadata": {},
   "outputs": [
    {
     "name": "stdout",
     "output_type": "stream",
     "text": [
      "1\n",
      "3\n",
      "5\n"
     ]
    }
   ],
   "source": [
    "for x in list_2:\n",
    "    print(x[0])"
   ]
  },
  {
   "cell_type": "code",
   "execution_count": 45,
   "id": "64e70133",
   "metadata": {},
   "outputs": [
    {
     "name": "stdout",
     "output_type": "stream",
     "text": [
      "2\n",
      "4\n",
      "6\n"
     ]
    }
   ],
   "source": [
    "for x in list_2:\n",
    "    print(x[1])"
   ]
  },
  {
   "cell_type": "code",
   "execution_count": 46,
   "id": "d200f9c9",
   "metadata": {},
   "outputs": [
    {
     "name": "stdout",
     "output_type": "stream",
     "text": [
      "1\n",
      "2\n",
      "3\n",
      "4\n",
      "5\n",
      "6\n"
     ]
    }
   ],
   "source": [
    "#to get all the elements\n",
    "for x in list_2:\n",
    "    print(x[0])\n",
    "    print (x[1])"
   ]
  },
  {
   "cell_type": "code",
   "execution_count": 47,
   "id": "da8e1388",
   "metadata": {},
   "outputs": [
    {
     "name": "stdout",
     "output_type": "stream",
     "text": [
      "1\n",
      "2\n",
      "3\n",
      "4\n",
      "5\n",
      "6\n"
     ]
    }
   ],
   "source": [
    "#to get all the elements (alternate and cool way)\n",
    "for x in list_2:\n",
    "    for y in x:\n",
    "        print(y)"
   ]
  },
  {
   "cell_type": "code",
   "execution_count": 51,
   "id": "96c86f67",
   "metadata": {},
   "outputs": [
    {
     "data": {
      "text/plain": [
       "[[1, 2], [3, 4], [5, 6]]"
      ]
     },
     "execution_count": 51,
     "metadata": {},
     "output_type": "execute_result"
    }
   ],
   "source": [
    "list_2"
   ]
  },
  {
   "cell_type": "code",
   "execution_count": 52,
   "id": "dbde57a9",
   "metadata": {},
   "outputs": [
    {
     "name": "stdout",
     "output_type": "stream",
     "text": [
      "[1, 2]\n",
      "[3, 4]\n",
      "[5, 6]\n"
     ]
    }
   ],
   "source": [
    "#concept of 'unpacking'. since list 2 (as seen above and here) is consistent with 2 elements as each elemnt in it, \n",
    "#lets say like [a,b]\n",
    "for x in list_2:\n",
    "    print (x)"
   ]
  },
  {
   "cell_type": "code",
   "execution_count": 57,
   "id": "0e71db8f",
   "metadata": {},
   "outputs": [
    {
     "name": "stdout",
     "output_type": "stream",
     "text": [
      "1\n",
      "2\n",
      "3\n",
      "4\n",
      "5\n",
      "6\n"
     ]
    }
   ],
   "source": [
    "# so we can also run the loop as \n",
    "for [a,b] in list_2:\n",
    "    print(a)\n",
    "    print(b)"
   ]
  },
  {
   "cell_type": "code",
   "execution_count": 58,
   "id": "ae8cefb2",
   "metadata": {},
   "outputs": [
    {
     "name": "stdout",
     "output_type": "stream",
     "text": [
      "[1]\n",
      "[2]\n",
      "[3]\n",
      "[4]\n",
      "[5]\n",
      "[6]\n"
     ]
    }
   ],
   "source": [
    "for [a,b] in list_2:\n",
    "    print([a])\n",
    "    print([b])"
   ]
  },
  {
   "cell_type": "code",
   "execution_count": 60,
   "id": "19d05e6d",
   "metadata": {},
   "outputs": [
    {
     "name": "stdout",
     "output_type": "stream",
     "text": [
      "1\n",
      "2\n",
      "3\n",
      "4\n",
      "5\n",
      "6\n"
     ]
    }
   ],
   "source": [
    "# we dont even need to write [a, b] in list, a, b are sufficient too\n",
    "for a,b in list_2:\n",
    "    print(a)\n",
    "    print(b)"
   ]
  },
  {
   "cell_type": "code",
   "execution_count": 61,
   "id": "e66deddb",
   "metadata": {},
   "outputs": [
    {
     "name": "stdout",
     "output_type": "stream",
     "text": [
      "1\n",
      "3\n",
      "5\n"
     ]
    }
   ],
   "source": [
    "#out of curiosity\n",
    "for a,b in list_2:\n",
    "    print(a)"
   ]
  },
  {
   "cell_type": "code",
   "execution_count": 62,
   "id": "0ae7e931",
   "metadata": {},
   "outputs": [
    {
     "name": "stdout",
     "output_type": "stream",
     "text": [
      "1\n",
      "3\n",
      "5\n"
     ]
    }
   ],
   "source": [
    "for a,b in list_2:\n",
    "    print(a)\n",
    "    a=a+1"
   ]
  },
  {
   "cell_type": "code",
   "execution_count": 63,
   "id": "df754923",
   "metadata": {},
   "outputs": [],
   "source": [
    "#nothing forget it, this holds true for when we have a variable assigned"
   ]
  },
  {
   "cell_type": "code",
   "execution_count": 64,
   "id": "fa110f4e",
   "metadata": {},
   "outputs": [],
   "source": [
    "#also please note this a, b method will oly works when there are consistence values as in list_2\n",
    "#it wont work for list_3, as below"
   ]
  },
  {
   "cell_type": "code",
   "execution_count": 65,
   "id": "8b4c91cf",
   "metadata": {},
   "outputs": [],
   "source": [
    "list_3=[[1,2], [3,4,5], [6,7]]"
   ]
  },
  {
   "cell_type": "code",
   "execution_count": 66,
   "id": "24b7920e",
   "metadata": {},
   "outputs": [
    {
     "name": "stdout",
     "output_type": "stream",
     "text": [
      "1\n"
     ]
    },
    {
     "ename": "ValueError",
     "evalue": "too many values to unpack (expected 2)",
     "output_type": "error",
     "traceback": [
      "\u001b[1;31m---------------------------------------------------------------------------\u001b[0m",
      "\u001b[1;31mValueError\u001b[0m                                Traceback (most recent call last)",
      "Cell \u001b[1;32mIn[66], line 1\u001b[0m\n\u001b[1;32m----> 1\u001b[0m \u001b[38;5;28;01mfor\u001b[39;00m a,b \u001b[38;5;129;01min\u001b[39;00m list_3:\n\u001b[0;32m      2\u001b[0m     \u001b[38;5;28mprint\u001b[39m(a)\n",
      "\u001b[1;31mValueError\u001b[0m: too many values to unpack (expected 2)"
     ]
    }
   ],
   "source": [
    "for a,b in list_3:\n",
    "    print(a)"
   ]
  },
  {
   "cell_type": "code",
   "execution_count": 67,
   "id": "71050126",
   "metadata": {},
   "outputs": [],
   "source": [
    "# see the error, too many values to be unpacked, so unpacking doesn't work here. so to get the values use nested loops"
   ]
  },
  {
   "cell_type": "code",
   "execution_count": 69,
   "id": "29783600",
   "metadata": {},
   "outputs": [
    {
     "name": "stdout",
     "output_type": "stream",
     "text": [
      "1\n",
      "2\n",
      "3\n",
      "4\n",
      "5\n",
      "6\n",
      "7\n"
     ]
    }
   ],
   "source": [
    "for x in list_3:\n",
    "    for y in x:\n",
    "        print(y)"
   ]
  },
  {
   "cell_type": "code",
   "execution_count": 70,
   "id": "8fa63915",
   "metadata": {},
   "outputs": [],
   "source": [
    "# for loops continued"
   ]
  },
  {
   "cell_type": "code",
   "execution_count": 71,
   "id": "1bf9608e",
   "metadata": {},
   "outputs": [],
   "source": [
    "tup_1=(1,2,3,4,5)"
   ]
  },
  {
   "cell_type": "code",
   "execution_count": 72,
   "id": "27df67a1",
   "metadata": {},
   "outputs": [
    {
     "name": "stdout",
     "output_type": "stream",
     "text": [
      "1\n",
      "2\n",
      "3\n",
      "4\n",
      "5\n"
     ]
    }
   ],
   "source": [
    "for x in tup_1:\n",
    "    print(x)"
   ]
  },
  {
   "cell_type": "code",
   "execution_count": 73,
   "id": "beb980b2",
   "metadata": {},
   "outputs": [],
   "source": [
    "tup_2=((1,2),(3,4),(5,6)) #lets unpack them now"
   ]
  },
  {
   "cell_type": "code",
   "execution_count": 74,
   "id": "d9dd66a5",
   "metadata": {},
   "outputs": [
    {
     "name": "stdout",
     "output_type": "stream",
     "text": [
      "1\n",
      "3\n",
      "5\n"
     ]
    }
   ],
   "source": [
    "for a,b in tup_2:\n",
    "    print(a)\n",
    "    #print(b)"
   ]
  },
  {
   "cell_type": "code",
   "execution_count": 75,
   "id": "ddd14df0",
   "metadata": {},
   "outputs": [
    {
     "name": "stdout",
     "output_type": "stream",
     "text": [
      "2\n",
      "4\n",
      "6\n"
     ]
    }
   ],
   "source": [
    "for a,b in tup_2:\n",
    "    #print(a)\n",
    "    print(b)"
   ]
  },
  {
   "cell_type": "code",
   "execution_count": 76,
   "id": "7c0c6b55",
   "metadata": {},
   "outputs": [
    {
     "name": "stdout",
     "output_type": "stream",
     "text": [
      "1\n",
      "2\n",
      "3\n",
      "4\n",
      "5\n",
      "6\n"
     ]
    }
   ],
   "source": [
    "for a,b in tup_2:\n",
    "    print(a)\n",
    "    print(b)"
   ]
  },
  {
   "cell_type": "code",
   "execution_count": 77,
   "id": "d37ed8c4",
   "metadata": {},
   "outputs": [],
   "source": [
    "#sets are also iterable\n",
    "set_1={'tv', 'sofa', 'desk', 'lamp'}"
   ]
  },
  {
   "cell_type": "code",
   "execution_count": 78,
   "id": "6a82561f",
   "metadata": {},
   "outputs": [
    {
     "data": {
      "text/plain": [
       "{'desk', 'lamp', 'sofa', 'tv'}"
      ]
     },
     "execution_count": 78,
     "metadata": {},
     "output_type": "execute_result"
    }
   ],
   "source": [
    "set_1"
   ]
  },
  {
   "cell_type": "code",
   "execution_count": 79,
   "id": "b43bd9f3",
   "metadata": {},
   "outputs": [
    {
     "name": "stdout",
     "output_type": "stream",
     "text": [
      "tv\n",
      "lamp\n",
      "sofa\n",
      "desk\n"
     ]
    }
   ],
   "source": [
    "for x in set_1:\n",
    "    print(x)"
   ]
  },
  {
   "cell_type": "code",
   "execution_count": 80,
   "id": "6bd14b0a",
   "metadata": {},
   "outputs": [],
   "source": [
    "#strings are also iterable\n",
    "str_1=('Hello World')"
   ]
  },
  {
   "cell_type": "code",
   "execution_count": 81,
   "id": "2e5047ed",
   "metadata": {},
   "outputs": [
    {
     "name": "stdout",
     "output_type": "stream",
     "text": [
      "H\n",
      "e\n",
      "l\n",
      "l\n",
      "o\n",
      " \n",
      "W\n",
      "o\n",
      "r\n",
      "l\n",
      "d\n"
     ]
    }
   ],
   "source": [
    "for characters in str_1:\n",
    "    print(characters)"
   ]
  },
  {
   "cell_type": "code",
   "execution_count": 82,
   "id": "f07c9f81",
   "metadata": {},
   "outputs": [],
   "source": [
    "#lets see dictionaries\n",
    "dict_1={'key_1':'value1','key_2':'value2'}"
   ]
  },
  {
   "cell_type": "code",
   "execution_count": 83,
   "id": "bfd37ed2",
   "metadata": {},
   "outputs": [
    {
     "name": "stdout",
     "output_type": "stream",
     "text": [
      "key_1\n",
      "key_2\n"
     ]
    }
   ],
   "source": [
    "for a in dict_1:\n",
    "    print(a)"
   ]
  },
  {
   "cell_type": "code",
   "execution_count": 84,
   "id": "25a74198",
   "metadata": {},
   "outputs": [
    {
     "ename": "ValueError",
     "evalue": "too many values to unpack (expected 2)",
     "output_type": "error",
     "traceback": [
      "\u001b[1;31m---------------------------------------------------------------------------\u001b[0m",
      "\u001b[1;31mValueError\u001b[0m                                Traceback (most recent call last)",
      "Cell \u001b[1;32mIn[84], line 1\u001b[0m\n\u001b[1;32m----> 1\u001b[0m \u001b[38;5;28;01mfor\u001b[39;00m a,b \u001b[38;5;129;01min\u001b[39;00m dict_1:\n\u001b[0;32m      2\u001b[0m     \u001b[38;5;28mprint\u001b[39m(a)\n\u001b[0;32m      3\u001b[0m     \u001b[38;5;28mprint\u001b[39m(b)\n",
      "\u001b[1;31mValueError\u001b[0m: too many values to unpack (expected 2)"
     ]
    }
   ],
   "source": [
    "#so only keys got returned, lets try unpacking to get key-value pair\n",
    "for a,b in dict_1:\n",
    "    print(a)\n",
    "    print(b)"
   ]
  },
  {
   "cell_type": "code",
   "execution_count": 85,
   "id": "cc896f2e",
   "metadata": {},
   "outputs": [],
   "source": [
    "#hmm, it didn't work, thus dict are also iterables but less intutive than other objects.\n",
    "#even for a:b in dict_1 format wont work\n",
    "#so what else we can do to get key-value pairs,,,first, lets convert dict to list (more iterable object)"
   ]
  },
  {
   "cell_type": "code",
   "execution_count": 86,
   "id": "3184f32a",
   "metadata": {},
   "outputs": [
    {
     "data": {
      "text/plain": [
       "dict_items([('key_1', 'value1'), ('key_2', 'value2')])"
      ]
     },
     "execution_count": 86,
     "metadata": {},
     "output_type": "execute_result"
    }
   ],
   "source": [
    "dict_1.items()"
   ]
  },
  {
   "cell_type": "code",
   "execution_count": 87,
   "id": "3309dca0",
   "metadata": {},
   "outputs": [],
   "source": [
    "#so basically, we can loop item in line 86 (dict_1.items())"
   ]
  },
  {
   "cell_type": "code",
   "execution_count": 88,
   "id": "1f00cc6c",
   "metadata": {},
   "outputs": [
    {
     "name": "stdout",
     "output_type": "stream",
     "text": [
      "key_1\n",
      "value1\n",
      "key_2\n",
      "value2\n"
     ]
    }
   ],
   "source": [
    "for a,b in dict_1.items():\n",
    "    print(a)\n",
    "    print(b)"
   ]
  },
  {
   "cell_type": "code",
   "execution_count": 89,
   "id": "a5d4bea9",
   "metadata": {},
   "outputs": [],
   "source": [
    "#cool, it works"
   ]
  },
  {
   "cell_type": "code",
   "execution_count": 90,
   "id": "a276e706",
   "metadata": {},
   "outputs": [],
   "source": [
    "#combining control flow with loop"
   ]
  },
  {
   "cell_type": "code",
   "execution_count": 91,
   "id": "fee5dce4",
   "metadata": {},
   "outputs": [],
   "source": [
    "furniture=['sofa','desk','lamp','tv']"
   ]
  },
  {
   "cell_type": "code",
   "execution_count": 94,
   "id": "4c08f50c",
   "metadata": {},
   "outputs": [
    {
     "name": "stdout",
     "output_type": "stream",
     "text": [
      "sofa\n",
      "desk\n",
      "lamp\n",
      "tv\n"
     ]
    }
   ],
   "source": [
    "#self try, wanted to print elements other than tv, but this is wrong, but still try\n",
    "if a!='tv':\n",
    "    for a in furniture:\n",
    "        print (a)"
   ]
  },
  {
   "cell_type": "code",
   "execution_count": 95,
   "id": "80dae1db",
   "metadata": {},
   "outputs": [],
   "source": [
    "#right menthod is control flow, with in the loop"
   ]
  },
  {
   "cell_type": "code",
   "execution_count": 96,
   "id": "f4d5e864",
   "metadata": {},
   "outputs": [
    {
     "name": "stdout",
     "output_type": "stream",
     "text": [
      "sofa\n",
      "desk\n",
      "lamp\n"
     ]
    }
   ],
   "source": [
    "for a in furniture:\n",
    "    if a!='tv':\n",
    "        print(a)"
   ]
  },
  {
   "cell_type": "code",
   "execution_count": 97,
   "id": "fbb8b0a3",
   "metadata": {},
   "outputs": [],
   "source": [
    "#coding exercise"
   ]
  },
  {
   "cell_type": "code",
   "execution_count": 98,
   "id": "bda94ebb",
   "metadata": {},
   "outputs": [],
   "source": [
    "list_1=[11,20,33,42,52,61,72,83,92,10]"
   ]
  },
  {
   "cell_type": "code",
   "execution_count": 99,
   "id": "4e2a9a4f",
   "metadata": {},
   "outputs": [
    {
     "name": "stdout",
     "output_type": "stream",
     "text": [
      "20\n",
      "42\n",
      "52\n",
      "72\n",
      "92\n",
      "10\n"
     ]
    }
   ],
   "source": [
    "#printing the numbers that can properly be divided by 2 (remainedr=0)\n",
    "for x in list_1:\n",
    "    if x%2==0:\n",
    "        print(x)"
   ]
  },
  {
   "cell_type": "code",
   "execution_count": 101,
   "id": "c36a533c",
   "metadata": {},
   "outputs": [],
   "source": [
    "#WHILE LOOPS\n",
    "\n",
    "# while condition:\n",
    "        #<code>"
   ]
  },
  {
   "cell_type": "code",
   "execution_count": 115,
   "id": "3c3a00e2",
   "metadata": {},
   "outputs": [
    {
     "name": "stdout",
     "output_type": "stream",
     "text": [
      "value is now 0\n",
      "value is now 1\n",
      "value is now 2\n",
      "value is now 3\n",
      "value is now 4\n"
     ]
    }
   ],
   "source": [
    "a=0\n",
    "while a<5:\n",
    "    print('value is now', a)\n",
    "    a+=1"
   ]
  },
  {
   "cell_type": "code",
   "execution_count": 116,
   "id": "7f28fb64",
   "metadata": {},
   "outputs": [
    {
     "name": "stdout",
     "output_type": "stream",
     "text": [
      "the value of a is 1\n",
      "the value of a is 2\n",
      "the value of a is 3\n",
      "the value of a is 4\n",
      "the value of a is 5\n"
     ]
    }
   ],
   "source": [
    "a=0\n",
    "while a<5:\n",
    "    a+=1\n",
    "    print(f'the value of a is {a}')"
   ]
  },
  {
   "cell_type": "code",
   "execution_count": 117,
   "id": "7b3b950c",
   "metadata": {},
   "outputs": [
    {
     "name": "stdout",
     "output_type": "stream",
     "text": [
      "the value of a is 0\n",
      "the value of a is 1\n",
      "the value of a is 2\n",
      "the value of a is 3\n",
      "the value of a is 4\n"
     ]
    }
   ],
   "source": [
    "a=0\n",
    "while a<5:\n",
    "        print(f'the value of a is {a}')\n",
    "        a+=1"
   ]
  },
  {
   "cell_type": "code",
   "execution_count": 118,
   "id": "d293ebd9",
   "metadata": {},
   "outputs": [],
   "source": [
    "#note the diff in 116 & 117"
   ]
  },
  {
   "cell_type": "code",
   "execution_count": null,
   "id": "bce503f4",
   "metadata": {},
   "outputs": [],
   "source": [
    "#beaware of infinite loop, may have to interrupt the kernal\n",
    "#if python is used on command line, press ctrl+c instead"
   ]
  }
 ],
 "metadata": {
  "kernelspec": {
   "display_name": "Python 3 (ipykernel)",
   "language": "python",
   "name": "python3"
  },
  "language_info": {
   "codemirror_mode": {
    "name": "ipython",
    "version": 3
   },
   "file_extension": ".py",
   "mimetype": "text/x-python",
   "name": "python",
   "nbconvert_exporter": "python",
   "pygments_lexer": "ipython3",
   "version": "3.11.5"
  }
 },
 "nbformat": 4,
 "nbformat_minor": 5
}
