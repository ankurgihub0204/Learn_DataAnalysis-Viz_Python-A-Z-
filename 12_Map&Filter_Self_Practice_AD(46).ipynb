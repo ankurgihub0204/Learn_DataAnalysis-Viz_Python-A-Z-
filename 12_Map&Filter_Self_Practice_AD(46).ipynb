{
 "cells": [
  {
   "cell_type": "code",
   "execution_count": null,
   "id": "e5f835d6",
   "metadata": {},
   "outputs": [],
   "source": [
    "# MAP fn:takes a function and apply to iterable object. Takes in 2 argument (function, iterable object)"
   ]
  },
  {
   "cell_type": "code",
   "execution_count": 1,
   "id": "f96e5983",
   "metadata": {},
   "outputs": [],
   "source": [
    "countries_list=['Argentina', 'United States', 'Uganda', 'Germany']"
   ]
  },
  {
   "cell_type": "code",
   "execution_count": 2,
   "id": "93f6f265",
   "metadata": {},
   "outputs": [],
   "source": [
    "#now if we want to count length of each element: 1 way to do is using for loop (as below):"
   ]
  },
  {
   "cell_type": "code",
   "execution_count": 7,
   "id": "c466616a",
   "metadata": {},
   "outputs": [
    {
     "name": "stdout",
     "output_type": "stream",
     "text": [
      "9\n",
      "13\n",
      "6\n",
      "7\n"
     ]
    }
   ],
   "source": [
    "for x in countries_list:\n",
    "    print(len(x))"
   ]
  },
  {
   "cell_type": "code",
   "execution_count": 8,
   "id": "c857279e",
   "metadata": {},
   "outputs": [],
   "source": [
    "# alternatively, lets see how can we use 'map' fn: brace for coolness :D"
   ]
  },
  {
   "cell_type": "code",
   "execution_count": 9,
   "id": "ca4993ef",
   "metadata": {},
   "outputs": [
    {
     "data": {
      "text/plain": [
       "<map at 0x2cf02fbdfc0>"
      ]
     },
     "execution_count": 9,
     "metadata": {},
     "output_type": "execute_result"
    }
   ],
   "source": [
    "#remember syntax is map(function, iterable object)\n",
    "\n",
    "map(len,countries_list) #also notice len is not written as len(), but only len, coz its now map fn job to execute it"
   ]
  },
  {
   "cell_type": "code",
   "execution_count": 11,
   "id": "35803aaf",
   "metadata": {},
   "outputs": [
    {
     "data": {
      "text/plain": [
       "map"
      ]
     },
     "execution_count": 11,
     "metadata": {},
     "output_type": "execute_result"
    }
   ],
   "source": [
    "#map object returned, lets check:\n",
    "type(map(len,countries_list))"
   ]
  },
  {
   "cell_type": "code",
   "execution_count": 12,
   "id": "cac1a377",
   "metadata": {},
   "outputs": [],
   "source": [
    "#lets wrap up this map objet in list, cool"
   ]
  },
  {
   "cell_type": "code",
   "execution_count": 13,
   "id": "8fdea718",
   "metadata": {},
   "outputs": [
    {
     "data": {
      "text/plain": [
       "[9, 13, 6, 7]"
      ]
     },
     "execution_count": 13,
     "metadata": {},
     "output_type": "execute_result"
    }
   ],
   "source": [
    "list(map(len,countries_list))"
   ]
  },
  {
   "cell_type": "code",
   "execution_count": 14,
   "id": "8e8b656a",
   "metadata": {},
   "outputs": [],
   "source": [
    "#@wow cool"
   ]
  },
  {
   "cell_type": "code",
   "execution_count": 15,
   "id": "06fe6739",
   "metadata": {},
   "outputs": [],
   "source": [
    "#what is now I want a list, where we have counties name follwed by : and then number of characters...\n",
    "#example - Argentina:9, united states:13 etc"
   ]
  },
  {
   "cell_type": "code",
   "execution_count": 23,
   "id": "2c161a6a",
   "metadata": {},
   "outputs": [
    {
     "name": "stdout",
     "output_type": "stream",
     "text": [
      "Argentina : 9\n",
      "United States : 13\n",
      "Uganda : 6\n",
      "Germany : 7\n"
     ]
    }
   ],
   "source": [
    "#trying on my own\n",
    "\n",
    "for x in countries_list:\n",
    "    print (x,':',len(x))"
   ]
  },
  {
   "cell_type": "code",
   "execution_count": 26,
   "id": "b84122d0",
   "metadata": {},
   "outputs": [
    {
     "data": {
      "text/plain": [
       "['Argentina', 'United States', 'Uganda', 'Germany', 9, 13, 6, 7]"
      ]
     },
     "execution_count": 26,
     "metadata": {},
     "output_type": "execute_result"
    }
   ],
   "source": [
    "countries_list + list(map(len, countries_list))"
   ]
  },
  {
   "cell_type": "code",
   "execution_count": 27,
   "id": "c3d1ff55",
   "metadata": {},
   "outputs": [],
   "source": [
    "# hmm, not succeeded, lets watch video"
   ]
  },
  {
   "cell_type": "code",
   "execution_count": 28,
   "id": "a86969e8",
   "metadata": {},
   "outputs": [],
   "source": [
    "#1st lets create a function, that return string:no of chars in the string, we can then assign this function to map"
   ]
  },
  {
   "cell_type": "code",
   "execution_count": 39,
   "id": "b19c32ce",
   "metadata": {},
   "outputs": [],
   "source": [
    "def return_len(x):\n",
    "    return f'{x} : {len(x)}'"
   ]
  },
  {
   "cell_type": "code",
   "execution_count": 40,
   "id": "a3ecf314",
   "metadata": {},
   "outputs": [
    {
     "data": {
      "text/plain": [
       "'hello : 5'"
      ]
     },
     "execution_count": 40,
     "metadata": {},
     "output_type": "execute_result"
    }
   ],
   "source": [
    "return_len('hello')"
   ]
  },
  {
   "cell_type": "code",
   "execution_count": 35,
   "id": "a823c994",
   "metadata": {},
   "outputs": [],
   "source": [
    "#cool, now lets pass on this function to create a map object (then wrap it in list)"
   ]
  },
  {
   "cell_type": "code",
   "execution_count": 41,
   "id": "68cdf84b",
   "metadata": {},
   "outputs": [],
   "source": [
    "new_countries_list =map(return_len,countries_list)"
   ]
  },
  {
   "cell_type": "code",
   "execution_count": 42,
   "id": "da479449",
   "metadata": {},
   "outputs": [
    {
     "data": {
      "text/plain": [
       "['Argentina : 9', 'United States : 13', 'Uganda : 6', 'Germany : 7']"
      ]
     },
     "execution_count": 42,
     "metadata": {},
     "output_type": "execute_result"
    }
   ],
   "source": [
    "list(new_countries_list)"
   ]
  },
  {
   "cell_type": "code",
   "execution_count": 43,
   "id": "8c763a3b",
   "metadata": {},
   "outputs": [],
   "source": [
    "#wow"
   ]
  },
  {
   "cell_type": "code",
   "execution_count": 44,
   "id": "3adaa753",
   "metadata": {},
   "outputs": [],
   "source": [
    "#filter function - this does the same jon as map fn, but only return whatever is true, and keeps the rest out & filtered"
   ]
  },
  {
   "cell_type": "code",
   "execution_count": 45,
   "id": "475bf2da",
   "metadata": {},
   "outputs": [],
   "source": [
    "#syntax - filter(function,iterable object), same as map"
   ]
  },
  {
   "cell_type": "code",
   "execution_count": 46,
   "id": "714fa5f0",
   "metadata": {},
   "outputs": [],
   "source": [
    "countries_list2=['Argentina', 'Mexico', 'Brazil', 99]"
   ]
  },
  {
   "cell_type": "code",
   "execution_count": 47,
   "id": "ef187431",
   "metadata": {},
   "outputs": [],
   "source": [
    "#to filter out 99, we need to check all elements type in above list, so lets first create a function for it"
   ]
  },
  {
   "cell_type": "code",
   "execution_count": 60,
   "id": "dd880aa6",
   "metadata": {},
   "outputs": [],
   "source": [
    "def id_str(x):\n",
    "    if type(x)==str:\n",
    "        return True\n",
    "    else:\n",
    "        return False"
   ]
  },
  {
   "cell_type": "code",
   "execution_count": 61,
   "id": "68ee5489",
   "metadata": {},
   "outputs": [
    {
     "data": {
      "text/plain": [
       "False"
      ]
     },
     "execution_count": 61,
     "metadata": {},
     "output_type": "execute_result"
    }
   ],
   "source": [
    "id_str(5)"
   ]
  },
  {
   "cell_type": "code",
   "execution_count": 62,
   "id": "46883f97",
   "metadata": {},
   "outputs": [
    {
     "data": {
      "text/plain": [
       "True"
      ]
     },
     "execution_count": 62,
     "metadata": {},
     "output_type": "execute_result"
    }
   ],
   "source": [
    "id_str('hello')"
   ]
  },
  {
   "cell_type": "code",
   "execution_count": 56,
   "id": "a430272b",
   "metadata": {},
   "outputs": [
    {
     "data": {
      "text/plain": [
       "['Argentina', 'Mexico', 'Brazil']"
      ]
     },
     "execution_count": 56,
     "metadata": {},
     "output_type": "execute_result"
    }
   ],
   "source": [
    "list(filter(id_str,countries_list2))"
   ]
  },
  {
   "cell_type": "code",
   "execution_count": 57,
   "id": "4e273635",
   "metadata": {},
   "outputs": [],
   "source": [
    "#cool, you see 99 is filtered out"
   ]
  },
  {
   "cell_type": "code",
   "execution_count": 58,
   "id": "86175d2d",
   "metadata": {},
   "outputs": [],
   "source": [
    "#lets see what map would have returned here"
   ]
  },
  {
   "cell_type": "code",
   "execution_count": 59,
   "id": "0d4581e0",
   "metadata": {},
   "outputs": [
    {
     "data": {
      "text/plain": [
       "[True, True, True, False]"
      ]
     },
     "execution_count": 59,
     "metadata": {},
     "output_type": "execute_result"
    }
   ],
   "source": [
    "list(map(id_str,countries_list2))"
   ]
  },
  {
   "cell_type": "code",
   "execution_count": null,
   "id": "4405d3e2",
   "metadata": {},
   "outputs": [],
   "source": [
    "#exactly, last item (99) which is false, as its not string, is filtered out"
   ]
  }
 ],
 "metadata": {
  "kernelspec": {
   "display_name": "Python 3 (ipykernel)",
   "language": "python",
   "name": "python3"
  },
  "language_info": {
   "codemirror_mode": {
    "name": "ipython",
    "version": 3
   },
   "file_extension": ".py",
   "mimetype": "text/x-python",
   "name": "python",
   "nbconvert_exporter": "python",
   "pygments_lexer": "ipython3",
   "version": "3.11.5"
  }
 },
 "nbformat": 4,
 "nbformat_minor": 5
}
