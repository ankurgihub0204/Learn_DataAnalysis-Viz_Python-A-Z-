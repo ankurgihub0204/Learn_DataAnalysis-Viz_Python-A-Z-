{
 "cells": [
  {
   "cell_type": "code",
   "execution_count": 1,
   "id": "96c69654",
   "metadata": {},
   "outputs": [],
   "source": [
    "##IO functions:\n",
    "\n",
    "#11. numpy.loadtxt(fname, dtype=<class 'float'7gt;, comments='#', delimiter=None, converters=None, \n",
    "#                  skiprows=0, usecols=None, unpack=False, ndmin=0, encoding='bytes')\n",
    "#12. np.count_nonzero(array, axis=none, ..)\n",
    "#13. np.genfromtxt\n",
    "#14. np.load (this works with npy & npz extensions, will se later)\n",
    "#15. np.savetxt (filename, array, delimiter,...)"
   ]
  },
  {
   "cell_type": "code",
   "execution_count": 3,
   "id": "3a297e4e",
   "metadata": {},
   "outputs": [],
   "source": [
    "import numpy as np"
   ]
  },
  {
   "cell_type": "code",
   "execution_count": 5,
   "id": "a2035e42",
   "metadata": {},
   "outputs": [
    {
     "ename": "AttributeError",
     "evalue": "'str' object has no attribute 'XLS'",
     "output_type": "error",
     "traceback": [
      "\u001b[1;31m---------------------------------------------------------------------------\u001b[0m",
      "\u001b[1;31mAttributeError\u001b[0m                            Traceback (most recent call last)",
      "Cell \u001b[1;32mIn[5], line 1\u001b[0m\n\u001b[1;32m----> 1\u001b[0m np\u001b[38;5;241m.\u001b[39mloadtxt(\u001b[38;5;124m'\u001b[39m\u001b[38;5;124mCars n dealers and price_JLT\u001b[39m\u001b[38;5;124m'\u001b[39m\u001b[38;5;241m.\u001b[39mXLS)\n",
      "\u001b[1;31mAttributeError\u001b[0m: 'str' object has no attribute 'XLS'"
     ]
    }
   ],
   "source": [
    "np.loadtxt('Cars n dealers and price_JLT'.XLS)"
   ]
  },
  {
   "cell_type": "code",
   "execution_count": null,
   "id": "757f2190",
   "metadata": {},
   "outputs": [],
   "source": [
    "#below is the file 'tfl-daily-cycle-hires'  that tells us bikes hired by day for almost 10 years"
   ]
  },
  {
   "cell_type": "code",
   "execution_count": 15,
   "id": "2e5c75e6",
   "metadata": {},
   "outputs": [
    {
     "data": {
      "text/plain": [
       "array([ 6897.,  5564.,  4303., ..., 32539., 39889., 34070.])"
      ]
     },
     "execution_count": 15,
     "metadata": {},
     "output_type": "execute_result"
    }
   ],
   "source": [
    "np.loadtxt('tfl-daily-cycle-hires.txt', delimiter=',', skiprows=1, usecols=(1))"
   ]
  },
  {
   "cell_type": "code",
   "execution_count": 16,
   "id": "e6b66fdf",
   "metadata": {},
   "outputs": [],
   "source": [
    "#cool, so from the file, we pulled of 2nd column values (Number of Bicycle Hires), as an array\n",
    "# now it can be sliced and diced for analysis\n",
    "\n",
    "#note: since the (txt/csv) file is pulled from the location which is same as of this jupyter workbook...\n",
    "#...... only file name was needed, otherwise, we need compete address of file (lets move the file & see)"
   ]
  },
  {
   "cell_type": "code",
   "execution_count": 17,
   "id": "af28f4a1",
   "metadata": {},
   "outputs": [
    {
     "ename": "FileNotFoundError",
     "evalue": "tfl-daily-cycle-hires.txt not found.",
     "output_type": "error",
     "traceback": [
      "\u001b[1;31m---------------------------------------------------------------------------\u001b[0m",
      "\u001b[1;31mFileNotFoundError\u001b[0m                         Traceback (most recent call last)",
      "Cell \u001b[1;32mIn[17], line 1\u001b[0m\n\u001b[1;32m----> 1\u001b[0m np\u001b[38;5;241m.\u001b[39mloadtxt(\u001b[38;5;124m'\u001b[39m\u001b[38;5;124mtfl-daily-cycle-hires.txt\u001b[39m\u001b[38;5;124m'\u001b[39m, delimiter\u001b[38;5;241m=\u001b[39m\u001b[38;5;124m'\u001b[39m\u001b[38;5;124m,\u001b[39m\u001b[38;5;124m'\u001b[39m, skiprows\u001b[38;5;241m=\u001b[39m\u001b[38;5;241m1\u001b[39m, usecols\u001b[38;5;241m=\u001b[39m(\u001b[38;5;241m1\u001b[39m))\n",
      "File \u001b[1;32m~\\anaconda3\\Lib\\site-packages\\numpy\\lib\\npyio.py:1356\u001b[0m, in \u001b[0;36mloadtxt\u001b[1;34m(fname, dtype, comments, delimiter, converters, skiprows, usecols, unpack, ndmin, encoding, max_rows, quotechar, like)\u001b[0m\n\u001b[0;32m   1353\u001b[0m \u001b[38;5;28;01mif\u001b[39;00m \u001b[38;5;28misinstance\u001b[39m(delimiter, \u001b[38;5;28mbytes\u001b[39m):\n\u001b[0;32m   1354\u001b[0m     delimiter \u001b[38;5;241m=\u001b[39m delimiter\u001b[38;5;241m.\u001b[39mdecode(\u001b[38;5;124m'\u001b[39m\u001b[38;5;124mlatin1\u001b[39m\u001b[38;5;124m'\u001b[39m)\n\u001b[1;32m-> 1356\u001b[0m arr \u001b[38;5;241m=\u001b[39m _read(fname, dtype\u001b[38;5;241m=\u001b[39mdtype, comment\u001b[38;5;241m=\u001b[39mcomment, delimiter\u001b[38;5;241m=\u001b[39mdelimiter,\n\u001b[0;32m   1357\u001b[0m             converters\u001b[38;5;241m=\u001b[39mconverters, skiplines\u001b[38;5;241m=\u001b[39mskiprows, usecols\u001b[38;5;241m=\u001b[39musecols,\n\u001b[0;32m   1358\u001b[0m             unpack\u001b[38;5;241m=\u001b[39munpack, ndmin\u001b[38;5;241m=\u001b[39mndmin, encoding\u001b[38;5;241m=\u001b[39mencoding,\n\u001b[0;32m   1359\u001b[0m             max_rows\u001b[38;5;241m=\u001b[39mmax_rows, quote\u001b[38;5;241m=\u001b[39mquotechar)\n\u001b[0;32m   1361\u001b[0m \u001b[38;5;28;01mreturn\u001b[39;00m arr\n",
      "File \u001b[1;32m~\\anaconda3\\Lib\\site-packages\\numpy\\lib\\npyio.py:975\u001b[0m, in \u001b[0;36m_read\u001b[1;34m(fname, delimiter, comment, quote, imaginary_unit, usecols, skiplines, max_rows, converters, ndmin, unpack, dtype, encoding)\u001b[0m\n\u001b[0;32m    973\u001b[0m     fname \u001b[38;5;241m=\u001b[39m os\u001b[38;5;241m.\u001b[39mfspath(fname)\n\u001b[0;32m    974\u001b[0m \u001b[38;5;28;01mif\u001b[39;00m \u001b[38;5;28misinstance\u001b[39m(fname, \u001b[38;5;28mstr\u001b[39m):\n\u001b[1;32m--> 975\u001b[0m     fh \u001b[38;5;241m=\u001b[39m np\u001b[38;5;241m.\u001b[39mlib\u001b[38;5;241m.\u001b[39m_datasource\u001b[38;5;241m.\u001b[39mopen(fname, \u001b[38;5;124m'\u001b[39m\u001b[38;5;124mrt\u001b[39m\u001b[38;5;124m'\u001b[39m, encoding\u001b[38;5;241m=\u001b[39mencoding)\n\u001b[0;32m    976\u001b[0m     \u001b[38;5;28;01mif\u001b[39;00m encoding \u001b[38;5;129;01mis\u001b[39;00m \u001b[38;5;28;01mNone\u001b[39;00m:\n\u001b[0;32m    977\u001b[0m         encoding \u001b[38;5;241m=\u001b[39m \u001b[38;5;28mgetattr\u001b[39m(fh, \u001b[38;5;124m'\u001b[39m\u001b[38;5;124mencoding\u001b[39m\u001b[38;5;124m'\u001b[39m, \u001b[38;5;124m'\u001b[39m\u001b[38;5;124mlatin1\u001b[39m\u001b[38;5;124m'\u001b[39m)\n",
      "File \u001b[1;32m~\\anaconda3\\Lib\\site-packages\\numpy\\lib\\_datasource.py:193\u001b[0m, in \u001b[0;36mopen\u001b[1;34m(path, mode, destpath, encoding, newline)\u001b[0m\n\u001b[0;32m    156\u001b[0m \u001b[38;5;250m\u001b[39m\u001b[38;5;124;03m\"\"\"\u001b[39;00m\n\u001b[0;32m    157\u001b[0m \u001b[38;5;124;03mOpen `path` with `mode` and return the file object.\u001b[39;00m\n\u001b[0;32m    158\u001b[0m \n\u001b[1;32m   (...)\u001b[0m\n\u001b[0;32m    189\u001b[0m \n\u001b[0;32m    190\u001b[0m \u001b[38;5;124;03m\"\"\"\u001b[39;00m\n\u001b[0;32m    192\u001b[0m ds \u001b[38;5;241m=\u001b[39m DataSource(destpath)\n\u001b[1;32m--> 193\u001b[0m \u001b[38;5;28;01mreturn\u001b[39;00m ds\u001b[38;5;241m.\u001b[39mopen(path, mode, encoding\u001b[38;5;241m=\u001b[39mencoding, newline\u001b[38;5;241m=\u001b[39mnewline)\n",
      "File \u001b[1;32m~\\anaconda3\\Lib\\site-packages\\numpy\\lib\\_datasource.py:533\u001b[0m, in \u001b[0;36mDataSource.open\u001b[1;34m(self, path, mode, encoding, newline)\u001b[0m\n\u001b[0;32m    530\u001b[0m     \u001b[38;5;28;01mreturn\u001b[39;00m _file_openers[ext](found, mode\u001b[38;5;241m=\u001b[39mmode,\n\u001b[0;32m    531\u001b[0m                               encoding\u001b[38;5;241m=\u001b[39mencoding, newline\u001b[38;5;241m=\u001b[39mnewline)\n\u001b[0;32m    532\u001b[0m \u001b[38;5;28;01melse\u001b[39;00m:\n\u001b[1;32m--> 533\u001b[0m     \u001b[38;5;28;01mraise\u001b[39;00m \u001b[38;5;167;01mFileNotFoundError\u001b[39;00m(\u001b[38;5;124mf\u001b[39m\u001b[38;5;124m\"\u001b[39m\u001b[38;5;132;01m{\u001b[39;00mpath\u001b[38;5;132;01m}\u001b[39;00m\u001b[38;5;124m not found.\u001b[39m\u001b[38;5;124m\"\u001b[39m)\n",
      "\u001b[1;31mFileNotFoundError\u001b[0m: tfl-daily-cycle-hires.txt not found."
     ]
    }
   ],
   "source": [
    "np.loadtxt('tfl-daily-cycle-hires.txt', delimiter=',', skiprows=1, usecols=(1))"
   ]
  },
  {
   "cell_type": "code",
   "execution_count": 18,
   "id": "e537060e",
   "metadata": {},
   "outputs": [],
   "source": [
    "#cool, as the file is moved, it was not found, so above error is good to see"
   ]
  },
  {
   "cell_type": "code",
   "execution_count": 31,
   "id": "cf60a523",
   "metadata": {},
   "outputs": [
    {
     "data": {
      "text/plain": [
       "array([ 6897.,  5564.,  4303., ..., 32539., 39889., 34070.])"
      ]
     },
     "execution_count": 31,
     "metadata": {},
     "output_type": "execute_result"
    }
   ],
   "source": [
    "np.loadtxt(r\"C:\\Users\\Ankur\\Desktop\\tfl-daily-cycle-hires.txt\", delimiter=',', skiprows=1, usecols=(1))"
   ]
  },
  {
   "cell_type": "code",
   "execution_count": null,
   "id": "c64fcce0",
   "metadata": {},
   "outputs": [],
   "source": [
    "# so note few things here:...\n",
    "\n",
    "# 'r' is added at start of file name , coz we got unicide error, and to avoid it convert string into raw string...\n",
    "#... so use - r\"C:\\Users\\Ankur\\Desktop\\tfl-daily-cycle-hires.txt\"\n",
    "\n",
    "# alternatively we could have used - \"C:\\\\Users\\\\Ankur\\\\Desktop\\\\tfl-daily-cycle-hires.txt\" i.e doulble \\\\..\n",
    "# ...in place of single\\"
   ]
  },
  {
   "cell_type": "code",
   "execution_count": 32,
   "id": "aed20fb2",
   "metadata": {},
   "outputs": [
    {
     "data": {
      "text/plain": [
       "array([ 6897.,  5564.,  4303., ..., 32539., 39889., 34070.])"
      ]
     },
     "execution_count": 32,
     "metadata": {},
     "output_type": "execute_result"
    }
   ],
   "source": [
    "np.loadtxt('tfl-daily-cycle-hires.csv', delimiter=',', skiprows=1, usecols=(1))"
   ]
  },
  {
   "cell_type": "code",
   "execution_count": 33,
   "id": "f53f21ad",
   "metadata": {},
   "outputs": [],
   "source": [
    "#cool, so csv also does work the same way\n",
    "\n",
    "#lets assign [32 to x]"
   ]
  },
  {
   "cell_type": "code",
   "execution_count": 34,
   "id": "40d6cd4e",
   "metadata": {},
   "outputs": [],
   "source": [
    "x=np.loadtxt('tfl-daily-cycle-hires.csv', delimiter=',', skiprows=1, usecols=(1))"
   ]
  },
  {
   "cell_type": "code",
   "execution_count": 35,
   "id": "157c603f",
   "metadata": {},
   "outputs": [
    {
     "data": {
      "text/plain": [
       "array([ 6897.,  5564.,  4303., ..., 32539., 39889., 34070.])"
      ]
     },
     "execution_count": 35,
     "metadata": {},
     "output_type": "execute_result"
    }
   ],
   "source": [
    "x"
   ]
  },
  {
   "cell_type": "code",
   "execution_count": 1,
   "id": "2d41fb2c",
   "metadata": {},
   "outputs": [],
   "source": [
    "#few things to note, before we analyze it\n",
    "\n",
    "# its skiprows instead of skiprow\n",
    "# its usecols instaed of usecols, value is passed here in tuple"
   ]
  },
  {
   "cell_type": "code",
   "execution_count": 7,
   "id": "56beb7b4",
   "metadata": {},
   "outputs": [
    {
     "data": {
      "text/plain": [
       "array([ 6897.,  5564.,  4303., ..., 32539., 39889., 34070.])"
      ]
     },
     "execution_count": 7,
     "metadata": {},
     "output_type": "execute_result"
    }
   ],
   "source": [
    "x=np.loadtxt('tfl-daily-cycle-hires.csv', delimiter=',',skiprows=1, usecols=(1))\n",
    "x"
   ]
  },
  {
   "cell_type": "code",
   "execution_count": 5,
   "id": "e1644888",
   "metadata": {},
   "outputs": [],
   "source": [
    "#so, lets see some functions to slice n dice"
   ]
  },
  {
   "cell_type": "code",
   "execution_count": 6,
   "id": "99e30294",
   "metadata": {},
   "outputs": [],
   "source": [
    "#syntax - np.count_nonzero(array,axis,..others)"
   ]
  },
  {
   "cell_type": "code",
   "execution_count": 8,
   "id": "6dfaebee",
   "metadata": {},
   "outputs": [
    {
     "data": {
      "text/plain": [
       "4081"
      ]
     },
     "execution_count": 8,
     "metadata": {},
     "output_type": "execute_result"
    }
   ],
   "source": [
    "np.count_nonzero(x) #since x is 1d array, so no need to define axis"
   ]
  },
  {
   "cell_type": "code",
   "execution_count": 15,
   "id": "268dbe2f",
   "metadata": {},
   "outputs": [
    {
     "ename": "AttributeError",
     "evalue": "module 'numpy' has no attribute 'count'",
     "output_type": "error",
     "traceback": [
      "\u001b[1;31m---------------------------------------------------------------------------\u001b[0m",
      "\u001b[1;31mAttributeError\u001b[0m                            Traceback (most recent call last)",
      "Cell \u001b[1;32mIn[15], line 1\u001b[0m\n\u001b[1;32m----> 1\u001b[0m np\u001b[38;5;241m.\u001b[39mcount(x)\n",
      "File \u001b[1;32m~\\anaconda3\\Lib\\site-packages\\numpy\\__init__.py:320\u001b[0m, in \u001b[0;36m__getattr__\u001b[1;34m(attr)\u001b[0m\n\u001b[0;32m    317\u001b[0m     \u001b[38;5;28;01mfrom\u001b[39;00m \u001b[38;5;21;01m.\u001b[39;00m\u001b[38;5;21;01mtesting\u001b[39;00m \u001b[38;5;28;01mimport\u001b[39;00m Tester\n\u001b[0;32m    318\u001b[0m     \u001b[38;5;28;01mreturn\u001b[39;00m Tester\n\u001b[1;32m--> 320\u001b[0m \u001b[38;5;28;01mraise\u001b[39;00m \u001b[38;5;167;01mAttributeError\u001b[39;00m(\u001b[38;5;124m\"\u001b[39m\u001b[38;5;124mmodule \u001b[39m\u001b[38;5;132;01m{!r}\u001b[39;00m\u001b[38;5;124m has no attribute \u001b[39m\u001b[38;5;124m\"\u001b[39m\n\u001b[0;32m    321\u001b[0m                      \u001b[38;5;124m\"\u001b[39m\u001b[38;5;132;01m{!r}\u001b[39;00m\u001b[38;5;124m\"\u001b[39m\u001b[38;5;241m.\u001b[39mformat(\u001b[38;5;18m__name__\u001b[39m, attr))\n",
      "\u001b[1;31mAttributeError\u001b[0m: module 'numpy' has no attribute 'count'"
     ]
    }
   ],
   "source": [
    "np.count(x) #JLT, just wanted to check if count is a function in arrays, looks like its not"
   ]
  },
  {
   "cell_type": "code",
   "execution_count": 9,
   "id": "9d85164a",
   "metadata": {},
   "outputs": [],
   "source": [
    "#lets see max, min and avg number of bikes hired in a day"
   ]
  },
  {
   "cell_type": "code",
   "execution_count": 10,
   "id": "c992d9cf",
   "metadata": {},
   "outputs": [
    {
     "data": {
      "text/plain": [
       "73094.0"
      ]
     },
     "execution_count": 10,
     "metadata": {},
     "output_type": "execute_result"
    }
   ],
   "source": [
    "np.amax(x) # max bikes hired in a single day"
   ]
  },
  {
   "cell_type": "code",
   "execution_count": 11,
   "id": "83078fdd",
   "metadata": {},
   "outputs": [
    {
     "data": {
      "text/plain": [
       "73094.0"
      ]
     },
     "execution_count": 11,
     "metadata": {},
     "output_type": "execute_result"
    }
   ],
   "source": [
    "np.max(x)"
   ]
  },
  {
   "cell_type": "code",
   "execution_count": 12,
   "id": "731c77b2",
   "metadata": {},
   "outputs": [],
   "source": [
    "#since amax and max are same"
   ]
  },
  {
   "cell_type": "code",
   "execution_count": 13,
   "id": "12b12dd2",
   "metadata": {},
   "outputs": [
    {
     "data": {
      "text/plain": [
       "2764.0"
      ]
     },
     "execution_count": 13,
     "metadata": {},
     "output_type": "execute_result"
    }
   ],
   "source": [
    "np.min(x) # min bikes hired in a single day"
   ]
  },
  {
   "cell_type": "code",
   "execution_count": 16,
   "id": "6ebed45b",
   "metadata": {},
   "outputs": [
    {
     "data": {
      "text/plain": [
       "26261.932124479295"
      ]
     },
     "execution_count": 16,
     "metadata": {},
     "output_type": "execute_result"
    }
   ],
   "source": [
    "np.sum(x)/np.count_nonzero(x) #calculating average bikes hired in a day"
   ]
  },
  {
   "cell_type": "code",
   "execution_count": 17,
   "id": "9d6b5c5d",
   "metadata": {},
   "outputs": [
    {
     "data": {
      "text/plain": [
       "26261.932124479295"
      ]
     },
     "execution_count": 17,
     "metadata": {},
     "output_type": "execute_result"
    }
   ],
   "source": [
    "#average can also be calculated using mean\n",
    "\n",
    "np.mean(x)"
   ]
  },
  {
   "cell_type": "code",
   "execution_count": 18,
   "id": "2caa4e7f",
   "metadata": {},
   "outputs": [
    {
     "data": {
      "text/plain": [
       "26261.932124479295"
      ]
     },
     "execution_count": 18,
     "metadata": {},
     "output_type": "execute_result"
    }
   ],
   "source": [
    "#or\n",
    "\n",
    "x.mean()"
   ]
  },
  {
   "cell_type": "code",
   "execution_count": 19,
   "id": "e2876baa",
   "metadata": {},
   "outputs": [
    {
     "data": {
      "text/plain": [
       "9740.107235227775"
      ]
     },
     "execution_count": 19,
     "metadata": {},
     "output_type": "execute_result"
    }
   ],
   "source": [
    "x.std()"
   ]
  },
  {
   "cell_type": "code",
   "execution_count": 20,
   "id": "ae296c66",
   "metadata": {},
   "outputs": [],
   "source": [
    "#again, picking the file (.txt) from desktop location"
   ]
  },
  {
   "cell_type": "code",
   "execution_count": 24,
   "id": "7799673e",
   "metadata": {},
   "outputs": [
    {
     "ename": "SyntaxError",
     "evalue": "(unicode error) 'unicodeescape' codec can't decode bytes in position 2-3: truncated \\UXXXXXXXX escape (2907708945.py, line 1)",
     "output_type": "error",
     "traceback": [
      "\u001b[1;36m  Cell \u001b[1;32mIn[24], line 1\u001b[1;36m\u001b[0m\n\u001b[1;33m    np.loadtxt('C:\\Users\\Ankur\\Desktop\\tfl-daily-cycle-hires.txt', delimiter=',', skiprows=1, usecols=(1))\u001b[0m\n\u001b[1;37m                                                                 ^\u001b[0m\n\u001b[1;31mSyntaxError\u001b[0m\u001b[1;31m:\u001b[0m (unicode error) 'unicodeescape' codec can't decode bytes in position 2-3: truncated \\UXXXXXXXX escape\n"
     ]
    }
   ],
   "source": [
    "np.loadtxt('C:\\Users\\Ankur\\Desktop\\tfl-daily-cycle-hires.txt', delimiter=',', skiprows=1, usecols=(1))"
   ]
  },
  {
   "cell_type": "code",
   "execution_count": 22,
   "id": "95530560",
   "metadata": {},
   "outputs": [],
   "source": [
    "#ok, we get unicode error (so use \\\\ or r as prefix)"
   ]
  },
  {
   "cell_type": "code",
   "execution_count": 25,
   "id": "6fe9f450",
   "metadata": {},
   "outputs": [
    {
     "data": {
      "text/plain": [
       "array([ 6897.,  5564.,  4303., ..., 32539., 39889., 34070.])"
      ]
     },
     "execution_count": 25,
     "metadata": {},
     "output_type": "execute_result"
    }
   ],
   "source": [
    "np.loadtxt('C:\\\\Users\\\\Ankur\\\\Desktop\\\\tfl-daily-cycle-hires.txt', delimiter=',', skiprows=1, usecols=(1))"
   ]
  },
  {
   "cell_type": "code",
   "execution_count": 26,
   "id": "a0071f9d",
   "metadata": {},
   "outputs": [],
   "source": [
    "# or use 'r' to convert to raw-string"
   ]
  },
  {
   "cell_type": "code",
   "execution_count": 27,
   "id": "c518edd8",
   "metadata": {},
   "outputs": [
    {
     "data": {
      "text/plain": [
       "array([ 6897.,  5564.,  4303., ..., 32539., 39889., 34070.])"
      ]
     },
     "execution_count": 27,
     "metadata": {},
     "output_type": "execute_result"
    }
   ],
   "source": [
    "np.loadtxt(r'C:\\Users\\Ankur\\Desktop\\tfl-daily-cycle-hires.txt', delimiter=',', skiprows=1, usecols=(1))"
   ]
  },
  {
   "cell_type": "code",
   "execution_count": 28,
   "id": "69c681f3",
   "metadata": {},
   "outputs": [],
   "source": [
    "#lets look at other input frunctions - 'gen from txt' and 'load' functions (HW)\n",
    "\n",
    "#np.genfromtxt\n",
    "#np.load"
   ]
  },
  {
   "cell_type": "code",
   "execution_count": 29,
   "id": "50403481",
   "metadata": {},
   "outputs": [],
   "source": [
    "#output(ing) the file, basically saving it somewhere as text/csv (use function - np.savetxt)\n",
    "\n",
    "#syntax - np.savetxt(FileName, array, ...others...)\n",
    "\n",
    "#again, just the file name if saving at the same place as of this jupyter workbook, otherwise specify complete path"
   ]
  },
  {
   "cell_type": "code",
   "execution_count": 30,
   "id": "13902428",
   "metadata": {},
   "outputs": [
    {
     "data": {
      "text/plain": [
       "array([ 6897.,  5564.,  4303., ..., 32539., 39889., 34070.])"
      ]
     },
     "execution_count": 30,
     "metadata": {},
     "output_type": "execute_result"
    }
   ],
   "source": [
    "x"
   ]
  },
  {
   "cell_type": "code",
   "execution_count": 31,
   "id": "80b6f775",
   "metadata": {},
   "outputs": [],
   "source": [
    "#lets save it as test  output"
   ]
  },
  {
   "cell_type": "code",
   "execution_count": 32,
   "id": "6ea7b895",
   "metadata": {},
   "outputs": [],
   "source": [
    "np.savetxt('test_output.txt',x)"
   ]
  },
  {
   "cell_type": "code",
   "execution_count": 33,
   "id": "14d86a70",
   "metadata": {},
   "outputs": [],
   "source": [
    "#cool, now lets chek the folder (hang on...)\n",
    "#.\n",
    "#.\n",
    "#.\n",
    "#yay, its there\n",
    "\n",
    "#lets save it to some other location (not sure if we will need 'r' or \\\\), lets do it\n"
   ]
  },
  {
   "cell_type": "code",
   "execution_count": 37,
   "id": "00ee9144",
   "metadata": {},
   "outputs": [
    {
     "ename": "SyntaxError",
     "evalue": "(unicode error) 'unicodeescape' codec can't decode bytes in position 2-3: truncated \\UXXXXXXXX escape (3427831625.py, line 1)",
     "output_type": "error",
     "traceback": [
      "\u001b[1;36m  Cell \u001b[1;32mIn[37], line 1\u001b[1;36m\u001b[0m\n\u001b[1;33m    np.savetxt('C:\\Users\\Ankur\\Desktop\\test_output.txt',x)\u001b[0m\n\u001b[1;37m                                                       ^\u001b[0m\n\u001b[1;31mSyntaxError\u001b[0m\u001b[1;31m:\u001b[0m (unicode error) 'unicodeescape' codec can't decode bytes in position 2-3: truncated \\UXXXXXXXX escape\n"
     ]
    }
   ],
   "source": [
    "np.savetxt('C:\\Users\\Ankur\\Desktop\\test_output.txt',x)"
   ]
  },
  {
   "cell_type": "code",
   "execution_count": 35,
   "id": "ba0a2ed6",
   "metadata": {},
   "outputs": [],
   "source": [
    "#yup, as expected, unicode error"
   ]
  },
  {
   "cell_type": "code",
   "execution_count": 42,
   "id": "54376357",
   "metadata": {},
   "outputs": [],
   "source": [
    "np.savetxt('C:\\\\Users\\\\Ankur\\\\Desktop\\\\test_output.csv',x)"
   ]
  },
  {
   "cell_type": "code",
   "execution_count": 43,
   "id": "d2ffba5c",
   "metadata": {},
   "outputs": [],
   "source": [
    "#if above file is open, you get permission error"
   ]
  },
  {
   "cell_type": "code",
   "execution_count": null,
   "id": "8f145f0d",
   "metadata": {},
   "outputs": [],
   "source": [
    "#cool, much more on pandas, so lets meet there"
   ]
  }
 ],
 "metadata": {
  "kernelspec": {
   "display_name": "Python 3 (ipykernel)",
   "language": "python",
   "name": "python3"
  },
  "language_info": {
   "codemirror_mode": {
    "name": "ipython",
    "version": 3
   },
   "file_extension": ".py",
   "mimetype": "text/x-python",
   "name": "python",
   "nbconvert_exporter": "python",
   "pygments_lexer": "ipython3",
   "version": "3.11.5"
  }
 },
 "nbformat": 4,
 "nbformat_minor": 5
}
