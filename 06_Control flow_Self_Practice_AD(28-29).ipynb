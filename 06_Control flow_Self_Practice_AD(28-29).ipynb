{
 "cells": [
  {
   "cell_type": "code",
   "execution_count": 1,
   "id": "5f508066",
   "metadata": {},
   "outputs": [],
   "source": [
    "#29.Control flow (if, elif, else)"
   ]
  },
  {
   "cell_type": "code",
   "execution_count": 1,
   "id": "ccfb9826",
   "metadata": {},
   "outputs": [],
   "source": [
    "#if condition:\n",
    " #   code (you see this is indented, means next line starts with tab (or 4 white spaces))\n",
    "    "
   ]
  },
  {
   "cell_type": "code",
   "execution_count": 2,
   "id": "4559e933",
   "metadata": {},
   "outputs": [
    {
     "name": "stdout",
     "output_type": "stream",
     "text": [
      "This is true\n"
     ]
    }
   ],
   "source": [
    "if 4>3:\n",
    "    print('This is true')"
   ]
  },
  {
   "cell_type": "code",
   "execution_count": 5,
   "id": "090ffa13",
   "metadata": {},
   "outputs": [],
   "source": [
    "if 4<3:\n",
    "    print('this is not true')"
   ]
  },
  {
   "cell_type": "code",
   "execution_count": 6,
   "id": "c123627f",
   "metadata": {},
   "outputs": [],
   "source": [
    "#since 4 is not less than 3, code didn't run"
   ]
  },
  {
   "cell_type": "code",
   "execution_count": 7,
   "id": "eb2bb422",
   "metadata": {},
   "outputs": [
    {
     "ename": "IndentationError",
     "evalue": "expected an indented block after 'if' statement on line 1 (778051486.py, line 2)",
     "output_type": "error",
     "traceback": [
      "\u001b[1;36m  Cell \u001b[1;32mIn[7], line 2\u001b[1;36m\u001b[0m\n\u001b[1;33m    print('this is also true')\u001b[0m\n\u001b[1;37m    ^\u001b[0m\n\u001b[1;31mIndentationError\u001b[0m\u001b[1;31m:\u001b[0m expected an indented block after 'if' statement on line 1\n"
     ]
    }
   ],
   "source": [
    "if 4>3:\n",
    "print('this is also true')"
   ]
  },
  {
   "cell_type": "code",
   "execution_count": 8,
   "id": "d11499f1",
   "metadata": {},
   "outputs": [],
   "source": [
    "#see error abve as not indent, i.e. 4 white spaces or tab, was not provided before print"
   ]
  },
  {
   "cell_type": "code",
   "execution_count": 2,
   "id": "44e01d98",
   "metadata": {},
   "outputs": [],
   "source": [
    "x=40"
   ]
  },
  {
   "cell_type": "code",
   "execution_count": 7,
   "id": "5fad5c82",
   "metadata": {},
   "outputs": [
    {
     "name": "stdout",
     "output_type": "stream",
     "text": [
      "120% of 34 is 40.8\n"
     ]
    }
   ],
   "source": [
    "if x<50:\n",
    "    print(f'120% of {x} is {1.2*x}')"
   ]
  },
  {
   "cell_type": "code",
   "execution_count": 4,
   "id": "a049f4ba",
   "metadata": {},
   "outputs": [],
   "source": [
    "x=24"
   ]
  },
  {
   "cell_type": "code",
   "execution_count": 6,
   "id": "2be0a996",
   "metadata": {},
   "outputs": [],
   "source": [
    "x=34"
   ]
  },
  {
   "cell_type": "code",
   "execution_count": 14,
   "id": "fb0d78f1",
   "metadata": {},
   "outputs": [],
   "source": [
    "#if & else statement:\n",
    "\n",
    "#if statement:\n",
    "#    <code1, if true>\n",
    "#else:\n",
    "#    <code2, if false>"
   ]
  },
  {
   "cell_type": "code",
   "execution_count": 15,
   "id": "842bb023",
   "metadata": {},
   "outputs": [],
   "source": [
    "x=100"
   ]
  },
  {
   "cell_type": "code",
   "execution_count": 18,
   "id": "dadc5b74",
   "metadata": {},
   "outputs": [
    {
     "name": "stdout",
     "output_type": "stream",
     "text": [
      "x is less than 200\n"
     ]
    }
   ],
   "source": [
    "if x<200:\n",
    "    \n",
    "    print('x is less than 200')\n",
    "    \n",
    "else:\n",
    "        \n",
    "    print('x is greater than 200')"
   ]
  },
  {
   "cell_type": "code",
   "execution_count": 19,
   "id": "7af7f285",
   "metadata": {},
   "outputs": [],
   "source": [
    "x=300"
   ]
  },
  {
   "cell_type": "code",
   "execution_count": 20,
   "id": "34eb772d",
   "metadata": {},
   "outputs": [
    {
     "name": "stdout",
     "output_type": "stream",
     "text": [
      "x is greater than 200\n"
     ]
    }
   ],
   "source": [
    "if x<200:\n",
    "    \n",
    "    print('x is less than 200')\n",
    "    \n",
    "else:\n",
    "        \n",
    "    print('x is greater than 200')"
   ]
  },
  {
   "cell_type": "code",
   "execution_count": 21,
   "id": "0aa9507a",
   "metadata": {},
   "outputs": [],
   "source": [
    "#if -else if (elif), else statement:\n",
    "\n",
    "#if statement:\n",
    "#    <code1, if true>\n",
    "#elif:\n",
    "#   <code2, if true>\n",
    "#else:\n",
    "#    <code3, if false>"
   ]
  },
  {
   "cell_type": "code",
   "execution_count": 23,
   "id": "63dddcd0",
   "metadata": {},
   "outputs": [
    {
     "name": "stdout",
     "output_type": "stream",
     "text": [
      "If statement is true\n"
     ]
    }
   ],
   "source": [
    "if 5<100:\n",
    "    print('If statement is true')\n",
    "elif 5<100:\n",
    "    print('elif1 is true')\n",
    "elif 5<100:\n",
    "    print('elif2 is true')"
   ]
  },
  {
   "cell_type": "code",
   "execution_count": 24,
   "id": "9a7cb500",
   "metadata": {},
   "outputs": [],
   "source": [
    "#only 1st block of code will run, since it is true and 1st in occurance (if-else executes from top 2 bottom)"
   ]
  },
  {
   "cell_type": "code",
   "execution_count": 25,
   "id": "171a201e",
   "metadata": {},
   "outputs": [
    {
     "name": "stdout",
     "output_type": "stream",
     "text": [
      "elif1 is true\n"
     ]
    }
   ],
   "source": [
    "if 5>100:\n",
    "    print('If statement is true')\n",
    "elif 5<100:\n",
    "    print('elif1 is true')\n",
    "elif 5<100:\n",
    "    print('elif2 is true')"
   ]
  },
  {
   "cell_type": "code",
   "execution_count": 26,
   "id": "1b49f304",
   "metadata": {},
   "outputs": [],
   "source": [
    "#elif 1st ran, since if was false, and then 1st elif statemnt is true"
   ]
  },
  {
   "cell_type": "code",
   "execution_count": 27,
   "id": "0b31a4a4",
   "metadata": {},
   "outputs": [
    {
     "name": "stdout",
     "output_type": "stream",
     "text": [
      "elif2 is true\n"
     ]
    }
   ],
   "source": [
    "if 5>100:\n",
    "    print('If statement is true')\n",
    "elif 5>100:\n",
    "    print('elif1 is true')\n",
    "elif 5<100:\n",
    "    print('elif2 is true')"
   ]
  },
  {
   "cell_type": "code",
   "execution_count": 28,
   "id": "d9c86e3b",
   "metadata": {},
   "outputs": [],
   "source": [
    "#elif 2nd ran, since if was false, the elif 1st was also false, and then finally 2nd elif statement is true"
   ]
  },
  {
   "cell_type": "code",
   "execution_count": 31,
   "id": "9e61623d",
   "metadata": {},
   "outputs": [
    {
     "name": "stdout",
     "output_type": "stream",
     "text": [
      "If statement is true\n",
      "elif1 is true\n"
     ]
    }
   ],
   "source": [
    "if 5<100:\n",
    "    print('If statement is true')\n",
    "print('elif1 is true')"
   ]
  },
  {
   "cell_type": "code",
   "execution_count": 32,
   "id": "50b89e85",
   "metadata": {},
   "outputs": [],
   "source": [
    "#lets look at example apart from print statement"
   ]
  },
  {
   "cell_type": "code",
   "execution_count": 36,
   "id": "272ceb51",
   "metadata": {},
   "outputs": [],
   "source": [
    "x=9"
   ]
  },
  {
   "cell_type": "code",
   "execution_count": 37,
   "id": "38ef3fe9",
   "metadata": {},
   "outputs": [],
   "source": [
    "if x>=10:\n",
    "    x=x*100"
   ]
  },
  {
   "cell_type": "code",
   "execution_count": 38,
   "id": "83021506",
   "metadata": {},
   "outputs": [
    {
     "data": {
      "text/plain": [
       "9"
      ]
     },
     "execution_count": 38,
     "metadata": {},
     "output_type": "execute_result"
    }
   ],
   "source": [
    "x"
   ]
  },
  {
   "cell_type": "code",
   "execution_count": 39,
   "id": "636108d7",
   "metadata": {},
   "outputs": [
    {
     "data": {
      "text/plain": [
       "1000"
      ]
     },
     "execution_count": 39,
     "metadata": {},
     "output_type": "execute_result"
    }
   ],
   "source": [
    "#now if\n",
    "x=10\n",
    "if x>=10:\n",
    "    x=x*100\n",
    "x"
   ]
  },
  {
   "cell_type": "code",
   "execution_count": 40,
   "id": "b794dead",
   "metadata": {},
   "outputs": [],
   "source": [
    "#nested statements"
   ]
  },
  {
   "cell_type": "code",
   "execution_count": 43,
   "id": "1ecf291e",
   "metadata": {},
   "outputs": [],
   "source": [
    "x=4"
   ]
  },
  {
   "cell_type": "code",
   "execution_count": 51,
   "id": "27a494ee",
   "metadata": {},
   "outputs": [
    {
     "name": "stdout",
     "output_type": "stream",
     "text": [
      "x is greater than 50\n"
     ]
    }
   ],
   "source": [
    "x=402\n",
    "if x<11:\n",
    "    if x>=5:\n",
    "        print('x is less than 11, but greater than or equal to 5')\n",
    "    elif x<5:\n",
    "        print ('x is less than 5, thus less than 11')\n",
    "elif x>=11:\n",
    "    if x>50:\n",
    "        print ('x is greater than 50')\n",
    "    elif x<=50:\n",
    "        print ('x is greater than or equals to 11, but less than 50')"
   ]
  },
  {
   "cell_type": "code",
   "execution_count": 52,
   "id": "a0069dc9",
   "metadata": {},
   "outputs": [],
   "source": [
    "#keep assigning x different value and see the print results, and be happy to see the cool code :)\n"
   ]
  },
  {
   "cell_type": "code",
   "execution_count": 53,
   "id": "9dda0914",
   "metadata": {},
   "outputs": [],
   "source": [
    "#coding excercise"
   ]
  },
  {
   "cell_type": "code",
   "execution_count": 64,
   "id": "854c954a",
   "metadata": {},
   "outputs": [
    {
     "data": {
      "text/plain": [
       "31"
      ]
     },
     "execution_count": 64,
     "metadata": {},
     "output_type": "execute_result"
    }
   ],
   "source": [
    "import random\n",
    "grade = random.randint(0,100)\n",
    "grade"
   ]
  },
  {
   "cell_type": "code",
   "execution_count": 69,
   "id": "c9c285ca",
   "metadata": {},
   "outputs": [
    {
     "name": "stdout",
     "output_type": "stream",
     "text": [
      "The student has aced the exam\n"
     ]
    }
   ],
   "source": [
    "grade=80\n",
    "if grade<50:\n",
    "    print('The student has failed the exam, better luck next time!')\n",
    "elif 80>grade>=50:\n",
    "    print('The student has passed the exam')\n",
    "elif grade>=80:\n",
    "    print('The student has aced the exam')"
   ]
  },
  {
   "cell_type": "code",
   "execution_count": null,
   "id": "65475fa7",
   "metadata": {},
   "outputs": [],
   "source": []
  }
 ],
 "metadata": {
  "kernelspec": {
   "display_name": "Python 3 (ipykernel)",
   "language": "python",
   "name": "python3"
  },
  "language_info": {
   "codemirror_mode": {
    "name": "ipython",
    "version": 3
   },
   "file_extension": ".py",
   "mimetype": "text/x-python",
   "name": "python",
   "nbconvert_exporter": "python",
   "pygments_lexer": "ipython3",
   "version": "3.11.5"
  }
 },
 "nbformat": 4,
 "nbformat_minor": 5
}
