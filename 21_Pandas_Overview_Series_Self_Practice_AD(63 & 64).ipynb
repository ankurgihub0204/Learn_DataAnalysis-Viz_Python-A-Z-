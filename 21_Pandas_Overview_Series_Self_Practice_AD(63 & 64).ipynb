{
 "cells": [
  {
   "cell_type": "code",
   "execution_count": 1,
   "id": "ff6b03d0",
   "metadata": {},
   "outputs": [],
   "source": [
    "#Pandas can do :-\n",
    "#IO of data, handle large data sets, filter data, data cleansing, pivot/reshape data, aggreegations(group by etc)...\n",
    "#...join, merge, timeseries and windows etc...\n",
    "\n",
    "# pandas main data structures: series and dataframes (collection of series)\n",
    "\n",
    "#series:\n",
    "# 0,x\n",
    "# 1,x\n",
    "# 2,x\n",
    "# .\n",
    "# .\n",
    "# N,x\n",
    "\n",
    "#pandas:\n",
    "#   A B C\n",
    "# 0,x,x,x\n",
    "# 1,x,x,x\n",
    "# 2,x,x,x\n",
    "# .\n",
    "# .\n",
    "# N,x,x,x"
   ]
  },
  {
   "cell_type": "code",
   "execution_count": 2,
   "id": "9ec20b16",
   "metadata": {},
   "outputs": [],
   "source": [
    "#series syntax\n",
    "#pd.Series(data=None, index=None, dtype=None, ..others..)...note:- Series starts with capital 'S', not with 's'\n",
    "\n",
    "#data=array like, iterable, dict or scaler\n",
    "#index = array like or index, same lengthe as of data count"
   ]
  },
  {
   "cell_type": "code",
   "execution_count": 3,
   "id": "d55784fb",
   "metadata": {},
   "outputs": [],
   "source": [
    "index_list=[0,1,2,3,4,5]"
   ]
  },
  {
   "cell_type": "code",
   "execution_count": 4,
   "id": "2855dae7",
   "metadata": {},
   "outputs": [],
   "source": [
    "data_list=[100,200,300,400,500,600]"
   ]
  },
  {
   "cell_type": "code",
   "execution_count": 5,
   "id": "3da3d239",
   "metadata": {},
   "outputs": [
    {
     "ename": "NameError",
     "evalue": "name 'pd' is not defined",
     "output_type": "error",
     "traceback": [
      "\u001b[1;31m---------------------------------------------------------------------------\u001b[0m",
      "\u001b[1;31mNameError\u001b[0m                                 Traceback (most recent call last)",
      "Cell \u001b[1;32mIn[5], line 3\u001b[0m\n\u001b[0;32m      1\u001b[0m \u001b[38;5;66;03m#so, series will be like:\u001b[39;00m\n\u001b[1;32m----> 3\u001b[0m Series_1\u001b[38;5;241m=\u001b[39mpd\u001b[38;5;241m.\u001b[39mSeries(data\u001b[38;5;241m=\u001b[39mdata_list, index\u001b[38;5;241m=\u001b[39mindex_list)\n",
      "\u001b[1;31mNameError\u001b[0m: name 'pd' is not defined"
     ]
    }
   ],
   "source": [
    "#so, series will be like:\n",
    "\n",
    "Series_1=pd.Series(data=data_list, index=index_list) #note:- Series starts with capital 'S', not with 's'"
   ]
  },
  {
   "cell_type": "code",
   "execution_count": 6,
   "id": "37bd344e",
   "metadata": {},
   "outputs": [],
   "source": [
    "#cool, coz we haven't called in pandas, so lets do it:\n",
    "\n",
    "import pandas as pd"
   ]
  },
  {
   "cell_type": "code",
   "execution_count": 9,
   "id": "7c57cf20",
   "metadata": {},
   "outputs": [],
   "source": [
    "series_1=pd.Series(data=data_list, index=index_list) #note:- Series starts with capital 'S', not with 's'"
   ]
  },
  {
   "cell_type": "code",
   "execution_count": 10,
   "id": "6596b939",
   "metadata": {},
   "outputs": [
    {
     "data": {
      "text/plain": [
       "0    100\n",
       "1    200\n",
       "2    300\n",
       "3    400\n",
       "4    500\n",
       "5    600\n",
       "dtype: int64"
      ]
     },
     "execution_count": 10,
     "metadata": {},
     "output_type": "execute_result"
    }
   ],
   "source": [
    "series_1"
   ]
  },
  {
   "cell_type": "code",
   "execution_count": 11,
   "id": "0ff8e85b",
   "metadata": {},
   "outputs": [],
   "source": [
    "#indexing"
   ]
  },
  {
   "cell_type": "code",
   "execution_count": 12,
   "id": "b38a7a2a",
   "metadata": {},
   "outputs": [
    {
     "data": {
      "text/plain": [
       "300"
      ]
     },
     "execution_count": 12,
     "metadata": {},
     "output_type": "execute_result"
    }
   ],
   "source": [
    "series_1[2]"
   ]
  },
  {
   "cell_type": "code",
   "execution_count": 14,
   "id": "6c86b596",
   "metadata": {},
   "outputs": [
    {
     "data": {
      "text/plain": [
       "2    300\n",
       "3    400\n",
       "4    500\n",
       "5    600\n",
       "dtype: int64"
      ]
     },
     "execution_count": 14,
     "metadata": {},
     "output_type": "execute_result"
    }
   ],
   "source": [
    "series_1[2:]"
   ]
  },
  {
   "cell_type": "code",
   "execution_count": null,
   "id": "52748887",
   "metadata": {},
   "outputs": [],
   "source": [
    "#we can also do sum, multiplication etc in series"
   ]
  },
  {
   "cell_type": "code",
   "execution_count": 15,
   "id": "3c6efff0",
   "metadata": {},
   "outputs": [
    {
     "data": {
      "text/plain": [
       "2100"
      ]
     },
     "execution_count": 15,
     "metadata": {},
     "output_type": "execute_result"
    }
   ],
   "source": [
    "series_1.sum()"
   ]
  },
  {
   "cell_type": "code",
   "execution_count": 16,
   "id": "807bfa9b",
   "metadata": {},
   "outputs": [
    {
     "data": {
      "text/plain": [
       "0     200\n",
       "1     400\n",
       "2     600\n",
       "3     800\n",
       "4    1000\n",
       "5    1200\n",
       "dtype: int64"
      ]
     },
     "execution_count": 16,
     "metadata": {},
     "output_type": "execute_result"
    }
   ],
   "source": [
    "series_1+series_1"
   ]
  },
  {
   "cell_type": "code",
   "execution_count": 17,
   "id": "438ed779",
   "metadata": {},
   "outputs": [
    {
     "data": {
      "text/plain": [
       "0    100\n",
       "1    200\n",
       "2    300\n",
       "3    400\n",
       "4    500\n",
       "5    600\n",
       "dtype: int64"
      ]
     },
     "execution_count": 17,
     "metadata": {},
     "output_type": "execute_result"
    }
   ],
   "source": [
    "series_1"
   ]
  },
  {
   "cell_type": "code",
   "execution_count": 18,
   "id": "9971a561",
   "metadata": {},
   "outputs": [
    {
     "data": {
      "text/plain": [
       "0     300\n",
       "1     600\n",
       "2     900\n",
       "3    1200\n",
       "4    1500\n",
       "5    1800\n",
       "dtype: int64"
      ]
     },
     "execution_count": 18,
     "metadata": {},
     "output_type": "execute_result"
    }
   ],
   "source": [
    "series_1*3"
   ]
  },
  {
   "cell_type": "code",
   "execution_count": null,
   "id": "4a19ab64",
   "metadata": {},
   "outputs": [],
   "source": [
    "#lets convert the follwoing to series"
   ]
  },
  {
   "cell_type": "code",
   "execution_count": 19,
   "id": "5d1aa519",
   "metadata": {},
   "outputs": [],
   "source": [
    "month_index_2021 = ['Jan','Feb','Mar','Apr','May','Jun','Jul','Aug','Sep','Oct','Nov','Dec']"
   ]
  },
  {
   "cell_type": "code",
   "execution_count": 20,
   "id": "8221510a",
   "metadata": {},
   "outputs": [],
   "source": [
    "revenue_data_2021 = (212861,100372,128953,100163,208129,182944,236284,243133,198641,158276,166398,178211)"
   ]
  },
  {
   "cell_type": "code",
   "execution_count": 21,
   "id": "8d50c851",
   "metadata": {},
   "outputs": [],
   "source": [
    "revenue_series=pd.Series(revenue_data_2021, month_index_2021)"
   ]
  },
  {
   "cell_type": "code",
   "execution_count": 22,
   "id": "5f79a8e6",
   "metadata": {},
   "outputs": [],
   "source": [
    "#since the order is there, we dont need to specify like (data=revenue_data_2021, index=month_index_2021)"
   ]
  },
  {
   "cell_type": "code",
   "execution_count": 23,
   "id": "ef66c6db",
   "metadata": {},
   "outputs": [
    {
     "data": {
      "text/plain": [
       "Jan    212861\n",
       "Feb    100372\n",
       "Mar    128953\n",
       "Apr    100163\n",
       "May    208129\n",
       "Jun    182944\n",
       "Jul    236284\n",
       "Aug    243133\n",
       "Sep    198641\n",
       "Oct    158276\n",
       "Nov    166398\n",
       "Dec    178211\n",
       "dtype: int64"
      ]
     },
     "execution_count": 23,
     "metadata": {},
     "output_type": "execute_result"
    }
   ],
   "source": [
    "revenue_series"
   ]
  },
  {
   "cell_type": "code",
   "execution_count": 27,
   "id": "1676f7e8",
   "metadata": {},
   "outputs": [
    {
     "data": {
      "text/plain": [
       "pandas.core.series.Series"
      ]
     },
     "execution_count": 27,
     "metadata": {},
     "output_type": "execute_result"
    }
   ],
   "source": [
    "#lets see what type it is\n",
    "\n",
    "type(revenue_series)"
   ]
  },
  {
   "cell_type": "code",
   "execution_count": 24,
   "id": "65e1080d",
   "metadata": {},
   "outputs": [
    {
     "data": {
      "text/plain": [
       "236284"
      ]
     },
     "execution_count": 24,
     "metadata": {},
     "output_type": "execute_result"
    }
   ],
   "source": [
    "#slicing it with the index\n",
    "\n",
    "revenue_series['Jul']"
   ]
  },
  {
   "cell_type": "code",
   "execution_count": 25,
   "id": "b7586b7c",
   "metadata": {},
   "outputs": [
    {
     "data": {
      "text/plain": [
       "Jul    236284\n",
       "Aug    243133\n",
       "Sep    198641\n",
       "Oct    158276\n",
       "Nov    166398\n",
       "Dec    178211\n",
       "dtype: int64"
      ]
     },
     "execution_count": 25,
     "metadata": {},
     "output_type": "execute_result"
    }
   ],
   "source": [
    "revenue_series['Jul':]"
   ]
  },
  {
   "cell_type": "code",
   "execution_count": 26,
   "id": "0851a0d5",
   "metadata": {},
   "outputs": [
    {
     "data": {
      "text/plain": [
       "Mar    128953\n",
       "Jun    182944\n",
       "Nov    166398\n",
       "dtype: int64"
      ]
     },
     "execution_count": 26,
     "metadata": {},
     "output_type": "execute_result"
    }
   ],
   "source": [
    "revenue_series[['Mar', 'Jun', 'Nov']]"
   ]
  },
  {
   "cell_type": "code",
   "execution_count": 28,
   "id": "dbcc8712",
   "metadata": {},
   "outputs": [],
   "source": [
    "#so with in a series, we can pass in any data type. revenue data was tuple, where month data was a list"
   ]
  },
  {
   "cell_type": "code",
   "execution_count": 31,
   "id": "66e8b28b",
   "metadata": {},
   "outputs": [
    {
     "data": {
      "text/plain": [
       "Jan    212861\n",
       "Feb    100372\n",
       "Mar    128953\n",
       "Apr    100163\n",
       "May    208129\n",
       "Jun    182944\n",
       "Jul    236284\n",
       "Aug    243133\n",
       "Sep    198641\n",
       "Oct    158276\n",
       "Nov    166398\n",
       "Dec    178211\n",
       "dtype: int64"
      ]
     },
     "execution_count": 31,
     "metadata": {},
     "output_type": "execute_result"
    }
   ],
   "source": [
    "#lets call revenue_series again, and see what is the dtype(data type) of revenue_series\n",
    "\n",
    "revenue_series"
   ]
  },
  {
   "cell_type": "code",
   "execution_count": 32,
   "id": "536999b9",
   "metadata": {},
   "outputs": [
    {
     "data": {
      "text/plain": [
       "Jan    212861.0\n",
       "Feb    100372.0\n",
       "Mar    128953.0\n",
       "Apr    100163.0\n",
       "May    208129.0\n",
       "Jun    182944.0\n",
       "Jul    236284.0\n",
       "Aug    243133.0\n",
       "Sep    198641.0\n",
       "Oct    158276.0\n",
       "Nov    166398.0\n",
       "Dec    178211.0\n",
       "dtype: float64"
      ]
     },
     "execution_count": 32,
     "metadata": {},
     "output_type": "execute_result"
    }
   ],
   "source": [
    "#currently dtype in revenue_series is int, lets change it to float. For this we have to specify dtype as argumnet\n",
    "\n",
    "revenue_series=pd.Series(revenue_data_2021, month_index_2021, dtype='float')\n",
    "revenue_series"
   ]
  },
  {
   "cell_type": "code",
   "execution_count": 47,
   "id": "03b6c255",
   "metadata": {},
   "outputs": [
    {
     "data": {
      "text/plain": [
       "Jan    212861.0\n",
       "Feb    100372.0\n",
       "Mar    128953.0\n",
       "Apr    100163.0\n",
       "May    208129.0\n",
       "Jun    182944.0\n",
       "Jul    236284.0\n",
       "Aug    243133.0\n",
       "Sep    198641.0\n",
       "Oct    158276.0\n",
       "Nov    166398.0\n",
       "Dec    178211.0\n",
       "dtype: float64"
      ]
     },
     "execution_count": 47,
     "metadata": {},
     "output_type": "execute_result"
    }
   ],
   "source": [
    "#cool, so dtype changed, we can also provide the dtype code, example 'g' for object data type,lets see\n",
    "\n",
    "revenue_series=pd.Series(revenue_data_2021, month_index_2021, dtype='g')\n",
    "revenue_series"
   ]
  },
  {
   "cell_type": "code",
   "execution_count": 48,
   "id": "d508b0bf",
   "metadata": {},
   "outputs": [],
   "source": [
    "#Dtype that os passed in a series (as an argument), also not needed to be of same dtye, example, lets change rev data\n",
    "\n",
    "revenue_data_2021 = (212861,100372,128953,100163,208129,182944,236284,243133,198641,158276,166398,'no data available')"
   ]
  },
  {
   "cell_type": "code",
   "execution_count": 50,
   "id": "c3cd329d",
   "metadata": {},
   "outputs": [
    {
     "data": {
      "text/plain": [
       "Jan               212861\n",
       "Feb               100372\n",
       "Mar               128953\n",
       "Apr               100163\n",
       "May               208129\n",
       "Jun               182944\n",
       "Jul               236284\n",
       "Aug               243133\n",
       "Sep               198641\n",
       "Oct               158276\n",
       "Nov               166398\n",
       "Dec    no data available\n",
       "dtype: object"
      ]
     },
     "execution_count": 50,
     "metadata": {},
     "output_type": "execute_result"
    }
   ],
   "source": [
    "#now lets run 'revenue series' again\n",
    "\n",
    "revenue_series=pd.Series(revenue_data_2021, month_index_2021)\n",
    "\n",
    "revenue_series"
   ]
  },
  {
   "cell_type": "code",
   "execution_count": 51,
   "id": "09ff4ba6",
   "metadata": {},
   "outputs": [
    {
     "data": {
      "text/plain": [
       "0                212861\n",
       "1                100372\n",
       "2                128953\n",
       "3                100163\n",
       "4                208129\n",
       "5                182944\n",
       "6                236284\n",
       "7                243133\n",
       "8                198641\n",
       "9                158276\n",
       "10               166398\n",
       "11    no data available\n",
       "dtype: object"
      ]
     },
     "execution_count": 51,
     "metadata": {},
     "output_type": "execute_result"
    }
   ],
   "source": [
    "#see it worked..\n",
    "\n",
    "#similarly, if nothing is passed in index, it is auto-assigned from 0-11 here, lets see\n",
    "\n",
    "revenue_series=pd.Series(revenue_data_2021)\n",
    "\n",
    "revenue_series"
   ]
  },
  {
   "cell_type": "code",
   "execution_count": 52,
   "id": "9ae39b40",
   "metadata": {},
   "outputs": [],
   "source": [
    "#dict, if passed in series (With dictionaries the keys are read as indexes and the values ar read as data)"
   ]
  },
  {
   "cell_type": "code",
   "execution_count": 54,
   "id": "db6899dd",
   "metadata": {},
   "outputs": [],
   "source": [
    "#dict\n",
    "\n",
    "dict_1={'key1':'value1','key2':'value2','key3':'value3'}"
   ]
  },
  {
   "cell_type": "code",
   "execution_count": 55,
   "id": "05247fd7",
   "metadata": {},
   "outputs": [
    {
     "data": {
      "text/plain": [
       "key1    value1\n",
       "key2    value2\n",
       "key3    value3\n",
       "dtype: object"
      ]
     },
     "execution_count": 55,
     "metadata": {},
     "output_type": "execute_result"
    }
   ],
   "source": [
    "pd.Series(data=dict_1, index=dict_1)"
   ]
  },
  {
   "cell_type": "code",
   "execution_count": 56,
   "id": "ad84fd5e",
   "metadata": {},
   "outputs": [
    {
     "ename": "AttributeError",
     "evalue": "module 'pandas' has no attribute 'series'",
     "output_type": "error",
     "traceback": [
      "\u001b[1;31m---------------------------------------------------------------------------\u001b[0m",
      "\u001b[1;31mAttributeError\u001b[0m                            Traceback (most recent call last)",
      "Cell \u001b[1;32mIn[56], line 3\u001b[0m\n\u001b[0;32m      1\u001b[0m \u001b[38;5;66;03m#actually, for dict, we dont even need to specify data & index argument, as pandas auto understands it, lets see\u001b[39;00m\n\u001b[1;32m----> 3\u001b[0m pd\u001b[38;5;241m.\u001b[39mseries(dict_1)\n",
      "\u001b[1;31mAttributeError\u001b[0m: module 'pandas' has no attribute 'series'"
     ]
    }
   ],
   "source": [
    "#actually, for dict, we dont even need to specify data & index argument, as pandas auto understands it, lets see\n",
    "\n",
    "pd.series(dict_1)"
   ]
  },
  {
   "cell_type": "code",
   "execution_count": 57,
   "id": "d67ab166",
   "metadata": {},
   "outputs": [
    {
     "data": {
      "text/plain": [
       "key1    value1\n",
       "key2    value2\n",
       "key3    value3\n",
       "dtype: object"
      ]
     },
     "execution_count": 57,
     "metadata": {},
     "output_type": "execute_result"
    }
   ],
   "source": [
    "#beware, series is with captal 'S', not 's'...\n",
    "\n",
    "pd.Series(dict_1)"
   ]
  },
  {
   "cell_type": "code",
   "execution_count": null,
   "id": "de8bcf23",
   "metadata": {},
   "outputs": [],
   "source": [
    "#cool, lets move to DF, which is collection of series"
   ]
  }
 ],
 "metadata": {
  "kernelspec": {
   "display_name": "Python 3 (ipykernel)",
   "language": "python",
   "name": "python3"
  },
  "language_info": {
   "codemirror_mode": {
    "name": "ipython",
    "version": 3
   },
   "file_extension": ".py",
   "mimetype": "text/x-python",
   "name": "python",
   "nbconvert_exporter": "python",
   "pygments_lexer": "ipython3",
   "version": "3.11.5"
  }
 },
 "nbformat": 4,
 "nbformat_minor": 5
}
