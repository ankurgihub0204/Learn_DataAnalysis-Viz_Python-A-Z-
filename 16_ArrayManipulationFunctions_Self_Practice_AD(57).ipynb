{
 "cells": [
  {
   "cell_type": "code",
   "execution_count": 2,
   "id": "5d4f656d",
   "metadata": {},
   "outputs": [],
   "source": [
    "#functions such as:\n",
    "#1. numpy.reshape(array, newshape,...)Note: this can also work as array.reshape (coz functions can work as methods in numpy)\n",
    "#2. numpy.ndarray.flatten(array) OR np.ravel(array) OR array.ravel()\n",
    "#3. Concatenate\n",
    "#4. transpose\n",
    "#5. sort\n",
    "\n",
    "#explore more such functions to become champ"
   ]
  },
  {
   "cell_type": "code",
   "execution_count": 4,
   "id": "9dbd1aba",
   "metadata": {},
   "outputs": [],
   "source": [
    "import numpy as np\n",
    "array_1=np.array([1,2,3,4,5,6,4,2,2,1])\n",
    "array_2=np.array([[2,3,4,5,6],[5,6,3,2,4]])"
   ]
  },
  {
   "cell_type": "code",
   "execution_count": 9,
   "id": "ba3120bb",
   "metadata": {},
   "outputs": [
    {
     "data": {
      "text/plain": [
       "array([1, 2, 3, 4, 5, 6, 4, 2, 2, 1])"
      ]
     },
     "execution_count": 9,
     "metadata": {},
     "output_type": "execute_result"
    }
   ],
   "source": [
    "array_1"
   ]
  },
  {
   "cell_type": "code",
   "execution_count": 10,
   "id": "eda39ac7",
   "metadata": {},
   "outputs": [
    {
     "data": {
      "text/plain": [
       "(10,)"
      ]
     },
     "execution_count": 10,
     "metadata": {},
     "output_type": "execute_result"
    }
   ],
   "source": [
    "array_1.shape #or np.shape(array_1)...also note shape when called as method, does not need '()'"
   ]
  },
  {
   "cell_type": "code",
   "execution_count": 12,
   "id": "db4d6416",
   "metadata": {},
   "outputs": [
    {
     "data": {
      "text/plain": [
       "(10,)"
      ]
     },
     "execution_count": 12,
     "metadata": {},
     "output_type": "execute_result"
    }
   ],
   "source": [
    "np.shape(array_1)"
   ]
  },
  {
   "cell_type": "code",
   "execution_count": 6,
   "id": "85b2b032",
   "metadata": {},
   "outputs": [
    {
     "data": {
      "text/plain": [
       "array([[2, 3, 4, 5, 6],\n",
       "       [5, 6, 3, 2, 4]])"
      ]
     },
     "execution_count": 6,
     "metadata": {},
     "output_type": "execute_result"
    }
   ],
   "source": [
    "array_2"
   ]
  },
  {
   "cell_type": "code",
   "execution_count": 13,
   "id": "090debfd",
   "metadata": {},
   "outputs": [
    {
     "data": {
      "text/plain": [
       "(2, 5)"
      ]
     },
     "execution_count": 13,
     "metadata": {},
     "output_type": "execute_result"
    }
   ],
   "source": [
    "np.shape(array_2)"
   ]
  },
  {
   "cell_type": "code",
   "execution_count": 14,
   "id": "994727c6",
   "metadata": {},
   "outputs": [],
   "source": [
    "#now, if we have to reshape array_1 to 2d array..\n",
    "#we will use reshape function\n",
    "#np.reshape(a,newshape,..) a=array, newshape=tuple of integers, ...can be other arguments if needed\n",
    "\n",
    "#now lets try"
   ]
  },
  {
   "cell_type": "code",
   "execution_count": 15,
   "id": "5e512fe4",
   "metadata": {},
   "outputs": [
    {
     "data": {
      "text/plain": [
       "array([1, 2, 3, 4, 5, 6, 4, 2, 2, 1])"
      ]
     },
     "execution_count": 15,
     "metadata": {},
     "output_type": "execute_result"
    }
   ],
   "source": [
    "array_1"
   ]
  },
  {
   "cell_type": "code",
   "execution_count": 17,
   "id": "fe864017",
   "metadata": {},
   "outputs": [
    {
     "data": {
      "text/plain": [
       "array([[1, 2, 3, 4, 5],\n",
       "       [6, 4, 2, 2, 1]])"
      ]
     },
     "execution_count": 17,
     "metadata": {},
     "output_type": "execute_result"
    }
   ],
   "source": [
    "np.reshape(array_1,(2,5)) #basically converting array_1 to(2,5) shape"
   ]
  },
  {
   "cell_type": "code",
   "execution_count": 19,
   "id": "1e45cd8c",
   "metadata": {},
   "outputs": [
    {
     "data": {
      "text/plain": [
       "array([[1, 2, 3, 4, 5],\n",
       "       [6, 4, 2, 2, 1]])"
      ]
     },
     "execution_count": 19,
     "metadata": {},
     "output_type": "execute_result"
    }
   ],
   "source": [
    "#using reshape as method\n",
    "array_1.reshape(2,5)"
   ]
  },
  {
   "cell_type": "code",
   "execution_count": 20,
   "id": "f7d254e3",
   "metadata": {},
   "outputs": [
    {
     "ename": "ValueError",
     "evalue": "cannot reshape array of size 10 into shape (2,6)",
     "output_type": "error",
     "traceback": [
      "\u001b[1;31m---------------------------------------------------------------------------\u001b[0m",
      "\u001b[1;31mValueError\u001b[0m                                Traceback (most recent call last)",
      "Cell \u001b[1;32mIn[20], line 2\u001b[0m\n\u001b[0;32m      1\u001b[0m \u001b[38;5;66;03m#lets see what happens if we pass inconsitent conversion request\u001b[39;00m\n\u001b[1;32m----> 2\u001b[0m np\u001b[38;5;241m.\u001b[39mreshape(array_1,(\u001b[38;5;241m2\u001b[39m,\u001b[38;5;241m6\u001b[39m))\n",
      "File \u001b[1;32m<__array_function__ internals>:200\u001b[0m, in \u001b[0;36mreshape\u001b[1;34m(*args, **kwargs)\u001b[0m\n",
      "File \u001b[1;32m~\\anaconda3\\Lib\\site-packages\\numpy\\core\\fromnumeric.py:298\u001b[0m, in \u001b[0;36mreshape\u001b[1;34m(a, newshape, order)\u001b[0m\n\u001b[0;32m    198\u001b[0m \u001b[38;5;129m@array_function_dispatch\u001b[39m(_reshape_dispatcher)\n\u001b[0;32m    199\u001b[0m \u001b[38;5;28;01mdef\u001b[39;00m \u001b[38;5;21mreshape\u001b[39m(a, newshape, order\u001b[38;5;241m=\u001b[39m\u001b[38;5;124m'\u001b[39m\u001b[38;5;124mC\u001b[39m\u001b[38;5;124m'\u001b[39m):\n\u001b[0;32m    200\u001b[0m \u001b[38;5;250m    \u001b[39m\u001b[38;5;124;03m\"\"\"\u001b[39;00m\n\u001b[0;32m    201\u001b[0m \u001b[38;5;124;03m    Gives a new shape to an array without changing its data.\u001b[39;00m\n\u001b[0;32m    202\u001b[0m \n\u001b[1;32m   (...)\u001b[0m\n\u001b[0;32m    296\u001b[0m \u001b[38;5;124;03m           [5, 6]])\u001b[39;00m\n\u001b[0;32m    297\u001b[0m \u001b[38;5;124;03m    \"\"\"\u001b[39;00m\n\u001b[1;32m--> 298\u001b[0m     \u001b[38;5;28;01mreturn\u001b[39;00m _wrapfunc(a, \u001b[38;5;124m'\u001b[39m\u001b[38;5;124mreshape\u001b[39m\u001b[38;5;124m'\u001b[39m, newshape, order\u001b[38;5;241m=\u001b[39morder)\n",
      "File \u001b[1;32m~\\anaconda3\\Lib\\site-packages\\numpy\\core\\fromnumeric.py:57\u001b[0m, in \u001b[0;36m_wrapfunc\u001b[1;34m(obj, method, *args, **kwds)\u001b[0m\n\u001b[0;32m     54\u001b[0m     \u001b[38;5;28;01mreturn\u001b[39;00m _wrapit(obj, method, \u001b[38;5;241m*\u001b[39margs, \u001b[38;5;241m*\u001b[39m\u001b[38;5;241m*\u001b[39mkwds)\n\u001b[0;32m     56\u001b[0m \u001b[38;5;28;01mtry\u001b[39;00m:\n\u001b[1;32m---> 57\u001b[0m     \u001b[38;5;28;01mreturn\u001b[39;00m bound(\u001b[38;5;241m*\u001b[39margs, \u001b[38;5;241m*\u001b[39m\u001b[38;5;241m*\u001b[39mkwds)\n\u001b[0;32m     58\u001b[0m \u001b[38;5;28;01mexcept\u001b[39;00m \u001b[38;5;167;01mTypeError\u001b[39;00m:\n\u001b[0;32m     59\u001b[0m     \u001b[38;5;66;03m# A TypeError occurs if the object does have such a method in its\u001b[39;00m\n\u001b[0;32m     60\u001b[0m     \u001b[38;5;66;03m# class, but its signature is not identical to that of NumPy's. This\u001b[39;00m\n\u001b[1;32m   (...)\u001b[0m\n\u001b[0;32m     64\u001b[0m     \u001b[38;5;66;03m# Call _wrapit from within the except clause to ensure a potential\u001b[39;00m\n\u001b[0;32m     65\u001b[0m     \u001b[38;5;66;03m# exception has a traceback chain.\u001b[39;00m\n\u001b[0;32m     66\u001b[0m     \u001b[38;5;28;01mreturn\u001b[39;00m _wrapit(obj, method, \u001b[38;5;241m*\u001b[39margs, \u001b[38;5;241m*\u001b[39m\u001b[38;5;241m*\u001b[39mkwds)\n",
      "\u001b[1;31mValueError\u001b[0m: cannot reshape array of size 10 into shape (2,6)"
     ]
    }
   ],
   "source": [
    "#lets see what happens if we pass inconsitent conversion request\n",
    "np.reshape(array_1,(2,6))"
   ]
  },
  {
   "cell_type": "code",
   "execution_count": 21,
   "id": "02ba473a",
   "metadata": {},
   "outputs": [],
   "source": [
    "#so you see shape has to be consistent, we can not shape it to (2,6)"
   ]
  },
  {
   "cell_type": "code",
   "execution_count": 22,
   "id": "362eacfb",
   "metadata": {},
   "outputs": [],
   "source": [
    "#so to keep a note here is array should have #of element = row*column size\n",
    "#since array_1 has 10 element and we want 2*6=12 size, this is inconsistent"
   ]
  },
  {
   "cell_type": "code",
   "execution_count": 23,
   "id": "e3a7c736",
   "metadata": {},
   "outputs": [
    {
     "data": {
      "text/plain": [
       "array([1, 2, 3, 4, 5, 6, 4, 2, 2, 1])"
      ]
     },
     "execution_count": 23,
     "metadata": {},
     "output_type": "execute_result"
    }
   ],
   "source": [
    "#also this reshaping(transformarion) does NOT happen in orinial array. So, array_1 is same as before (as 1d array)\n",
    "\n",
    "array_1"
   ]
  },
  {
   "cell_type": "code",
   "execution_count": 25,
   "id": "92454aa1",
   "metadata": {},
   "outputs": [],
   "source": [
    "#now, faltten and ravel function (basically flattens the 2d array to 1 array), lets see"
   ]
  },
  {
   "cell_type": "code",
   "execution_count": 26,
   "id": "fe27e0fc",
   "metadata": {},
   "outputs": [
    {
     "data": {
      "text/plain": [
       "array([[2, 3, 4, 5, 6],\n",
       "       [5, 6, 3, 2, 4]])"
      ]
     },
     "execution_count": 26,
     "metadata": {},
     "output_type": "execute_result"
    }
   ],
   "source": [
    "array_2"
   ]
  },
  {
   "cell_type": "code",
   "execution_count": 27,
   "id": "edf1b6f7",
   "metadata": {},
   "outputs": [
    {
     "ename": "AttributeError",
     "evalue": "module 'numpy' has no attribute 'flatten'",
     "output_type": "error",
     "traceback": [
      "\u001b[1;31m---------------------------------------------------------------------------\u001b[0m",
      "\u001b[1;31mAttributeError\u001b[0m                            Traceback (most recent call last)",
      "Cell \u001b[1;32mIn[27], line 1\u001b[0m\n\u001b[1;32m----> 1\u001b[0m np\u001b[38;5;241m.\u001b[39mflatten(array_2)\n",
      "File \u001b[1;32m~\\anaconda3\\Lib\\site-packages\\numpy\\__init__.py:320\u001b[0m, in \u001b[0;36m__getattr__\u001b[1;34m(attr)\u001b[0m\n\u001b[0;32m    317\u001b[0m     \u001b[38;5;28;01mfrom\u001b[39;00m \u001b[38;5;21;01m.\u001b[39;00m\u001b[38;5;21;01mtesting\u001b[39;00m \u001b[38;5;28;01mimport\u001b[39;00m Tester\n\u001b[0;32m    318\u001b[0m     \u001b[38;5;28;01mreturn\u001b[39;00m Tester\n\u001b[1;32m--> 320\u001b[0m \u001b[38;5;28;01mraise\u001b[39;00m \u001b[38;5;167;01mAttributeError\u001b[39;00m(\u001b[38;5;124m\"\u001b[39m\u001b[38;5;124mmodule \u001b[39m\u001b[38;5;132;01m{!r}\u001b[39;00m\u001b[38;5;124m has no attribute \u001b[39m\u001b[38;5;124m\"\u001b[39m\n\u001b[0;32m    321\u001b[0m                      \u001b[38;5;124m\"\u001b[39m\u001b[38;5;132;01m{!r}\u001b[39;00m\u001b[38;5;124m\"\u001b[39m\u001b[38;5;241m.\u001b[39mformat(\u001b[38;5;18m__name__\u001b[39m, attr))\n",
      "\u001b[1;31mAttributeError\u001b[0m: module 'numpy' has no attribute 'flatten'"
     ]
    }
   ],
   "source": [
    "np.flatten(array_2)"
   ]
  },
  {
   "cell_type": "code",
   "execution_count": 28,
   "id": "e3acd8bf",
   "metadata": {},
   "outputs": [],
   "source": [
    "#hmm, dont use np.flatten...use np.ndarray.flatten (or np.ravel)"
   ]
  },
  {
   "cell_type": "code",
   "execution_count": 29,
   "id": "a688f077",
   "metadata": {},
   "outputs": [
    {
     "data": {
      "text/plain": [
       "array([2, 3, 4, 5, 6, 5, 6, 3, 2, 4])"
      ]
     },
     "execution_count": 29,
     "metadata": {},
     "output_type": "execute_result"
    }
   ],
   "source": [
    "np.ndarray.flatten(array_2)"
   ]
  },
  {
   "cell_type": "code",
   "execution_count": 38,
   "id": "0714564b",
   "metadata": {},
   "outputs": [
    {
     "data": {
      "text/plain": [
       "array([2, 3, 4, 5, 6, 5, 6, 3, 2, 4])"
      ]
     },
     "execution_count": 38,
     "metadata": {},
     "output_type": "execute_result"
    }
   ],
   "source": [
    "#or using flatten as method\n",
    "array_2.flatten()"
   ]
  },
  {
   "cell_type": "code",
   "execution_count": 30,
   "id": "eb8aa946",
   "metadata": {},
   "outputs": [
    {
     "data": {
      "text/plain": [
       "array([[2, 3, 4, 5, 6],\n",
       "       [5, 6, 3, 2, 4]])"
      ]
     },
     "execution_count": 30,
     "metadata": {},
     "output_type": "execute_result"
    }
   ],
   "source": [
    "#cool, also it doesn;t change the original array (so array_2) remains same:\n",
    "array_2"
   ]
  },
  {
   "cell_type": "code",
   "execution_count": 31,
   "id": "6aaa06f6",
   "metadata": {},
   "outputs": [
    {
     "data": {
      "text/plain": [
       "array([2, 3, 4, 5, 6, 5, 6, 3, 2, 4])"
      ]
     },
     "execution_count": 31,
     "metadata": {},
     "output_type": "execute_result"
    }
   ],
   "source": [
    "#we can achieve same thing with ravel\n",
    "np.ravel(array_2)"
   ]
  },
  {
   "cell_type": "code",
   "execution_count": 32,
   "id": "28fd4128",
   "metadata": {},
   "outputs": [],
   "source": [
    "#so no '.ndarray' needed"
   ]
  },
  {
   "cell_type": "code",
   "execution_count": 34,
   "id": "8cc0a9f6",
   "metadata": {},
   "outputs": [
    {
     "data": {
      "text/plain": [
       "array([2, 3, 4, 5, 6, 5, 6, 3, 2, 4])"
      ]
     },
     "execution_count": 34,
     "metadata": {},
     "output_type": "execute_result"
    }
   ],
   "source": [
    "#we can also do it by using ravel as method\n",
    "array_2.ravel()"
   ]
  },
  {
   "cell_type": "code",
   "execution_count": 39,
   "id": "45344df5",
   "metadata": {},
   "outputs": [],
   "source": [
    "#concatenate function\n",
    "#np.concatenate((array_1,array_2),axis=?,..)  define arrays that are be concatenated in tuple, then define axis (1 or 0)\n",
    "#default axis is 0 -axis\n",
    "\n",
    "#imp1: if concatenating on 0 axis, shape must have same column. think it this way that you are adding a new row/rows....\n",
    "#        ...so it make sense to add row with same columns\n",
    "\n",
    "#imp2: if concatenating on 1 axis, shape must have same rows. think it this way that you are adding a new column/columns....\n",
    "#        ...so it make sense to add columns in existing rows"
   ]
  },
  {
   "cell_type": "code",
   "execution_count": 44,
   "id": "eb8746a1",
   "metadata": {},
   "outputs": [],
   "source": [
    "#lets redefine/create array_1, array_2 and array_3"
   ]
  },
  {
   "cell_type": "code",
   "execution_count": 45,
   "id": "34b368e9",
   "metadata": {},
   "outputs": [],
   "source": [
    "array_1=np.array([[1,1,1],[2,2,2]])"
   ]
  },
  {
   "cell_type": "code",
   "execution_count": 48,
   "id": "c2e7e4c5",
   "metadata": {},
   "outputs": [],
   "source": [
    "array_2=np.array([[3,3,3],[4,4,4],[5,5,5]])"
   ]
  },
  {
   "cell_type": "code",
   "execution_count": 49,
   "id": "1b0bf9f1",
   "metadata": {},
   "outputs": [],
   "source": [
    "array_3=np.array([[3,3],[4,4],[5,5]])"
   ]
  },
  {
   "cell_type": "code",
   "execution_count": 50,
   "id": "9f80e1fe",
   "metadata": {},
   "outputs": [
    {
     "data": {
      "text/plain": [
       "(2, 3)"
      ]
     },
     "execution_count": 50,
     "metadata": {},
     "output_type": "execute_result"
    }
   ],
   "source": [
    "array_1.shape"
   ]
  },
  {
   "cell_type": "code",
   "execution_count": 51,
   "id": "62972af7",
   "metadata": {},
   "outputs": [
    {
     "data": {
      "text/plain": [
       "(3, 3)"
      ]
     },
     "execution_count": 51,
     "metadata": {},
     "output_type": "execute_result"
    }
   ],
   "source": [
    "array_2.shape"
   ]
  },
  {
   "cell_type": "code",
   "execution_count": 52,
   "id": "42546da3",
   "metadata": {},
   "outputs": [
    {
     "data": {
      "text/plain": [
       "(3, 2)"
      ]
     },
     "execution_count": 52,
     "metadata": {},
     "output_type": "execute_result"
    }
   ],
   "source": [
    "array_3.shape"
   ]
  },
  {
   "cell_type": "code",
   "execution_count": 53,
   "id": "5816599e",
   "metadata": {},
   "outputs": [],
   "source": [
    "#so looking at the shapes and 'gyan' from [39] on concatenation, array_1 & array_2 can be concat for axis 0...\n",
    "#..i.e. array_2 will be added as a new row in array_1, well, lets do it"
   ]
  },
  {
   "cell_type": "code",
   "execution_count": 54,
   "id": "12461ea5",
   "metadata": {},
   "outputs": [
    {
     "data": {
      "text/plain": [
       "array([[1, 1, 1],\n",
       "       [2, 2, 2],\n",
       "       [3, 3, 3],\n",
       "       [4, 4, 4],\n",
       "       [5, 5, 5]])"
      ]
     },
     "execution_count": 54,
     "metadata": {},
     "output_type": "execute_result"
    }
   ],
   "source": [
    "np.concatenate((array_1, array_2), axis=0) "
   ]
  },
  {
   "cell_type": "code",
   "execution_count": 55,
   "id": "b4f50560",
   "metadata": {},
   "outputs": [
    {
     "data": {
      "text/plain": [
       "array([[1, 1, 1],\n",
       "       [2, 2, 2],\n",
       "       [3, 3, 3],\n",
       "       [4, 4, 4],\n",
       "       [5, 5, 5]])"
      ]
     },
     "execution_count": 55,
     "metadata": {},
     "output_type": "execute_result"
    }
   ],
   "source": [
    "np.concatenate((array_1, array_2)) #by default axis is 0"
   ]
  },
  {
   "cell_type": "code",
   "execution_count": 56,
   "id": "559b4450",
   "metadata": {},
   "outputs": [],
   "source": [
    "#so you see, same result in [54] & [55] as by default axis is 0"
   ]
  },
  {
   "cell_type": "code",
   "execution_count": 57,
   "id": "7c03cd9c",
   "metadata": {},
   "outputs": [],
   "source": [
    "#if we change axis =1, it wont work"
   ]
  },
  {
   "cell_type": "code",
   "execution_count": 58,
   "id": "1de58d6f",
   "metadata": {},
   "outputs": [
    {
     "ename": "ValueError",
     "evalue": "all the input array dimensions except for the concatenation axis must match exactly, but along dimension 0, the array at index 0 has size 2 and the array at index 1 has size 3",
     "output_type": "error",
     "traceback": [
      "\u001b[1;31m---------------------------------------------------------------------------\u001b[0m",
      "\u001b[1;31mValueError\u001b[0m                                Traceback (most recent call last)",
      "Cell \u001b[1;32mIn[58], line 1\u001b[0m\n\u001b[1;32m----> 1\u001b[0m np\u001b[38;5;241m.\u001b[39mconcatenate((array_1, array_2), axis\u001b[38;5;241m=\u001b[39m\u001b[38;5;241m1\u001b[39m)\n",
      "File \u001b[1;32m<__array_function__ internals>:200\u001b[0m, in \u001b[0;36mconcatenate\u001b[1;34m(*args, **kwargs)\u001b[0m\n",
      "\u001b[1;31mValueError\u001b[0m: all the input array dimensions except for the concatenation axis must match exactly, but along dimension 0, the array at index 0 has size 2 and the array at index 1 has size 3"
     ]
    }
   ],
   "source": [
    "np.concatenate((array_1, array_2), axis=1)"
   ]
  },
  {
   "cell_type": "code",
   "execution_count": 59,
   "id": "0de99435",
   "metadata": {},
   "outputs": [],
   "source": [
    "#at axis=1 above, we get something like this, so this scenerio is not possible\n",
    "# 1,1,1,3,3,3\n",
    "# 2,2,2,4,4,4\n",
    "#      ,5,5,5"
   ]
  },
  {
   "cell_type": "code",
   "execution_count": 60,
   "id": "6277bd96",
   "metadata": {},
   "outputs": [
    {
     "ename": "AttributeError",
     "evalue": "'numpy.ndarray' object has no attribute 'concatenate'",
     "output_type": "error",
     "traceback": [
      "\u001b[1;31m---------------------------------------------------------------------------\u001b[0m",
      "\u001b[1;31mAttributeError\u001b[0m                            Traceback (most recent call last)",
      "Cell \u001b[1;32mIn[60], line 1\u001b[0m\n\u001b[1;32m----> 1\u001b[0m array_1\u001b[38;5;241m.\u001b[39mconcatenate(array_2)\n",
      "\u001b[1;31mAttributeError\u001b[0m: 'numpy.ndarray' object has no attribute 'concatenate'"
     ]
    }
   ],
   "source": [
    "array_1.concatenate(array_2)"
   ]
  },
  {
   "cell_type": "code",
   "execution_count": null,
   "id": "0ac3ff40",
   "metadata": {},
   "outputs": [],
   "source": [
    "#hmm, concatenate needs multiple arguments, so may be thats why it wont work like this"
   ]
  },
  {
   "cell_type": "code",
   "execution_count": 61,
   "id": "419cd06f",
   "metadata": {},
   "outputs": [
    {
     "data": {
      "text/plain": [
       "array([[3, 3, 3],\n",
       "       [4, 4, 4],\n",
       "       [5, 5, 5],\n",
       "       [1, 1, 1],\n",
       "       [2, 2, 2]])"
      ]
     },
     "execution_count": 61,
     "metadata": {},
     "output_type": "execute_result"
    }
   ],
   "source": [
    "#similarly, we can concatenate array_1 with array_2 (jut reverse the order of arrays)\n",
    "\n",
    "np.concatenate((array_2, array_1), axis=0)"
   ]
  },
  {
   "cell_type": "code",
   "execution_count": 62,
   "id": "e805b67c",
   "metadata": {},
   "outputs": [],
   "source": [
    "#lets look at array_2 and array_3, first lets call them again for visibility"
   ]
  },
  {
   "cell_type": "code",
   "execution_count": 63,
   "id": "90de48ac",
   "metadata": {},
   "outputs": [
    {
     "data": {
      "text/plain": [
       "array([[3, 3, 3],\n",
       "       [4, 4, 4],\n",
       "       [5, 5, 5]])"
      ]
     },
     "execution_count": 63,
     "metadata": {},
     "output_type": "execute_result"
    }
   ],
   "source": [
    "array_2"
   ]
  },
  {
   "cell_type": "code",
   "execution_count": 64,
   "id": "3ae5b56e",
   "metadata": {},
   "outputs": [
    {
     "data": {
      "text/plain": [
       "array([[3, 3],\n",
       "       [4, 4],\n",
       "       [5, 5]])"
      ]
     },
     "execution_count": 64,
     "metadata": {},
     "output_type": "execute_result"
    }
   ],
   "source": [
    "array_3"
   ]
  },
  {
   "cell_type": "code",
   "execution_count": 65,
   "id": "8c16c864",
   "metadata": {},
   "outputs": [
    {
     "data": {
      "text/plain": [
       "(3, 3)"
      ]
     },
     "execution_count": 65,
     "metadata": {},
     "output_type": "execute_result"
    }
   ],
   "source": [
    "array_2.shape"
   ]
  },
  {
   "cell_type": "code",
   "execution_count": 66,
   "id": "e772c531",
   "metadata": {},
   "outputs": [
    {
     "data": {
      "text/plain": [
       "(3, 2)"
      ]
     },
     "execution_count": 66,
     "metadata": {},
     "output_type": "execute_result"
    }
   ],
   "source": [
    "array_3.shape"
   ]
  },
  {
   "cell_type": "code",
   "execution_count": null,
   "id": "4ab9a087",
   "metadata": {},
   "outputs": [],
   "source": [
    "#so looking at these array, it is visible that this concatenation can only happen on column (so axis=1)\n"
   ]
  },
  {
   "cell_type": "code",
   "execution_count": 68,
   "id": "286f8f8e",
   "metadata": {},
   "outputs": [
    {
     "data": {
      "text/plain": [
       "array([[3, 3, 3, 3, 3],\n",
       "       [4, 4, 4, 4, 4],\n",
       "       [5, 5, 5, 5, 5]])"
      ]
     },
     "execution_count": 68,
     "metadata": {},
     "output_type": "execute_result"
    }
   ],
   "source": [
    "np.concatenate((array_2, array_3), axis=1)"
   ]
  },
  {
   "cell_type": "code",
   "execution_count": null,
   "id": "2c35e926",
   "metadata": {},
   "outputs": [],
   "source": [
    "#...but lets try axis=0 for fun"
   ]
  },
  {
   "cell_type": "code",
   "execution_count": 69,
   "id": "82eae6ce",
   "metadata": {},
   "outputs": [
    {
     "ename": "ValueError",
     "evalue": "all the input array dimensions except for the concatenation axis must match exactly, but along dimension 1, the array at index 0 has size 3 and the array at index 1 has size 2",
     "output_type": "error",
     "traceback": [
      "\u001b[1;31m---------------------------------------------------------------------------\u001b[0m",
      "\u001b[1;31mValueError\u001b[0m                                Traceback (most recent call last)",
      "Cell \u001b[1;32mIn[69], line 1\u001b[0m\n\u001b[1;32m----> 1\u001b[0m np\u001b[38;5;241m.\u001b[39mconcatenate((array_2, array_3), axis\u001b[38;5;241m=\u001b[39m\u001b[38;5;241m0\u001b[39m)\n",
      "File \u001b[1;32m<__array_function__ internals>:200\u001b[0m, in \u001b[0;36mconcatenate\u001b[1;34m(*args, **kwargs)\u001b[0m\n",
      "\u001b[1;31mValueError\u001b[0m: all the input array dimensions except for the concatenation axis must match exactly, but along dimension 1, the array at index 0 has size 3 and the array at index 1 has size 2"
     ]
    }
   ],
   "source": [
    "np.concatenate((array_2, array_3), axis=0)"
   ]
  },
  {
   "cell_type": "code",
   "execution_count": null,
   "id": "47822600",
   "metadata": {},
   "outputs": [],
   "source": [
    "#hmm, error was expected coz this scenerio is not possible:\n",
    "\n",
    "#at axis=1 above, we get something like this, so this scenerio is not possible\n",
    "\n",
    "# 3,3,3\n",
    "# 4,4,4\n",
    "# 5,5,5\n",
    "# 3,3,\n",
    "# 4,4\n",
    "# 5,5\n",
    "\n",
    "#looks bad"
   ]
  },
  {
   "cell_type": "code",
   "execution_count": 70,
   "id": "c7072f48",
   "metadata": {},
   "outputs": [
    {
     "data": {
      "text/plain": [
       "array([[1, 1, 1],\n",
       "       [2, 2, 2]])"
      ]
     },
     "execution_count": 70,
     "metadata": {},
     "output_type": "execute_result"
    }
   ],
   "source": [
    "array_1"
   ]
  },
  {
   "cell_type": "code",
   "execution_count": 71,
   "id": "7a342508",
   "metadata": {},
   "outputs": [
    {
     "data": {
      "text/plain": [
       "array([[3, 3],\n",
       "       [4, 4],\n",
       "       [5, 5]])"
      ]
     },
     "execution_count": 71,
     "metadata": {},
     "output_type": "execute_result"
    }
   ],
   "source": [
    "array_3"
   ]
  },
  {
   "cell_type": "code",
   "execution_count": 72,
   "id": "3a19e2a1",
   "metadata": {},
   "outputs": [
    {
     "data": {
      "text/plain": [
       "(2, 3)"
      ]
     },
     "execution_count": 72,
     "metadata": {},
     "output_type": "execute_result"
    }
   ],
   "source": [
    "array_1.shape"
   ]
  },
  {
   "cell_type": "code",
   "execution_count": 73,
   "id": "8554cb1a",
   "metadata": {},
   "outputs": [
    {
     "data": {
      "text/plain": [
       "(3, 2)"
      ]
     },
     "execution_count": 73,
     "metadata": {},
     "output_type": "execute_result"
    }
   ],
   "source": [
    "array_3.shape"
   ]
  },
  {
   "cell_type": "code",
   "execution_count": null,
   "id": "02548136",
   "metadata": {},
   "outputs": [],
   "source": [
    "#so nothing works between array_1 and array_3 for concatenation"
   ]
  },
  {
   "cell_type": "code",
   "execution_count": 74,
   "id": "e5ef2365",
   "metadata": {},
   "outputs": [],
   "source": [
    "#transpose function (to inverse the rows into columns)..(row1 becomes column1, row2 becomes column2...so on)\n",
    "#np.transpose(array)"
   ]
  },
  {
   "cell_type": "code",
   "execution_count": 75,
   "id": "2326eabc",
   "metadata": {},
   "outputs": [
    {
     "data": {
      "text/plain": [
       "array([[1, 1, 1],\n",
       "       [2, 2, 2]])"
      ]
     },
     "execution_count": 75,
     "metadata": {},
     "output_type": "execute_result"
    }
   ],
   "source": [
    "array_1"
   ]
  },
  {
   "cell_type": "code",
   "execution_count": 76,
   "id": "71eb580c",
   "metadata": {},
   "outputs": [
    {
     "data": {
      "text/plain": [
       "array([[1, 2],\n",
       "       [1, 2],\n",
       "       [1, 2]])"
      ]
     },
     "execution_count": 76,
     "metadata": {},
     "output_type": "execute_result"
    }
   ],
   "source": [
    "np.transpose(array_1) #or use array_1.transpose()"
   ]
  },
  {
   "cell_type": "code",
   "execution_count": 78,
   "id": "99338c66",
   "metadata": {},
   "outputs": [
    {
     "data": {
      "text/plain": [
       "array([[1, 2],\n",
       "       [1, 2],\n",
       "       [1, 2]])"
      ]
     },
     "execution_count": 78,
     "metadata": {},
     "output_type": "execute_result"
    }
   ],
   "source": [
    "array_1.transpose()"
   ]
  },
  {
   "cell_type": "code",
   "execution_count": 79,
   "id": "2642527b",
   "metadata": {},
   "outputs": [],
   "source": [
    "#sort function\n",
    "#np.sort(array,axis=-1..) default axis is -1, which is the last axis"
   ]
  },
  {
   "cell_type": "code",
   "execution_count": 5,
   "id": "4fdd874d",
   "metadata": {},
   "outputs": [
    {
     "data": {
      "text/plain": [
       "array([[ 1, 10,  3],\n",
       "       [ 2,  3,  1]])"
      ]
     },
     "execution_count": 5,
     "metadata": {},
     "output_type": "execute_result"
    }
   ],
   "source": [
    "#example\n",
    "array_unsort=np.array([[1,10,3],[2,3,1]])\n",
    "array_unsort"
   ]
  },
  {
   "cell_type": "code",
   "execution_count": 82,
   "id": "aee68a29",
   "metadata": {},
   "outputs": [],
   "source": [
    "#so sorting around axis=0 (which means sort on columns, as axis 0 goes south (column-vise), shd result in\n",
    "\n",
    "# 1,3,1\n",
    "# 2,10,3\n",
    "\n",
    "#and sorting around axis=1 (which means sort on rows), shd result in\n",
    "\n",
    "# 1,3,10\n",
    "# 1,2,3\n",
    "\n",
    "#lets see"
   ]
  },
  {
   "cell_type": "code",
   "execution_count": 83,
   "id": "86800a6b",
   "metadata": {},
   "outputs": [
    {
     "data": {
      "text/plain": [
       "array([[ 1,  3,  1],\n",
       "       [ 2, 10,  3]])"
      ]
     },
     "execution_count": 83,
     "metadata": {},
     "output_type": "execute_result"
    }
   ],
   "source": [
    "np.sort(array_unsort, axis=0)"
   ]
  },
  {
   "cell_type": "code",
   "execution_count": 84,
   "id": "2d084144",
   "metadata": {},
   "outputs": [
    {
     "data": {
      "text/plain": [
       "array([[ 1,  3, 10],\n",
       "       [ 1,  2,  3]])"
      ]
     },
     "execution_count": 84,
     "metadata": {},
     "output_type": "execute_result"
    }
   ],
   "source": [
    "np.sort(array_unsort,axis=1)"
   ]
  },
  {
   "cell_type": "code",
   "execution_count": 85,
   "id": "8c97e1f4",
   "metadata": {},
   "outputs": [
    {
     "data": {
      "text/plain": [
       "array([[ 1,  3, 10],\n",
       "       [ 1,  2,  3]])"
      ]
     },
     "execution_count": 85,
     "metadata": {},
     "output_type": "execute_result"
    }
   ],
   "source": [
    "np.sort(array_unsort) #by default sort is on axis1 (row sort)"
   ]
  },
  {
   "cell_type": "code",
   "execution_count": 7,
   "id": "92792feb",
   "metadata": {},
   "outputs": [],
   "source": [
    "sd=array_unsort.sort(axis=0)"
   ]
  },
  {
   "cell_type": "code",
   "execution_count": 8,
   "id": "4272e755",
   "metadata": {},
   "outputs": [],
   "source": [
    "sd"
   ]
  },
  {
   "cell_type": "code",
   "execution_count": null,
   "id": "16cce3ad",
   "metadata": {},
   "outputs": [],
   "source": [
    "#above 2 rows didn't work like that"
   ]
  }
 ],
 "metadata": {
  "kernelspec": {
   "display_name": "Python 3 (ipykernel)",
   "language": "python",
   "name": "python3"
  },
  "language_info": {
   "codemirror_mode": {
    "name": "ipython",
    "version": 3
   },
   "file_extension": ".py",
   "mimetype": "text/x-python",
   "name": "python",
   "nbconvert_exporter": "python",
   "pygments_lexer": "ipython3",
   "version": "3.11.5"
  }
 },
 "nbformat": 4,
 "nbformat_minor": 5
}
