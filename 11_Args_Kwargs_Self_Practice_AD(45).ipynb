{
 "cells": [
  {
   "cell_type": "code",
   "execution_count": 1,
   "id": "733afd10",
   "metadata": {},
   "outputs": [],
   "source": [
    "#*args (arguments) and **kwargs (keywords arguments), game of * and **\n",
    "\n",
    "\n",
    "# *args return tuple\n",
    "#**kwargs return dict\n",
    "\n",
    "#cool, lets see...\n"
   ]
  },
  {
   "cell_type": "code",
   "execution_count": 2,
   "id": "e130b76d",
   "metadata": {},
   "outputs": [],
   "source": [
    "# so lets say, we wanted to define a function, where argument doesn't have fixed parameter"
   ]
  },
  {
   "cell_type": "code",
   "execution_count": 3,
   "id": "753501c8",
   "metadata": {},
   "outputs": [],
   "source": [
    "# example - we want to sum up 1,2,3...then sometime sum up2,3,4,5, then sometimes some other numbers..\n",
    "#so we do it this way"
   ]
  },
  {
   "cell_type": "code",
   "execution_count": 4,
   "id": "6aad5cf3",
   "metadata": {},
   "outputs": [],
   "source": [
    "def sum_up (*args):\n",
    "    return sum(args)"
   ]
  },
  {
   "cell_type": "code",
   "execution_count": 5,
   "id": "9b3026c1",
   "metadata": {},
   "outputs": [
    {
     "data": {
      "text/plain": [
       "9"
      ]
     },
     "execution_count": 5,
     "metadata": {},
     "output_type": "execute_result"
    }
   ],
   "source": [
    "sum_up(2,3,4)"
   ]
  },
  {
   "cell_type": "code",
   "execution_count": 6,
   "id": "e1aca8de",
   "metadata": {},
   "outputs": [
    {
     "data": {
      "text/plain": [
       "30"
      ]
     },
     "execution_count": 6,
     "metadata": {},
     "output_type": "execute_result"
    }
   ],
   "source": [
    "sum_up(4,5,6,7,8)"
   ]
  },
  {
   "cell_type": "code",
   "execution_count": 7,
   "id": "731c28db",
   "metadata": {},
   "outputs": [],
   "source": [
    "#so you see input changes, but code still works, cool"
   ]
  },
  {
   "cell_type": "code",
   "execution_count": null,
   "id": "7630dbbc",
   "metadata": {},
   "outputs": [],
   "source": [
    "#just like that, in[4], can also be written as"
   ]
  },
  {
   "cell_type": "code",
   "execution_count": 8,
   "id": "3013e80d",
   "metadata": {},
   "outputs": [],
   "source": [
    "def sum_up2(*args):\n",
    "    x=0\n",
    "    for num in args:\n",
    "        x+=num #i.e. x=x+num\n",
    "    return x"
   ]
  },
  {
   "cell_type": "code",
   "execution_count": 9,
   "id": "dd589798",
   "metadata": {},
   "outputs": [
    {
     "data": {
      "text/plain": [
       "14"
      ]
     },
     "execution_count": 9,
     "metadata": {},
     "output_type": "execute_result"
    }
   ],
   "source": [
    "sum_up2(2,3,4,5)"
   ]
  },
  {
   "cell_type": "code",
   "execution_count": 10,
   "id": "2eeccc57",
   "metadata": {},
   "outputs": [
    {
     "data": {
      "text/plain": [
       "296"
      ]
     },
     "execution_count": 10,
     "metadata": {},
     "output_type": "execute_result"
    }
   ],
   "source": [
    "sum_up2(98,98,100)"
   ]
  },
  {
   "cell_type": "code",
   "execution_count": null,
   "id": "8bdbeeb5",
   "metadata": {},
   "outputs": [],
   "source": [
    "#cool stuff"
   ]
  },
  {
   "cell_type": "code",
   "execution_count": 11,
   "id": "99fa61d7",
   "metadata": {},
   "outputs": [],
   "source": [
    "#lets see **kwargs now"
   ]
  },
  {
   "cell_type": "code",
   "execution_count": 15,
   "id": "b5748802",
   "metadata": {},
   "outputs": [],
   "source": [
    "def key_word_arg1 (**kwargs):\n",
    "    print (type(kwargs))\n",
    "    return kwargs"
   ]
  },
  {
   "cell_type": "code",
   "execution_count": 16,
   "id": "70b22d25",
   "metadata": {},
   "outputs": [
    {
     "name": "stdout",
     "output_type": "stream",
     "text": [
      "<class 'dict'>\n"
     ]
    },
    {
     "data": {
      "text/plain": [
       "{'name': 'ad', 'drink': 'corona'}"
      ]
     },
     "execution_count": 16,
     "metadata": {},
     "output_type": "execute_result"
    }
   ],
   "source": [
    "key_word_arg1(name='ad', drink='corona') # please note: argument provided is not as same format as of dictionary"
   ]
  },
  {
   "cell_type": "code",
   "execution_count": 17,
   "id": "f5469b28",
   "metadata": {},
   "outputs": [],
   "source": [
    "#so you see, kwargs returns dictionary. Please note kwargs (or args) are just standards, we can even use x in place of it\n",
    "#important thing here is '*' and '**'"
   ]
  },
  {
   "cell_type": "code",
   "execution_count": 18,
   "id": "140a983f",
   "metadata": {},
   "outputs": [],
   "source": [
    "# now, lets develop a function, where we get name and food of person, but if, food name is not mentioned...\n",
    "#...it returns no food mentioned, cool, lets see"
   ]
  },
  {
   "cell_type": "code",
   "execution_count": 30,
   "id": "587d29d0",
   "metadata": {},
   "outputs": [],
   "source": [
    "def key_word_arg2 (**kwargs):\n",
    "    if 'food' in kwargs:\n",
    "        return f\"my name is {kwargs['name']} and my favorite food is {kwargs['food']}\"\n",
    "    else:\n",
    "        return f\"my name is {kwargs['name']} and I have no favorite food\""
   ]
  },
  {
   "cell_type": "code",
   "execution_count": 34,
   "id": "dc7708c3",
   "metadata": {},
   "outputs": [
    {
     "data": {
      "text/plain": [
       "'my name is JLT and my favorite food is wings'"
      ]
     },
     "execution_count": 34,
     "metadata": {},
     "output_type": "execute_result"
    }
   ],
   "source": [
    "key_word_arg2(name='JLT', food='wings') # note: name and food is not in '', so its similar but unlike dictionary"
   ]
  },
  {
   "cell_type": "code",
   "execution_count": 35,
   "id": "6afc7f90",
   "metadata": {},
   "outputs": [
    {
     "data": {
      "text/plain": [
       "'my name is DJ and I have no favorite food'"
      ]
     },
     "execution_count": 35,
     "metadata": {},
     "output_type": "execute_result"
    }
   ],
   "source": [
    "key_word_arg2(name='DJ')"
   ]
  },
  {
   "cell_type": "code",
   "execution_count": 36,
   "id": "8446351f",
   "metadata": {},
   "outputs": [],
   "source": [
    "#Cool, since food value was not prosent, it returns no favorite food, lets see what if food is <blank>"
   ]
  },
  {
   "cell_type": "code",
   "execution_count": 39,
   "id": "c2a7c56c",
   "metadata": {},
   "outputs": [
    {
     "data": {
      "text/plain": [
       "'my name is KD and my favorite food is '"
      ]
     },
     "execution_count": 39,
     "metadata": {},
     "output_type": "execute_result"
    }
   ],
   "source": [
    "key_word_arg2(name='KD', food='')"
   ]
  },
  {
   "cell_type": "code",
   "execution_count": 40,
   "id": "9cf57af8",
   "metadata": {},
   "outputs": [],
   "source": [
    "#since 'food' is present as key, so it returened the value (although value is blank)"
   ]
  },
  {
   "cell_type": "code",
   "execution_count": 41,
   "id": "805df9c2",
   "metadata": {},
   "outputs": [],
   "source": [
    "#lets say food is not in picture, and we randomly passed some other key-value (sport='basketball')"
   ]
  },
  {
   "cell_type": "code",
   "execution_count": 42,
   "id": "d30756c0",
   "metadata": {},
   "outputs": [
    {
     "data": {
      "text/plain": [
       "'my name is Ram and I have no favorite food'"
      ]
     },
     "execution_count": 42,
     "metadata": {},
     "output_type": "execute_result"
    }
   ],
   "source": [
    "key_word_arg2(name='Ram', sports='basketball')"
   ]
  },
  {
   "cell_type": "code",
   "execution_count": 43,
   "id": "8dff6f32",
   "metadata": {},
   "outputs": [],
   "source": [
    "#cool, again, though we added randon=m key but since there is no food, it returned else statement"
   ]
  },
  {
   "cell_type": "code",
   "execution_count": 44,
   "id": "29e978da",
   "metadata": {},
   "outputs": [],
   "source": [
    "#args & kwargs can together be used in a function too, but follow the order (*args, **kwargs)"
   ]
  },
  {
   "cell_type": "code",
   "execution_count": 45,
   "id": "0f5152d2",
   "metadata": {},
   "outputs": [],
   "source": [
    "def args_kwargs(*args,**kwargs):\n",
    "    print(args)\n",
    "    print(kwargs)"
   ]
  },
  {
   "cell_type": "code",
   "execution_count": 46,
   "id": "4a18c740",
   "metadata": {},
   "outputs": [
    {
     "name": "stdout",
     "output_type": "stream",
     "text": [
      "(1, 2, 3, 4, 'random_strings', 2)\n",
      "{'sports': 'cricket', 'age': 32}\n"
     ]
    }
   ],
   "source": [
    "args_kwargs(1,2,3,4,'random_strings',2,sports='cricket',age=32)"
   ]
  },
  {
   "cell_type": "code",
   "execution_count": 47,
   "id": "afbe0e30",
   "metadata": {},
   "outputs": [],
   "source": [
    "#so you see numbers and strings formed a tuple, key-value formed a dict. PLEASE NOTE THE ORDER of values passed...\n",
    "#in the function (first numbers and strings, then dict)"
   ]
  },
  {
   "cell_type": "code",
   "execution_count": 48,
   "id": "9418fb8f",
   "metadata": {},
   "outputs": [],
   "source": [
    "#if we change the order, it will throw error, lets put 8 in the end and see.."
   ]
  },
  {
   "cell_type": "code",
   "execution_count": 49,
   "id": "15925007",
   "metadata": {},
   "outputs": [
    {
     "ename": "SyntaxError",
     "evalue": "positional argument follows keyword argument (3303271953.py, line 1)",
     "output_type": "error",
     "traceback": [
      "\u001b[1;36m  Cell \u001b[1;32mIn[49], line 1\u001b[1;36m\u001b[0m\n\u001b[1;33m    args_kwargs(1,2,3,4,'random_strings',2,sports='cricket',age=32, 8)\u001b[0m\n\u001b[1;37m                                                                     ^\u001b[0m\n\u001b[1;31mSyntaxError\u001b[0m\u001b[1;31m:\u001b[0m positional argument follows keyword argument\n"
     ]
    }
   ],
   "source": [
    "args_kwargs(1,2,3,4,'random_strings',2,sports='cricket',age=32, 8)"
   ]
  },
  {
   "cell_type": "code",
   "execution_count": 50,
   "id": "fefc272c",
   "metadata": {},
   "outputs": [],
   "source": [
    "# see, we get error\n"
   ]
  },
  {
   "cell_type": "code",
   "execution_count": null,
   "id": "217c7188",
   "metadata": {},
   "outputs": [],
   "source": []
  }
 ],
 "metadata": {
  "kernelspec": {
   "display_name": "Python 3 (ipykernel)",
   "language": "python",
   "name": "python3"
  },
  "language_info": {
   "codemirror_mode": {
    "name": "ipython",
    "version": 3
   },
   "file_extension": ".py",
   "mimetype": "text/x-python",
   "name": "python",
   "nbconvert_exporter": "python",
   "pygments_lexer": "ipython3",
   "version": "3.11.5"
  }
 },
 "nbformat": 4,
 "nbformat_minor": 5
}
