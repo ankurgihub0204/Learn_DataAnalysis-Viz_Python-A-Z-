{
 "cells": [
  {
   "cell_type": "code",
   "execution_count": 1,
   "id": "fb1c97e2",
   "metadata": {},
   "outputs": [
    {
     "data": {
      "text/plain": [
       "[2, 17, 18, 19, 20]"
      ]
     },
     "execution_count": 1,
     "metadata": {},
     "output_type": "execute_result"
    }
   ],
   "source": [
    "list_1=[2,17,18,19,20]\n",
    "list_1"
   ]
  },
  {
   "cell_type": "code",
   "execution_count": 2,
   "id": "2f7e0e8f",
   "metadata": {},
   "outputs": [
    {
     "data": {
      "text/plain": [
       "17"
      ]
     },
     "execution_count": 2,
     "metadata": {},
     "output_type": "execute_result"
    }
   ],
   "source": [
    "list_1[1]"
   ]
  },
  {
   "cell_type": "code",
   "execution_count": 3,
   "id": "389d151f",
   "metadata": {},
   "outputs": [
    {
     "data": {
      "text/plain": [
       "[17, 18]"
      ]
     },
     "execution_count": 3,
     "metadata": {},
     "output_type": "execute_result"
    }
   ],
   "source": [
    "list_1[1:3]"
   ]
  },
  {
   "cell_type": "code",
   "execution_count": 4,
   "id": "61de7320",
   "metadata": {},
   "outputs": [
    {
     "data": {
      "text/plain": [
       "20"
      ]
     },
     "execution_count": 4,
     "metadata": {},
     "output_type": "execute_result"
    }
   ],
   "source": [
    "list_1[-1]"
   ]
  },
  {
   "cell_type": "code",
   "execution_count": 5,
   "id": "08b297fc",
   "metadata": {},
   "outputs": [
    {
     "data": {
      "text/plain": [
       "list"
      ]
     },
     "execution_count": 5,
     "metadata": {},
     "output_type": "execute_result"
    }
   ],
   "source": [
    "type(list_1)"
   ]
  },
  {
   "cell_type": "code",
   "execution_count": 6,
   "id": "b1b545f9",
   "metadata": {},
   "outputs": [],
   "source": [
    "#thus list is a data type\n"
   ]
  },
  {
   "cell_type": "code",
   "execution_count": 7,
   "id": "313b19b4",
   "metadata": {},
   "outputs": [
    {
     "data": {
      "text/plain": [
       "['x', 'y', [2, 17, 18, 19, 20]]"
      ]
     },
     "execution_count": 7,
     "metadata": {},
     "output_type": "execute_result"
    }
   ],
   "source": [
    "#embedded list (list with i a list)\n",
    "\n",
    "list_4=['x', 'y', list_1]\n",
    "list_4"
   ]
  },
  {
   "cell_type": "code",
   "execution_count": 8,
   "id": "eaeed586",
   "metadata": {},
   "outputs": [],
   "source": [
    "# now how to perfeorm indexing here\n"
   ]
  },
  {
   "cell_type": "code",
   "execution_count": 10,
   "id": "20fbe6bf",
   "metadata": {},
   "outputs": [
    {
     "data": {
      "text/plain": [
       "'y'"
      ]
     },
     "execution_count": 10,
     "metadata": {},
     "output_type": "execute_result"
    }
   ],
   "source": [
    "list_4[1]"
   ]
  },
  {
   "cell_type": "code",
   "execution_count": 11,
   "id": "21d773a1",
   "metadata": {},
   "outputs": [
    {
     "data": {
      "text/plain": [
       "[2, 17, 18, 19, 20]"
      ]
     },
     "execution_count": 11,
     "metadata": {},
     "output_type": "execute_result"
    }
   ],
   "source": [
    "list_4[2]"
   ]
  },
  {
   "cell_type": "code",
   "execution_count": 12,
   "id": "404e725d",
   "metadata": {},
   "outputs": [],
   "source": [
    "#now how to get value 18 from above index"
   ]
  },
  {
   "cell_type": "code",
   "execution_count": 13,
   "id": "c15ad8e0",
   "metadata": {},
   "outputs": [
    {
     "data": {
      "text/plain": [
       "18"
      ]
     },
     "execution_count": 13,
     "metadata": {},
     "output_type": "execute_result"
    }
   ],
   "source": [
    "list_4[2][2]"
   ]
  },
  {
   "cell_type": "code",
   "execution_count": 14,
   "id": "2b7d8832",
   "metadata": {},
   "outputs": [],
   "source": [
    "#bingo, here you go, so basically we indexed it twice"
   ]
  },
  {
   "cell_type": "code",
   "execution_count": 15,
   "id": "08fd22f9",
   "metadata": {},
   "outputs": [
    {
     "data": {
      "text/plain": [
       "[2, 17, 18, 19, 20]"
      ]
     },
     "execution_count": 15,
     "metadata": {},
     "output_type": "execute_result"
    }
   ],
   "source": [
    "list_4[2][::]"
   ]
  },
  {
   "cell_type": "code",
   "execution_count": 16,
   "id": "441ddc58",
   "metadata": {},
   "outputs": [
    {
     "data": {
      "text/plain": [
       "[2, 18, 20]"
      ]
     },
     "execution_count": 16,
     "metadata": {},
     "output_type": "execute_result"
    }
   ],
   "source": [
    "list_4[2][::2]"
   ]
  },
  {
   "cell_type": "code",
   "execution_count": 18,
   "id": "b45b1a3f",
   "metadata": {},
   "outputs": [
    {
     "data": {
      "text/plain": [
       "[17, 18, 19]"
      ]
     },
     "execution_count": 18,
     "metadata": {},
     "output_type": "execute_result"
    }
   ],
   "source": [
    "list_4[2][1:4:]"
   ]
  },
  {
   "cell_type": "code",
   "execution_count": 19,
   "id": "c6ec4814",
   "metadata": {},
   "outputs": [],
   "source": [
    "# now lists are mutable,so they can be hanged"
   ]
  },
  {
   "cell_type": "code",
   "execution_count": 20,
   "id": "3cc83fbe",
   "metadata": {},
   "outputs": [
    {
     "data": {
      "text/plain": [
       "[2, 17, 18, 19, 20]"
      ]
     },
     "execution_count": 20,
     "metadata": {},
     "output_type": "execute_result"
    }
   ],
   "source": [
    "list_1"
   ]
  },
  {
   "cell_type": "code",
   "execution_count": 21,
   "id": "0edac74d",
   "metadata": {},
   "outputs": [],
   "source": [
    "list_1[4]='Hello'"
   ]
  },
  {
   "cell_type": "code",
   "execution_count": 22,
   "id": "8ecfe20a",
   "metadata": {},
   "outputs": [
    {
     "data": {
      "text/plain": [
       "[2, 17, 18, 19, 'Hello']"
      ]
     },
     "execution_count": 22,
     "metadata": {},
     "output_type": "execute_result"
    }
   ],
   "source": [
    "list_1"
   ]
  },
  {
   "cell_type": "code",
   "execution_count": 23,
   "id": "827bdafa",
   "metadata": {},
   "outputs": [],
   "source": [
    "# lists are mutable"
   ]
  },
  {
   "cell_type": "code",
   "execution_count": 24,
   "id": "a0c70179",
   "metadata": {},
   "outputs": [],
   "source": [
    "# now, lets see lists methods"
   ]
  },
  {
   "cell_type": "code",
   "execution_count": 25,
   "id": "d78c54d4",
   "metadata": {},
   "outputs": [
    {
     "data": {
      "text/plain": [
       "[2, 17, 18, 19, 'Hello']"
      ]
     },
     "execution_count": 25,
     "metadata": {},
     "output_type": "execute_result"
    }
   ],
   "source": [
    "list_1"
   ]
  },
  {
   "cell_type": "code",
   "execution_count": 26,
   "id": "944e3aa0",
   "metadata": {},
   "outputs": [
    {
     "data": {
      "text/plain": [
       "[2, 17, 18, 19, 'Hello', 'Goodbye']"
      ]
     },
     "execution_count": 26,
     "metadata": {},
     "output_type": "execute_result"
    }
   ],
   "source": [
    "list_1.append('Goodbye')\n",
    "list_1"
   ]
  },
  {
   "cell_type": "code",
   "execution_count": 29,
   "id": "0c46c23c",
   "metadata": {},
   "outputs": [
    {
     "data": {
      "text/plain": [
       "['Jon', 'hugo', 'Rickesh', 'Anita']"
      ]
     },
     "execution_count": 29,
     "metadata": {},
     "output_type": "execute_result"
    }
   ],
   "source": [
    "list_2=['Jon', 'hugo', 'Rickesh', 'Anita']\n",
    "list_2"
   ]
  },
  {
   "cell_type": "code",
   "execution_count": 30,
   "id": "74d4ae62",
   "metadata": {},
   "outputs": [],
   "source": [
    "#now, lets append list_2 to list_1"
   ]
  },
  {
   "cell_type": "code",
   "execution_count": 31,
   "id": "a6ddb750",
   "metadata": {},
   "outputs": [],
   "source": [
    "list_1.append(list_2)"
   ]
  },
  {
   "cell_type": "code",
   "execution_count": 32,
   "id": "05563335",
   "metadata": {},
   "outputs": [
    {
     "data": {
      "text/plain": [
       "[2, 17, 18, 19, 'Hello', 'Goodbye', ['Jon', 'hugo', 'Rickesh', 'Anita']]"
      ]
     },
     "execution_count": 32,
     "metadata": {},
     "output_type": "execute_result"
    }
   ],
   "source": [
    "list_1"
   ]
  },
  {
   "cell_type": "code",
   "execution_count": 33,
   "id": "c04e010c",
   "metadata": {},
   "outputs": [],
   "source": [
    "#list_2 has been added as single element, its called embedded. If we want list_2 to appear as extended elements,\n",
    "# we should use extended method, as below:"
   ]
  },
  {
   "cell_type": "code",
   "execution_count": 34,
   "id": "4569c41e",
   "metadata": {},
   "outputs": [
    {
     "data": {
      "text/plain": [
       "[2, 17, 18, 19, 'Hello', 'Goodbye', ['Jon', 'hugo', 'Rickesh', 'Anita']]"
      ]
     },
     "execution_count": 34,
     "metadata": {},
     "output_type": "execute_result"
    }
   ],
   "source": [
    "list_1"
   ]
  },
  {
   "cell_type": "code",
   "execution_count": 35,
   "id": "813ff560",
   "metadata": {},
   "outputs": [
    {
     "data": {
      "text/plain": [
       "['Jon', 'hugo', 'Rickesh', 'Anita']"
      ]
     },
     "execution_count": 35,
     "metadata": {},
     "output_type": "execute_result"
    }
   ],
   "source": [
    "list_2"
   ]
  },
  {
   "cell_type": "code",
   "execution_count": 36,
   "id": "8a888e89",
   "metadata": {},
   "outputs": [
    {
     "data": {
      "text/plain": [
       "[2,\n",
       " 17,\n",
       " 18,\n",
       " 19,\n",
       " 'Hello',\n",
       " 'Goodbye',\n",
       " ['Jon', 'hugo', 'Rickesh', 'Anita'],\n",
       " 'Jon',\n",
       " 'hugo',\n",
       " 'Rickesh',\n",
       " 'Anita']"
      ]
     },
     "execution_count": 36,
     "metadata": {},
     "output_type": "execute_result"
    }
   ],
   "source": [
    "list_1.extend(list_2)\n",
    "list_1"
   ]
  },
  {
   "cell_type": "code",
   "execution_count": 37,
   "id": "3d5e7c3d",
   "metadata": {},
   "outputs": [],
   "source": [
    "# lets look at remove method now (removes only 1 element at a time)"
   ]
  },
  {
   "cell_type": "code",
   "execution_count": 38,
   "id": "7c9c27a4",
   "metadata": {},
   "outputs": [],
   "source": [
    "list_1.remove(list_2)"
   ]
  },
  {
   "cell_type": "code",
   "execution_count": 39,
   "id": "f71d724b",
   "metadata": {},
   "outputs": [
    {
     "data": {
      "text/plain": [
       "[2, 17, 18, 19, 'Hello', 'Goodbye', 'Jon', 'hugo', 'Rickesh', 'Anita']"
      ]
     },
     "execution_count": 39,
     "metadata": {},
     "output_type": "execute_result"
    }
   ],
   "source": [
    "list_1"
   ]
  },
  {
   "cell_type": "code",
   "execution_count": 40,
   "id": "aadc3363",
   "metadata": {},
   "outputs": [
    {
     "data": {
      "text/plain": [
       "[2, 17, 18, 'Hello', 'Goodbye', 'Jon', 'hugo', 'Rickesh', 'Anita']"
      ]
     },
     "execution_count": 40,
     "metadata": {},
     "output_type": "execute_result"
    }
   ],
   "source": [
    "list_1.remove(19)\n",
    "list_1"
   ]
  },
  {
   "cell_type": "code",
   "execution_count": 41,
   "id": "77816b68",
   "metadata": {},
   "outputs": [],
   "source": [
    "# pop method (returns and remove by default, the last element(pop it out))"
   ]
  },
  {
   "cell_type": "code",
   "execution_count": 42,
   "id": "92f9a2dc",
   "metadata": {},
   "outputs": [
    {
     "data": {
      "text/plain": [
       "'Anita'"
      ]
     },
     "execution_count": 42,
     "metadata": {},
     "output_type": "execute_result"
    }
   ],
   "source": [
    "list_1.pop()"
   ]
  },
  {
   "cell_type": "code",
   "execution_count": 43,
   "id": "ce027269",
   "metadata": {},
   "outputs": [
    {
     "data": {
      "text/plain": [
       "'Rickesh'"
      ]
     },
     "execution_count": 43,
     "metadata": {},
     "output_type": "execute_result"
    }
   ],
   "source": [
    "list_1.pop()"
   ]
  },
  {
   "cell_type": "code",
   "execution_count": 44,
   "id": "4d4d7fbf",
   "metadata": {},
   "outputs": [
    {
     "data": {
      "text/plain": [
       "[2, 17, 18, 'Hello', 'Goodbye', 'Jon', 'hugo']"
      ]
     },
     "execution_count": 44,
     "metadata": {},
     "output_type": "execute_result"
    }
   ],
   "source": [
    "list_1 # with pop method applied above, 'Anita' & 'Rickesh' are removed"
   ]
  },
  {
   "cell_type": "code",
   "execution_count": 45,
   "id": "638ed45d",
   "metadata": {},
   "outputs": [],
   "source": [
    "# difference between pop & remove. Remove doesn't return anything (thus type=NoneType), \n",
    "#but pop return a value (so it is either str, or int or float, depending upon what was pop out). See below:"
   ]
  },
  {
   "cell_type": "code",
   "execution_count": 46,
   "id": "f02df07f",
   "metadata": {},
   "outputs": [
    {
     "data": {
      "text/plain": [
       "NoneType"
      ]
     },
     "execution_count": 46,
     "metadata": {},
     "output_type": "execute_result"
    }
   ],
   "source": [
    "type(list_1.remove('hugo'))"
   ]
  },
  {
   "cell_type": "code",
   "execution_count": 47,
   "id": "8677af81",
   "metadata": {},
   "outputs": [
    {
     "data": {
      "text/plain": [
       "str"
      ]
     },
     "execution_count": 47,
     "metadata": {},
     "output_type": "execute_result"
    }
   ],
   "source": [
    "type(list_1.pop())"
   ]
  },
  {
   "cell_type": "code",
   "execution_count": 48,
   "id": "29df21bb",
   "metadata": {},
   "outputs": [
    {
     "data": {
      "text/plain": [
       "[2, 17, 18, 'Hello', 'Goodbye']"
      ]
     },
     "execution_count": 48,
     "metadata": {},
     "output_type": "execute_result"
    }
   ],
   "source": [
    "list_1"
   ]
  },
  {
   "cell_type": "code",
   "execution_count": 49,
   "id": "6300041c",
   "metadata": {},
   "outputs": [],
   "source": [
    "#this means with pop, removed item can be assign to a variable (as we can see the item popped)"
   ]
  },
  {
   "cell_type": "code",
   "execution_count": 50,
   "id": "94bc2bbb",
   "metadata": {},
   "outputs": [
    {
     "data": {
      "text/plain": [
       "'Goodbye'"
      ]
     },
     "execution_count": 50,
     "metadata": {},
     "output_type": "execute_result"
    }
   ],
   "source": [
    "removed_item=list_1.pop() # this will pop out 'goodbye' now, as now last item in list_1 is 'goodbye'\n",
    "removed_item"
   ]
  },
  {
   "cell_type": "code",
   "execution_count": 51,
   "id": "ab7e65b1",
   "metadata": {},
   "outputs": [],
   "source": [
    "#insert method (insert item to list at desired position)"
   ]
  },
  {
   "cell_type": "code",
   "execution_count": 52,
   "id": "79abe446",
   "metadata": {},
   "outputs": [
    {
     "data": {
      "text/plain": [
       "[2, 17, 2000, 18, 'Hello']"
      ]
     },
     "execution_count": 52,
     "metadata": {},
     "output_type": "execute_result"
    }
   ],
   "source": [
    "list_1.insert(2,2000) # inserting 2000 at index postion 2\n",
    "list_1"
   ]
  },
  {
   "cell_type": "code",
   "execution_count": 53,
   "id": "7e7f73c6",
   "metadata": {},
   "outputs": [],
   "source": [
    "#playing along"
   ]
  },
  {
   "cell_type": "code",
   "execution_count": 55,
   "id": "53c14f19",
   "metadata": {},
   "outputs": [
    {
     "data": {
      "text/plain": [
       "(1, 2, 3)"
      ]
     },
     "execution_count": 55,
     "metadata": {},
     "output_type": "execute_result"
    }
   ],
   "source": [
    "list_play=(1,2,3)\n",
    "list_play"
   ]
  },
  {
   "cell_type": "code",
   "execution_count": 56,
   "id": "344567eb",
   "metadata": {},
   "outputs": [
    {
     "ename": "AttributeError",
     "evalue": "'tuple' object has no attribute 'insert'",
     "output_type": "error",
     "traceback": [
      "\u001b[1;31m---------------------------------------------------------------------------\u001b[0m",
      "\u001b[1;31mAttributeError\u001b[0m                            Traceback (most recent call last)",
      "Cell \u001b[1;32mIn[56], line 1\u001b[0m\n\u001b[1;32m----> 1\u001b[0m list_play\u001b[38;5;241m.\u001b[39minsert(\u001b[38;5;241m3\u001b[39m,\u001b[38;5;241m4\u001b[39m)\n\u001b[0;32m      2\u001b[0m list_play\n",
      "\u001b[1;31mAttributeError\u001b[0m: 'tuple' object has no attribute 'insert'"
     ]
    }
   ],
   "source": [
    "list_play.insert(3,4)\n",
    "list_play"
   ]
  },
  {
   "cell_type": "code",
   "execution_count": 57,
   "id": "180bfba6",
   "metadata": {},
   "outputs": [],
   "source": [
    "# oh cool, list_play is tuple, that's why ...."
   ]
  },
  {
   "cell_type": "code",
   "execution_count": 58,
   "id": "d467d6de",
   "metadata": {},
   "outputs": [
    {
     "data": {
      "text/plain": [
       "[0, 1, 2, [3, 100]]"
      ]
     },
     "execution_count": 58,
     "metadata": {},
     "output_type": "execute_result"
    }
   ],
   "source": [
    "numbers=[0,1,2,[3,100]]\n",
    "numbers"
   ]
  },
  {
   "cell_type": "code",
   "execution_count": 59,
   "id": "a4332f50",
   "metadata": {},
   "outputs": [
    {
     "data": {
      "text/plain": [
       "100"
      ]
     },
     "execution_count": 59,
     "metadata": {},
     "output_type": "execute_result"
    }
   ],
   "source": [
    "numbers[3][1]"
   ]
  },
  {
   "cell_type": "code",
   "execution_count": 60,
   "id": "1da23912",
   "metadata": {},
   "outputs": [
    {
     "data": {
      "text/plain": [
       "[0, 1, 2, [3, 99]]"
      ]
     },
     "execution_count": 60,
     "metadata": {},
     "output_type": "execute_result"
    }
   ],
   "source": [
    "numbers[3][1]=99\n",
    "numbers"
   ]
  },
  {
   "cell_type": "code",
   "execution_count": 62,
   "id": "08162602",
   "metadata": {},
   "outputs": [
    {
     "data": {
      "text/plain": [
       "[1, 2, 3]"
      ]
     },
     "execution_count": 62,
     "metadata": {},
     "output_type": "execute_result"
    }
   ],
   "source": [
    "list_a = [1,2,3]\n",
    "list_b = [4,5,6]\n",
    "list_a"
   ]
  },
  {
   "cell_type": "code",
   "execution_count": 63,
   "id": "e384c54b",
   "metadata": {},
   "outputs": [
    {
     "data": {
      "text/plain": [
       "[4, 5, 6]"
      ]
     },
     "execution_count": 63,
     "metadata": {},
     "output_type": "execute_result"
    }
   ],
   "source": [
    "list_b"
   ]
  },
  {
   "cell_type": "code",
   "execution_count": 64,
   "id": "ff7cf197",
   "metadata": {},
   "outputs": [],
   "source": [
    "list_a.extend(list_b)"
   ]
  },
  {
   "cell_type": "code",
   "execution_count": 65,
   "id": "b5604210",
   "metadata": {},
   "outputs": [
    {
     "data": {
      "text/plain": [
       "[1, 2, 3, 4, 5, 6]"
      ]
     },
     "execution_count": 65,
     "metadata": {},
     "output_type": "execute_result"
    }
   ],
   "source": [
    "list_a"
   ]
  },
  {
   "cell_type": "code",
   "execution_count": null,
   "id": "f8a8bdf3",
   "metadata": {},
   "outputs": [],
   "source": []
  }
 ],
 "metadata": {
  "kernelspec": {
   "display_name": "Python 3 (ipykernel)",
   "language": "python",
   "name": "python3"
  },
  "language_info": {
   "codemirror_mode": {
    "name": "ipython",
    "version": 3
   },
   "file_extension": ".py",
   "mimetype": "text/x-python",
   "name": "python",
   "nbconvert_exporter": "python",
   "pygments_lexer": "ipython3",
   "version": "3.11.5"
  }
 },
 "nbformat": 4,
 "nbformat_minor": 5
}
