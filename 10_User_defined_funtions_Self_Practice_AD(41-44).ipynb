{
 "cells": [
  {
   "cell_type": "code",
   "execution_count": 1,
   "id": "aec9bd34",
   "metadata": {},
   "outputs": [],
   "source": [
    "#user defined functions, create your own functions\n",
    "\n",
    "#def function_name(arguments):\n",
    "        #<indented code code>"
   ]
  },
  {
   "cell_type": "code",
   "execution_count": 2,
   "id": "9968348b",
   "metadata": {},
   "outputs": [],
   "source": [
    "def welcome_msg():\n",
    "    print ('welcome')"
   ]
  },
  {
   "cell_type": "code",
   "execution_count": 4,
   "id": "05187685",
   "metadata": {},
   "outputs": [
    {
     "name": "stdout",
     "output_type": "stream",
     "text": [
      "welcome\n"
     ]
    }
   ],
   "source": [
    "#now lets call this function, dont forget to use '()' in the end\n",
    "welcome_msg()"
   ]
  },
  {
   "cell_type": "code",
   "execution_count": 5,
   "id": "6651cb95",
   "metadata": {},
   "outputs": [],
   "source": [
    "#cool, lets put an argument now, lets redefine the same funtion"
   ]
  },
  {
   "cell_type": "code",
   "execution_count": 13,
   "id": "5697e446",
   "metadata": {},
   "outputs": [],
   "source": [
    "def welcome_msg(x):\n",
    "    print(f'welcome {x}')"
   ]
  },
  {
   "cell_type": "code",
   "execution_count": 15,
   "id": "ba6ed0f1",
   "metadata": {},
   "outputs": [
    {
     "ename": "TypeError",
     "evalue": "welcome_msg() missing 1 required positional argument: 'x'",
     "output_type": "error",
     "traceback": [
      "\u001b[1;31m---------------------------------------------------------------------------\u001b[0m",
      "\u001b[1;31mTypeError\u001b[0m                                 Traceback (most recent call last)",
      "Cell \u001b[1;32mIn[15], line 1\u001b[0m\n\u001b[1;32m----> 1\u001b[0m welcome_msg()\n",
      "\u001b[1;31mTypeError\u001b[0m: welcome_msg() missing 1 required positional argument: 'x'"
     ]
    }
   ],
   "source": [
    "welcome_msg()"
   ]
  },
  {
   "cell_type": "code",
   "execution_count": 17,
   "id": "c6828c23",
   "metadata": {},
   "outputs": [],
   "source": [
    "#oh, this time need to specify x in/as argument"
   ]
  },
  {
   "cell_type": "code",
   "execution_count": 19,
   "id": "b7c6c2ef",
   "metadata": {},
   "outputs": [
    {
     "name": "stdout",
     "output_type": "stream",
     "text": [
      "welcome John\n"
     ]
    }
   ],
   "source": [
    "welcome_msg('John')"
   ]
  },
  {
   "cell_type": "code",
   "execution_count": 20,
   "id": "2ffca8f0",
   "metadata": {},
   "outputs": [
    {
     "name": "stdout",
     "output_type": "stream",
     "text": [
      "welcome Anita\n"
     ]
    }
   ],
   "source": [
    "welcome_msg('Anita')"
   ]
  },
  {
   "cell_type": "code",
   "execution_count": 21,
   "id": "bd6b4834",
   "metadata": {},
   "outputs": [],
   "source": [
    "# if x in print was not in {}, lets see what happens\n",
    "def welcome_msg(y):\n",
    "    print(f'welcome y')"
   ]
  },
  {
   "cell_type": "code",
   "execution_count": 23,
   "id": "7f8fd60c",
   "metadata": {},
   "outputs": [
    {
     "name": "stdout",
     "output_type": "stream",
     "text": [
      "welcome y\n"
     ]
    }
   ],
   "source": [
    "welcome_msg('Shushi')"
   ]
  },
  {
   "cell_type": "code",
   "execution_count": 24,
   "id": "6349bace",
   "metadata": {},
   "outputs": [],
   "source": [
    "#hmm"
   ]
  },
  {
   "cell_type": "code",
   "execution_count": 27,
   "id": "06daa58a",
   "metadata": {},
   "outputs": [],
   "source": [
    "#we can provide multiple arguments too\n",
    "def welcome_msg(x,y,z):\n",
    "    print (f'welcome {x}, {y} and {z}')"
   ]
  },
  {
   "cell_type": "code",
   "execution_count": 28,
   "id": "946bc112",
   "metadata": {},
   "outputs": [
    {
     "name": "stdout",
     "output_type": "stream",
     "text": [
      "welcome John, Anita and Bipin\n"
     ]
    }
   ],
   "source": [
    "welcome_msg('John', 'Anita', 'Bipin')"
   ]
  },
  {
   "cell_type": "code",
   "execution_count": 29,
   "id": "27f1cc88",
   "metadata": {},
   "outputs": [
    {
     "ename": "TypeError",
     "evalue": "welcome_msg() missing 3 required positional arguments: 'x', 'y', and 'z'",
     "output_type": "error",
     "traceback": [
      "\u001b[1;31m---------------------------------------------------------------------------\u001b[0m",
      "\u001b[1;31mTypeError\u001b[0m                                 Traceback (most recent call last)",
      "Cell \u001b[1;32mIn[29], line 2\u001b[0m\n\u001b[0;32m      1\u001b[0m \u001b[38;5;66;03m#lets say if we dont provide argument, it thows error as below:\u001b[39;00m\n\u001b[1;32m----> 2\u001b[0m welcome_msg()\n",
      "\u001b[1;31mTypeError\u001b[0m: welcome_msg() missing 3 required positional arguments: 'x', 'y', and 'z'"
     ]
    }
   ],
   "source": [
    "#lets say if we dont provide argument, it thows error as below:\n",
    "welcome_msg()"
   ]
  },
  {
   "cell_type": "code",
   "execution_count": 30,
   "id": "55e1791f",
   "metadata": {},
   "outputs": [],
   "source": [
    "#in these scenerios, if we want some by default values, then our function should be defined as:\n",
    "def welcome_msg(x='name1', y='name2', z='name3'):\n",
    "    print(f'welcome {x}, {y} and {z}')"
   ]
  },
  {
   "cell_type": "code",
   "execution_count": 31,
   "id": "8d92efca",
   "metadata": {},
   "outputs": [
    {
     "name": "stdout",
     "output_type": "stream",
     "text": [
      "welcome name1, name2 and name3\n"
     ]
    }
   ],
   "source": [
    "welcome_msg()"
   ]
  },
  {
   "cell_type": "code",
   "execution_count": 32,
   "id": "ec9608a6",
   "metadata": {},
   "outputs": [],
   "source": [
    "#hence by default values of name1, name2 and name3 are picked up"
   ]
  },
  {
   "cell_type": "code",
   "execution_count": 33,
   "id": "d4efd829",
   "metadata": {},
   "outputs": [],
   "source": [
    "#we can now also provide half prompts"
   ]
  },
  {
   "cell_type": "code",
   "execution_count": 34,
   "id": "d3ecf26e",
   "metadata": {},
   "outputs": [
    {
     "name": "stdout",
     "output_type": "stream",
     "text": [
      "welcome John, name2 and name3\n"
     ]
    }
   ],
   "source": [
    "welcome_msg('John')"
   ]
  },
  {
   "cell_type": "code",
   "execution_count": 35,
   "id": "1c54b0e9",
   "metadata": {},
   "outputs": [
    {
     "name": "stdout",
     "output_type": "stream",
     "text": [
      "welcome name1, name2 and John\n"
     ]
    }
   ],
   "source": [
    "#by default 'John' is assigned to x, if we want it to be assigned to z, we will go like this\n",
    "welcome_msg(z='John')"
   ]
  },
  {
   "cell_type": "code",
   "execution_count": 38,
   "id": "9c187b90",
   "metadata": {},
   "outputs": [],
   "source": [
    "#lets see 1 more imp things, difference between 'print' and 'return'. \n",
    "\n",
    "# Print just print and its value can not be stored as x (lets say in any variable)\n",
    "# return, also prints like print, but its value can be stored in x (or any other variable)"
   ]
  },
  {
   "cell_type": "code",
   "execution_count": 39,
   "id": "d50948af",
   "metadata": {},
   "outputs": [],
   "source": [
    "def print_message():\n",
    "    print ('This message has been printed')\n",
    "    \n",
    "def return_message():\n",
    "    return ('This message has been returned')"
   ]
  },
  {
   "cell_type": "code",
   "execution_count": 41,
   "id": "386a6084",
   "metadata": {},
   "outputs": [
    {
     "name": "stdout",
     "output_type": "stream",
     "text": [
      "This message has been printed\n"
     ]
    }
   ],
   "source": [
    "print_message()"
   ]
  },
  {
   "cell_type": "code",
   "execution_count": 43,
   "id": "f66b38a0",
   "metadata": {},
   "outputs": [
    {
     "name": "stdout",
     "output_type": "stream",
     "text": [
      "This message has been printed\n"
     ]
    }
   ],
   "source": [
    "#lets assign it to x\n",
    "x= print_message()"
   ]
  },
  {
   "cell_type": "code",
   "execution_count": 44,
   "id": "ef6834a4",
   "metadata": {},
   "outputs": [],
   "source": [
    "x"
   ]
  },
  {
   "cell_type": "code",
   "execution_count": 45,
   "id": "13894c02",
   "metadata": {},
   "outputs": [
    {
     "data": {
      "text/plain": [
       "NoneType"
      ]
     },
     "execution_count": 45,
     "metadata": {},
     "output_type": "execute_result"
    }
   ],
   "source": [
    "#you see nothing happened. also lets see type of x\n",
    "type(x)"
   ]
  },
  {
   "cell_type": "code",
   "execution_count": 46,
   "id": "060749ab",
   "metadata": {},
   "outputs": [],
   "source": [
    "# lets see what return does"
   ]
  },
  {
   "cell_type": "code",
   "execution_count": 47,
   "id": "950d8c3b",
   "metadata": {},
   "outputs": [
    {
     "data": {
      "text/plain": [
       "'This message has been returned'"
      ]
     },
     "execution_count": 47,
     "metadata": {},
     "output_type": "execute_result"
    }
   ],
   "source": [
    "return_message()"
   ]
  },
  {
   "cell_type": "code",
   "execution_count": 48,
   "id": "0274d0a5",
   "metadata": {},
   "outputs": [],
   "source": [
    "#hmm, so there is outut, out[47], but this was not the case with print as in In[41]. Lets assign it to y\n",
    "y=return_message()"
   ]
  },
  {
   "cell_type": "code",
   "execution_count": 49,
   "id": "9a70ca89",
   "metadata": {},
   "outputs": [
    {
     "data": {
      "text/plain": [
       "'This message has been returned'"
      ]
     },
     "execution_count": 49,
     "metadata": {},
     "output_type": "execute_result"
    }
   ],
   "source": [
    "y"
   ]
  },
  {
   "cell_type": "code",
   "execution_count": 50,
   "id": "ef0b3e40",
   "metadata": {},
   "outputs": [
    {
     "data": {
      "text/plain": [
       "str"
      ]
     },
     "execution_count": 50,
     "metadata": {},
     "output_type": "execute_result"
    }
   ],
   "source": [
    "#so you see, y is returned, lets check type of y  (shd be string)\n",
    "type(y)"
   ]
  },
  {
   "cell_type": "code",
   "execution_count": 51,
   "id": "066a8637",
   "metadata": {},
   "outputs": [],
   "source": [
    "#yup, it is string, so thats the difference between print and return"
   ]
  },
  {
   "cell_type": "code",
   "execution_count": 52,
   "id": "bf6b74a6",
   "metadata": {},
   "outputs": [],
   "source": [
    "# 42-user defined functions - examples"
   ]
  },
  {
   "cell_type": "code",
   "execution_count": 53,
   "id": "6996b0be",
   "metadata": {},
   "outputs": [],
   "source": [
    "# in earlier lectures, we were able to do 'sum' and 'len' function, but not average. so lets do it now by defining avg"
   ]
  },
  {
   "cell_type": "code",
   "execution_count": 54,
   "id": "62c09170",
   "metadata": {},
   "outputs": [],
   "source": [
    "list_1=[3,10,11,3] # so average here will be sum divided by total elements"
   ]
  },
  {
   "cell_type": "code",
   "execution_count": 55,
   "id": "703875c6",
   "metadata": {},
   "outputs": [],
   "source": [
    " def avg_list1():\n",
    "        sum(list_1)/len(list_1)"
   ]
  },
  {
   "cell_type": "code",
   "execution_count": 57,
   "id": "0a3fde80",
   "metadata": {},
   "outputs": [],
   "source": [
    "avg_list1()"
   ]
  },
  {
   "cell_type": "code",
   "execution_count": 58,
   "id": "f05e7e1d",
   "metadata": {},
   "outputs": [
    {
     "data": {
      "text/plain": [
       "function"
      ]
     },
     "execution_count": 58,
     "metadata": {},
     "output_type": "execute_result"
    }
   ],
   "source": [
    "type(avg_list1)"
   ]
  },
  {
   "cell_type": "code",
   "execution_count": 59,
   "id": "ba691748",
   "metadata": {},
   "outputs": [],
   "source": [
    "#hmm, you see we are not getting the average, somthing missing, may be arguments and/or 'return', lets do it again"
   ]
  },
  {
   "cell_type": "code",
   "execution_count": 60,
   "id": "c5beb320",
   "metadata": {},
   "outputs": [],
   "source": [
    "def avg_list1(x):\n",
    "    return sum(x)/len(x)"
   ]
  },
  {
   "cell_type": "code",
   "execution_count": 61,
   "id": "f8b45cd4",
   "metadata": {},
   "outputs": [
    {
     "data": {
      "text/plain": [
       "6.75"
      ]
     },
     "execution_count": 61,
     "metadata": {},
     "output_type": "execute_result"
    }
   ],
   "source": [
    "avg_list1(list_1)"
   ]
  },
  {
   "cell_type": "code",
   "execution_count": 62,
   "id": "244ebd13",
   "metadata": {},
   "outputs": [],
   "source": [
    "#cool, it works, lets do it again with list_2"
   ]
  },
  {
   "cell_type": "code",
   "execution_count": 63,
   "id": "e6bba9cd",
   "metadata": {},
   "outputs": [],
   "source": [
    "list_2=[4,5,6,7,8]"
   ]
  },
  {
   "cell_type": "code",
   "execution_count": 64,
   "id": "70d37d66",
   "metadata": {},
   "outputs": [
    {
     "data": {
      "text/plain": [
       "6.0"
      ]
     },
     "execution_count": 64,
     "metadata": {},
     "output_type": "execute_result"
    }
   ],
   "source": [
    "avg_list1(list_2)"
   ]
  },
  {
   "cell_type": "code",
   "execution_count": 65,
   "id": "87bd0e19",
   "metadata": {},
   "outputs": [],
   "source": [
    "#cool, it is indeed 6"
   ]
  },
  {
   "cell_type": "code",
   "execution_count": 66,
   "id": "08afe99a",
   "metadata": {},
   "outputs": [],
   "source": [
    "z= 'hello'"
   ]
  },
  {
   "cell_type": "code",
   "execution_count": 67,
   "id": "9f4c76fe",
   "metadata": {},
   "outputs": [
    {
     "ename": "TypeError",
     "evalue": "unsupported operand type(s) for +: 'int' and 'str'",
     "output_type": "error",
     "traceback": [
      "\u001b[1;31m---------------------------------------------------------------------------\u001b[0m",
      "\u001b[1;31mTypeError\u001b[0m                                 Traceback (most recent call last)",
      "Cell \u001b[1;32mIn[67], line 1\u001b[0m\n\u001b[1;32m----> 1\u001b[0m avg_list1(z)\n",
      "Cell \u001b[1;32mIn[60], line 2\u001b[0m, in \u001b[0;36mavg_list1\u001b[1;34m(x)\u001b[0m\n\u001b[0;32m      1\u001b[0m \u001b[38;5;28;01mdef\u001b[39;00m \u001b[38;5;21mavg_list1\u001b[39m(x):\n\u001b[1;32m----> 2\u001b[0m     \u001b[38;5;28;01mreturn\u001b[39;00m \u001b[38;5;28msum\u001b[39m(x)\u001b[38;5;241m/\u001b[39m\u001b[38;5;28mlen\u001b[39m(x)\n",
      "\u001b[1;31mTypeError\u001b[0m: unsupported operand type(s) for +: 'int' and 'str'"
     ]
    }
   ],
   "source": [
    "avg_list1(z)"
   ]
  },
  {
   "cell_type": "code",
   "execution_count": 68,
   "id": "d26b2bd2",
   "metadata": {},
   "outputs": [],
   "source": [
    "#cool, because z is a string, thus error in calculating average"
   ]
  },
  {
   "cell_type": "code",
   "execution_count": 69,
   "id": "d031a205",
   "metadata": {},
   "outputs": [],
   "source": [
    "#lets use a control flow (if, else, elif), to throw error message for this scenerio"
   ]
  },
  {
   "cell_type": "code",
   "execution_count": 73,
   "id": "1416d009",
   "metadata": {},
   "outputs": [],
   "source": [
    "def avg(x):\n",
    "    if type(x)==str:\n",
    "        print ('input error')\n",
    "    else:\n",
    "        return sum(x)/len(x)"
   ]
  },
  {
   "cell_type": "code",
   "execution_count": 74,
   "id": "51394d0e",
   "metadata": {},
   "outputs": [
    {
     "name": "stdout",
     "output_type": "stream",
     "text": [
      "input error\n"
     ]
    }
   ],
   "source": [
    "avg(z)"
   ]
  },
  {
   "cell_type": "code",
   "execution_count": 72,
   "id": "6a2ecc42",
   "metadata": {},
   "outputs": [],
   "source": [
    "# oh wow, it worked....(please note string is written as str, not 'str')\n",
    "#lets see what udemy teaches"
   ]
  },
  {
   "cell_type": "code",
   "execution_count": 75,
   "id": "cc39eff4",
   "metadata": {},
   "outputs": [],
   "source": [
    "#almost same as i tried\n",
    "def avg(x):\n",
    "    if type(x) in [list, tuple,set]: #note: lists, tuple and sets are not in ''\n",
    "        return sum(x)/len(x)\n",
    "    else:\n",
    "        print (' please pass in a list, tuple or set')"
   ]
  },
  {
   "cell_type": "code",
   "execution_count": 76,
   "id": "83ad26e0",
   "metadata": {},
   "outputs": [
    {
     "data": {
      "text/plain": [
       "6.75"
      ]
     },
     "execution_count": 76,
     "metadata": {},
     "output_type": "execute_result"
    }
   ],
   "source": [
    "avg(list_1)"
   ]
  },
  {
   "cell_type": "code",
   "execution_count": 77,
   "id": "1f7bcc0b",
   "metadata": {},
   "outputs": [
    {
     "data": {
      "text/plain": [
       "6.0"
      ]
     },
     "execution_count": 77,
     "metadata": {},
     "output_type": "execute_result"
    }
   ],
   "source": [
    "avg(list_2)"
   ]
  },
  {
   "cell_type": "code",
   "execution_count": 78,
   "id": "0e084c08",
   "metadata": {},
   "outputs": [
    {
     "name": "stdout",
     "output_type": "stream",
     "text": [
      " please pass in a list, tuple or set\n"
     ]
    }
   ],
   "source": [
    "avg(z)"
   ]
  },
  {
   "cell_type": "code",
   "execution_count": 80,
   "id": "ae3b19c1",
   "metadata": {},
   "outputs": [],
   "source": [
    "list_3=['Ram', 1,2, 3]"
   ]
  },
  {
   "cell_type": "code",
   "execution_count": 81,
   "id": "e0f4b359",
   "metadata": {},
   "outputs": [
    {
     "ename": "TypeError",
     "evalue": "unsupported operand type(s) for +: 'int' and 'str'",
     "output_type": "error",
     "traceback": [
      "\u001b[1;31m---------------------------------------------------------------------------\u001b[0m",
      "\u001b[1;31mTypeError\u001b[0m                                 Traceback (most recent call last)",
      "Cell \u001b[1;32mIn[81], line 1\u001b[0m\n\u001b[1;32m----> 1\u001b[0m avg(list_3)\n",
      "Cell \u001b[1;32mIn[75], line 4\u001b[0m, in \u001b[0;36mavg\u001b[1;34m(x)\u001b[0m\n\u001b[0;32m      2\u001b[0m \u001b[38;5;28;01mdef\u001b[39;00m \u001b[38;5;21mavg\u001b[39m(x):\n\u001b[0;32m      3\u001b[0m     \u001b[38;5;28;01mif\u001b[39;00m \u001b[38;5;28mtype\u001b[39m(x) \u001b[38;5;129;01min\u001b[39;00m [\u001b[38;5;28mlist\u001b[39m, \u001b[38;5;28mtuple\u001b[39m,\u001b[38;5;28mset\u001b[39m]: \u001b[38;5;66;03m#note: lists, tuple and sets are not in ''\u001b[39;00m\n\u001b[1;32m----> 4\u001b[0m         \u001b[38;5;28;01mreturn\u001b[39;00m \u001b[38;5;28msum\u001b[39m(x)\u001b[38;5;241m/\u001b[39m\u001b[38;5;28mlen\u001b[39m(x)\n\u001b[0;32m      5\u001b[0m     \u001b[38;5;28;01melse\u001b[39;00m:\n\u001b[0;32m      6\u001b[0m         \u001b[38;5;28mprint\u001b[39m (\u001b[38;5;124m'\u001b[39m\u001b[38;5;124m please pass in a list, tuple or set\u001b[39m\u001b[38;5;124m'\u001b[39m)\n",
      "\u001b[1;31mTypeError\u001b[0m: unsupported operand type(s) for +: 'int' and 'str'"
     ]
    }
   ],
   "source": [
    "avg(list_3)"
   ]
  },
  {
   "cell_type": "code",
   "execution_count": 82,
   "id": "1dc03795",
   "metadata": {},
   "outputs": [],
   "source": [
    "#hmm, but why, since we gave a list as input , we will see later"
   ]
  },
  {
   "cell_type": "code",
   "execution_count": 83,
   "id": "04c8ef76",
   "metadata": {},
   "outputs": [],
   "source": [
    "#lets create a function that needs user input for (start, stop and increment), like range. 1st lets see range"
   ]
  },
  {
   "cell_type": "code",
   "execution_count": 88,
   "id": "e7d5cd08",
   "metadata": {},
   "outputs": [],
   "source": [
    "r=range(0,11,1)"
   ]
  },
  {
   "cell_type": "code",
   "execution_count": 89,
   "id": "ecc34b1f",
   "metadata": {},
   "outputs": [
    {
     "data": {
      "text/plain": [
       "[0, 1, 2, 3, 4, 5, 6, 7, 8, 9, 10]"
      ]
     },
     "execution_count": 89,
     "metadata": {},
     "output_type": "execute_result"
    }
   ],
   "source": [
    "list(r)"
   ]
  },
  {
   "cell_type": "code",
   "execution_count": 90,
   "id": "e3572075",
   "metadata": {},
   "outputs": [],
   "source": [
    "#to create a similar function by giving user ability to input (please note, with input functionm user will input the value."
   ]
  },
  {
   "cell_type": "code",
   "execution_count": 91,
   "id": "98ce786f",
   "metadata": {},
   "outputs": [
    {
     "name": "stdout",
     "output_type": "stream",
     "text": [
      "hello\n"
     ]
    },
    {
     "data": {
      "text/plain": [
       "'hello'"
      ]
     },
     "execution_count": 91,
     "metadata": {},
     "output_type": "execute_result"
    }
   ],
   "source": [
    "#revising\n",
    "input()"
   ]
  },
  {
   "cell_type": "code",
   "execution_count": 93,
   "id": "e2defd49",
   "metadata": {},
   "outputs": [
    {
     "name": "stdout",
     "output_type": "stream",
     "text": [
      "please type in the start value 345-test\n"
     ]
    },
    {
     "data": {
      "text/plain": [
       "'345-test'"
      ]
     },
     "execution_count": 93,
     "metadata": {},
     "output_type": "execute_result"
    }
   ],
   "source": [
    "input('please type in the start value ')"
   ]
  },
  {
   "cell_type": "code",
   "execution_count": 121,
   "id": "397d076e",
   "metadata": {},
   "outputs": [],
   "source": [
    "def create_ranged_list():\n",
    "    x=int(input('Please select a start value: '))\n",
    "    y=int(input('please select a stop value: '))\n",
    "    z= int(input('please select an incremental value: '))\n",
    "    return list(range(x,y,z))"
   ]
  },
  {
   "cell_type": "code",
   "execution_count": 122,
   "id": "7c6507ad",
   "metadata": {},
   "outputs": [
    {
     "name": "stdout",
     "output_type": "stream",
     "text": [
      "Please select a start value: 1\n",
      "please select a stop value: 10\n",
      "please select an incremental value: 1\n"
     ]
    },
    {
     "data": {
      "text/plain": [
       "[1, 2, 3, 4, 5, 6, 7, 8, 9]"
      ]
     },
     "execution_count": 122,
     "metadata": {},
     "output_type": "execute_result"
    }
   ],
   "source": [
    "create_ranged_list()"
   ]
  },
  {
   "cell_type": "code",
   "execution_count": 123,
   "id": "23bab73c",
   "metadata": {},
   "outputs": [],
   "source": [
    "#creating a function to return true if list contains item greter than 10, else false"
   ]
  },
  {
   "cell_type": "code",
   "execution_count": 124,
   "id": "1b1f96db",
   "metadata": {},
   "outputs": [],
   "source": [
    "def greater_than_10(x):\n",
    "    for element in x:\n",
    "        if element>10:\n",
    "            return True\n",
    "        else:\n",
    "            return False"
   ]
  },
  {
   "cell_type": "code",
   "execution_count": 127,
   "id": "c4cc9b0f",
   "metadata": {},
   "outputs": [],
   "source": [
    "list_1=[2,4,5,7,8,10,22]\n",
    "list_2=[2,4,5,7,8,10,3]"
   ]
  },
  {
   "cell_type": "code",
   "execution_count": 129,
   "id": "e6c29614",
   "metadata": {},
   "outputs": [
    {
     "data": {
      "text/plain": [
       "False"
      ]
     },
     "execution_count": 129,
     "metadata": {},
     "output_type": "execute_result"
    }
   ],
   "source": [
    "greater_than_10(list_1)"
   ]
  },
  {
   "cell_type": "code",
   "execution_count": 130,
   "id": "9eeefdee",
   "metadata": {},
   "outputs": [
    {
     "data": {
      "text/plain": [
       "False"
      ]
     },
     "execution_count": 130,
     "metadata": {},
     "output_type": "execute_result"
    }
   ],
   "source": [
    "greater_than_10(list_2)"
   ]
  },
  {
   "cell_type": "code",
   "execution_count": 131,
   "id": "3d192530",
   "metadata": {},
   "outputs": [],
   "source": [
    "#hmm, this doesn't work even when list_1 has 22, which is >10, but why..? this is because:...\n",
    "\n",
    "#.. as there is a loop, so as first value is (2, which is <10), so 'return' function will return False and exit the loop\n",
    "\n",
    "#For that we have to tweak code in [124] as:"
   ]
  },
  {
   "cell_type": "code",
   "execution_count": 132,
   "id": "feb88bae",
   "metadata": {},
   "outputs": [],
   "source": [
    "def greater_than_10 (x):\n",
    "    for element in x:\n",
    "        if element>10:\n",
    "            return True\n",
    "        else:\n",
    "            pass\n",
    "    return False"
   ]
  },
  {
   "cell_type": "code",
   "execution_count": 133,
   "id": "cbf9149b",
   "metadata": {},
   "outputs": [],
   "source": [
    "#cool, so now false is printed (actually returned), when all the elements of list are checked (1 by 1)"
   ]
  },
  {
   "cell_type": "code",
   "execution_count": 134,
   "id": "a514856a",
   "metadata": {},
   "outputs": [
    {
     "data": {
      "text/plain": [
       "True"
      ]
     },
     "execution_count": 134,
     "metadata": {},
     "output_type": "execute_result"
    }
   ],
   "source": [
    "greater_than_10(list_1)"
   ]
  },
  {
   "cell_type": "code",
   "execution_count": 135,
   "id": "c6627104",
   "metadata": {},
   "outputs": [
    {
     "data": {
      "text/plain": [
       "False"
      ]
     },
     "execution_count": 135,
     "metadata": {},
     "output_type": "execute_result"
    }
   ],
   "source": [
    "greater_than_10(list_2)"
   ]
  },
  {
   "cell_type": "code",
   "execution_count": 136,
   "id": "bb36ed2c",
   "metadata": {},
   "outputs": [],
   "source": [
    "#cool, now its good result"
   ]
  },
  {
   "cell_type": "code",
   "execution_count": 137,
   "id": "f5b0700e",
   "metadata": {},
   "outputs": [],
   "source": [
    "#coding excercise"
   ]
  },
  {
   "cell_type": "code",
   "execution_count": 149,
   "id": "4e8cf3d4",
   "metadata": {},
   "outputs": [],
   "source": [
    "def add_nums(x,y):\n",
    "    return sum(tuple(x,y))"
   ]
  },
  {
   "cell_type": "code",
   "execution_count": 150,
   "id": "6c539dad",
   "metadata": {},
   "outputs": [
    {
     "ename": "TypeError",
     "evalue": "tuple expected at most 1 argument, got 2",
     "output_type": "error",
     "traceback": [
      "\u001b[1;31m---------------------------------------------------------------------------\u001b[0m",
      "\u001b[1;31mTypeError\u001b[0m                                 Traceback (most recent call last)",
      "Cell \u001b[1;32mIn[150], line 1\u001b[0m\n\u001b[1;32m----> 1\u001b[0m add_nums(\u001b[38;5;241m2\u001b[39m,\u001b[38;5;241m3\u001b[39m)\n",
      "Cell \u001b[1;32mIn[149], line 2\u001b[0m, in \u001b[0;36madd_nums\u001b[1;34m(x, y)\u001b[0m\n\u001b[0;32m      1\u001b[0m \u001b[38;5;28;01mdef\u001b[39;00m \u001b[38;5;21madd_nums\u001b[39m(x,y):\n\u001b[1;32m----> 2\u001b[0m     \u001b[38;5;28;01mreturn\u001b[39;00m \u001b[38;5;28msum\u001b[39m(\u001b[38;5;28mtuple\u001b[39m(x,y))\n",
      "\u001b[1;31mTypeError\u001b[0m: tuple expected at most 1 argument, got 2"
     ]
    }
   ],
   "source": [
    "add_nums(2,3)"
   ]
  },
  {
   "cell_type": "code",
   "execution_count": 148,
   "id": "4ebee8be",
   "metadata": {},
   "outputs": [
    {
     "ename": "TypeError",
     "evalue": "set expected at most 1 argument, got 2",
     "output_type": "error",
     "traceback": [
      "\u001b[1;31m---------------------------------------------------------------------------\u001b[0m",
      "\u001b[1;31mTypeError\u001b[0m                                 Traceback (most recent call last)",
      "Cell \u001b[1;32mIn[148], line 3\u001b[0m\n\u001b[0;32m      1\u001b[0m a\u001b[38;5;241m=\u001b[39m\u001b[38;5;241m2\u001b[39m\n\u001b[0;32m      2\u001b[0m b\u001b[38;5;241m=\u001b[39m\u001b[38;5;241m3\u001b[39m\n\u001b[1;32m----> 3\u001b[0m \u001b[38;5;28mset\u001b[39m(a,b)\n",
      "\u001b[1;31mTypeError\u001b[0m: set expected at most 1 argument, got 2"
     ]
    }
   ],
   "source": [
    "a=2\n",
    "b=3\n",
    "set(a,b)"
   ]
  },
  {
   "cell_type": "code",
   "execution_count": 153,
   "id": "35d2ba16",
   "metadata": {},
   "outputs": [],
   "source": [
    "def add_nums_2(a,b):\n",
    "    return a+b"
   ]
  },
  {
   "cell_type": "code",
   "execution_count": 154,
   "id": "d301e863",
   "metadata": {},
   "outputs": [
    {
     "data": {
      "text/plain": [
       "9"
      ]
     },
     "execution_count": 154,
     "metadata": {},
     "output_type": "execute_result"
    }
   ],
   "source": [
    "add_nums_2(4,5)"
   ]
  },
  {
   "cell_type": "code",
   "execution_count": 165,
   "id": "c782fc63",
   "metadata": {},
   "outputs": [],
   "source": [
    "def name_check(q):\n",
    "    for element in q:\n",
    "        if len(element)>10:\n",
    "            return True\n",
    "        else:\n",
    "            pass\n",
    "    return False"
   ]
  },
  {
   "cell_type": "code",
   "execution_count": 169,
   "id": "9dfa20c6",
   "metadata": {},
   "outputs": [],
   "source": [
    "q=['the_alphabet', 'the_amazon']\n",
    "r=['pleson', 'jlt', 'romeo']"
   ]
  },
  {
   "cell_type": "code",
   "execution_count": 168,
   "id": "656caaa4",
   "metadata": {},
   "outputs": [
    {
     "data": {
      "text/plain": [
       "True"
      ]
     },
     "execution_count": 168,
     "metadata": {},
     "output_type": "execute_result"
    }
   ],
   "source": [
    "name_check(q)"
   ]
  },
  {
   "cell_type": "code",
   "execution_count": 170,
   "id": "c28150ff",
   "metadata": {},
   "outputs": [
    {
     "data": {
      "text/plain": [
       "False"
      ]
     },
     "execution_count": 170,
     "metadata": {},
     "output_type": "execute_result"
    }
   ],
   "source": [
    "name_check(r)"
   ]
  },
  {
   "cell_type": "code",
   "execution_count": 171,
   "id": "1e5eff59",
   "metadata": {},
   "outputs": [],
   "source": [
    "#*args from next exercise, just trying here out of curiosity, but will visit in next lecture (args & kwargs)"
   ]
  },
  {
   "cell_type": "code",
   "execution_count": 174,
   "id": "6497a6e0",
   "metadata": {},
   "outputs": [],
   "source": [
    "def sum_num(*args):\n",
    "    return sum(args)"
   ]
  },
  {
   "cell_type": "code",
   "execution_count": 176,
   "id": "94c30256",
   "metadata": {},
   "outputs": [
    {
     "data": {
      "text/plain": [
       "19"
      ]
     },
     "execution_count": 176,
     "metadata": {},
     "output_type": "execute_result"
    }
   ],
   "source": [
    "sum_num(4,5,1,9)"
   ]
  },
  {
   "cell_type": "code",
   "execution_count": null,
   "id": "a52c52e3",
   "metadata": {},
   "outputs": [],
   "source": [
    "#ooh, thats what i was chasing in [148]"
   ]
  }
 ],
 "metadata": {
  "kernelspec": {
   "display_name": "Python 3 (ipykernel)",
   "language": "python",
   "name": "python3"
  },
  "language_info": {
   "codemirror_mode": {
    "name": "ipython",
    "version": 3
   },
   "file_extension": ".py",
   "mimetype": "text/x-python",
   "name": "python",
   "nbconvert_exporter": "python",
   "pygments_lexer": "ipython3",
   "version": "3.11.5"
  }
 },
 "nbformat": 4,
 "nbformat_minor": 5
}
