{
 "cells": [
  {
   "cell_type": "code",
   "execution_count": 1,
   "id": "9f02b328",
   "metadata": {},
   "outputs": [],
   "source": [
    "# syntax - lambda arguments:expression\n",
    "\n",
    "#it works like just another function, EXCEPT, you dont have to define the function name (no def is_sum():)...\n",
    "#...so no need of typing return too, as its implied here. every thing to the right of x is returned"
   ]
  },
  {
   "cell_type": "code",
   "execution_count": 2,
   "id": "9c2d9484",
   "metadata": {},
   "outputs": [],
   "source": [
    "list_1=['Argentina', 'Mexico','Brazil',99]"
   ]
  },
  {
   "cell_type": "code",
   "execution_count": 3,
   "id": "68101477",
   "metadata": {},
   "outputs": [],
   "source": [
    "#lets say in above list, if we want to find out only strings"
   ]
  },
  {
   "cell_type": "code",
   "execution_count": 8,
   "id": "84f5465d",
   "metadata": {},
   "outputs": [],
   "source": [
    "#long way to do it is, something like this\n",
    "\n",
    "def is_str(x):\n",
    "    return type(x)==str"
   ]
  },
  {
   "cell_type": "code",
   "execution_count": 9,
   "id": "3ba9f17d",
   "metadata": {},
   "outputs": [
    {
     "data": {
      "text/plain": [
       "False"
      ]
     },
     "execution_count": 9,
     "metadata": {},
     "output_type": "execute_result"
    }
   ],
   "source": [
    "is_str(list_1)"
   ]
  },
  {
   "cell_type": "code",
   "execution_count": 10,
   "id": "b354cec8",
   "metadata": {},
   "outputs": [
    {
     "data": {
      "text/plain": [
       "[True, True, True, False]"
      ]
     },
     "execution_count": 10,
     "metadata": {},
     "output_type": "execute_result"
    }
   ],
   "source": [
    "# False, coz it is list\n",
    "# lets use it with map fn\n",
    "\n",
    "list(map(is_str, list_1))"
   ]
  },
  {
   "cell_type": "code",
   "execution_count": 12,
   "id": "d872b56c",
   "metadata": {},
   "outputs": [
    {
     "data": {
      "text/plain": [
       "['Argentina', 'Mexico', 'Brazil']"
      ]
     },
     "execution_count": 12,
     "metadata": {},
     "output_type": "execute_result"
    }
   ],
   "source": [
    "#cool, now to filter out integer, use filter function\n",
    "list(filter(is_str, list_1))  #as filters only return what is true"
   ]
  },
  {
   "cell_type": "code",
   "execution_count": 14,
   "id": "90b9c097",
   "metadata": {},
   "outputs": [],
   "source": [
    "#but if we use lambda, we dont have to define a function, simply pass a lambda function to list"
   ]
  },
  {
   "cell_type": "code",
   "execution_count": 17,
   "id": "088ca98d",
   "metadata": {},
   "outputs": [
    {
     "data": {
      "text/plain": [
       "<function __main__.<lambda>(x)>"
      ]
     },
     "execution_count": 17,
     "metadata": {},
     "output_type": "execute_result"
    }
   ],
   "source": [
    "lambda x: type(x)==str # now pass this to map/filter function (no need to define any other function)"
   ]
  },
  {
   "cell_type": "code",
   "execution_count": 19,
   "id": "838d4f2d",
   "metadata": {},
   "outputs": [
    {
     "data": {
      "text/plain": [
       "[True, True, True, False]"
      ]
     },
     "execution_count": 19,
     "metadata": {},
     "output_type": "execute_result"
    }
   ],
   "source": [
    "#so if we have to use map/filter with lambda, it will go like this...\n",
    "\n",
    "list(map(lambda x: type(x)==str, list_1)) # cool, self written, bina dekhe "
   ]
  },
  {
   "cell_type": "code",
   "execution_count": 21,
   "id": "8172595c",
   "metadata": {},
   "outputs": [
    {
     "data": {
      "text/plain": [
       "['Argentina', 'Mexico', 'Brazil']"
      ]
     },
     "execution_count": 21,
     "metadata": {},
     "output_type": "execute_result"
    }
   ],
   "source": [
    "# and using lambda with filte is like...\n",
    "\n",
    "list(filter(lambda x: type(x)==str, list_1))"
   ]
  },
  {
   "cell_type": "code",
   "execution_count": 22,
   "id": "b550d2c2",
   "metadata": {},
   "outputs": [],
   "source": [
    "# next example/scenerio, lets say we have list_2"
   ]
  },
  {
   "cell_type": "code",
   "execution_count": 23,
   "id": "e6dbd667",
   "metadata": {},
   "outputs": [],
   "source": [
    "list_2=[1,2,3,4,5,6] #now, lets multiply each number by 2"
   ]
  },
  {
   "cell_type": "code",
   "execution_count": 25,
   "id": "d0c2339b",
   "metadata": {},
   "outputs": [
    {
     "data": {
      "text/plain": [
       "[2, 4, 6, 8, 10, 12]"
      ]
     },
     "execution_count": 25,
     "metadata": {},
     "output_type": "execute_result"
    }
   ],
   "source": [
    "list(map(lambda x: x*2, list_2))"
   ]
  },
  {
   "cell_type": "code",
   "execution_count": 43,
   "id": "d3bfb12d",
   "metadata": {},
   "outputs": [],
   "source": [
    "#cool, easy this way, lets say if we needed to create a function and all, it would have been like this..\n",
    "\n",
    "def multiply_2(x):\n",
    "    return 2*x"
   ]
  },
  {
   "cell_type": "code",
   "execution_count": 45,
   "id": "27a49451",
   "metadata": {},
   "outputs": [
    {
     "data": {
      "text/plain": [
       "[2, 4, 6, 8, 10, 12]"
      ]
     },
     "execution_count": 45,
     "metadata": {},
     "output_type": "execute_result"
    }
   ],
   "source": [
    "list(map(multiply_2,list_2))"
   ]
  },
  {
   "cell_type": "code",
   "execution_count": 46,
   "id": "6b468d38",
   "metadata": {},
   "outputs": [],
   "source": [
    "#key to use lambda function is they should be simple, else create/use the function, if there is no 1 line option...\n",
    "#...to create lambda function"
   ]
  },
  {
   "cell_type": "code",
   "execution_count": 49,
   "id": "11195923",
   "metadata": {},
   "outputs": [],
   "source": [
    "#lets say if want to multiple element in list_2 by 2, only when a element is greater than 3, this would be....\n",
    "#...complicated, and we have to use a function, lets see below what that function be like"
   ]
  },
  {
   "cell_type": "code",
   "execution_count": 50,
   "id": "37798bfe",
   "metadata": {},
   "outputs": [
    {
     "data": {
      "text/plain": [
       "[1, 2, 3, 4, 5, 6]"
      ]
     },
     "execution_count": 50,
     "metadata": {},
     "output_type": "execute_result"
    }
   ],
   "source": [
    "list_2"
   ]
  },
  {
   "cell_type": "code",
   "execution_count": 52,
   "id": "3cc92a24",
   "metadata": {},
   "outputs": [],
   "source": [
    "def mul_by2_gr3(x):\n",
    "    if x>3:\n",
    "        return 2*x\n",
    "    else:\n",
    "        return x"
   ]
  },
  {
   "cell_type": "code",
   "execution_count": 54,
   "id": "dfb235d9",
   "metadata": {},
   "outputs": [
    {
     "data": {
      "text/plain": [
       "[1, 2, 3, 8, 10, 12]"
      ]
     },
     "execution_count": 54,
     "metadata": {},
     "output_type": "execute_result"
    }
   ],
   "source": [
    "list(map(mul_by2_gr3,list_2))"
   ]
  },
  {
   "cell_type": "code",
   "execution_count": 55,
   "id": "cf4528b4",
   "metadata": {},
   "outputs": [],
   "source": [
    "# well, lets try to call lambda for it :P"
   ]
  },
  {
   "cell_type": "code",
   "execution_count": 59,
   "id": "0333966f",
   "metadata": {},
   "outputs": [
    {
     "ename": "SyntaxError",
     "evalue": "invalid syntax. Perhaps you forgot a comma? (1533465414.py, line 1)",
     "output_type": "error",
     "traceback": [
      "\u001b[1;36m  Cell \u001b[1;32mIn[59], line 1\u001b[1;36m\u001b[0m\n\u001b[1;33m    list(map(lambda x: x>3 2*x, list_2))\u001b[0m\n\u001b[1;37m                       ^\u001b[0m\n\u001b[1;31mSyntaxError\u001b[0m\u001b[1;31m:\u001b[0m invalid syntax. Perhaps you forgot a comma?\n"
     ]
    }
   ],
   "source": [
    "list(map(lambda x: x>3 2*x, list_2))"
   ]
  },
  {
   "cell_type": "code",
   "execution_count": 60,
   "id": "eb2acb6c",
   "metadata": {},
   "outputs": [],
   "source": [
    "# yeah, it wont work, so leave lambda for complex things. Just use them for simple single line expressions"
   ]
  },
  {
   "cell_type": "code",
   "execution_count": 61,
   "id": "0c7063fa",
   "metadata": {},
   "outputs": [],
   "source": [
    "#coding excercise"
   ]
  },
  {
   "cell_type": "code",
   "execution_count": 63,
   "id": "b77060a6",
   "metadata": {},
   "outputs": [
    {
     "data": {
      "text/plain": [
       "[99, 88, 2, 3, 55, 66, 7, 44, 10]"
      ]
     },
     "execution_count": 63,
     "metadata": {},
     "output_type": "execute_result"
    }
   ],
   "source": [
    "list_1 = [99,88,2,3,55,66,7,44,10]\n",
    "list_1"
   ]
  },
  {
   "cell_type": "code",
   "execution_count": 64,
   "id": "64079784",
   "metadata": {},
   "outputs": [
    {
     "data": {
      "text/plain": [
       "[99, 88, 55, 66, 44]"
      ]
     },
     "execution_count": 64,
     "metadata": {},
     "output_type": "execute_result"
    }
   ],
   "source": [
    "# Write your code here\n",
    "\n",
    "list_filtered=list(filter(lambda x:x>10, list_1))\n",
    "list_filtered"
   ]
  },
  {
   "cell_type": "code",
   "execution_count": 65,
   "id": "b267ee36",
   "metadata": {},
   "outputs": [],
   "source": [
    "# Errors and Exception handling"
   ]
  },
  {
   "cell_type": "code",
   "execution_count": 66,
   "id": "ea29ed27",
   "metadata": {},
   "outputs": [],
   "source": [
    "# try:\n",
    "#    (try to execute a block of <code>)\n",
    "# except:\n",
    "#    (if error is raise in try, except <code> is triggered)\n",
    "# else:\n",
    "#    (this <code> will run if the try clause does not raise an exception)\n",
    "# finally:\n",
    "#    (this <code> always run)"
   ]
  },
  {
   "cell_type": "code",
   "execution_count": 69,
   "id": "7de51c85",
   "metadata": {},
   "outputs": [
    {
     "ename": "ZeroDivisionError",
     "evalue": "division by zero",
     "output_type": "error",
     "traceback": [
      "\u001b[1;31m---------------------------------------------------------------------------\u001b[0m",
      "\u001b[1;31mZeroDivisionError\u001b[0m                         Traceback (most recent call last)",
      "Cell \u001b[1;32mIn[69], line 3\u001b[0m\n\u001b[0;32m      1\u001b[0m \u001b[38;5;66;03m# if we do 100/0, it will throw error 'ZeroDivisionError', if we dont want error, we will use except\u001b[39;00m\n\u001b[1;32m----> 3\u001b[0m \u001b[38;5;28mprint\u001b[39m(\u001b[38;5;241m100\u001b[39m\u001b[38;5;241m/\u001b[39m\u001b[38;5;241m0\u001b[39m)\n",
      "\u001b[1;31mZeroDivisionError\u001b[0m: division by zero"
     ]
    }
   ],
   "source": [
    "# if we do 100/0, it will throw error 'ZeroDivisionError', if we dont want error, we will use except\n",
    "\n",
    "print(100/0)"
   ]
  },
  {
   "cell_type": "code",
   "execution_count": null,
   "id": "39848865",
   "metadata": {},
   "outputs": [],
   "source": [
    "#cool, now how to avoid this big error, and instead want our own notifications"
   ]
  },
  {
   "cell_type": "code",
   "execution_count": 89,
   "id": "d36ebdde",
   "metadata": {},
   "outputs": [
    {
     "name": "stdout",
     "output_type": "stream",
     "text": [
      "error, can't divide by 0!!\n"
     ]
    }
   ],
   "source": [
    "try:\n",
    "    print(100/'hello')\n",
    "except:\n",
    "    print(\"error, can't divide by 0!!\")"
   ]
  },
  {
   "cell_type": "code",
   "execution_count": 90,
   "id": "54b01f68",
   "metadata": {},
   "outputs": [],
   "source": [
    "#as 100/0 throws error, we use except to get custom-error message. Now, since we got ''ZeroDivisionError''...\n",
    "# we can refer it after except, so it registers that this error is because of 'dividing by 0'"
   ]
  },
  {
   "cell_type": "code",
   "execution_count": 94,
   "id": "eaf9752f",
   "metadata": {},
   "outputs": [
    {
     "name": "stdout",
     "output_type": "stream",
     "text": [
      "error, can't divide by 0!!\n"
     ]
    }
   ],
   "source": [
    "try:\n",
    "    print(100/0)\n",
    "except ZeroDivisionError:\n",
    "    print(\"error, can't divide by 0!!\")"
   ]
  },
  {
   "cell_type": "code",
   "execution_count": 95,
   "id": "b4abcd65",
   "metadata": {},
   "outputs": [],
   "source": [
    "#now what if we divided 100 by 'hello' (100/'hello'), cool ,lets see"
   ]
  },
  {
   "cell_type": "code",
   "execution_count": 100,
   "id": "5a2c0b6d",
   "metadata": {},
   "outputs": [
    {
     "ename": "TypeError",
     "evalue": "unsupported operand type(s) for /: 'int' and 'str'",
     "output_type": "error",
     "traceback": [
      "\u001b[1;31m---------------------------------------------------------------------------\u001b[0m",
      "\u001b[1;31mTypeError\u001b[0m                                 Traceback (most recent call last)",
      "Cell \u001b[1;32mIn[100], line 1\u001b[0m\n\u001b[1;32m----> 1\u001b[0m \u001b[38;5;28mprint\u001b[39m(\u001b[38;5;241m100\u001b[39m\u001b[38;5;241m/\u001b[39m\u001b[38;5;124m'\u001b[39m\u001b[38;5;124mhello\u001b[39m\u001b[38;5;124m'\u001b[39m)\n",
      "\u001b[1;31mTypeError\u001b[0m: unsupported operand type(s) for /: 'int' and 'str'"
     ]
    }
   ],
   "source": [
    "print(100/'hello')"
   ]
  },
  {
   "cell_type": "code",
   "execution_count": 97,
   "id": "b84bd742",
   "metadata": {},
   "outputs": [],
   "source": [
    "#so now we can introduce another except, but this time with TypeError (as we get Type error above in [97])"
   ]
  },
  {
   "cell_type": "code",
   "execution_count": 98,
   "id": "d9be547b",
   "metadata": {},
   "outputs": [
    {
     "name": "stdout",
     "output_type": "stream",
     "text": [
      "error, can't divide by 0!!\n"
     ]
    }
   ],
   "source": [
    "try:\n",
    "    print(100/0)\n",
    "except ZeroDivisionError:\n",
    "    print(\"error, can't divide by 0!!\")\n",
    "except SyntaxError:\n",
    "    print(\"error, can't divide by string!!\")"
   ]
  },
  {
   "cell_type": "code",
   "execution_count": 101,
   "id": "932a8ec4",
   "metadata": {},
   "outputs": [
    {
     "name": "stdout",
     "output_type": "stream",
     "text": [
      "error, can't divide by string!!\n"
     ]
    }
   ],
   "source": [
    "#cool, how about 100/'hello'\n",
    "try:\n",
    "    print(100/'hello')\n",
    "except ZeroDivisionError:\n",
    "    print(\"error, can't divide by 0!!\")\n",
    "except TypeError:\n",
    "    print(\"error, can't divide by string!!\")"
   ]
  },
  {
   "cell_type": "code",
   "execution_count": 102,
   "id": "1146640d",
   "metadata": {},
   "outputs": [],
   "source": [
    "#so for multiple 'excepts', we should refer to error message. Now, lets see what else & finally does.."
   ]
  },
  {
   "cell_type": "code",
   "execution_count": 103,
   "id": "6dcd9e71",
   "metadata": {},
   "outputs": [],
   "source": [
    "# we use else, when try works without error\n",
    "# and finally, this is always executed, irrespective of what except and else does"
   ]
  },
  {
   "cell_type": "code",
   "execution_count": 104,
   "id": "cf38377f",
   "metadata": {},
   "outputs": [
    {
     "name": "stdout",
     "output_type": "stream",
     "text": [
      "50.0\n"
     ]
    }
   ],
   "source": [
    "try:\n",
    "    print(100/2)\n",
    "except ZeroDivisionError:\n",
    "    print(\"error, can't divide by 0!!\")\n",
    "except TypeError:\n",
    "    print(\"error, can't divide by string!!\")"
   ]
  },
  {
   "cell_type": "code",
   "execution_count": 107,
   "id": "b8216eac",
   "metadata": {},
   "outputs": [
    {
     "name": "stdout",
     "output_type": "stream",
     "text": [
      "50.0\n",
      "Cool, division by integer will always work\n"
     ]
    }
   ],
   "source": [
    "# so, as we see above, 100/2 worked, so now if we want to print (cool, division by integer will always work!!)\n",
    "try:\n",
    "    print(100/2)\n",
    "except ZeroDivisionError:\n",
    "    print(\"error, can't divide by 0!!\")\n",
    "except TypeError:\n",
    "    print(\"error, can't divide by string!!\")\n",
    "else:\n",
    "    print(\"Cool, division by integer will always work\")"
   ]
  },
  {
   "cell_type": "code",
   "execution_count": 108,
   "id": "ddaa7dc0",
   "metadata": {},
   "outputs": [],
   "source": [
    "#yay, getting it so far, lets finally use finally :P"
   ]
  },
  {
   "cell_type": "code",
   "execution_count": 118,
   "id": "aa4552f7",
   "metadata": {},
   "outputs": [
    {
     "name": "stdout",
     "output_type": "stream",
     "text": [
      "error, can't divide by 0!!\n",
      "Cool, now we know how to use all this (try/except/else/finally). And, this message is always printed.\n"
     ]
    }
   ],
   "source": [
    "try:\n",
    "    print(100/0)\n",
    "except ZeroDivisionError:\n",
    "    print(\"error, can't divide by 0!!\")\n",
    "except TypeError:\n",
    "    print(\"error, can't divide by string!!\")\n",
    "else:\n",
    "    print(\"Cool, division by integer will always work\")\n",
    "finally:\n",
    "    print(\"Cool, now we know how to use all this (try/except/else/finally). And, this message is always printed.\")"
   ]
  },
  {
   "cell_type": "code",
   "execution_count": 119,
   "id": "48f572f1",
   "metadata": {},
   "outputs": [
    {
     "name": "stdout",
     "output_type": "stream",
     "text": [
      "error, can't divide by string!!\n",
      "Cool, now we know how to use all this (try/except/else/finally). And, this message is always printed.\n"
     ]
    }
   ],
   "source": [
    "try:\n",
    "    print(100/'hello')\n",
    "except ZeroDivisionError:\n",
    "    print(\"error, can't divide by 0!!\")\n",
    "except TypeError:\n",
    "    print(\"error, can't divide by string!!\")\n",
    "else:\n",
    "    print(\"Cool, division by integer will always work\")\n",
    "finally:\n",
    "    print(\"Cool, now we know how to use all this (try/except/else/finally). And, this message is always printed.\")"
   ]
  },
  {
   "cell_type": "code",
   "execution_count": 121,
   "id": "322ae651",
   "metadata": {},
   "outputs": [
    {
     "name": "stdout",
     "output_type": "stream",
     "text": [
      "20.0\n",
      "Cool, division by integer will always work\n",
      "Cool, now we know how to use all this (try/except/else/finally). And, this message is always printed.\n"
     ]
    }
   ],
   "source": [
    "try:\n",
    "    print(100/5)\n",
    "except ZeroDivisionError:\n",
    "    print(\"error, can't divide by 0!!\")\n",
    "except TypeError:\n",
    "    print(\"error, can't divide by string!!\")\n",
    "else:\n",
    "    print(\"Cool, division by integer will always work\")\n",
    "finally:\n",
    "    print(\"Cool, now we know how to use all this (try/except/else/finally). And, this message is always printed.\")"
   ]
  },
  {
   "cell_type": "code",
   "execution_count": null,
   "id": "129704be",
   "metadata": {},
   "outputs": [],
   "source": [
    "#coding excercise"
   ]
  }
 ],
 "metadata": {
  "kernelspec": {
   "display_name": "Python 3 (ipykernel)",
   "language": "python",
   "name": "python3"
  },
  "language_info": {
   "codemirror_mode": {
    "name": "ipython",
    "version": 3
   },
   "file_extension": ".py",
   "mimetype": "text/x-python",
   "name": "python",
   "nbconvert_exporter": "python",
   "pygments_lexer": "ipython3",
   "version": "3.11.5"
  }
 },
 "nbformat": 4,
 "nbformat_minor": 5
}
