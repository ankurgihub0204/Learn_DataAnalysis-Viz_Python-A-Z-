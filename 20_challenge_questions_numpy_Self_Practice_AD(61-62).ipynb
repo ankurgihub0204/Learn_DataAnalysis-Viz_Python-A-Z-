{
 "cells": [
  {
   "cell_type": "markdown",
   "id": "fad1607b",
   "metadata": {},
   "source": [
    "# Challenge Questions - NumPy"
   ]
  },
  {
   "cell_type": "markdown",
   "id": "357a4035",
   "metadata": {},
   "source": [
    "# Instructions:\n",
    "• Please ensure you don't overwrite any existing cells. Add new cells below by pressing ALT+ENTER\n",
    "\n",
    "• Attempt all of the questions\n",
    "\n",
    "• You are encouraged to look online for help should you need it"
   ]
  },
  {
   "cell_type": "markdown",
   "id": "a216156e",
   "metadata": {},
   "source": [
    "# "
   ]
  },
  {
   "cell_type": "markdown",
   "id": "620b8fa0",
   "metadata": {},
   "source": [
    "## Q1: Import the NumPy library"
   ]
  },
  {
   "cell_type": "code",
   "execution_count": 1,
   "id": "3261afef",
   "metadata": {},
   "outputs": [],
   "source": [
    "#Type your code here\n",
    "import numpy as np\n"
   ]
  },
  {
   "cell_type": "code",
   "execution_count": null,
   "id": "07f42443",
   "metadata": {},
   "outputs": [],
   "source": []
  },
  {
   "cell_type": "code",
   "execution_count": null,
   "id": "651723ec",
   "metadata": {},
   "outputs": [],
   "source": []
  },
  {
   "cell_type": "markdown",
   "id": "fabc79f4",
   "metadata": {},
   "source": [
    "## Q2: Create a 5 row by 3 column array that contains only the value 7"
   ]
  },
  {
   "cell_type": "code",
   "execution_count": null,
   "id": "4c307107",
   "metadata": {},
   "outputs": [],
   "source": [
    "# Type your code here\n"
   ]
  },
  {
   "cell_type": "code",
   "execution_count": 2,
   "id": "fd6880b7",
   "metadata": {},
   "outputs": [
    {
     "data": {
      "text/plain": [
       "array([[7, 7, 7],\n",
       "       [7, 7, 7],\n",
       "       [7, 7, 7],\n",
       "       [7, 7, 7],\n",
       "       [7, 7, 7]])"
      ]
     },
     "execution_count": 2,
     "metadata": {},
     "output_type": "execute_result"
    }
   ],
   "source": [
    "np.full((5,3),7)"
   ]
  },
  {
   "cell_type": "code",
   "execution_count": null,
   "id": "2ec961e8",
   "metadata": {},
   "outputs": [],
   "source": []
  },
  {
   "cell_type": "markdown",
   "id": "e39771ee",
   "metadata": {},
   "source": [
    "## Q3: Create a 3 row by 4 column array that contains evenly spaced values between 0-100"
   ]
  },
  {
   "cell_type": "code",
   "execution_count": null,
   "id": "553c0f5a",
   "metadata": {},
   "outputs": [],
   "source": [
    "# Type your code here\n"
   ]
  },
  {
   "cell_type": "code",
   "execution_count": 5,
   "id": "459f6c1e",
   "metadata": {},
   "outputs": [
    {
     "data": {
      "text/plain": [
       "array([  0.        ,   9.09090909,  18.18181818,  27.27272727,\n",
       "        36.36363636,  45.45454545,  54.54545455,  63.63636364,\n",
       "        72.72727273,  81.81818182,  90.90909091, 100.        ])"
      ]
     },
     "execution_count": 5,
     "metadata": {},
     "output_type": "execute_result"
    }
   ],
   "source": [
    "x=np.linspace(0,100,12)\n",
    "x"
   ]
  },
  {
   "cell_type": "code",
   "execution_count": 6,
   "id": "042f1a58",
   "metadata": {},
   "outputs": [
    {
     "data": {
      "text/plain": [
       "array([[  0.        ,   9.09090909,  18.18181818,  27.27272727],\n",
       "       [ 36.36363636,  45.45454545,  54.54545455,  63.63636364],\n",
       "       [ 72.72727273,  81.81818182,  90.90909091, 100.        ]])"
      ]
     },
     "execution_count": 6,
     "metadata": {},
     "output_type": "execute_result"
    }
   ],
   "source": [
    "x.reshape(3,4)"
   ]
  },
  {
   "cell_type": "code",
   "execution_count": 8,
   "id": "9976a849",
   "metadata": {},
   "outputs": [
    {
     "data": {
      "text/plain": [
       "array([[  0.        ,   9.09090909,  18.18181818,  27.27272727],\n",
       "       [ 36.36363636,  45.45454545,  54.54545455,  63.63636364],\n",
       "       [ 72.72727273,  81.81818182,  90.90909091, 100.        ]])"
      ]
     },
     "execution_count": 8,
     "metadata": {},
     "output_type": "execute_result"
    }
   ],
   "source": [
    "#or simply\n",
    "\n",
    "x=np.linspace(0,100, num=12).reshape(3,4)\n",
    "x"
   ]
  },
  {
   "cell_type": "code",
   "execution_count": null,
   "id": "3c3fde55",
   "metadata": {},
   "outputs": [],
   "source": [
    "#cool"
   ]
  },
  {
   "cell_type": "markdown",
   "id": "d42cbb9e",
   "metadata": {},
   "source": [
    "## Q4 Take the shape from Q3 and transform it so that the numbers increment down the columns rather than along the rows"
   ]
  },
  {
   "cell_type": "code",
   "execution_count": null,
   "id": "8fd5940d",
   "metadata": {},
   "outputs": [],
   "source": [
    "# Type your code here\n",
    "#looks like its asking to cumulate along axis 1, lets do before looking up the solution"
   ]
  },
  {
   "cell_type": "code",
   "execution_count": 9,
   "id": "927fbc1c",
   "metadata": {},
   "outputs": [
    {
     "data": {
      "text/plain": [
       "array([[  0.        ,   9.09090909,  27.27272727,  54.54545455],\n",
       "       [ 36.36363636,  81.81818182, 136.36363636, 200.        ],\n",
       "       [ 72.72727273, 154.54545455, 245.45454545, 345.45454545]])"
      ]
     },
     "execution_count": 9,
     "metadata": {},
     "output_type": "execute_result"
    }
   ],
   "source": [
    "np.cumsum(x,axis=1)"
   ]
  },
  {
   "cell_type": "code",
   "execution_count": null,
   "id": "89c4ddea",
   "metadata": {},
   "outputs": [],
   "source": [
    "#hmm, no not this, it means number comes in columns,rather than rows, so use transpose (but good call)"
   ]
  },
  {
   "cell_type": "code",
   "execution_count": 10,
   "id": "26601cea",
   "metadata": {},
   "outputs": [
    {
     "data": {
      "text/plain": [
       "array([  0.        ,   9.09090909,  18.18181818,  27.27272727,\n",
       "        36.36363636,  45.45454545,  54.54545455,  63.63636364,\n",
       "        72.72727273,  81.81818182,  90.90909091, 100.        ])"
      ]
     },
     "execution_count": 10,
     "metadata": {},
     "output_type": "execute_result"
    }
   ],
   "source": [
    "x=np.linspace(0,100, num=12)\n",
    "x"
   ]
  },
  {
   "cell_type": "code",
   "execution_count": 13,
   "id": "70497149",
   "metadata": {},
   "outputs": [
    {
     "data": {
      "text/plain": [
       "array([[  0.        ,  36.36363636,  72.72727273],\n",
       "       [  9.09090909,  45.45454545,  81.81818182],\n",
       "       [ 18.18181818,  54.54545455,  90.90909091],\n",
       "       [ 27.27272727,  63.63636364, 100.        ]])"
      ]
     },
     "execution_count": 13,
     "metadata": {},
     "output_type": "execute_result"
    }
   ],
   "source": [
    "x.reshape(3,4).transpose()"
   ]
  },
  {
   "cell_type": "code",
   "execution_count": null,
   "id": "642f2614",
   "metadata": {},
   "outputs": [],
   "source": [
    "#cool stuff"
   ]
  },
  {
   "cell_type": "markdown",
   "id": "4cc166eb",
   "metadata": {},
   "source": [
    "## Q5 From the 2D array stored in the variable \"a\" below use slicing to return the below segment"
   ]
  },
  {
   "cell_type": "code",
   "execution_count": 14,
   "id": "9f4ad168",
   "metadata": {},
   "outputs": [
    {
     "data": {
      "text/plain": [
       "array([[ 0.,  1.,  2.,  3.,  4.],\n",
       "       [ 5.,  6.,  7.,  8.,  9.],\n",
       "       [10., 11., 12., 13., 14.],\n",
       "       [15., 16., 17., 18., 19.],\n",
       "       [20., 21., 22., 23., 24.]])"
      ]
     },
     "execution_count": 14,
     "metadata": {},
     "output_type": "execute_result"
    }
   ],
   "source": [
    "# Run this cell first\n",
    "a = np.linspace(0,24,num=25).reshape(5,5)\n",
    "a"
   ]
  },
  {
   "cell_type": "raw",
   "id": "d71e4696",
   "metadata": {},
   "source": [
    "Return this segment:\n",
    "([[11., 12., 13.],\n",
    "  [16., 17., 18.]])"
   ]
  },
  {
   "cell_type": "code",
   "execution_count": 19,
   "id": "3225328a",
   "metadata": {},
   "outputs": [
    {
     "data": {
      "text/plain": [
       "array([[11., 12., 13.],\n",
       "       [16., 17., 18.]])"
      ]
     },
     "execution_count": 19,
     "metadata": {},
     "output_type": "execute_result"
    }
   ],
   "source": [
    "# Type your code here\n",
    "a[2:4,1:4]"
   ]
  },
  {
   "cell_type": "code",
   "execution_count": null,
   "id": "d762913d",
   "metadata": {},
   "outputs": [],
   "source": [
    "#so the concept is a(x,y), first slice for x(2:4), then for y(1:4)"
   ]
  },
  {
   "cell_type": "markdown",
   "id": "37bd42b4",
   "metadata": {},
   "source": [
    "## Q6: Return only elements that are greater than 12 from the same array \"a\" as Q5"
   ]
  },
  {
   "cell_type": "code",
   "execution_count": 27,
   "id": "7cc51171",
   "metadata": {},
   "outputs": [
    {
     "data": {
      "text/plain": [
       "array([[ 0.,  1.,  2.,  3.,  4.],\n",
       "       [ 5.,  6.,  7.,  8.,  9.],\n",
       "       [10., 11., 12., 13., 14.],\n",
       "       [15., 16., 17., 18., 19.],\n",
       "       [20., 21., 22., 23., 24.]])"
      ]
     },
     "execution_count": 27,
     "metadata": {},
     "output_type": "execute_result"
    }
   ],
   "source": [
    "# Type your code here\n",
    "# recalling array(a) for screen visibility\n",
    "a"
   ]
  },
  {
   "cell_type": "code",
   "execution_count": 25,
   "id": "fa6e2330",
   "metadata": {},
   "outputs": [
    {
     "data": {
      "text/plain": [
       "array([[False, False, False, False, False],\n",
       "       [False, False, False, False, False],\n",
       "       [False, False, False,  True,  True],\n",
       "       [ True,  True,  True,  True,  True],\n",
       "       [ True,  True,  True,  True,  True]])"
      ]
     },
     "execution_count": 25,
     "metadata": {},
     "output_type": "execute_result"
    }
   ],
   "source": [
    "#to get the boolean (true/false) use:\n",
    "\n",
    "q5=a>12\n",
    "q5"
   ]
  },
  {
   "cell_type": "code",
   "execution_count": 26,
   "id": "8b5a5f86",
   "metadata": {},
   "outputs": [
    {
     "data": {
      "text/plain": [
       "array([13., 14., 15., 16., 17., 18., 19., 20., 21., 22., 23., 24.])"
      ]
     },
     "execution_count": 26,
     "metadata": {},
     "output_type": "execute_result"
    }
   ],
   "source": [
    "#to get the values( or Q5)\n",
    "\n",
    "Q5=a[a>12]\n",
    "Q5"
   ]
  },
  {
   "cell_type": "markdown",
   "id": "6506be8c",
   "metadata": {},
   "source": [
    "## Q7: There is a file called 'tfl-daily-cycle-hires-2018.csv' saved in the same directory as this notebook. We will be needing only the \"Number of Bicycle Hires\" data.\n",
    "1. Load and store it in a variable called tfl_18 and check the shape of the array. \n",
    "2. Check the shape of the array\n",
    "3. Change the array to be a 2D array of shape (365,1)\n",
    "\n",
    "### This file contains the daily cycle hire numbers for the year 2018.\n",
    "\n",
    "### Hint: Consider the use of appropriate optional arguments in whatever function you choose to use."
   ]
  },
  {
   "cell_type": "code",
   "execution_count": 43,
   "id": "dca9999e",
   "metadata": {},
   "outputs": [],
   "source": [
    "# Load the data here (note: CSV is comma seperated, athough not visible, but choose deliter as ',')\n",
    "\n",
    "tfl_18=np.loadtxt('tfl-daily-cycle-hires-2018.csv', delimiter=',', skiprows=1, usecols=(1))\n"
   ]
  },
  {
   "cell_type": "code",
   "execution_count": 44,
   "id": "2c525120",
   "metadata": {},
   "outputs": [
    {
     "data": {
      "text/plain": [
       "(365,)"
      ]
     },
     "execution_count": 44,
     "metadata": {},
     "output_type": "execute_result"
    }
   ],
   "source": [
    "# Check the shape here\n",
    "\n",
    "tfl_18.shape"
   ]
  },
  {
   "cell_type": "code",
   "execution_count": 54,
   "id": "98e5fd80",
   "metadata": {},
   "outputs": [],
   "source": [
    "# Change the shape here\n",
    "\n",
    "tfl_18 = tfl_18.reshape(365,1)"
   ]
  },
  {
   "cell_type": "code",
   "execution_count": 55,
   "id": "925541c2",
   "metadata": {},
   "outputs": [
    {
     "data": {
      "text/plain": [
       "(365, 1)"
      ]
     },
     "execution_count": 55,
     "metadata": {},
     "output_type": "execute_result"
    }
   ],
   "source": [
    "tfl_18.shape"
   ]
  },
  {
   "cell_type": "markdown",
   "id": "ca7ba377",
   "metadata": {},
   "source": [
    "## Q8: There is a file called 'tfl-daily-cycle-hires-2019.csv' saved in the same directory as this notebook. We will be needing only the \"Number of Bicycle Hires\" data.\n",
    "1. Load and store it in a variable called tfl_19 and check the shape of the array. \n",
    "2. Check the shape of the array\n",
    "3. Change the array to be a 2D array of shape (365,1)"
   ]
  },
  {
   "cell_type": "code",
   "execution_count": 56,
   "id": "77084567",
   "metadata": {},
   "outputs": [],
   "source": [
    "# Load the data here\n",
    "tfl_19=np.loadtxt('tfl-daily-cycle-hires-2019.csv', delimiter=',', skiprows=1, usecols=(1))"
   ]
  },
  {
   "cell_type": "code",
   "execution_count": 57,
   "id": "9a6a0e53",
   "metadata": {},
   "outputs": [
    {
     "data": {
      "text/plain": [
       "(365,)"
      ]
     },
     "execution_count": 57,
     "metadata": {},
     "output_type": "execute_result"
    }
   ],
   "source": [
    "# Check the shape here\n",
    "tfl_19.shape"
   ]
  },
  {
   "cell_type": "code",
   "execution_count": 58,
   "id": "ceabb442",
   "metadata": {},
   "outputs": [],
   "source": [
    "# Change the shape here\n",
    "tfl_19= tfl_19.reshape(365,1)"
   ]
  },
  {
   "cell_type": "code",
   "execution_count": 59,
   "id": "44fdb488",
   "metadata": {},
   "outputs": [
    {
     "data": {
      "text/plain": [
       "(365, 1)"
      ]
     },
     "execution_count": 59,
     "metadata": {},
     "output_type": "execute_result"
    }
   ],
   "source": [
    "tfl_19.shape"
   ]
  },
  {
   "cell_type": "markdown",
   "id": "7b97429d",
   "metadata": {},
   "source": [
    "## Q9: Create a new array called tfl_1819 that contains the two arrays tfl_18 and tfl_19 concatenated together on the 1 axis. The shape of tfl_1819 should be (365, 2)"
   ]
  },
  {
   "cell_type": "code",
   "execution_count": 60,
   "id": "276a211f",
   "metadata": {},
   "outputs": [],
   "source": [
    "# Concatenate the arrays here\n",
    "\n",
    "tfl_1819 = np.concatenate((tfl_18, tfl_19), axis=1)"
   ]
  },
  {
   "cell_type": "code",
   "execution_count": 61,
   "id": "a433b64e",
   "metadata": {},
   "outputs": [
    {
     "data": {
      "text/plain": [
       "(365, 2)"
      ]
     },
     "execution_count": 61,
     "metadata": {},
     "output_type": "execute_result"
    }
   ],
   "source": [
    "# Check the shape here\n",
    "tfl_1819.shape"
   ]
  },
  {
   "cell_type": "code",
   "execution_count": 62,
   "id": "df6a39ff",
   "metadata": {},
   "outputs": [
    {
     "data": {
      "text/plain": [
       "array([[10235., 14148.],\n",
       "       [14394., 19746.],\n",
       "       [20265., 21552.],\n",
       "       [17543., 20863.],\n",
       "       [21759., 13907.],\n",
       "       [13920., 14262.],\n",
       "       [12259., 25668.],\n",
       "       [23374., 27757.],\n",
       "       [24683., 26568.],\n",
       "       [26787., 26022.],\n",
       "       [25222., 26378.],\n",
       "       [24696., 16750.],\n",
       "       [17512., 16304.],\n",
       "       [15070., 28097.],\n",
       "       [19161., 29413.],\n",
       "       [26921., 24500.],\n",
       "       [26934., 26053.],\n",
       "       [26471., 25525.],\n",
       "       [25799., 16653.],\n",
       "       [ 9398., 16803.],\n",
       "       [ 5859., 26567.],\n",
       "       [26337., 23083.],\n",
       "       [26003., 25406.],\n",
       "       [20206., 24357.],\n",
       "       [28189., 24198.],\n",
       "       [26430., 15062.],\n",
       "       [14472., 10596.],\n",
       "       [17512., 25859.],\n",
       "       [26371., 24732.],\n",
       "       [28002., 25482.],\n",
       "       [24117., 23487.],\n",
       "       [25525., 12841.],\n",
       "       [25331., 14136.],\n",
       "       [ 8975., 14637.],\n",
       "       [13833., 18254.],\n",
       "       [23898., 25682.],\n",
       "       [25349., 26197.],\n",
       "       [25388., 26703.],\n",
       "       [25791., 17468.],\n",
       "       [21037., 17439.],\n",
       "       [ 9956., 10800.],\n",
       "       [14621., 27439.],\n",
       "       [24719., 28786.],\n",
       "       [20931., 29145.],\n",
       "       [18866., 29270.],\n",
       "       [25264., 28838.],\n",
       "       [25411., 20560.],\n",
       "       [23169., 24383.],\n",
       "       [18624., 23815.],\n",
       "       [19879., 28927.],\n",
       "       [25055., 28971.],\n",
       "       [26434., 30474.],\n",
       "       [26179., 29703.],\n",
       "       [23067., 29242.],\n",
       "       [16522., 26092.],\n",
       "       [14037., 31480.],\n",
       "       [19204., 34996.],\n",
       "       [18741., 35420.],\n",
       "       [10619., 27219.],\n",
       "       [ 8744., 28255.],\n",
       "       [ 8234., 22795.],\n",
       "       [ 7924.,  9641.],\n",
       "       [10853., 26532.],\n",
       "       [24818., 29701.],\n",
       "       [26301., 25449.],\n",
       "       [22044., 24884.],\n",
       "       [25967., 23635.],\n",
       "       [18912., 19951.],\n",
       "       [18717., 12111.],\n",
       "       [16259., 27725.],\n",
       "       [19996., 21718.],\n",
       "       [28069., 26816.],\n",
       "       [28769., 23699.],\n",
       "       [25318., 26123.],\n",
       "       [28308., 14594.],\n",
       "       [ 8106., 14390.],\n",
       "       [ 6624., 27824.],\n",
       "       [20488., 27683.],\n",
       "       [24582., 30485.],\n",
       "       [27719., 31307.],\n",
       "       [27228., 28229.],\n",
       "       [26894., 25897.],\n",
       "       [18804., 27408.],\n",
       "       [19723., 31215.],\n",
       "       [29486., 31955.],\n",
       "       [22603., 31263.],\n",
       "       [15800., 32315.],\n",
       "       [20237., 35321.],\n",
       "       [ 6362., 33026.],\n",
       "       [11032., 20325.],\n",
       "       [13504., 31834.],\n",
       "       [ 7998., 24529.],\n",
       "       [22708., 27059.],\n",
       "       [23173., 25493.],\n",
       "       [30508., 27536.],\n",
       "       [30690., 20423.],\n",
       "       [25909., 16897.],\n",
       "       [ 9759., 26527.],\n",
       "       [16324., 25534.],\n",
       "       [26751., 31699.],\n",
       "       [24883., 30961.],\n",
       "       [26473., 27403.],\n",
       "       [27363., 19856.],\n",
       "       [34235., 20896.],\n",
       "       [21324., 30837.],\n",
       "       [30730., 31842.],\n",
       "       [33025., 37203.],\n",
       "       [40544., 36574.],\n",
       "       [43585., 36505.],\n",
       "       [45048., 38712.],\n",
       "       [42328., 36686.],\n",
       "       [38395., 35435.],\n",
       "       [35940., 34948.],\n",
       "       [33430., 34593.],\n",
       "       [33426., 34494.],\n",
       "       [34995., 32006.],\n",
       "       [21387., 18379.],\n",
       "       [17368., 22631.],\n",
       "       [15822., 33748.],\n",
       "       [17112., 38908.],\n",
       "       [34598., 37952.],\n",
       "       [23727., 32563.],\n",
       "       [35477., 28182.],\n",
       "       [36447., 19806.],\n",
       "       [39070., 22896.],\n",
       "       [40606., 22472.],\n",
       "       [45435., 34646.],\n",
       "       [41579., 20276.],\n",
       "       [41130., 28404.],\n",
       "       [38054., 34078.],\n",
       "       [38386., 25475.],\n",
       "       [16717., 31836.],\n",
       "       [29190., 37537.],\n",
       "       [38095., 39647.],\n",
       "       [42106., 39054.],\n",
       "       [34627., 38408.],\n",
       "       [37549., 29846.],\n",
       "       [37305., 28138.],\n",
       "       [36895., 26727.],\n",
       "       [39964., 36072.],\n",
       "       [38800., 41251.],\n",
       "       [41242., 40312.],\n",
       "       [38229., 41314.],\n",
       "       [31970., 37280.],\n",
       "       [35108., 33151.],\n",
       "       [33573., 26802.],\n",
       "       [33192., 28309.],\n",
       "       [36742., 34443.],\n",
       "       [24312., 31203.],\n",
       "       [34884., 39450.],\n",
       "       [37677., 39017.],\n",
       "       [37293., 40800.],\n",
       "       [38293., 33865.],\n",
       "       [39871., 37306.],\n",
       "       [35255., 31948.],\n",
       "       [37048., 38033.],\n",
       "       [41592., 38141.],\n",
       "       [37841., 25122.],\n",
       "       [39576., 26656.],\n",
       "       [36466., 29311.],\n",
       "       [38562., 13358.],\n",
       "       [41027., 34285.],\n",
       "       [38487., 25449.],\n",
       "       [40569., 26617.],\n",
       "       [37871., 33837.],\n",
       "       [39862., 28235.],\n",
       "       [31329., 26102.],\n",
       "       [26769., 38894.],\n",
       "       [39768., 29854.],\n",
       "       [41862., 33190.],\n",
       "       [41134., 38345.],\n",
       "       [41533., 38656.],\n",
       "       [41765., 36858.],\n",
       "       [38772., 30851.],\n",
       "       [38982., 38617.],\n",
       "       [44565., 38200.],\n",
       "       [46084., 39620.],\n",
       "       [44788., 41692.],\n",
       "       [43075., 39986.],\n",
       "       [43081., 38616.],\n",
       "       [38522., 33990.],\n",
       "       [37334., 39257.],\n",
       "       [42556., 42658.],\n",
       "       [44655., 43924.],\n",
       "       [43511., 44668.],\n",
       "       [44052., 42466.],\n",
       "       [43143., 34018.],\n",
       "       [36308., 29889.],\n",
       "       [38196., 39670.],\n",
       "       [41893., 41447.],\n",
       "       [43535., 42343.],\n",
       "       [44003., 41916.],\n",
       "       [41826., 41305.],\n",
       "       [38879., 36204.],\n",
       "       [37733., 27858.],\n",
       "       [37299., 39489.],\n",
       "       [41828., 43693.],\n",
       "       [43392., 41959.],\n",
       "       [43183., 34240.],\n",
       "       [42857., 25620.],\n",
       "       [40297., 31351.],\n",
       "       [38763., 33251.],\n",
       "       [37683., 40842.],\n",
       "       [42509., 44457.],\n",
       "       [44195., 42296.],\n",
       "       [44870., 39323.],\n",
       "       [43343., 31517.],\n",
       "       [34606., 19950.],\n",
       "       [41145., 29319.],\n",
       "       [18974., 41472.],\n",
       "       [38274., 27449.],\n",
       "       [42260., 38299.],\n",
       "       [43691., 39898.],\n",
       "       [43292., 38278.],\n",
       "       [40908., 39388.],\n",
       "       [39318., 34341.],\n",
       "       [40220., 34041.],\n",
       "       [41963., 39369.],\n",
       "       [40954., 37776.],\n",
       "       [42676., 40667.],\n",
       "       [20574., 30719.],\n",
       "       [29253., 25956.],\n",
       "       [33214., 29952.],\n",
       "       [23113., 29570.],\n",
       "       [36510., 39534.],\n",
       "       [40735., 19154.],\n",
       "       [40930., 38018.],\n",
       "       [28400., 23388.],\n",
       "       [36869., 29360.],\n",
       "       [31691., 24122.],\n",
       "       [32209., 33048.],\n",
       "       [37839., 39255.],\n",
       "       [40293., 38251.],\n",
       "       [38401., 38056.],\n",
       "       [34492., 35995.],\n",
       "       [27839., 30776.],\n",
       "       [25490., 31355.],\n",
       "       [ 8177., 33150.],\n",
       "       [25059., 37597.],\n",
       "       [34791., 36576.],\n",
       "       [27070., 38337.],\n",
       "       [37001., 37147.],\n",
       "       [35209., 30847.],\n",
       "       [35326., 29486.],\n",
       "       [35048., 35280.],\n",
       "       [36068., 37229.],\n",
       "       [36581., 33933.],\n",
       "       [36059., 36722.],\n",
       "       [34778., 31798.],\n",
       "       [35451., 28038.],\n",
       "       [28318., 27969.],\n",
       "       [30598., 29440.],\n",
       "       [36965., 36814.],\n",
       "       [37221., 35787.],\n",
       "       [33403., 38252.],\n",
       "       [38708., 37354.],\n",
       "       [35332., 34966.],\n",
       "       [33465., 33698.],\n",
       "       [32055., 32747.],\n",
       "       [39190., 39025.],\n",
       "       [38360., 38751.],\n",
       "       [37027., 38271.],\n",
       "       [35317., 37699.],\n",
       "       [32942., 36479.],\n",
       "       [12376., 24154.],\n",
       "       [13192., 30941.],\n",
       "       [34563., 21563.],\n",
       "       [36730., 32427.],\n",
       "       [39281., 28976.],\n",
       "       [39835., 29557.],\n",
       "       [35817., 24960.],\n",
       "       [32941., 15478.],\n",
       "       [25254., 27787.],\n",
       "       [34411., 24631.],\n",
       "       [37515., 33923.],\n",
       "       [38434., 32707.],\n",
       "       [36930., 32314.],\n",
       "       [39569., 26578.],\n",
       "       [10043., 21690.],\n",
       "       [25713., 28418.],\n",
       "       [35156., 32894.],\n",
       "       [39132., 34874.],\n",
       "       [39398., 35641.],\n",
       "       [35875., 25222.],\n",
       "       [35747., 10047.],\n",
       "       [36393., 16040.],\n",
       "       [10292., 22519.],\n",
       "       [28044., 34372.],\n",
       "       [37920., 30763.],\n",
       "       [30482., 30259.],\n",
       "       [35206., 29675.],\n",
       "       [34707., 25400.],\n",
       "       [32588., 20545.],\n",
       "       [32484., 24215.],\n",
       "       [34430., 33916.],\n",
       "       [34889., 31786.],\n",
       "       [35656., 23489.],\n",
       "       [34640., 28988.],\n",
       "       [27636., 14397.],\n",
       "       [18756., 22155.],\n",
       "       [13675., 30208.],\n",
       "       [29409., 31225.],\n",
       "       [30269., 32157.],\n",
       "       [32891., 30951.],\n",
       "       [23475., 25128.],\n",
       "       [31083., 14557.],\n",
       "       [25142., 18356.],\n",
       "       [21829., 29198.],\n",
       "       [31421., 31016.],\n",
       "       [33038., 30745.],\n",
       "       [27656., 30244.],\n",
       "       [32933., 26194.],\n",
       "       [27403., 12350.],\n",
       "       [14732., 18491.],\n",
       "       [18455., 28080.],\n",
       "       [26077., 27391.],\n",
       "       [32062., 29661.],\n",
       "       [33339., 28649.],\n",
       "       [33043., 21318.],\n",
       "       [28581., 18553.],\n",
       "       [20518., 18082.],\n",
       "       [ 9585., 28521.],\n",
       "       [18246., 28760.],\n",
       "       [15237., 29437.],\n",
       "       [25022., 27064.],\n",
       "       [26112., 24865.],\n",
       "       [25881., 14904.],\n",
       "       [15813., 15599.],\n",
       "       [14529., 25722.],\n",
       "       [27509., 26982.],\n",
       "       [22128., 26575.],\n",
       "       [22846., 26030.],\n",
       "       [25714., 28463.],\n",
       "       [28615., 18176.],\n",
       "       [14046., 14242.],\n",
       "       [15990., 27306.],\n",
       "       [25801., 29645.],\n",
       "       [28982., 29458.],\n",
       "       [23816., 28547.],\n",
       "       [16600., 21917.],\n",
       "       [18608., 19235.],\n",
       "       [16515., 15139.],\n",
       "       [15441., 27089.],\n",
       "       [27880., 24198.],\n",
       "       [28904., 27414.],\n",
       "       [27494., 19740.],\n",
       "       [25997., 23189.],\n",
       "       [24076., 14862.],\n",
       "       [ 8076., 14077.],\n",
       "       [12123., 24344.],\n",
       "       [24973., 19747.],\n",
       "       [20180., 24745.],\n",
       "       [22425., 21679.],\n",
       "       [23694., 14451.],\n",
       "       [19169.,  9370.],\n",
       "       [13310., 10407.],\n",
       "       [ 6748., 15878.],\n",
       "       [10043., 10478.],\n",
       "       [35267., 34674.],\n",
       "       [10841.,  5649.],\n",
       "       [12310., 11718.],\n",
       "       [13794., 11414.],\n",
       "       [13100., 12256.],\n",
       "       [12922., 16166.],\n",
       "       [16305., 13043.]])"
      ]
     },
     "execution_count": 62,
     "metadata": {},
     "output_type": "execute_result"
    }
   ],
   "source": [
    "#just checking, .....yeah, it is 365 by 2\n",
    "\n",
    "tfl_1819"
   ]
  },
  {
   "cell_type": "code",
   "execution_count": null,
   "id": "0802d65d",
   "metadata": {},
   "outputs": [],
   "source": []
  },
  {
   "cell_type": "markdown",
   "id": "3edda601",
   "metadata": {},
   "source": [
    "## Q10 Perform the following operations on the concatenated array tfl_1819:\n",
    "1. Find the sum of the columns, this shoe the total bike hires for 2018 and 2019\n",
    "2. Find the average number of bike hires for both columns, this will show the average bike hires for 2018 and 2019\n",
    "3. Find the maximum number of bike hires in both columns,  this will show the maximum bike figure for a single day in 2018 and 2019"
   ]
  },
  {
   "cell_type": "code",
   "execution_count": 63,
   "id": "ff2ddad9",
   "metadata": {},
   "outputs": [
    {
     "data": {
      "text/plain": [
       "array([10567540., 10424955.])"
      ]
     },
     "execution_count": 63,
     "metadata": {},
     "output_type": "execute_result"
    }
   ],
   "source": [
    "# Sum the columns here\n",
    "\n",
    "np.sum(tfl_1819, axis=0)"
   ]
  },
  {
   "cell_type": "code",
   "execution_count": 64,
   "id": "0108bec5",
   "metadata": {},
   "outputs": [
    {
     "data": {
      "text/plain": [
       "array([28952.16438356, 28561.52054795])"
      ]
     },
     "execution_count": 64,
     "metadata": {},
     "output_type": "execute_result"
    }
   ],
   "source": [
    "# Find the average of the columns here\n",
    "np.mean(tfl_1819, axis=0)"
   ]
  },
  {
   "cell_type": "code",
   "execution_count": 65,
   "id": "bd1e274e",
   "metadata": {},
   "outputs": [
    {
     "data": {
      "text/plain": [
       "array([46084., 44668.])"
      ]
     },
     "execution_count": 65,
     "metadata": {},
     "output_type": "execute_result"
    }
   ],
   "source": [
    "# Find the maximum of both columns here\n",
    "np.amax(tfl_1819, axis=0)\n"
   ]
  },
  {
   "cell_type": "code",
   "execution_count": null,
   "id": "924a56f9",
   "metadata": {},
   "outputs": [],
   "source": [
    "#amazing, all done here, ltes move to exciting pandas..."
   ]
  },
  {
   "cell_type": "code",
   "execution_count": null,
   "id": "4d70b6c8",
   "metadata": {},
   "outputs": [],
   "source": []
  }
 ],
 "metadata": {
  "kernelspec": {
   "display_name": "Python 3 (ipykernel)",
   "language": "python",
   "name": "python3"
  },
  "language_info": {
   "codemirror_mode": {
    "name": "ipython",
    "version": 3
   },
   "file_extension": ".py",
   "mimetype": "text/x-python",
   "name": "python",
   "nbconvert_exporter": "python",
   "pygments_lexer": "ipython3",
   "version": "3.11.5"
  }
 },
 "nbformat": 4,
 "nbformat_minor": 5
}
