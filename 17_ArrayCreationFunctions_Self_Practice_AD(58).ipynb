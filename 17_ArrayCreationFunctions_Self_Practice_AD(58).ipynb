{
 "cells": [
  {
   "cell_type": "code",
   "execution_count": null,
   "id": "e490aba7",
   "metadata": {},
   "outputs": [],
   "source": [
    "#creation function\n",
    "\n",
    "#6. np.full(shape_as_in_tuple, fill_value_to_fill_array, dtype)\n",
    "#7. np.arange(start_default_is_0, stop_this_is_exclusive, step_default_is_1, ....)\n",
    "#8. np.linspace(start, stop, totalcount_of_number,...)\n",
    "#9. np.random.rand(rows,columns)\n",
    "#10. np.random.randint(low_bound, high_bound, shape_tuple, dtype)\n",
    "\n",
    "#homework (look into the course resource)\n",
    "#11. np.identity\n",
    "#12. np.zeros\n",
    "#13. np.ones"
   ]
  },
  {
   "cell_type": "code",
   "execution_count": 1,
   "id": "5bad6cf3",
   "metadata": {},
   "outputs": [],
   "source": [
    "#full function to create array\n",
    "\n",
    "#np.full(shape(2,3), fill_value,dtype,...) \n",
    "#Shape is given as tuple,fill value is what will fill in the tuple, dtype=datatype of array"
   ]
  },
  {
   "cell_type": "code",
   "execution_count": 2,
   "id": "1042d3d5",
   "metadata": {},
   "outputs": [
    {
     "ename": "NameError",
     "evalue": "name 'np' is not defined",
     "output_type": "error",
     "traceback": [
      "\u001b[1;31m---------------------------------------------------------------------------\u001b[0m",
      "\u001b[1;31mNameError\u001b[0m                                 Traceback (most recent call last)",
      "Cell \u001b[1;32mIn[2], line 1\u001b[0m\n\u001b[1;32m----> 1\u001b[0m array_1\u001b[38;5;241m=\u001b[39mnp\u001b[38;5;241m.\u001b[39mfull((\u001b[38;5;241m2\u001b[39m,\u001b[38;5;241m5\u001b[39m),\u001b[38;5;241m2\u001b[39m)\n",
      "\u001b[1;31mNameError\u001b[0m: name 'np' is not defined"
     ]
    }
   ],
   "source": [
    "array_1=np.full((2,5),2) #so this will fill value '2' across 2 rows & 5 column."
   ]
  },
  {
   "cell_type": "code",
   "execution_count": 3,
   "id": "c49ccab4",
   "metadata": {},
   "outputs": [],
   "source": [
    "#hmm, coz we hav NOT imported numpy yet :("
   ]
  },
  {
   "cell_type": "code",
   "execution_count": 5,
   "id": "161e27ff",
   "metadata": {},
   "outputs": [
    {
     "data": {
      "text/plain": [
       "array([[2, 2, 2, 2, 2],\n",
       "       [2, 2, 2, 2, 2]])"
      ]
     },
     "execution_count": 5,
     "metadata": {},
     "output_type": "execute_result"
    }
   ],
   "source": [
    "import numpy as np\n",
    "\n",
    "array_1=np.full((2,5),2)\n",
    "array_1"
   ]
  },
  {
   "cell_type": "code",
   "execution_count": 6,
   "id": "20a82ddb",
   "metadata": {},
   "outputs": [],
   "source": [
    "#lets create another array with fill value of 0, with dtype of longdouble, shape of 5*5...lets create"
   ]
  },
  {
   "cell_type": "code",
   "execution_count": 7,
   "id": "ab80ccc9",
   "metadata": {},
   "outputs": [
    {
     "data": {
      "text/plain": [
       "array([[0., 0., 0., 0., 0.],\n",
       "       [0., 0., 0., 0., 0.],\n",
       "       [0., 0., 0., 0., 0.],\n",
       "       [0., 0., 0., 0., 0.],\n",
       "       [0., 0., 0., 0., 0.]], dtype=float64)"
      ]
     },
     "execution_count": 7,
     "metadata": {},
     "output_type": "execute_result"
    }
   ],
   "source": [
    "array_2=np.full((5,5),0,'g') #by-default position of the arguments\n",
    "array_2"
   ]
  },
  {
   "cell_type": "code",
   "execution_count": 8,
   "id": "4bdc3bd8",
   "metadata": {},
   "outputs": [
    {
     "data": {
      "text/plain": [
       "array([[0., 0., 0., 0., 0.],\n",
       "       [0., 0., 0., 0., 0.],\n",
       "       [0., 0., 0., 0., 0.],\n",
       "       [0., 0., 0., 0., 0.],\n",
       "       [0., 0., 0., 0., 0.]], dtype=float64)"
      ]
     },
     "execution_count": 8,
     "metadata": {},
     "output_type": "execute_result"
    }
   ],
   "source": [
    "#if arguments are moved around, then call them by name(i.e.specify the argument)\n",
    "\n",
    "array_2=np.full((5,5), dtype=np.longdouble, fill_value=0)\n",
    "array_2"
   ]
  },
  {
   "cell_type": "code",
   "execution_count": 10,
   "id": "cd475348",
   "metadata": {},
   "outputs": [
    {
     "data": {
      "text/plain": [
       "array([[0., 0., 0., 0., 0.],\n",
       "       [0., 0., 0., 0., 0.],\n",
       "       [0., 0., 0., 0., 0.],\n",
       "       [0., 0., 0., 0., 0.],\n",
       "       [0., 0., 0., 0., 0.]], dtype=float64)"
      ]
     },
     "execution_count": 10,
     "metadata": {},
     "output_type": "execute_result"
    }
   ],
   "source": [
    "#also we can do this way (arguments position again chaged, but addressed by name)\n",
    "\n",
    "array_2=np.full(dtype=np.longdouble, shape=(5,5), fill_value=0)\n",
    "array_2"
   ]
  },
  {
   "cell_type": "code",
   "execution_count": null,
   "id": "18f1fe74",
   "metadata": {},
   "outputs": [],
   "source": [
    "#see, same result in [7], [8], [10]"
   ]
  },
  {
   "cell_type": "code",
   "execution_count": 11,
   "id": "a915af1b",
   "metadata": {},
   "outputs": [],
   "source": [
    "#arange function (note: arange is not arrange or sort, its kind of a-range)\n",
    "#np.arange(start_default_0, stop_exclusive, step_default_1, dtype,....additional parameters..)"
   ]
  },
  {
   "cell_type": "code",
   "execution_count": 13,
   "id": "dbe6e5b9",
   "metadata": {},
   "outputs": [
    {
     "data": {
      "text/plain": [
       "array([ 0,  2,  4,  6,  8, 10])"
      ]
     },
     "execution_count": 13,
     "metadata": {},
     "output_type": "execute_result"
    }
   ],
   "source": [
    "np.arange(0,12,2)"
   ]
  },
  {
   "cell_type": "code",
   "execution_count": 15,
   "id": "6ac92a51",
   "metadata": {},
   "outputs": [
    {
     "data": {
      "text/plain": [
       "array([[ 0,  2,  4],\n",
       "       [ 6,  8, 10]])"
      ]
     },
     "execution_count": 15,
     "metadata": {},
     "output_type": "execute_result"
    }
   ],
   "source": [
    "#if we need to shape (or reshape) this array in (2,3) metric, then do:\n",
    "\n",
    "np.arange(0,12,2).reshape(2,3)"
   ]
  },
  {
   "cell_type": "code",
   "execution_count": 16,
   "id": "8f502f94",
   "metadata": {},
   "outputs": [
    {
     "data": {
      "text/plain": [
       "array([[ 0,  2],\n",
       "       [ 4,  6],\n",
       "       [ 8, 10]])"
      ]
     },
     "execution_count": 16,
     "metadata": {},
     "output_type": "execute_result"
    }
   ],
   "source": [
    "# OR if we need to shape (or reshape) this array in (3,2) metric, then do:\n",
    "\n",
    "np.arange(0,12,2).reshape(3,2)"
   ]
  },
  {
   "cell_type": "code",
   "execution_count": 17,
   "id": "29228863",
   "metadata": {},
   "outputs": [],
   "source": [
    "#linspace function (create evenly spaced array over the given irange)\n",
    "\n",
    "#np.linspace(start,stop_inclusive_here,num=50, dtype..other params..)\n",
    "\n",
    "#so here its creating an array with 50 elements which would be evenly spaced, lets see"
   ]
  },
  {
   "cell_type": "code",
   "execution_count": 24,
   "id": "a0abedf1",
   "metadata": {},
   "outputs": [
    {
     "data": {
      "text/plain": [
       "array([ 1.        ,  3.88235294,  6.76470588,  9.64705882, 12.52941176,\n",
       "       15.41176471, 18.29411765, 21.17647059, 24.05882353, 26.94117647,\n",
       "       29.82352941, 32.70588235, 35.58823529, 38.47058824, 41.35294118,\n",
       "       44.23529412, 47.11764706, 50.        ])"
      ]
     },
     "execution_count": 24,
     "metadata": {},
     "output_type": "execute_result"
    }
   ],
   "source": [
    "np.linspace(1,50,18)"
   ]
  },
  {
   "cell_type": "code",
   "execution_count": 25,
   "id": "e3c962a2",
   "metadata": {},
   "outputs": [
    {
     "data": {
      "text/plain": [
       "(18,)"
      ]
     },
     "execution_count": 25,
     "metadata": {},
     "output_type": "execute_result"
    }
   ],
   "source": [
    "#plz note: above array is still 1d, although it looks like 2d, oz its a long array, lets check the shape\n",
    "\n",
    "np.linspace(1,50,18).shape"
   ]
  },
  {
   "cell_type": "code",
   "execution_count": 26,
   "id": "db984ed4",
   "metadata": {},
   "outputs": [],
   "source": [
    "#we can reshape it in (3,6) or (6,3) too, lets do it:"
   ]
  },
  {
   "cell_type": "code",
   "execution_count": 28,
   "id": "39c1ba83",
   "metadata": {},
   "outputs": [
    {
     "data": {
      "text/plain": [
       "array([[ 1.        ,  3.88235294,  6.76470588,  9.64705882, 12.52941176,\n",
       "        15.41176471],\n",
       "       [18.29411765, 21.17647059, 24.05882353, 26.94117647, 29.82352941,\n",
       "        32.70588235],\n",
       "       [35.58823529, 38.47058824, 41.35294118, 44.23529412, 47.11764706,\n",
       "        50.        ]])"
      ]
     },
     "execution_count": 28,
     "metadata": {},
     "output_type": "execute_result"
    }
   ],
   "source": [
    "np.linspace(1,50,18).reshape(3,6)"
   ]
  },
  {
   "cell_type": "code",
   "execution_count": 29,
   "id": "d74eb1fe",
   "metadata": {},
   "outputs": [
    {
     "data": {
      "text/plain": [
       "array([[ 1.        ,  3.88235294,  6.76470588],\n",
       "       [ 9.64705882, 12.52941176, 15.41176471],\n",
       "       [18.29411765, 21.17647059, 24.05882353],\n",
       "       [26.94117647, 29.82352941, 32.70588235],\n",
       "       [35.58823529, 38.47058824, 41.35294118],\n",
       "       [44.23529412, 47.11764706, 50.        ]])"
      ]
     },
     "execution_count": 29,
     "metadata": {},
     "output_type": "execute_result"
    }
   ],
   "source": [
    "#reshaping in (6,3)\n",
    "\n",
    "np.linspace(1,50,18).reshape(6,3)"
   ]
  },
  {
   "cell_type": "code",
   "execution_count": 32,
   "id": "2c5fe2cb",
   "metadata": {},
   "outputs": [
    {
     "data": {
      "text/plain": [
       "array([ 1.,  2.,  3.,  4.,  5.,  6.,  7.,  8.,  9., 10.])"
      ]
     },
     "execution_count": 32,
     "metadata": {},
     "output_type": "execute_result"
    }
   ],
   "source": [
    "#jlt\n",
    "\n",
    "np.linspace(1,10,num=10)"
   ]
  },
  {
   "cell_type": "code",
   "execution_count": 33,
   "id": "300e6e73",
   "metadata": {},
   "outputs": [],
   "source": [
    "#random function to create array\n",
    "#np.random.rand(rows,colmn)--generates random values between 0-1\n",
    "#np.random.randint(low_bound, high_bound, shape_tuple,dtype, ..)"
   ]
  },
  {
   "cell_type": "code",
   "execution_count": 35,
   "id": "2c54f025",
   "metadata": {},
   "outputs": [
    {
     "data": {
      "text/plain": [
       "array([[0.47909495, 0.02872147, 0.37672372, 0.12837681],\n",
       "       [0.58315854, 0.55269244, 0.27956777, 0.04841561],\n",
       "       [0.34746966, 0.774943  , 0.49865201, 0.25849109]])"
      ]
     },
     "execution_count": 35,
     "metadata": {},
     "output_type": "execute_result"
    }
   ],
   "source": [
    "np.random.rand(3,4)"
   ]
  },
  {
   "cell_type": "code",
   "execution_count": 40,
   "id": "84885387",
   "metadata": {},
   "outputs": [],
   "source": [
    "#so it look likes random.randint would be more meaningful, lets see\n",
    "\n",
    "#generating array between -20 to 20 (of 4 by 10)"
   ]
  },
  {
   "cell_type": "code",
   "execution_count": 42,
   "id": "2ea08d10",
   "metadata": {},
   "outputs": [
    {
     "data": {
      "text/plain": [
       "array([[-13,  -1,  17,  -9,  15,  16,  17,   2,   7,   6],\n",
       "       [ 12,   9,  -8,  14, -12, -19,  -7,   6,  15,  12],\n",
       "       [ 11,   1,  14, -17,  12,  16,   2,  -4,  15,  11],\n",
       "       [-18, -19, -13, -20,   4,   9, -13,   8,  11,   3]])"
      ]
     },
     "execution_count": 42,
     "metadata": {},
     "output_type": "execute_result"
    }
   ],
   "source": [
    "np.random.randint(-20,20,(4,10))"
   ]
  },
  {
   "cell_type": "code",
   "execution_count": 43,
   "id": "c3cf2878",
   "metadata": {},
   "outputs": [],
   "source": [
    "#hence a radom array is generate of size (4,10) with numbers between -20 to 20"
   ]
  },
  {
   "cell_type": "code",
   "execution_count": 44,
   "id": "0eb1e749",
   "metadata": {},
   "outputs": [],
   "source": [
    "#homework, research: \n",
    "\n",
    "#np.identity\n",
    "#np.zeros\n",
    "#np.ones"
   ]
  },
  {
   "cell_type": "code",
   "execution_count": 45,
   "id": "2e84f4e6",
   "metadata": {},
   "outputs": [
    {
     "data": {
      "text/plain": [
       "array([[1., 0., 0.],\n",
       "       [0., 1., 0.],\n",
       "       [0., 0., 1.]])"
      ]
     },
     "execution_count": 45,
     "metadata": {},
     "output_type": "execute_result"
    }
   ],
   "source": [
    "np.identity(3) #3 means return 3*3 (i.e. n by n array)"
   ]
  },
  {
   "cell_type": "code",
   "execution_count": 46,
   "id": "d58f0f85",
   "metadata": {},
   "outputs": [
    {
     "data": {
      "text/plain": [
       "array([[1., 0., 0., 0., 0., 0., 0., 0., 0., 0.],\n",
       "       [0., 1., 0., 0., 0., 0., 0., 0., 0., 0.],\n",
       "       [0., 0., 1., 0., 0., 0., 0., 0., 0., 0.],\n",
       "       [0., 0., 0., 1., 0., 0., 0., 0., 0., 0.],\n",
       "       [0., 0., 0., 0., 1., 0., 0., 0., 0., 0.],\n",
       "       [0., 0., 0., 0., 0., 1., 0., 0., 0., 0.],\n",
       "       [0., 0., 0., 0., 0., 0., 1., 0., 0., 0.],\n",
       "       [0., 0., 0., 0., 0., 0., 0., 1., 0., 0.],\n",
       "       [0., 0., 0., 0., 0., 0., 0., 0., 1., 0.],\n",
       "       [0., 0., 0., 0., 0., 0., 0., 0., 0., 1.]])"
      ]
     },
     "execution_count": 46,
     "metadata": {},
     "output_type": "execute_result"
    }
   ],
   "source": [
    "np.identity (10) #10 by 10"
   ]
  },
  {
   "cell_type": "code",
   "execution_count": 47,
   "id": "29fe35d0",
   "metadata": {},
   "outputs": [
    {
     "data": {
      "text/plain": [
       "array([1., 1., 1., 1., 1.])"
      ]
     },
     "execution_count": 47,
     "metadata": {},
     "output_type": "execute_result"
    }
   ],
   "source": [
    "#np.ones - creates the array with value=1 in specified shape and size and data type (but all elements are 1)\n",
    "\n",
    "#np.ones(shape_tuple_or_int,dtype,order='C' or 'F',*,like=None)\n",
    "\n",
    "np.ones(5)"
   ]
  },
  {
   "cell_type": "code",
   "execution_count": 49,
   "id": "16ba5645",
   "metadata": {},
   "outputs": [
    {
     "data": {
      "text/plain": [
       "array([[1., 1., 1.],\n",
       "       [1., 1., 1.]])"
      ]
     },
     "execution_count": 49,
     "metadata": {},
     "output_type": "execute_result"
    }
   ],
   "source": [
    "np.ones((2,3))"
   ]
  },
  {
   "cell_type": "code",
   "execution_count": 50,
   "id": "53d2506b",
   "metadata": {},
   "outputs": [],
   "source": [
    "#np.zeros - creates the array with value=0 in specified shape and size and data type (but all elements are 0)\n",
    "\n",
    "#np.zeros(shape_tuple_or_int,dtype,order='C' or 'F',*,like=None)"
   ]
  },
  {
   "cell_type": "code",
   "execution_count": 51,
   "id": "cd2e9328",
   "metadata": {},
   "outputs": [
    {
     "data": {
      "text/plain": [
       "array([0., 0., 0.])"
      ]
     },
     "execution_count": 51,
     "metadata": {},
     "output_type": "execute_result"
    }
   ],
   "source": [
    "np.zeros(3)"
   ]
  },
  {
   "cell_type": "code",
   "execution_count": 52,
   "id": "22d5c13d",
   "metadata": {},
   "outputs": [
    {
     "data": {
      "text/plain": [
       "array([[0., 0., 0., 0.],\n",
       "       [0., 0., 0., 0.],\n",
       "       [0., 0., 0., 0.]])"
      ]
     },
     "execution_count": 52,
     "metadata": {},
     "output_type": "execute_result"
    }
   ],
   "source": [
    "np.zeros((3,4))"
   ]
  },
  {
   "cell_type": "code",
   "execution_count": null,
   "id": "4c9537d1",
   "metadata": {},
   "outputs": [],
   "source": []
  }
 ],
 "metadata": {
  "kernelspec": {
   "display_name": "Python 3 (ipykernel)",
   "language": "python",
   "name": "python3"
  },
  "language_info": {
   "codemirror_mode": {
    "name": "ipython",
    "version": 3
   },
   "file_extension": ".py",
   "mimetype": "text/x-python",
   "name": "python",
   "nbconvert_exporter": "python",
   "pygments_lexer": "ipython3",
   "version": "3.11.5"
  }
 },
 "nbformat": 4,
 "nbformat_minor": 5
}
