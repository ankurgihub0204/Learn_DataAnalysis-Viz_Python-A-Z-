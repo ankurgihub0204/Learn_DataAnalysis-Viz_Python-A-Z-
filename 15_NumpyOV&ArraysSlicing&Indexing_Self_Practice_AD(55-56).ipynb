{
 "cells": [
  {
   "cell_type": "code",
   "execution_count": 1,
   "id": "e5583a63",
   "metadata": {},
   "outputs": [],
   "source": [
    "#arrays - they are like lists, but with only same data type (int array, float array etc), \n",
    "#they store data more efficintly and can be shrink or expand with the items\n",
    "\n",
    "#numpy = numerical python (numpy values stats with index 0)\n",
    "\n",
    "#(FILTERING ARRAY)"
   ]
  },
  {
   "cell_type": "code",
   "execution_count": 2,
   "id": "278a55a1",
   "metadata": {},
   "outputs": [],
   "source": [
    "# 1D array [1,2,3,4,5]\n",
    "\n",
    "# 2D array  [1,2,3,4,5]\n",
    "#           [1,2,3,4,5]\n",
    "#           [1,2,3,4,5]\n",
    "\n",
    "# 0 axis along the rows, 1 axis along the coulmns (0,1)"
   ]
  },
  {
   "cell_type": "code",
   "execution_count": 3,
   "id": "9b8c2431",
   "metadata": {},
   "outputs": [
    {
     "ename": "NameError",
     "evalue": "name 'np' is not defined",
     "output_type": "error",
     "traceback": [
      "\u001b[1;31m---------------------------------------------------------------------------\u001b[0m",
      "\u001b[1;31mNameError\u001b[0m                                 Traceback (most recent call last)",
      "Cell \u001b[1;32mIn[3], line 1\u001b[0m\n\u001b[1;32m----> 1\u001b[0m np\u001b[38;5;241m.\u001b[39marray([\u001b[38;5;241m100\u001b[39m,\u001b[38;5;241m200\u001b[39m,\u001b[38;5;241m300\u001b[39m,\u001b[38;5;241m400\u001b[39m,\u001b[38;5;241m500\u001b[39m])\u001b[38;5;241m/\u001b[39m\u001b[38;5;241m100\u001b[39m\n",
      "\u001b[1;31mNameError\u001b[0m: name 'np' is not defined"
     ]
    }
   ],
   "source": [
    "np.array([100,200,300,400,500])/100"
   ]
  },
  {
   "cell_type": "code",
   "execution_count": 4,
   "id": "f59d23ee",
   "metadata": {},
   "outputs": [],
   "source": [
    "#this is coz we have not imported numpy library, lets do it"
   ]
  },
  {
   "cell_type": "code",
   "execution_count": 5,
   "id": "ce9649d9",
   "metadata": {},
   "outputs": [
    {
     "data": {
      "text/plain": [
       "array([1., 2., 3., 4., 5.])"
      ]
     },
     "execution_count": 5,
     "metadata": {},
     "output_type": "execute_result"
    }
   ],
   "source": [
    "import numpy as np\n",
    "\n",
    "np.array([100,200,300,400,500])/100"
   ]
  },
  {
   "cell_type": "code",
   "execution_count": 6,
   "id": "76b3f975",
   "metadata": {},
   "outputs": [],
   "source": [
    "#so here, we had easily didvided an array with 100, in list we woul have used a loop, so could have been complicated there"
   ]
  },
  {
   "cell_type": "code",
   "execution_count": 7,
   "id": "428ab46f",
   "metadata": {},
   "outputs": [],
   "source": [
    "#syntax to create np arrays is numpy.array(object, datatype) or np.array(object, dtype)"
   ]
  },
  {
   "cell_type": "code",
   "execution_count": 8,
   "id": "266774c1",
   "metadata": {},
   "outputs": [],
   "source": [
    "list1=[1,2,3,4,5] #lets convert this list to np array"
   ]
  },
  {
   "cell_type": "code",
   "execution_count": 9,
   "id": "14324074",
   "metadata": {},
   "outputs": [
    {
     "data": {
      "text/plain": [
       "array([1, 2, 3, 4, 5])"
      ]
     },
     "execution_count": 9,
     "metadata": {},
     "output_type": "execute_result"
    }
   ],
   "source": [
    "np.array(list1) #np has already been imported above,so is not needed now"
   ]
  },
  {
   "cell_type": "code",
   "execution_count": 10,
   "id": "0bd6238b",
   "metadata": {},
   "outputs": [],
   "source": [
    "# lets assign it to x\n",
    "\n",
    "x=np.array(list1)"
   ]
  },
  {
   "cell_type": "code",
   "execution_count": 11,
   "id": "35125bee",
   "metadata": {},
   "outputs": [
    {
     "data": {
      "text/plain": [
       "array([1, 2, 3, 4, 5])"
      ]
     },
     "execution_count": 11,
     "metadata": {},
     "output_type": "execute_result"
    }
   ],
   "source": [
    "x"
   ]
  },
  {
   "cell_type": "code",
   "execution_count": 12,
   "id": "b86a95db",
   "metadata": {},
   "outputs": [
    {
     "data": {
      "text/plain": [
       "numpy.ndarray"
      ]
     },
     "execution_count": 12,
     "metadata": {},
     "output_type": "execute_result"
    }
   ],
   "source": [
    "type(x)"
   ]
  },
  {
   "cell_type": "code",
   "execution_count": 13,
   "id": "7c228d52",
   "metadata": {},
   "outputs": [],
   "source": [
    "#so x is n dimension array (actually it is 1d array), to confirm see below"
   ]
  },
  {
   "cell_type": "code",
   "execution_count": 15,
   "id": "09ed713c",
   "metadata": {},
   "outputs": [
    {
     "data": {
      "text/plain": [
       "(5,)"
      ]
     },
     "execution_count": 15,
     "metadata": {},
     "output_type": "execute_result"
    }
   ],
   "source": [
    "np.shape(x)"
   ]
  },
  {
   "cell_type": "code",
   "execution_count": 16,
   "id": "bdd2bcd2",
   "metadata": {},
   "outputs": [],
   "source": [
    "# it means there are 5 elements in each row, since it only has 1 row we see (5,)\n",
    "\n",
    "# in numpy, lot of functions can be used as methods & attributes"
   ]
  },
  {
   "cell_type": "code",
   "execution_count": 17,
   "id": "f6b39c7a",
   "metadata": {},
   "outputs": [
    {
     "data": {
      "text/plain": [
       "(5,)"
      ]
     },
     "execution_count": 17,
     "metadata": {},
     "output_type": "execute_result"
    }
   ],
   "source": [
    "x.shape"
   ]
  },
  {
   "cell_type": "code",
   "execution_count": 18,
   "id": "48491bf2",
   "metadata": {},
   "outputs": [],
   "source": [
    "# so we didn't need '()' after shape as this is an attribute and not a method"
   ]
  },
  {
   "cell_type": "code",
   "execution_count": 19,
   "id": "832f8c15",
   "metadata": {},
   "outputs": [
    {
     "data": {
      "text/plain": [
       "array([1, 2, 3, 4, 5])"
      ]
     },
     "execution_count": 19,
     "metadata": {},
     "output_type": "execute_result"
    }
   ],
   "source": [
    "# we can also create an array, by passing a list (referencing not important here)\n",
    "\n",
    "np.array([1,2,3,4,5]) # passed on a list"
   ]
  },
  {
   "cell_type": "code",
   "execution_count": 21,
   "id": "a50e976a",
   "metadata": {},
   "outputs": [
    {
     "data": {
      "text/plain": [
       "array([1, 2, 3, 4, 5, 6, 7, 8])"
      ]
     },
     "execution_count": 21,
     "metadata": {},
     "output_type": "execute_result"
    }
   ],
   "source": [
    "np.array((1,2,3,4,5,6,7,8)) # passed on a tuple"
   ]
  },
  {
   "cell_type": "code",
   "execution_count": 22,
   "id": "67d2ff42",
   "metadata": {},
   "outputs": [],
   "source": [
    "# so basically, any array like object. but it wont work good with set, lets see"
   ]
  },
  {
   "cell_type": "code",
   "execution_count": 26,
   "id": "deb1eca6",
   "metadata": {},
   "outputs": [
    {
     "data": {
      "text/plain": [
       "array({1, 2}, dtype=object)"
      ]
     },
     "execution_count": 26,
     "metadata": {},
     "output_type": "execute_result"
    }
   ],
   "source": [
    "np.array({1,2,2,1})"
   ]
  },
  {
   "cell_type": "code",
   "execution_count": 28,
   "id": "d84f0b9b",
   "metadata": {},
   "outputs": [
    {
     "data": {
      "text/plain": [
       "()"
      ]
     },
     "execution_count": 28,
     "metadata": {},
     "output_type": "execute_result"
    }
   ],
   "source": [
    "np.array({1,2,2,1}).shape"
   ]
  },
  {
   "cell_type": "code",
   "execution_count": 29,
   "id": "c865380c",
   "metadata": {},
   "outputs": [],
   "source": [
    "#hmm, so its basically a single element, as with set it passes the contect of the set as single element....\n",
    "#....as there is no 0 axis, and no 1 axis\n",
    "\n",
    "# so, better to convert set into list first"
   ]
  },
  {
   "cell_type": "code",
   "execution_count": 30,
   "id": "1c3759e0",
   "metadata": {},
   "outputs": [
    {
     "data": {
      "text/plain": [
       "array([1, 2])"
      ]
     },
     "execution_count": 30,
     "metadata": {},
     "output_type": "execute_result"
    }
   ],
   "source": [
    "np.array(list({1,2,2,1}))"
   ]
  },
  {
   "cell_type": "code",
   "execution_count": 31,
   "id": "90e837b1",
   "metadata": {},
   "outputs": [],
   "source": [
    "#cool, now we get the array"
   ]
  },
  {
   "cell_type": "code",
   "execution_count": 32,
   "id": "c872e05c",
   "metadata": {},
   "outputs": [],
   "source": [
    "#lets create a 2D array, it can be done by passig an embedded list, see below:"
   ]
  },
  {
   "cell_type": "code",
   "execution_count": 36,
   "id": "ab5d7f04",
   "metadata": {},
   "outputs": [],
   "source": [
    "arr2d=np.array([[1,1,1],[2,2,2],[3,3,3],[4,4,4]])"
   ]
  },
  {
   "cell_type": "code",
   "execution_count": 37,
   "id": "7bb3e8fd",
   "metadata": {},
   "outputs": [
    {
     "data": {
      "text/plain": [
       "array([[1, 1, 1],\n",
       "       [2, 2, 2],\n",
       "       [3, 3, 3],\n",
       "       [4, 4, 4]])"
      ]
     },
     "execution_count": 37,
     "metadata": {},
     "output_type": "execute_result"
    }
   ],
   "source": [
    "arr2d # so each nested list (lists within main list) forms a row"
   ]
  },
  {
   "cell_type": "code",
   "execution_count": 38,
   "id": "710f8753",
   "metadata": {},
   "outputs": [
    {
     "data": {
      "text/plain": [
       "(4, 3)"
      ]
     },
     "execution_count": 38,
     "metadata": {},
     "output_type": "execute_result"
    }
   ],
   "source": [
    "arr2d.shape"
   ]
  },
  {
   "cell_type": "code",
   "execution_count": 39,
   "id": "0994250f",
   "metadata": {},
   "outputs": [],
   "source": [
    "#so here in 2d, we have (4,3)..which is 4 rows, 3 columns"
   ]
  },
  {
   "cell_type": "code",
   "execution_count": 42,
   "id": "2ddd419d",
   "metadata": {},
   "outputs": [
    {
     "data": {
      "text/plain": [
       "[1, 2, 3, 4, 5]"
      ]
     },
     "execution_count": 42,
     "metadata": {},
     "output_type": "execute_result"
    }
   ],
   "source": [
    "#lets create another 2D array, will use list1 created above, and new list2\n",
    "\n",
    "list1"
   ]
  },
  {
   "cell_type": "code",
   "execution_count": 43,
   "id": "fef90680",
   "metadata": {},
   "outputs": [],
   "source": [
    "list2=[6,7,8,9,10]"
   ]
  },
  {
   "cell_type": "code",
   "execution_count": 52,
   "id": "fcedc2cd",
   "metadata": {},
   "outputs": [],
   "source": [
    "arr2d_2=np.array([list1,list2]) # note list1 & list2 are still in [] to create embedded list"
   ]
  },
  {
   "cell_type": "code",
   "execution_count": 53,
   "id": "02ac3d13",
   "metadata": {},
   "outputs": [
    {
     "data": {
      "text/plain": [
       "array([[ 1,  2,  3,  4,  5],\n",
       "       [ 6,  7,  8,  9, 10]])"
      ]
     },
     "execution_count": 53,
     "metadata": {},
     "output_type": "execute_result"
    }
   ],
   "source": [
    "arr2d_2"
   ]
  },
  {
   "cell_type": "code",
   "execution_count": 54,
   "id": "dcac1bed",
   "metadata": {},
   "outputs": [
    {
     "data": {
      "text/plain": [
       "(2, 5)"
      ]
     },
     "execution_count": 54,
     "metadata": {},
     "output_type": "execute_result"
    }
   ],
   "source": [
    "arr2d_2.shape"
   ]
  },
  {
   "cell_type": "code",
   "execution_count": 55,
   "id": "3a4675f5",
   "metadata": {},
   "outputs": [],
   "source": [
    "#hence 2 rows and 5 columns"
   ]
  },
  {
   "cell_type": "code",
   "execution_count": 56,
   "id": "71d05e12",
   "metadata": {},
   "outputs": [
    {
     "data": {
      "text/plain": [
       "(2, 5)"
      ]
     },
     "execution_count": 56,
     "metadata": {},
     "output_type": "execute_result"
    }
   ],
   "source": [
    "np.shape(arr2d_2)"
   ]
  },
  {
   "cell_type": "code",
   "execution_count": 57,
   "id": "206a25a0",
   "metadata": {},
   "outputs": [],
   "source": [
    "#same shape returned, just wanted to check"
   ]
  },
  {
   "cell_type": "code",
   "execution_count": 58,
   "id": "c141e6d5",
   "metadata": {},
   "outputs": [],
   "source": [
    "#data types in numpy (visit a link numpy.org data types), example longdouble data type (character code='g')\n",
    "\n",
    "# data types in numpy, offers precise values than what is offered in python"
   ]
  },
  {
   "cell_type": "code",
   "execution_count": 59,
   "id": "b3dd3687",
   "metadata": {},
   "outputs": [
    {
     "data": {
      "text/plain": [
       "33.333333333333336"
      ]
     },
     "execution_count": 59,
     "metadata": {},
     "output_type": "execute_result"
    }
   ],
   "source": [
    "#lets look at the follwoing example\n",
    "\n",
    "100/3"
   ]
  },
  {
   "cell_type": "code",
   "execution_count": 60,
   "id": "c29f3765",
   "metadata": {},
   "outputs": [],
   "source": [
    "#so its not precise after 15 the characters, lets see what longdouble does (lets convert the number to longdouble dtype)"
   ]
  },
  {
   "cell_type": "code",
   "execution_count": 61,
   "id": "68437e34",
   "metadata": {},
   "outputs": [
    {
     "data": {
      "text/plain": [
       "33.333333333333336"
      ]
     },
     "execution_count": 61,
     "metadata": {},
     "output_type": "execute_result"
    }
   ],
   "source": [
    "np.longdouble(100)/np.longdouble(3)"
   ]
  },
  {
   "cell_type": "code",
   "execution_count": 62,
   "id": "8b2aa605",
   "metadata": {},
   "outputs": [],
   "source": [
    "# lol! its same, hmm, then how come tutorial shows 2 at the end, instead of 6 :(3.3333333333333336 vs 3.3333333333333332)"
   ]
  },
  {
   "cell_type": "code",
   "execution_count": 63,
   "id": "b22ab5b7",
   "metadata": {},
   "outputs": [
    {
     "data": {
      "text/plain": [
       "33.333333333333336"
      ]
     },
     "execution_count": 63,
     "metadata": {},
     "output_type": "execute_result"
    }
   ],
   "source": [
    "np.longdouble(100/3)"
   ]
  },
  {
   "cell_type": "code",
   "execution_count": 64,
   "id": "2bceafc5",
   "metadata": {},
   "outputs": [],
   "source": [
    "#still same"
   ]
  },
  {
   "cell_type": "code",
   "execution_count": 65,
   "id": "16d1a886",
   "metadata": {},
   "outputs": [],
   "source": [
    "# cretae array with longdouble datatype"
   ]
  },
  {
   "cell_type": "code",
   "execution_count": 66,
   "id": "3469f77d",
   "metadata": {},
   "outputs": [
    {
     "data": {
      "text/plain": [
       "array([1.    , 2.    , 3.1453, 5.    ], dtype=float64)"
      ]
     },
     "execution_count": 66,
     "metadata": {},
     "output_type": "execute_result"
    }
   ],
   "source": [
    "np.array([1,2,3.1453,5], dtype=np.longdouble)"
   ]
  },
  {
   "cell_type": "code",
   "execution_count": 67,
   "id": "e128fc61",
   "metadata": {},
   "outputs": [
    {
     "data": {
      "text/plain": [
       "array([1.    , 2.    , 3.1453, 5.    ], dtype=float64)"
      ]
     },
     "execution_count": 67,
     "metadata": {},
     "output_type": "execute_result"
    }
   ],
   "source": [
    "#we can also specify this as:\n",
    "\n",
    "np.array([1,2,3.1453,5], dtype='g') #since 'g is the code for longdouble'"
   ]
  },
  {
   "cell_type": "code",
   "execution_count": 68,
   "id": "37e33d1d",
   "metadata": {},
   "outputs": [],
   "source": [
    "#array slicing and indexing"
   ]
  },
  {
   "cell_type": "code",
   "execution_count": 69,
   "id": "e1fa0a33",
   "metadata": {},
   "outputs": [],
   "source": [
    "arr1=np.array([1,1,1,1])"
   ]
  },
  {
   "cell_type": "code",
   "execution_count": 70,
   "id": "56cd49c1",
   "metadata": {},
   "outputs": [],
   "source": [
    "arr2=np.array([[1,1,1,1]])"
   ]
  },
  {
   "cell_type": "code",
   "execution_count": 71,
   "id": "b5d4362e",
   "metadata": {},
   "outputs": [
    {
     "data": {
      "text/plain": [
       "array([[ True,  True,  True,  True]])"
      ]
     },
     "execution_count": 71,
     "metadata": {},
     "output_type": "execute_result"
    }
   ],
   "source": [
    "arr1==arr2 #JLT"
   ]
  },
  {
   "cell_type": "code",
   "execution_count": 72,
   "id": "8a5962a2",
   "metadata": {},
   "outputs": [
    {
     "data": {
      "text/plain": [
       "False"
      ]
     },
     "execution_count": 72,
     "metadata": {},
     "output_type": "execute_result"
    }
   ],
   "source": [
    "2==3 #JLT"
   ]
  },
  {
   "cell_type": "code",
   "execution_count": 73,
   "id": "c481d690",
   "metadata": {},
   "outputs": [
    {
     "data": {
      "text/plain": [
       "(4,)"
      ]
     },
     "execution_count": 73,
     "metadata": {},
     "output_type": "execute_result"
    }
   ],
   "source": [
    "#Lets see the difference between arr1 and arr2\n",
    "\n",
    "arr1.shape"
   ]
  },
  {
   "cell_type": "code",
   "execution_count": 74,
   "id": "122a20cd",
   "metadata": {},
   "outputs": [
    {
     "data": {
      "text/plain": [
       "(1, 4)"
      ]
     },
     "execution_count": 74,
     "metadata": {},
     "output_type": "execute_result"
    }
   ],
   "source": [
    "arr2.shape"
   ]
  },
  {
   "cell_type": "code",
   "execution_count": 75,
   "id": "d89b758b",
   "metadata": {},
   "outputs": [],
   "source": [
    "#so arr2 is 2d array"
   ]
  },
  {
   "cell_type": "code",
   "execution_count": 80,
   "id": "988878c3",
   "metadata": {},
   "outputs": [
    {
     "ename": "ValueError",
     "evalue": "setting an array element with a sequence. The requested array has an inhomogeneous shape after 1 dimensions. The detected shape was (3,) + inhomogeneous part.",
     "output_type": "error",
     "traceback": [
      "\u001b[1;31m---------------------------------------------------------------------------\u001b[0m",
      "\u001b[1;31mValueError\u001b[0m                                Traceback (most recent call last)",
      "Cell \u001b[1;32mIn[80], line 3\u001b[0m\n\u001b[0;32m      1\u001b[0m \u001b[38;5;66;03m#jlt\u001b[39;00m\n\u001b[1;32m----> 3\u001b[0m arr3\u001b[38;5;241m=\u001b[39mnp\u001b[38;5;241m.\u001b[39marray([[\u001b[38;5;241m1\u001b[39m,\u001b[38;5;241m2\u001b[39m,\u001b[38;5;241m3\u001b[39m,\u001b[38;5;241m4\u001b[39m,\u001b[38;5;241m5\u001b[39m],[\u001b[38;5;241m5\u001b[39m,\u001b[38;5;241m6\u001b[39m,\u001b[38;5;241m7\u001b[39m,\u001b[38;5;241m8\u001b[39m],[\u001b[38;5;241m9\u001b[39m,\u001b[38;5;241m10\u001b[39m,\u001b[38;5;241m11\u001b[39m,\u001b[38;5;241m12\u001b[39m,\u001b[38;5;241m13\u001b[39m]])\n\u001b[0;32m      4\u001b[0m arr3\n",
      "\u001b[1;31mValueError\u001b[0m: setting an array element with a sequence. The requested array has an inhomogeneous shape after 1 dimensions. The detected shape was (3,) + inhomogeneous part."
     ]
    }
   ],
   "source": [
    "#jlt\n",
    "# jsut checking if nested lists has different lengths, then how array behaves (it actually throws below err)\n",
    "arr3=np.array([[1,2,3,4,5],[5,6,7,8],[9,10,11,12,13]])\n",
    "arr3"
   ]
  },
  {
   "cell_type": "code",
   "execution_count": 81,
   "id": "2c0c1154",
   "metadata": {},
   "outputs": [],
   "source": [
    "# lets come back to arr1 & arr2"
   ]
  },
  {
   "cell_type": "code",
   "execution_count": 82,
   "id": "1dc30e00",
   "metadata": {},
   "outputs": [
    {
     "data": {
      "text/plain": [
       "array([1, 1, 1, 1])"
      ]
     },
     "execution_count": 82,
     "metadata": {},
     "output_type": "execute_result"
    }
   ],
   "source": [
    "arr1"
   ]
  },
  {
   "cell_type": "code",
   "execution_count": 83,
   "id": "6e6b58f1",
   "metadata": {},
   "outputs": [
    {
     "data": {
      "text/plain": [
       "array([[1, 1, 1, 1]])"
      ]
     },
     "execution_count": 83,
     "metadata": {},
     "output_type": "execute_result"
    }
   ],
   "source": [
    "arr2"
   ]
  },
  {
   "cell_type": "code",
   "execution_count": 84,
   "id": "8e277ba6",
   "metadata": {},
   "outputs": [],
   "source": [
    "#lets come back to slicing and indexing\n",
    "\n",
    "array_1d = np.array([2,5,6,4,6,4,3])\n",
    "array_2d = np.array([[2,5,6,7,60,47,3],[11,50,6,9,62,42,30],[16,53,86,69,2,2,50]])"
   ]
  },
  {
   "cell_type": "code",
   "execution_count": 85,
   "id": "6b92d757",
   "metadata": {},
   "outputs": [
    {
     "data": {
      "text/plain": [
       "array([2, 5, 6, 4, 6, 4, 3])"
      ]
     },
     "execution_count": 85,
     "metadata": {},
     "output_type": "execute_result"
    }
   ],
   "source": [
    "array_1d"
   ]
  },
  {
   "cell_type": "code",
   "execution_count": 86,
   "id": "03be2efb",
   "metadata": {},
   "outputs": [
    {
     "data": {
      "text/plain": [
       "array([[ 2,  5,  6,  7, 60, 47,  3],\n",
       "       [11, 50,  6,  9, 62, 42, 30],\n",
       "       [16, 53, 86, 69,  2,  2, 50]])"
      ]
     },
     "execution_count": 86,
     "metadata": {},
     "output_type": "execute_result"
    }
   ],
   "source": [
    "array_2d"
   ]
  },
  {
   "cell_type": "code",
   "execution_count": 87,
   "id": "ebef9cd0",
   "metadata": {},
   "outputs": [],
   "source": [
    "#slicng & indexing 1d array is similar to list"
   ]
  },
  {
   "cell_type": "code",
   "execution_count": 88,
   "id": "4ea356d2",
   "metadata": {},
   "outputs": [
    {
     "data": {
      "text/plain": [
       "2"
      ]
     },
     "execution_count": 88,
     "metadata": {},
     "output_type": "execute_result"
    }
   ],
   "source": [
    "array_1d[0]"
   ]
  },
  {
   "cell_type": "code",
   "execution_count": 89,
   "id": "2a017f0d",
   "metadata": {},
   "outputs": [
    {
     "data": {
      "text/plain": [
       "array([2, 5, 6])"
      ]
     },
     "execution_count": 89,
     "metadata": {},
     "output_type": "execute_result"
    }
   ],
   "source": [
    "array_1d[:3]"
   ]
  },
  {
   "cell_type": "code",
   "execution_count": 91,
   "id": "b48bdb74",
   "metadata": {},
   "outputs": [
    {
     "data": {
      "text/plain": [
       "array([6, 4, 6, 4, 3])"
      ]
     },
     "execution_count": 91,
     "metadata": {},
     "output_type": "execute_result"
    }
   ],
   "source": [
    "array_1d[-5:]"
   ]
  },
  {
   "cell_type": "code",
   "execution_count": 92,
   "id": "17f3e150",
   "metadata": {},
   "outputs": [],
   "source": [
    "#lets see what about 2d array"
   ]
  },
  {
   "cell_type": "code",
   "execution_count": 110,
   "id": "f0ca5281",
   "metadata": {},
   "outputs": [
    {
     "data": {
      "text/plain": [
       "array([[ 2,  5,  6,  7, 60, 47,  3],\n",
       "       [11, 50,  6,  9, 62, 42, 30],\n",
       "       [16, 53, 86, 69,  2,  2, 50]])"
      ]
     },
     "execution_count": 110,
     "metadata": {},
     "output_type": "execute_result"
    }
   ],
   "source": [
    "array_2d"
   ]
  },
  {
   "cell_type": "code",
   "execution_count": 112,
   "id": "81e52c76",
   "metadata": {},
   "outputs": [
    {
     "data": {
      "text/plain": [
       "array([ 2,  5,  6,  7, 60, 47,  3])"
      ]
     },
     "execution_count": 112,
     "metadata": {},
     "output_type": "execute_result"
    }
   ],
   "source": [
    "array_2d[0]"
   ]
  },
  {
   "cell_type": "code",
   "execution_count": 116,
   "id": "764e089d",
   "metadata": {},
   "outputs": [
    {
     "data": {
      "text/plain": [
       "5"
      ]
     },
     "execution_count": 116,
     "metadata": {},
     "output_type": "execute_result"
    }
   ],
   "source": [
    "array_2d[0][1]"
   ]
  },
  {
   "cell_type": "code",
   "execution_count": 104,
   "id": "47383391",
   "metadata": {},
   "outputs": [
    {
     "data": {
      "text/plain": [
       "array([[ 2,  5,  6,  7, 60, 47,  3],\n",
       "       [11, 50,  6,  9, 62, 42, 30],\n",
       "       [16, 53, 86, 69,  2,  2, 50]])"
      ]
     },
     "execution_count": 104,
     "metadata": {},
     "output_type": "execute_result"
    }
   ],
   "source": [
    "array_2d[0:]"
   ]
  },
  {
   "cell_type": "code",
   "execution_count": 105,
   "id": "955b4d67",
   "metadata": {},
   "outputs": [
    {
     "data": {
      "text/plain": [
       "array([[ 2,  5,  6,  7, 60, 47,  3]])"
      ]
     },
     "execution_count": 105,
     "metadata": {},
     "output_type": "execute_result"
    }
   ],
   "source": [
    "array_2d[0:1]"
   ]
  },
  {
   "cell_type": "code",
   "execution_count": 106,
   "id": "389fe47c",
   "metadata": {},
   "outputs": [
    {
     "data": {
      "text/plain": [
       "array([[ 2,  5,  6,  7, 60, 47,  3],\n",
       "       [11, 50,  6,  9, 62, 42, 30]])"
      ]
     },
     "execution_count": 106,
     "metadata": {},
     "output_type": "execute_result"
    }
   ],
   "source": [
    "array_2d[0:2]"
   ]
  },
  {
   "cell_type": "code",
   "execution_count": 113,
   "id": "83df9110",
   "metadata": {},
   "outputs": [
    {
     "data": {
      "text/plain": [
       "array([11, 50,  6,  9, 62, 42, 30])"
      ]
     },
     "execution_count": 113,
     "metadata": {},
     "output_type": "execute_result"
    }
   ],
   "source": [
    "array_2d[1]"
   ]
  },
  {
   "cell_type": "code",
   "execution_count": 107,
   "id": "00aae833",
   "metadata": {},
   "outputs": [
    {
     "data": {
      "text/plain": [
       "array([[11, 50,  6,  9, 62, 42, 30],\n",
       "       [16, 53, 86, 69,  2,  2, 50]])"
      ]
     },
     "execution_count": 107,
     "metadata": {},
     "output_type": "execute_result"
    }
   ],
   "source": [
    "array_2d[1:]"
   ]
  },
  {
   "cell_type": "code",
   "execution_count": 109,
   "id": "35264f61",
   "metadata": {},
   "outputs": [
    {
     "data": {
      "text/plain": [
       "array([[11, 50,  6,  9, 62, 42, 30]])"
      ]
     },
     "execution_count": 109,
     "metadata": {},
     "output_type": "execute_result"
    }
   ],
   "source": [
    "array_2d[1:2]"
   ]
  },
  {
   "cell_type": "code",
   "execution_count": 111,
   "id": "906cb1e7",
   "metadata": {},
   "outputs": [
    {
     "data": {
      "text/plain": [
       "array([[11, 50,  6,  9, 62, 42, 30],\n",
       "       [16, 53, 86, 69,  2,  2, 50]])"
      ]
     },
     "execution_count": 111,
     "metadata": {},
     "output_type": "execute_result"
    }
   ],
   "source": [
    "array_2d[1:3]"
   ]
  },
  {
   "cell_type": "code",
   "execution_count": 114,
   "id": "06402b68",
   "metadata": {},
   "outputs": [
    {
     "data": {
      "text/plain": [
       "array([16, 53, 86, 69,  2,  2, 50])"
      ]
     },
     "execution_count": 114,
     "metadata": {},
     "output_type": "execute_result"
    }
   ],
   "source": [
    "array_2d[2]"
   ]
  },
  {
   "cell_type": "code",
   "execution_count": 115,
   "id": "9ee79527",
   "metadata": {},
   "outputs": [],
   "source": [
    "#looking similar to list, but wait..what if we want [6,9,62,42,30]\n",
    "#                                                   [86,69,2,2,50]\n",
    "\n",
    "#so looks we will go to row1 [11,50,6,9,62,42,30], and then take everything from 2nd index onwards, so lets try:"
   ]
  },
  {
   "cell_type": "code",
   "execution_count": 117,
   "id": "99be4d8b",
   "metadata": {},
   "outputs": [
    {
     "data": {
      "text/plain": [
       "array([ 6, 86])"
      ]
     },
     "execution_count": 117,
     "metadata": {},
     "output_type": "execute_result"
    }
   ],
   "source": [
    "array_2d[1:,2]"
   ]
  },
  {
   "cell_type": "code",
   "execution_count": 118,
   "id": "15c1fa70",
   "metadata": {},
   "outputs": [],
   "source": [
    "#so we only get 1st index row, 2nd indexed column (but we also want everything after 2), so use 2:"
   ]
  },
  {
   "cell_type": "code",
   "execution_count": 119,
   "id": "74d39572",
   "metadata": {},
   "outputs": [
    {
     "data": {
      "text/plain": [
       "array([[ 6,  9, 62, 42, 30],\n",
       "       [86, 69,  2,  2, 50]])"
      ]
     },
     "execution_count": 119,
     "metadata": {},
     "output_type": "execute_result"
    }
   ],
   "source": [
    "array_2d[1:,2:]"
   ]
  },
  {
   "cell_type": "code",
   "execution_count": 120,
   "id": "a503b6e3",
   "metadata": {},
   "outputs": [],
   "source": [
    "#cool, so go to indexed row, then indexed column (and suitably use 1,2 or 1:,2: as required)"
   ]
  },
  {
   "cell_type": "code",
   "execution_count": 121,
   "id": "0b58cc07",
   "metadata": {},
   "outputs": [],
   "source": [
    "# lets say if we want [50,  6,  9, 62],\n",
    "#                      [53, 86, 69,2]\n",
    "\n",
    "# so we now have to take index 1 for row (as 1:), and index 1 to 5 for column (as ,1:5)"
   ]
  },
  {
   "cell_type": "code",
   "execution_count": 125,
   "id": "c0dbb37f",
   "metadata": {},
   "outputs": [
    {
     "data": {
      "text/plain": [
       "array([[50,  6,  9, 62],\n",
       "       [53, 86, 69,  2]])"
      ]
     },
     "execution_count": 125,
     "metadata": {},
     "output_type": "execute_result"
    }
   ],
   "source": [
    "array_2d[1:,1:5]\n",
    "\n",
    "#so this says, on x (rows), give me element 1 and after, and on y (columns), give me 1 to 4 index (1-5 columns)"
   ]
  },
  {
   "cell_type": "code",
   "execution_count": 132,
   "id": "3d3a63cc",
   "metadata": {},
   "outputs": [
    {
     "data": {
      "text/plain": [
       "50"
      ]
     },
     "execution_count": 132,
     "metadata": {},
     "output_type": "execute_result"
    }
   ],
   "source": [
    "# to return element 50, use:\n",
    "array_2d[2,6]"
   ]
  },
  {
   "cell_type": "code",
   "execution_count": 133,
   "id": "d87cb93b",
   "metadata": {},
   "outputs": [
    {
     "data": {
      "text/plain": [
       "50"
      ]
     },
     "execution_count": 133,
     "metadata": {},
     "output_type": "execute_result"
    }
   ],
   "source": [
    "#or\n",
    "array_2d[2,-1]"
   ]
  },
  {
   "cell_type": "code",
   "execution_count": 134,
   "id": "420ab695",
   "metadata": {},
   "outputs": [],
   "source": [
    "#reversing everything on 0 axis"
   ]
  },
  {
   "cell_type": "code",
   "execution_count": 135,
   "id": "4e73f2da",
   "metadata": {},
   "outputs": [
    {
     "data": {
      "text/plain": [
       "array([ 3, 47, 60,  7,  6,  5])"
      ]
     },
     "execution_count": 135,
     "metadata": {},
     "output_type": "execute_result"
    }
   ],
   "source": [
    "array_2d[0][-1:-7:-1]"
   ]
  },
  {
   "cell_type": "code",
   "execution_count": 141,
   "id": "3a83a6c0",
   "metadata": {},
   "outputs": [
    {
     "data": {
      "text/plain": [
       "array([ 3, 47, 60,  7,  6,  5])"
      ]
     },
     "execution_count": 141,
     "metadata": {},
     "output_type": "execute_result"
    }
   ],
   "source": [
    "#or\n",
    "array_2d[0][7:0:-1]"
   ]
  },
  {
   "cell_type": "code",
   "execution_count": 142,
   "id": "19134643",
   "metadata": {},
   "outputs": [
    {
     "data": {
      "text/plain": [
       "array([[ 2,  5,  6,  7, 60, 47,  3],\n",
       "       [11, 50,  6,  9, 62, 42, 30],\n",
       "       [16, 53, 86, 69,  2,  2, 50]])"
      ]
     },
     "execution_count": 142,
     "metadata": {},
     "output_type": "execute_result"
    }
   ],
   "source": [
    "array_2d"
   ]
  },
  {
   "cell_type": "code",
   "execution_count": 140,
   "id": "973f7abc",
   "metadata": {},
   "outputs": [
    {
     "data": {
      "text/plain": [
       "array([[16, 53, 86, 69,  2,  2, 50],\n",
       "       [11, 50,  6,  9, 62, 42, 30],\n",
       "       [ 2,  5,  6,  7, 60, 47,  3]])"
      ]
     },
     "execution_count": 140,
     "metadata": {},
     "output_type": "execute_result"
    }
   ],
   "source": [
    "#reversing the whole array (:,:-1) ....along 0 indexed row (upside down)\n",
    "array_2d[::-1]"
   ]
  },
  {
   "cell_type": "code",
   "execution_count": 157,
   "id": "00dea421",
   "metadata": {},
   "outputs": [],
   "source": [
    "#JLTs"
   ]
  },
  {
   "cell_type": "code",
   "execution_count": 159,
   "id": "ca6c7a54",
   "metadata": {},
   "outputs": [
    {
     "data": {
      "text/plain": [
       "array([ 2,  5,  6,  7, 60, 47,  3])"
      ]
     },
     "execution_count": 159,
     "metadata": {},
     "output_type": "execute_result"
    }
   ],
   "source": [
    "array_2d[0]"
   ]
  },
  {
   "cell_type": "code",
   "execution_count": 160,
   "id": "57ea2232",
   "metadata": {},
   "outputs": [
    {
     "data": {
      "text/plain": [
       "5"
      ]
     },
     "execution_count": 160,
     "metadata": {},
     "output_type": "execute_result"
    }
   ],
   "source": [
    "array_2d[0,1]"
   ]
  },
  {
   "cell_type": "code",
   "execution_count": 162,
   "id": "77be0836",
   "metadata": {},
   "outputs": [
    {
     "data": {
      "text/plain": [
       "array([5, 6])"
      ]
     },
     "execution_count": 162,
     "metadata": {},
     "output_type": "execute_result"
    }
   ],
   "source": [
    "array_2d[0,1:3]"
   ]
  },
  {
   "cell_type": "code",
   "execution_count": 163,
   "id": "387bc882",
   "metadata": {},
   "outputs": [
    {
     "data": {
      "text/plain": [
       "array([[ 2,  5,  6,  7, 60, 47,  3]])"
      ]
     },
     "execution_count": 163,
     "metadata": {},
     "output_type": "execute_result"
    }
   ],
   "source": [
    "array_2d[0:1]"
   ]
  },
  {
   "cell_type": "code",
   "execution_count": 172,
   "id": "02d5c0f3",
   "metadata": {},
   "outputs": [
    {
     "data": {
      "text/plain": [
       "array([[  4,  10,  12,  14, 120,  94,   6]])"
      ]
     },
     "execution_count": 172,
     "metadata": {},
     "output_type": "execute_result"
    }
   ],
   "source": [
    "array_2d[0:1]+array_2d[0:1]"
   ]
  },
  {
   "cell_type": "code",
   "execution_count": 173,
   "id": "658cd1ba",
   "metadata": {},
   "outputs": [
    {
     "data": {
      "text/plain": [
       "array([[ 4,  7,  8,  9, 62, 49,  5]])"
      ]
     },
     "execution_count": 173,
     "metadata": {},
     "output_type": "execute_result"
    }
   ],
   "source": [
    "array_2d[0:1]+2"
   ]
  },
  {
   "cell_type": "code",
   "execution_count": 181,
   "id": "a4537f3a",
   "metadata": {},
   "outputs": [
    {
     "data": {
      "text/plain": [
       "array([[11, 50],\n",
       "       [16, 53]])"
      ]
     },
     "execution_count": 181,
     "metadata": {},
     "output_type": "execute_result"
    }
   ],
   "source": [
    "array_2d[1:,:2] #this says  on x (rows) go & start from index row1 (which is 2nd row)...\n",
    "#                                ........and then on y, take the values before indexed column 2. note - ',' is for (x,y)"
   ]
  },
  {
   "cell_type": "code",
   "execution_count": 182,
   "id": "5feef31f",
   "metadata": {},
   "outputs": [
    {
     "data": {
      "text/plain": [
       "array([ 6, 86])"
      ]
     },
     "execution_count": 182,
     "metadata": {},
     "output_type": "execute_result"
    }
   ],
   "source": [
    "array_2d[1:,2] #this says  on x (rows) go & start from index row 1 (which is 2nd row)...\n",
    "#                                ........and then on y, take the values at indexed column 2. note - ',' is for (x,y)"
   ]
  },
  {
   "cell_type": "code",
   "execution_count": 183,
   "id": "130b778f",
   "metadata": {},
   "outputs": [
    {
     "data": {
      "text/plain": [
       "array([[ 6,  9, 62, 42, 30],\n",
       "       [86, 69,  2,  2, 50]])"
      ]
     },
     "execution_count": 183,
     "metadata": {},
     "output_type": "execute_result"
    }
   ],
   "source": [
    "array_2d[1:,2:] #this says  on x (rows) go & start from index row1 (which is 2nd row)...\n",
    "#                                .....and then on y, take the values at and after indexed column 2. note - ',' is for (x,y)"
   ]
  },
  {
   "cell_type": "code",
   "execution_count": 190,
   "id": "d23130d1",
   "metadata": {},
   "outputs": [
    {
     "data": {
      "text/plain": [
       "array([ 3, 30, 50])"
      ]
     },
     "execution_count": 190,
     "metadata": {},
     "output_type": "execute_result"
    }
   ],
   "source": [
    "array_2d[:3:1,-1] #this says  on x (rows) go & start from index row 0 (which is 1 row) and then go up to index row (3-1=2)...\n",
    "#                                .....which is 3rd row, so basically take all rows...and then on y, take the values...\n",
    "#                              .....at indexed column of -1 (which is last column). note - ',' is for (x,y)"
   ]
  },
  {
   "cell_type": "code",
   "execution_count": 197,
   "id": "3900f66b",
   "metadata": {},
   "outputs": [
    {
     "data": {
      "text/plain": [
       "array([[ 3, 47, 60,  7,  6,  5,  2],\n",
       "       [30, 42, 62,  9,  6, 50, 11],\n",
       "       [50,  2,  2, 69, 86, 53, 16]])"
      ]
     },
     "execution_count": 197,
     "metadata": {},
     "output_type": "execute_result"
    }
   ],
   "source": [
    "#reversing the whole array (:,:-1) ....along 0 indexed column (right side turned to left)\n",
    "array_2d[:,::-1]"
   ]
  },
  {
   "cell_type": "code",
   "execution_count": 199,
   "id": "b29814bb",
   "metadata": {},
   "outputs": [
    {
     "data": {
      "text/plain": [
       "array([[ 3, 47, 60,  7,  6,  5,  2],\n",
       "       [30, 42, 62,  9,  6, 50, 11],\n",
       "       [50,  2,  2, 69, 86, 53, 16]])"
      ]
     },
     "execution_count": 199,
     "metadata": {},
     "output_type": "execute_result"
    }
   ],
   "source": [
    "#or\n",
    "array_2d[:,-1:-8:-1]"
   ]
  },
  {
   "cell_type": "code",
   "execution_count": 200,
   "id": "547b33bd",
   "metadata": {},
   "outputs": [],
   "source": [
    "#boolean array indexing"
   ]
  },
  {
   "cell_type": "code",
   "execution_count": 201,
   "id": "abf7835d",
   "metadata": {},
   "outputs": [
    {
     "data": {
      "text/plain": [
       "array([2, 5, 6, 4, 6, 4, 3])"
      ]
     },
     "execution_count": 201,
     "metadata": {},
     "output_type": "execute_result"
    }
   ],
   "source": [
    "array_1d"
   ]
  },
  {
   "cell_type": "code",
   "execution_count": 203,
   "id": "1048db70",
   "metadata": {},
   "outputs": [
    {
     "data": {
      "text/plain": [
       "array([False,  True,  True,  True,  True,  True, False])"
      ]
     },
     "execution_count": 203,
     "metadata": {},
     "output_type": "execute_result"
    }
   ],
   "source": [
    "array_1d>3 # so this way we get false where element is less than 3, and true where element >3"
   ]
  },
  {
   "cell_type": "code",
   "execution_count": 210,
   "id": "ecad4410",
   "metadata": {},
   "outputs": [
    {
     "data": {
      "text/plain": [
       "array([False,  True,  True,  True,  True,  True, False])"
      ]
     },
     "execution_count": 210,
     "metadata": {},
     "output_type": "execute_result"
    }
   ],
   "source": [
    "#we are looking to pull elements from array_1d that are greater than 3 (FILTERING ARRAY)\n",
    "\n",
    "array_1d_filtered1=np.array(array_1d>3)\n",
    "array_1d_filtered1"
   ]
  },
  {
   "cell_type": "code",
   "execution_count": 211,
   "id": "49cd4548",
   "metadata": {},
   "outputs": [],
   "source": [
    "#no, not this way, we dont need np.array, just mention array_1d(array_1d>3), lets filter it again"
   ]
  },
  {
   "cell_type": "code",
   "execution_count": 216,
   "id": "1b3baead",
   "metadata": {},
   "outputs": [
    {
     "data": {
      "text/plain": [
       "array([5, 6, 4, 6, 4])"
      ]
     },
     "execution_count": 216,
     "metadata": {},
     "output_type": "execute_result"
    }
   ],
   "source": [
    "array_1d_filtered2=array_1d[array_1d>3] #note: we are using'[]' sq bracket for this operation on original array\n",
    "array_1d_filtered2"
   ]
  },
  {
   "cell_type": "code",
   "execution_count": 217,
   "id": "7436991c",
   "metadata": {},
   "outputs": [],
   "source": [
    "#cool, nw lets see this in array_2d"
   ]
  },
  {
   "cell_type": "code",
   "execution_count": 218,
   "id": "2eb738da",
   "metadata": {},
   "outputs": [
    {
     "data": {
      "text/plain": [
       "array([[ 2,  5,  6,  7, 60, 47,  3],\n",
       "       [11, 50,  6,  9, 62, 42, 30],\n",
       "       [16, 53, 86, 69,  2,  2, 50]])"
      ]
     },
     "execution_count": 218,
     "metadata": {},
     "output_type": "execute_result"
    }
   ],
   "source": [
    "array_2d"
   ]
  },
  {
   "cell_type": "code",
   "execution_count": 220,
   "id": "5e9262a1",
   "metadata": {},
   "outputs": [
    {
     "data": {
      "text/plain": [
       "array([[False, False, False, False,  True,  True, False],\n",
       "       [ True,  True, False, False,  True,  True,  True],\n",
       "       [ True,  True,  True,  True, False, False,  True]])"
      ]
     },
     "execution_count": 220,
     "metadata": {},
     "output_type": "execute_result"
    }
   ],
   "source": [
    "array_2d>10"
   ]
  },
  {
   "cell_type": "code",
   "execution_count": 222,
   "id": "351e5919",
   "metadata": {},
   "outputs": [
    {
     "data": {
      "text/plain": [
       "array([60, 47, 11, 50, 62, 42, 30, 16, 53, 86, 69, 50])"
      ]
     },
     "execution_count": 222,
     "metadata": {},
     "output_type": "execute_result"
    }
   ],
   "source": [
    "array_1d_filtered2d = array_2d[array_2d>10]\n",
    "array_1d_filtered2d"
   ]
  },
  {
   "cell_type": "code",
   "execution_count": 223,
   "id": "2f1b279a",
   "metadata": {},
   "outputs": [
    {
     "data": {
      "text/plain": [
       "(12,)"
      ]
     },
     "execution_count": 223,
     "metadata": {},
     "output_type": "execute_result"
    }
   ],
   "source": [
    "array_1d_filtered2d.shape"
   ]
  },
  {
   "cell_type": "code",
   "execution_count": 224,
   "id": "744e5a0e",
   "metadata": {},
   "outputs": [],
   "source": [
    "#hmm, it changed it to 1d array, cool"
   ]
  },
  {
   "cell_type": "code",
   "execution_count": 226,
   "id": "607c0cdf",
   "metadata": {},
   "outputs": [],
   "source": [
    "#1 more thing before wrapping up, lets create an array and list"
   ]
  },
  {
   "cell_type": "code",
   "execution_count": 240,
   "id": "6a7859c6",
   "metadata": {},
   "outputs": [],
   "source": [
    "array_1=np.array([1,1,2,3,4])"
   ]
  },
  {
   "cell_type": "markdown",
   "id": "223c18d5",
   "metadata": {},
   "source": [
    "list_1=[1,1,2,3,4]"
   ]
  },
  {
   "cell_type": "code",
   "execution_count": 229,
   "id": "c00ebd45",
   "metadata": {},
   "outputs": [],
   "source": [
    "list_1=[1,1,2,3,4]"
   ]
  },
  {
   "cell_type": "code",
   "execution_count": 232,
   "id": "770103f7",
   "metadata": {},
   "outputs": [],
   "source": [
    "list_1[0]=10 #assigning value 10 to 1st element (at 0 index)"
   ]
  },
  {
   "cell_type": "code",
   "execution_count": 233,
   "id": "46f5ccdb",
   "metadata": {},
   "outputs": [
    {
     "data": {
      "text/plain": [
       "[10, 1, 2, 3, 4]"
      ]
     },
     "execution_count": 233,
     "metadata": {},
     "output_type": "execute_result"
    }
   ],
   "source": [
    "list_1"
   ]
  },
  {
   "cell_type": "code",
   "execution_count": 234,
   "id": "cfd5b138",
   "metadata": {},
   "outputs": [],
   "source": [
    "#cool, list changed. Now, how about assigning 10 to all other value of list (you will see error here)"
   ]
  },
  {
   "cell_type": "code",
   "execution_count": 237,
   "id": "6b3ded01",
   "metadata": {},
   "outputs": [
    {
     "data": {
      "text/plain": [
       "[10, 1, 2, 3, 4]"
      ]
     },
     "execution_count": 237,
     "metadata": {},
     "output_type": "execute_result"
    }
   ],
   "source": [
    "list_1[:]"
   ]
  },
  {
   "cell_type": "code",
   "execution_count": 238,
   "id": "b12dcef1",
   "metadata": {},
   "outputs": [
    {
     "ename": "TypeError",
     "evalue": "can only assign an iterable",
     "output_type": "error",
     "traceback": [
      "\u001b[1;31m---------------------------------------------------------------------------\u001b[0m",
      "\u001b[1;31mTypeError\u001b[0m                                 Traceback (most recent call last)",
      "Cell \u001b[1;32mIn[238], line 1\u001b[0m\n\u001b[1;32m----> 1\u001b[0m list_1[:]\u001b[38;5;241m=\u001b[39m\u001b[38;5;241m10\u001b[39m\n",
      "\u001b[1;31mTypeError\u001b[0m: can only assign an iterable"
     ]
    }
   ],
   "source": [
    "list_1[:]=10"
   ]
  },
  {
   "cell_type": "code",
   "execution_count": 239,
   "id": "a08a93d3",
   "metadata": {},
   "outputs": [],
   "source": [
    "#hmm, can we do this in array, lets see"
   ]
  },
  {
   "cell_type": "code",
   "execution_count": 241,
   "id": "3a74c309",
   "metadata": {},
   "outputs": [
    {
     "data": {
      "text/plain": [
       "array([1, 1, 2, 3, 4])"
      ]
     },
     "execution_count": 241,
     "metadata": {},
     "output_type": "execute_result"
    }
   ],
   "source": [
    "array_1"
   ]
  },
  {
   "cell_type": "code",
   "execution_count": 242,
   "id": "86745c65",
   "metadata": {},
   "outputs": [],
   "source": [
    "array_1[:]=10"
   ]
  },
  {
   "cell_type": "code",
   "execution_count": 243,
   "id": "0a3df9c7",
   "metadata": {},
   "outputs": [
    {
     "data": {
      "text/plain": [
       "array([10, 10, 10, 10, 10])"
      ]
     },
     "execution_count": 243,
     "metadata": {},
     "output_type": "execute_result"
    }
   ],
   "source": [
    "array_1"
   ]
  },
  {
   "cell_type": "code",
   "execution_count": 244,
   "id": "bdd7805c",
   "metadata": {},
   "outputs": [],
   "source": [
    "#cool, so with array, we can reassign values easily"
   ]
  }
 ],
 "metadata": {
  "kernelspec": {
   "display_name": "Python 3 (ipykernel)",
   "language": "python",
   "name": "python3"
  },
  "language_info": {
   "codemirror_mode": {
    "name": "ipython",
    "version": 3
   },
   "file_extension": ".py",
   "mimetype": "text/x-python",
   "name": "python",
   "nbconvert_exporter": "python",
   "pygments_lexer": "ipython3",
   "version": "3.11.5"
  }
 },
 "nbformat": 4,
 "nbformat_minor": 5
}
