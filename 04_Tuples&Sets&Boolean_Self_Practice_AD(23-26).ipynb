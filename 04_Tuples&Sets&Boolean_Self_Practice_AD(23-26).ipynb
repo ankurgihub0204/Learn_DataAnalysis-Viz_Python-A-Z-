{
 "cells": [
  {
   "cell_type": "code",
   "execution_count": 1,
   "id": "30cc3ae9",
   "metadata": {},
   "outputs": [],
   "source": [
    "#TUPLES\n",
    "#tuples (immutables, and allows duplicates)\n",
    "#lists are mutables"
   ]
  },
  {
   "cell_type": "code",
   "execution_count": 2,
   "id": "fbc15497",
   "metadata": {},
   "outputs": [
    {
     "data": {
      "text/plain": [
       "(1, 2, 2, 3)"
      ]
     },
     "execution_count": 2,
     "metadata": {},
     "output_type": "execute_result"
    }
   ],
   "source": [
    "x=(1,2,2,3)\n",
    "x"
   ]
  },
  {
   "cell_type": "code",
   "execution_count": 3,
   "id": "2ec58ea7",
   "metadata": {},
   "outputs": [
    {
     "data": {
      "text/plain": [
       "tuple"
      ]
     },
     "execution_count": 3,
     "metadata": {},
     "output_type": "execute_result"
    }
   ],
   "source": [
    "type(x)"
   ]
  },
  {
   "cell_type": "code",
   "execution_count": 4,
   "id": "e36c8d2c",
   "metadata": {},
   "outputs": [],
   "source": [
    "#tuples can too store multiple data types\n",
    "x=(1, 'John', [1,2,3], {'key1':'value1'})"
   ]
  },
  {
   "cell_type": "code",
   "execution_count": 5,
   "id": "d4eaaf0d",
   "metadata": {},
   "outputs": [
    {
     "data": {
      "text/plain": [
       "(1, 'John', [1, 2, 3], {'key1': 'value1'})"
      ]
     },
     "execution_count": 5,
     "metadata": {},
     "output_type": "execute_result"
    }
   ],
   "source": [
    "x"
   ]
  },
  {
   "cell_type": "code",
   "execution_count": 6,
   "id": "e4be34a6",
   "metadata": {},
   "outputs": [
    {
     "data": {
      "text/plain": [
       "tuple"
      ]
     },
     "execution_count": 6,
     "metadata": {},
     "output_type": "execute_result"
    }
   ],
   "source": [
    "type(x)"
   ]
  },
  {
   "cell_type": "code",
   "execution_count": 8,
   "id": "d22babda",
   "metadata": {},
   "outputs": [
    {
     "data": {
      "text/plain": [
       "1"
      ]
     },
     "execution_count": 8,
     "metadata": {},
     "output_type": "execute_result"
    }
   ],
   "source": [
    "#indexing and slicing Tuple\n",
    "x[0]"
   ]
  },
  {
   "cell_type": "code",
   "execution_count": 9,
   "id": "7e9da076",
   "metadata": {},
   "outputs": [],
   "source": [
    "#demoing immutability, i.e. value cant be changed"
   ]
  },
  {
   "cell_type": "code",
   "execution_count": 10,
   "id": "444779ac",
   "metadata": {},
   "outputs": [
    {
     "ename": "TypeError",
     "evalue": "'tuple' object does not support item assignment",
     "output_type": "error",
     "traceback": [
      "\u001b[1;31m---------------------------------------------------------------------------\u001b[0m",
      "\u001b[1;31mTypeError\u001b[0m                                 Traceback (most recent call last)",
      "Cell \u001b[1;32mIn[10], line 1\u001b[0m\n\u001b[1;32m----> 1\u001b[0m x[\u001b[38;5;241m0\u001b[39m]\u001b[38;5;241m=\u001b[39m\u001b[38;5;241m2\u001b[39m\n",
      "\u001b[1;31mTypeError\u001b[0m: 'tuple' object does not support item assignment"
     ]
    }
   ],
   "source": [
    "x[0]=2"
   ]
  },
  {
   "cell_type": "code",
   "execution_count": 11,
   "id": "d7c3c046",
   "metadata": {},
   "outputs": [],
   "source": [
    "#above error suggests that tuples are immutable, and hence doesn't support item assignment"
   ]
  },
  {
   "cell_type": "code",
   "execution_count": 12,
   "id": "16014582",
   "metadata": {},
   "outputs": [],
   "source": [
    "#only 2 methods are assoicated with tuples (count and index)\n",
    "#counts displaces how many times an item is present in the tuple\n",
    "#indexs tells us the first position of the item"
   ]
  },
  {
   "cell_type": "code",
   "execution_count": 13,
   "id": "897b21cf",
   "metadata": {},
   "outputs": [
    {
     "data": {
      "text/plain": [
       "3"
      ]
     },
     "execution_count": 13,
     "metadata": {},
     "output_type": "execute_result"
    }
   ],
   "source": [
    "x=(1,1,1,2,3,3,3,3) #reassigned x\n",
    "x.count(1)"
   ]
  },
  {
   "cell_type": "code",
   "execution_count": 14,
   "id": "add0b010",
   "metadata": {},
   "outputs": [
    {
     "data": {
      "text/plain": [
       "1"
      ]
     },
     "execution_count": 14,
     "metadata": {},
     "output_type": "execute_result"
    }
   ],
   "source": [
    "x.count(2)"
   ]
  },
  {
   "cell_type": "code",
   "execution_count": 15,
   "id": "0fa8e9df",
   "metadata": {},
   "outputs": [
    {
     "data": {
      "text/plain": [
       "4"
      ]
     },
     "execution_count": 15,
     "metadata": {},
     "output_type": "execute_result"
    }
   ],
   "source": [
    "x.count(3)"
   ]
  },
  {
   "cell_type": "code",
   "execution_count": 16,
   "id": "9026770c",
   "metadata": {},
   "outputs": [
    {
     "data": {
      "text/plain": [
       "0"
      ]
     },
     "execution_count": 16,
     "metadata": {},
     "output_type": "execute_result"
    }
   ],
   "source": [
    "x.index(1) # as we can see 1st 1 is at postion 0"
   ]
  },
  {
   "cell_type": "code",
   "execution_count": 17,
   "id": "eeca5a57",
   "metadata": {},
   "outputs": [
    {
     "data": {
      "text/plain": [
       "3"
      ]
     },
     "execution_count": 17,
     "metadata": {},
     "output_type": "execute_result"
    }
   ],
   "source": [
    "x.index(2) # as we can see 1st 2 is at postion 3"
   ]
  },
  {
   "cell_type": "code",
   "execution_count": 18,
   "id": "7fa90bf4",
   "metadata": {},
   "outputs": [
    {
     "data": {
      "text/plain": [
       "4"
      ]
     },
     "execution_count": 18,
     "metadata": {},
     "output_type": "execute_result"
    }
   ],
   "source": [
    "x.index(3) # as we can see 1st 3 is at postion 4"
   ]
  },
  {
   "cell_type": "code",
   "execution_count": 19,
   "id": "3fda6a4a",
   "metadata": {},
   "outputs": [],
   "source": [
    "#NOW SETS (mutable, but no duplicates, and are unordered)\n",
    "#sets are also in curly brackets, but ARE NOT dictionary (as no key-value pair applibacle here).\n",
    "#just like tuples but in curly bracket\n",
    "#Can not index or slice"
   ]
  },
  {
   "cell_type": "code",
   "execution_count": 20,
   "id": "b069a81d",
   "metadata": {},
   "outputs": [
    {
     "data": {
      "text/plain": [
       "{1, 2, 3}"
      ]
     },
     "execution_count": 20,
     "metadata": {},
     "output_type": "execute_result"
    }
   ],
   "source": [
    "y={1,2,3}\n",
    "y"
   ]
  },
  {
   "cell_type": "code",
   "execution_count": 21,
   "id": "ce8356e7",
   "metadata": {},
   "outputs": [
    {
     "data": {
      "text/plain": [
       "set"
      ]
     },
     "execution_count": 21,
     "metadata": {},
     "output_type": "execute_result"
    }
   ],
   "source": [
    "type(y)"
   ]
  },
  {
   "cell_type": "code",
   "execution_count": 23,
   "id": "52d471e5",
   "metadata": {},
   "outputs": [],
   "source": [
    "#to create an empty set\n",
    "y=set()"
   ]
  },
  {
   "cell_type": "code",
   "execution_count": 24,
   "id": "98d700b4",
   "metadata": {},
   "outputs": [
    {
     "data": {
      "text/plain": [
       "set()"
      ]
     },
     "execution_count": 24,
     "metadata": {},
     "output_type": "execute_result"
    }
   ],
   "source": [
    "y"
   ]
  },
  {
   "cell_type": "code",
   "execution_count": 25,
   "id": "a3764c88",
   "metadata": {},
   "outputs": [
    {
     "data": {
      "text/plain": [
       "set"
      ]
     },
     "execution_count": 25,
     "metadata": {},
     "output_type": "execute_result"
    }
   ],
   "source": [
    "type(y)"
   ]
  },
  {
   "cell_type": "code",
   "execution_count": 26,
   "id": "cf858cdf",
   "metadata": {},
   "outputs": [],
   "source": [
    "#intutively, we go to creating empty set like this\n",
    "y={}"
   ]
  },
  {
   "cell_type": "code",
   "execution_count": 27,
   "id": "3bb7e682",
   "metadata": {},
   "outputs": [
    {
     "data": {
      "text/plain": [
       "dict"
      ]
     },
     "execution_count": 27,
     "metadata": {},
     "output_type": "execute_result"
    }
   ],
   "source": [
    "type(y) # but this leads to creating a dictionary"
   ]
  },
  {
   "cell_type": "code",
   "execution_count": 28,
   "id": "c9603b6a",
   "metadata": {},
   "outputs": [],
   "source": [
    "y={1,2,'John'}"
   ]
  },
  {
   "cell_type": "code",
   "execution_count": 29,
   "id": "90dccb07",
   "metadata": {},
   "outputs": [
    {
     "data": {
      "text/plain": [
       "{1, 2, 'John'}"
      ]
     },
     "execution_count": 29,
     "metadata": {},
     "output_type": "execute_result"
    }
   ],
   "source": [
    "y"
   ]
  },
  {
   "cell_type": "code",
   "execution_count": 30,
   "id": "339f90a3",
   "metadata": {},
   "outputs": [],
   "source": [
    "#SET Methods (add,)"
   ]
  },
  {
   "cell_type": "code",
   "execution_count": 31,
   "id": "0012301a",
   "metadata": {},
   "outputs": [],
   "source": [
    "y.add(5) #to add an element to the set"
   ]
  },
  {
   "cell_type": "code",
   "execution_count": 32,
   "id": "ad07fb61",
   "metadata": {},
   "outputs": [
    {
     "data": {
      "text/plain": [
       "{1, 2, 5, 'John'}"
      ]
     },
     "execution_count": 32,
     "metadata": {},
     "output_type": "execute_result"
    }
   ],
   "source": [
    "y"
   ]
  },
  {
   "cell_type": "code",
   "execution_count": 33,
   "id": "f73746ec",
   "metadata": {},
   "outputs": [],
   "source": [
    "#lets try adding 5 again, it wont throw an error, but also it wont add a duplicate 5. Lets see that below\n",
    "y.add(5)"
   ]
  },
  {
   "cell_type": "code",
   "execution_count": 34,
   "id": "09b5a5c8",
   "metadata": {},
   "outputs": [
    {
     "data": {
      "text/plain": [
       "{1, 2, 5, 'John'}"
      ]
     },
     "execution_count": 34,
     "metadata": {},
     "output_type": "execute_result"
    }
   ],
   "source": [
    "y"
   ]
  },
  {
   "cell_type": "code",
   "execution_count": 35,
   "id": "118c15fd",
   "metadata": {},
   "outputs": [],
   "source": [
    "# so you see, no duplicate 5. Also below rr set is another example"
   ]
  },
  {
   "cell_type": "code",
   "execution_count": 36,
   "id": "82fe0a8b",
   "metadata": {},
   "outputs": [],
   "source": [
    "rr={1,1,2}"
   ]
  },
  {
   "cell_type": "code",
   "execution_count": 37,
   "id": "5a048fc6",
   "metadata": {},
   "outputs": [
    {
     "data": {
      "text/plain": [
       "{1, 2}"
      ]
     },
     "execution_count": 37,
     "metadata": {},
     "output_type": "execute_result"
    }
   ],
   "source": [
    "rr"
   ]
  },
  {
   "cell_type": "code",
   "execution_count": 38,
   "id": "9b04b2f4",
   "metadata": {},
   "outputs": [
    {
     "data": {
      "text/plain": [
       "set"
      ]
     },
     "execution_count": 38,
     "metadata": {},
     "output_type": "execute_result"
    }
   ],
   "source": [
    "type(rr)"
   ]
  },
  {
   "cell_type": "code",
   "execution_count": 39,
   "id": "c70a0e21",
   "metadata": {},
   "outputs": [],
   "source": [
    "#so, you see no duplicate allowed in a set"
   ]
  },
  {
   "cell_type": "code",
   "execution_count": 40,
   "id": "bdbce875",
   "metadata": {},
   "outputs": [
    {
     "ename": "TypeError",
     "evalue": "'set' object is not subscriptable",
     "output_type": "error",
     "traceback": [
      "\u001b[1;31m---------------------------------------------------------------------------\u001b[0m",
      "\u001b[1;31mTypeError\u001b[0m                                 Traceback (most recent call last)",
      "Cell \u001b[1;32mIn[40], line 3\u001b[0m\n\u001b[0;32m      1\u001b[0m \u001b[38;5;66;03m#lets try indexing, but it wont allow i too, as sets doesn't allow indexing\u001b[39;00m\n\u001b[1;32m----> 3\u001b[0m rr[\u001b[38;5;241m1\u001b[39m]\n",
      "\u001b[1;31mTypeError\u001b[0m: 'set' object is not subscriptable"
     ]
    }
   ],
   "source": [
    "#lets try indexing, but it wont allow it too, as sets doesn't allow indexing\n",
    "\n",
    "rr[1]"
   ]
  },
  {
   "cell_type": "code",
   "execution_count": 41,
   "id": "a26bd214",
   "metadata": {},
   "outputs": [],
   "source": [
    "#hence we get error, when trying to index it"
   ]
  },
  {
   "cell_type": "code",
   "execution_count": 42,
   "id": "82f44937",
   "metadata": {},
   "outputs": [],
   "source": [
    "#converting list to set (notice duplicates are removed automatically)"
   ]
  },
  {
   "cell_type": "code",
   "execution_count": 43,
   "id": "34753338",
   "metadata": {},
   "outputs": [],
   "source": [
    "list_1=[1,2,2,3]"
   ]
  },
  {
   "cell_type": "code",
   "execution_count": 44,
   "id": "b5dad922",
   "metadata": {},
   "outputs": [],
   "source": [
    "set_1=set(list_1) #conversion to set"
   ]
  },
  {
   "cell_type": "code",
   "execution_count": 45,
   "id": "5d51310d",
   "metadata": {},
   "outputs": [
    {
     "data": {
      "text/plain": [
       "{1, 2, 3}"
      ]
     },
     "execution_count": 45,
     "metadata": {},
     "output_type": "execute_result"
    }
   ],
   "source": [
    "set_1"
   ]
  },
  {
   "cell_type": "code",
   "execution_count": 46,
   "id": "34757daf",
   "metadata": {},
   "outputs": [],
   "source": [
    "#intersection method"
   ]
  },
  {
   "cell_type": "code",
   "execution_count": 47,
   "id": "1a5aa7d8",
   "metadata": {},
   "outputs": [],
   "source": [
    "x={1,2,3,4}\n",
    "y={3,4,5,6}"
   ]
  },
  {
   "cell_type": "code",
   "execution_count": 48,
   "id": "668943d4",
   "metadata": {},
   "outputs": [
    {
     "data": {
      "text/plain": [
       "{1, 2, 3, 4}"
      ]
     },
     "execution_count": 48,
     "metadata": {},
     "output_type": "execute_result"
    }
   ],
   "source": [
    "x"
   ]
  },
  {
   "cell_type": "code",
   "execution_count": 49,
   "id": "a099440a",
   "metadata": {},
   "outputs": [
    {
     "data": {
      "text/plain": [
       "{3, 4, 5, 6}"
      ]
     },
     "execution_count": 49,
     "metadata": {},
     "output_type": "execute_result"
    }
   ],
   "source": [
    "y"
   ]
  },
  {
   "cell_type": "code",
   "execution_count": 50,
   "id": "cdba9bbe",
   "metadata": {},
   "outputs": [
    {
     "data": {
      "text/plain": [
       "{3, 4}"
      ]
     },
     "execution_count": 50,
     "metadata": {},
     "output_type": "execute_result"
    }
   ],
   "source": [
    "#intersection return common value\n",
    "x.intersection(y)"
   ]
  },
  {
   "cell_type": "code",
   "execution_count": 51,
   "id": "d57c2121",
   "metadata": {},
   "outputs": [],
   "source": [
    "#intersection method is not available for lists & tuples. However they can be converted to sets to perform this method.\n",
    "#but remember, converting to set means removing duplicates\n"
   ]
  },
  {
   "cell_type": "code",
   "execution_count": 52,
   "id": "f0232d7f",
   "metadata": {},
   "outputs": [],
   "source": [
    "#follow w3 schools for motre useful set methods. there are lots and lots of method avaialble"
   ]
  },
  {
   "cell_type": "code",
   "execution_count": 53,
   "id": "983894f6",
   "metadata": {},
   "outputs": [],
   "source": [
    "#coding excercise"
   ]
  },
  {
   "cell_type": "code",
   "execution_count": 55,
   "id": "23ed762c",
   "metadata": {},
   "outputs": [
    {
     "data": {
      "text/plain": [
       "(1, 2, 'John', {'key1': 'value1'})"
      ]
     },
     "execution_count": 55,
     "metadata": {},
     "output_type": "execute_result"
    }
   ],
   "source": [
    "Tup=(1,2,'John',{'key1':'value1'})\n",
    "Tup\n"
   ]
  },
  {
   "cell_type": "code",
   "execution_count": 56,
   "id": "b8acf444",
   "metadata": {},
   "outputs": [
    {
     "data": {
      "text/plain": [
       "tuple"
      ]
     },
     "execution_count": 56,
     "metadata": {},
     "output_type": "execute_result"
    }
   ],
   "source": [
    "type(Tup)"
   ]
  },
  {
   "cell_type": "code",
   "execution_count": 59,
   "id": "70ef627b",
   "metadata": {},
   "outputs": [],
   "source": [
    "st={1,2,'John'}"
   ]
  },
  {
   "cell_type": "code",
   "execution_count": 60,
   "id": "fe2337a2",
   "metadata": {},
   "outputs": [
    {
     "data": {
      "text/plain": [
       "{1, 2, 'John'}"
      ]
     },
     "execution_count": 60,
     "metadata": {},
     "output_type": "execute_result"
    }
   ],
   "source": [
    "st"
   ]
  },
  {
   "cell_type": "code",
   "execution_count": 61,
   "id": "6c2ecc8f",
   "metadata": {},
   "outputs": [],
   "source": [
    "#BOOLEANS (data type with 2 possible values - TRUE/FALSE)"
   ]
  },
  {
   "cell_type": "code",
   "execution_count": 63,
   "id": "6ffaf311",
   "metadata": {},
   "outputs": [
    {
     "data": {
      "text/plain": [
       "bool"
      ]
     },
     "execution_count": 63,
     "metadata": {},
     "output_type": "execute_result"
    }
   ],
   "source": [
    "type(True)"
   ]
  },
  {
   "cell_type": "code",
   "execution_count": 64,
   "id": "96e84272",
   "metadata": {},
   "outputs": [
    {
     "data": {
      "text/plain": [
       "bool"
      ]
     },
     "execution_count": 64,
     "metadata": {},
     "output_type": "execute_result"
    }
   ],
   "source": [
    "type(False)"
   ]
  },
  {
   "cell_type": "code",
   "execution_count": 65,
   "id": "960ac5ae",
   "metadata": {},
   "outputs": [
    {
     "data": {
      "text/plain": [
       "1"
      ]
     },
     "execution_count": 65,
     "metadata": {},
     "output_type": "execute_result"
    }
   ],
   "source": [
    "int(True)"
   ]
  },
  {
   "cell_type": "code",
   "execution_count": 66,
   "id": "e9412866",
   "metadata": {},
   "outputs": [],
   "source": [
    "#mostly used in conditions"
   ]
  },
  {
   "cell_type": "code",
   "execution_count": 67,
   "id": "ac1a08ba",
   "metadata": {},
   "outputs": [
    {
     "data": {
      "text/plain": [
       "False"
      ]
     },
     "execution_count": 67,
     "metadata": {},
     "output_type": "execute_result"
    }
   ],
   "source": [
    "5>7"
   ]
  },
  {
   "cell_type": "code",
   "execution_count": 68,
   "id": "17f98c57",
   "metadata": {},
   "outputs": [
    {
     "data": {
      "text/plain": [
       "bool"
      ]
     },
     "execution_count": 68,
     "metadata": {},
     "output_type": "execute_result"
    }
   ],
   "source": [
    "type(5>7)"
   ]
  },
  {
   "cell_type": "code",
   "execution_count": 69,
   "id": "5e3d90ca",
   "metadata": {},
   "outputs": [],
   "source": [
    "#keywords"
   ]
  },
  {
   "cell_type": "code",
   "execution_count": 70,
   "id": "85ae3020",
   "metadata": {},
   "outputs": [
    {
     "name": "stdout",
     "output_type": "stream",
     "text": [
      "\n",
      "Here is a list of the Python keywords.  Enter any keyword to get more help.\n",
      "\n",
      "False               class               from                or\n",
      "None                continue            global              pass\n",
      "True                def                 if                  raise\n",
      "and                 del                 import              return\n",
      "as                  elif                in                  try\n",
      "assert              else                is                  while\n",
      "async               except              lambda              with\n",
      "await               finally             nonlocal            yield\n",
      "break               for                 not                 \n",
      "\n"
     ]
    }
   ],
   "source": [
    "help('keywords')"
   ]
  },
  {
   "cell_type": "code",
   "execution_count": 75,
   "id": "b2d7477f",
   "metadata": {},
   "outputs": [
    {
     "name": "stdout",
     "output_type": "stream",
     "text": [
      "Boolean operations\n",
      "******************\n",
      "\n",
      "   or_test  ::= and_test | or_test \"or\" and_test\n",
      "   and_test ::= not_test | and_test \"and\" not_test\n",
      "   not_test ::= comparison | \"not\" not_test\n",
      "\n",
      "In the context of Boolean operations, and also when expressions are\n",
      "used by control flow statements, the following values are interpreted\n",
      "as false: \"False\", \"None\", numeric zero of all types, and empty\n",
      "strings and containers (including strings, tuples, lists,\n",
      "dictionaries, sets and frozensets).  All other values are interpreted\n",
      "as true.  User-defined objects can customize their truth value by\n",
      "providing a \"__bool__()\" method.\n",
      "\n",
      "The operator \"not\" yields \"True\" if its argument is false, \"False\"\n",
      "otherwise.\n",
      "\n",
      "The expression \"x and y\" first evaluates *x*; if *x* is false, its\n",
      "value is returned; otherwise, *y* is evaluated and the resulting value\n",
      "is returned.\n",
      "\n",
      "The expression \"x or y\" first evaluates *x*; if *x* is true, its value\n",
      "is returned; otherwise, *y* is evaluated and the resulting value is\n",
      "returned.\n",
      "\n",
      "Note that neither \"and\" nor \"or\" restrict the value and type they\n",
      "return to \"False\" and \"True\", but rather return the last evaluated\n",
      "argument.  This is sometimes useful, e.g., if \"s\" is a string that\n",
      "should be replaced by a default value if it is empty, the expression\n",
      "\"s or 'foo'\" yields the desired value.  Because \"not\" has to create a\n",
      "new value, it returns a boolean value regardless of the type of its\n",
      "argument (for example, \"not 'foo'\" produces \"False\" rather than \"''\".)\n",
      "\n",
      "Related help topics: EXPRESSIONS, TRUTHVALUE\n",
      "\n"
     ]
    }
   ],
   "source": [
    "help('not')"
   ]
  },
  {
   "cell_type": "code",
   "execution_count": null,
   "id": "1084f8bb",
   "metadata": {},
   "outputs": [],
   "source": []
  }
 ],
 "metadata": {
  "kernelspec": {
   "display_name": "Python 3 (ipykernel)",
   "language": "python",
   "name": "python3"
  },
  "language_info": {
   "codemirror_mode": {
    "name": "ipython",
    "version": 3
   },
   "file_extension": ".py",
   "mimetype": "text/x-python",
   "name": "python",
   "nbconvert_exporter": "python",
   "pygments_lexer": "ipython3",
   "version": "3.11.5"
  }
 },
 "nbformat": 4,
 "nbformat_minor": 5
}
