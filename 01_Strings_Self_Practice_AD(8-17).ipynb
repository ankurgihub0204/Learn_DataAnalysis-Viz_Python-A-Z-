{
 "cells": [
  {
   "cell_type": "code",
   "execution_count": 1,
   "id": "a58ba292",
   "metadata": {},
   "outputs": [],
   "source": [
    "#Strings_Self_Practice_AD(8-17)"
   ]
  },
  {
   "cell_type": "code",
   "execution_count": 2,
   "id": "b193a962",
   "metadata": {},
   "outputs": [
    {
     "data": {
      "text/plain": [
       "2.3"
      ]
     },
     "execution_count": 2,
     "metadata": {},
     "output_type": "execute_result"
    }
   ],
   "source": [
    "num=2.3\n",
    "num"
   ]
  },
  {
   "cell_type": "code",
   "execution_count": 3,
   "id": "652a05d4",
   "metadata": {},
   "outputs": [
    {
     "data": {
      "text/plain": [
       "1"
      ]
     },
     "execution_count": 3,
     "metadata": {},
     "output_type": "execute_result"
    }
   ],
   "source": [
    "num=1\n",
    "num"
   ]
  },
  {
   "cell_type": "code",
   "execution_count": 4,
   "id": "08ecd952",
   "metadata": {},
   "outputs": [
    {
     "data": {
      "text/plain": [
       "bool"
      ]
     },
     "execution_count": 4,
     "metadata": {},
     "output_type": "execute_result"
    }
   ],
   "source": [
    "type(bool(1))"
   ]
  },
  {
   "cell_type": "code",
   "execution_count": 5,
   "id": "aa064c54",
   "metadata": {},
   "outputs": [
    {
     "data": {
      "text/plain": [
       "True"
      ]
     },
     "execution_count": 5,
     "metadata": {},
     "output_type": "execute_result"
    }
   ],
   "source": [
    "bool(1)"
   ]
  },
  {
   "cell_type": "code",
   "execution_count": 6,
   "id": "98f48d6b",
   "metadata": {},
   "outputs": [
    {
     "data": {
      "text/plain": [
       "bool"
      ]
     },
     "execution_count": 6,
     "metadata": {},
     "output_type": "execute_result"
    }
   ],
   "source": [
    "type(True)"
   ]
  },
  {
   "cell_type": "code",
   "execution_count": 7,
   "id": "4d6637e1",
   "metadata": {},
   "outputs": [
    {
     "data": {
      "text/plain": [
       "int"
      ]
     },
     "execution_count": 7,
     "metadata": {},
     "output_type": "execute_result"
    }
   ],
   "source": [
    "type(1)"
   ]
  },
  {
   "cell_type": "code",
   "execution_count": 8,
   "id": "eab9e81f",
   "metadata": {},
   "outputs": [
    {
     "data": {
      "text/plain": [
       "str"
      ]
     },
     "execution_count": 8,
     "metadata": {},
     "output_type": "execute_result"
    }
   ],
   "source": [
    "type(\"\"\"this is a string too\"\"\")"
   ]
  },
  {
   "cell_type": "code",
   "execution_count": 9,
   "id": "e2deb64d",
   "metadata": {},
   "outputs": [
    {
     "name": "stdout",
     "output_type": "stream",
     "text": [
      "I want this 'string' in 2 lines\n"
     ]
    }
   ],
   "source": [
    "print('I want this \\'string\\' in 2 lines')"
   ]
  },
  {
   "cell_type": "code",
   "execution_count": 10,
   "id": "0828d37a",
   "metadata": {},
   "outputs": [
    {
     "name": "stdout",
     "output_type": "stream",
     "text": [
      "I want this left- \r",
      " right side now\n"
     ]
    }
   ],
   "source": [
    "print ('I want this left- \\r right side now')"
   ]
  },
  {
   "cell_type": "code",
   "execution_count": 11,
   "id": "b9989c52",
   "metadata": {},
   "outputs": [
    {
     "name": "stdout",
     "output_type": "stream",
     "text": [
      "This is a string \n",
      "printed over two lines\n"
     ]
    }
   ],
   "source": [
    "print ('This is a string \\nprinted over two lines')"
   ]
  },
  {
   "cell_type": "code",
   "execution_count": 12,
   "id": "1fa8028b",
   "metadata": {},
   "outputs": [
    {
     "data": {
      "text/plain": [
       "'This is a string'"
      ]
     },
     "execution_count": 12,
     "metadata": {},
     "output_type": "execute_result"
    }
   ],
   "source": [
    "x='This is a string'\n",
    "x"
   ]
  },
  {
   "cell_type": "code",
   "execution_count": null,
   "id": "3d320ffa",
   "metadata": {},
   "outputs": [],
   "source": [
    "# Indexing & Slicing the strings"
   ]
  },
  {
   "cell_type": "code",
   "execution_count": 13,
   "id": "2a933e41",
   "metadata": {},
   "outputs": [
    {
     "data": {
      "text/plain": [
       "'s'"
      ]
     },
     "execution_count": 13,
     "metadata": {},
     "output_type": "execute_result"
    }
   ],
   "source": [
    "x[3] #3 means, it will start from 0,1,2,3 & thus picking 4th char which is 's'"
   ]
  },
  {
   "cell_type": "code",
   "execution_count": 14,
   "id": "ce3c2f2e",
   "metadata": {},
   "outputs": [
    {
     "data": {
      "text/plain": [
       "'This'"
      ]
     },
     "execution_count": 14,
     "metadata": {},
     "output_type": "execute_result"
    }
   ],
   "source": [
    "x[0:4:1] \n",
    "\n",
    "# syntax here is x[start,stop,step]\n",
    "# it will start from 0 (inclusive) then will move to index 4 and then should pick 5th char which is '' ....\n",
    "#.... (but its exclusive), so it will pick 4 place character (which is index 3)\n",
    "# Start is inclusive, 0 which is 1st char is picked up"
   ]
  },
  {
   "cell_type": "code",
   "execution_count": 15,
   "id": "8525fde8",
   "metadata": {},
   "outputs": [
    {
     "data": {
      "text/plain": [
       "'This'"
      ]
     },
     "execution_count": 15,
     "metadata": {},
     "output_type": "execute_result"
    }
   ],
   "source": [
    "x[0:4] # 1 as step is by default so need not to specify, so same result as above"
   ]
  },
  {
   "cell_type": "code",
   "execution_count": 16,
   "id": "b8d4fdcd",
   "metadata": {},
   "outputs": [
    {
     "data": {
      "text/plain": [
       "'This'"
      ]
     },
     "execution_count": 16,
     "metadata": {},
     "output_type": "execute_result"
    }
   ],
   "source": [
    "x[:4] # 0 as start is by default so need not to specify, so same result as above"
   ]
  },
  {
   "cell_type": "code",
   "execution_count": 17,
   "id": "ce9756e7",
   "metadata": {},
   "outputs": [
    {
     "data": {
      "text/plain": [
       "'his'"
      ]
     },
     "execution_count": 17,
     "metadata": {},
     "output_type": "execute_result"
    }
   ],
   "source": [
    "x[1:4]"
   ]
  },
  {
   "cell_type": "code",
   "execution_count": 18,
   "id": "983cb8ed",
   "metadata": {},
   "outputs": [
    {
     "data": {
      "text/plain": [
       "'hs'"
      ]
     },
     "execution_count": 18,
     "metadata": {},
     "output_type": "execute_result"
    }
   ],
   "source": [
    "x[1:4:2]"
   ]
  },
  {
   "cell_type": "code",
   "execution_count": 19,
   "id": "2686f03b",
   "metadata": {},
   "outputs": [
    {
     "data": {
      "text/plain": [
       "'h'"
      ]
     },
     "execution_count": 19,
     "metadata": {},
     "output_type": "execute_result"
    }
   ],
   "source": [
    "x[1:4:3]"
   ]
  },
  {
   "cell_type": "code",
   "execution_count": 20,
   "id": "7daec690",
   "metadata": {},
   "outputs": [
    {
     "data": {
      "text/plain": [
       "'h '"
      ]
     },
     "execution_count": 20,
     "metadata": {},
     "output_type": "execute_result"
    }
   ],
   "source": [
    "x[1:5:3]"
   ]
  },
  {
   "cell_type": "code",
   "execution_count": 21,
   "id": "8b9372fb",
   "metadata": {},
   "outputs": [
    {
     "data": {
      "text/plain": [
       "'h '"
      ]
     },
     "execution_count": 21,
     "metadata": {},
     "output_type": "execute_result"
    }
   ],
   "source": [
    "x[1:6:3]"
   ]
  },
  {
   "cell_type": "code",
   "execution_count": 22,
   "id": "954d41d9",
   "metadata": {},
   "outputs": [
    {
     "data": {
      "text/plain": [
       "16"
      ]
     },
     "execution_count": 22,
     "metadata": {},
     "output_type": "execute_result"
    }
   ],
   "source": [
    "len(x)"
   ]
  },
  {
   "cell_type": "code",
   "execution_count": 23,
   "id": "bd333edf",
   "metadata": {},
   "outputs": [
    {
     "data": {
      "text/plain": [
       "'Ti sasrn'"
      ]
     },
     "execution_count": 23,
     "metadata": {},
     "output_type": "execute_result"
    }
   ],
   "source": [
    "x[0:len(x):2]"
   ]
  },
  {
   "cell_type": "code",
   "execution_count": 7,
   "id": "8a2b23b0",
   "metadata": {},
   "outputs": [
    {
     "data": {
      "text/plain": [
       "'This is a string'"
      ]
     },
     "execution_count": 7,
     "metadata": {},
     "output_type": "execute_result"
    }
   ],
   "source": [
    "x='This is a string'\n",
    "x"
   ]
  },
  {
   "cell_type": "code",
   "execution_count": 24,
   "id": "92dffa78",
   "metadata": {},
   "outputs": [
    {
     "data": {
      "text/plain": [
       "'s'"
      ]
     },
     "execution_count": 24,
     "metadata": {},
     "output_type": "execute_result"
    }
   ],
   "source": [
    "x[3]"
   ]
  },
  {
   "cell_type": "code",
   "execution_count": 25,
   "id": "95692ee0",
   "metadata": {},
   "outputs": [
    {
     "data": {
      "text/plain": [
       "'s is a string'"
      ]
     },
     "execution_count": 25,
     "metadata": {},
     "output_type": "execute_result"
    }
   ],
   "source": [
    "x[3:] #picks everything after and including index 3 (4th character)"
   ]
  },
  {
   "cell_type": "code",
   "execution_count": 8,
   "id": "a3e2f3ea",
   "metadata": {},
   "outputs": [
    {
     "data": {
      "text/plain": [
       "'Thi'"
      ]
     },
     "execution_count": 8,
     "metadata": {},
     "output_type": "execute_result"
    }
   ],
   "source": [
    "x[:3] #picks 0,1,2"
   ]
  },
  {
   "cell_type": "code",
   "execution_count": 26,
   "id": "d131aaf3",
   "metadata": {},
   "outputs": [
    {
     "data": {
      "text/plain": [
       "'s is a string'"
      ]
     },
     "execution_count": 26,
     "metadata": {},
     "output_type": "execute_result"
    }
   ],
   "source": [
    "x[3::1]"
   ]
  },
  {
   "cell_type": "code",
   "execution_count": 27,
   "id": "99027d2f",
   "metadata": {},
   "outputs": [
    {
     "data": {
      "text/plain": [
       "'si  tig'"
      ]
     },
     "execution_count": 27,
     "metadata": {},
     "output_type": "execute_result"
    }
   ],
   "source": [
    "x[3::2]"
   ]
  },
  {
   "cell_type": "code",
   "execution_count": 28,
   "id": "254654a3",
   "metadata": {},
   "outputs": [
    {
     "data": {
      "text/plain": [
       "'is'"
      ]
     },
     "execution_count": 28,
     "metadata": {},
     "output_type": "execute_result"
    }
   ],
   "source": [
    "x[5:7] # to get just a word is, start at 5-which is 'i', then stop at 7 to get 6th char-which is 's'"
   ]
  },
  {
   "cell_type": "code",
   "execution_count": 29,
   "id": "f1034f1b",
   "metadata": {},
   "outputs": [],
   "source": [
    "x='This is a string'"
   ]
  },
  {
   "cell_type": "code",
   "execution_count": 30,
   "id": "216bf158",
   "metadata": {},
   "outputs": [
    {
     "data": {
      "text/plain": [
       "'This is a string'"
      ]
     },
     "execution_count": 30,
     "metadata": {},
     "output_type": "execute_result"
    }
   ],
   "source": [
    "x"
   ]
  },
  {
   "cell_type": "code",
   "execution_count": 31,
   "id": "801a675a",
   "metadata": {},
   "outputs": [
    {
     "data": {
      "text/plain": [
       "'g'"
      ]
     },
     "execution_count": 31,
     "metadata": {},
     "output_type": "execute_result"
    }
   ],
   "source": [
    "x[-1] #last character"
   ]
  },
  {
   "cell_type": "code",
   "execution_count": 32,
   "id": "f0a8fae9",
   "metadata": {},
   "outputs": [
    {
     "data": {
      "text/plain": [
       "'g'"
      ]
     },
     "execution_count": 32,
     "metadata": {},
     "output_type": "execute_result"
    }
   ],
   "source": [
    "x[-1:]"
   ]
  },
  {
   "cell_type": "code",
   "execution_count": 33,
   "id": "ae3133da",
   "metadata": {},
   "outputs": [
    {
     "data": {
      "text/plain": [
       "'ng'"
      ]
     },
     "execution_count": 33,
     "metadata": {},
     "output_type": "execute_result"
    }
   ],
   "source": [
    "x[-2:]"
   ]
  },
  {
   "cell_type": "code",
   "execution_count": 34,
   "id": "7067b948",
   "metadata": {},
   "outputs": [
    {
     "data": {
      "text/plain": [
       "''"
      ]
     },
     "execution_count": 34,
     "metadata": {},
     "output_type": "execute_result"
    }
   ],
   "source": [
    "x[-1:-5]"
   ]
  },
  {
   "cell_type": "code",
   "execution_count": 35,
   "id": "ee0eae49",
   "metadata": {},
   "outputs": [
    {
     "data": {
      "text/plain": [
       "'trin'"
      ]
     },
     "execution_count": 35,
     "metadata": {},
     "output_type": "execute_result"
    }
   ],
   "source": [
    "x[-5:-1]"
   ]
  },
  {
   "cell_type": "code",
   "execution_count": 36,
   "id": "7fba6d85",
   "metadata": {},
   "outputs": [
    {
     "data": {
      "text/plain": [
       "'h'"
      ]
     },
     "execution_count": 36,
     "metadata": {},
     "output_type": "execute_result"
    }
   ],
   "source": [
    "x[1-len(x)]"
   ]
  },
  {
   "cell_type": "code",
   "execution_count": 37,
   "id": "e03df206",
   "metadata": {},
   "outputs": [
    {
     "data": {
      "text/plain": [
       "'T'"
      ]
     },
     "execution_count": 37,
     "metadata": {},
     "output_type": "execute_result"
    }
   ],
   "source": [
    "x[-len(x)]"
   ]
  },
  {
   "cell_type": "code",
   "execution_count": 38,
   "id": "de6efad8",
   "metadata": {},
   "outputs": [
    {
     "data": {
      "text/plain": [
       "'This is a string'"
      ]
     },
     "execution_count": 38,
     "metadata": {},
     "output_type": "execute_result"
    }
   ],
   "source": [
    "x[-len(x):]"
   ]
  },
  {
   "cell_type": "code",
   "execution_count": 9,
   "id": "8abe9c61",
   "metadata": {},
   "outputs": [
    {
     "data": {
      "text/plain": [
       "'This is a string'"
      ]
     },
     "execution_count": 9,
     "metadata": {},
     "output_type": "execute_result"
    }
   ],
   "source": [
    "x='This is a string'\n",
    "x"
   ]
  },
  {
   "cell_type": "code",
   "execution_count": 39,
   "id": "84c65d88",
   "metadata": {},
   "outputs": [
    {
     "data": {
      "text/plain": [
       "'This'"
      ]
     },
     "execution_count": 39,
     "metadata": {},
     "output_type": "execute_result"
    }
   ],
   "source": [
    "x[0:4]"
   ]
  },
  {
   "cell_type": "code",
   "execution_count": 40,
   "id": "98431a4c",
   "metadata": {},
   "outputs": [
    {
     "data": {
      "text/plain": [
       "''"
      ]
     },
     "execution_count": 40,
     "metadata": {},
     "output_type": "execute_result"
    }
   ],
   "source": [
    "x[0:4:-1]"
   ]
  },
  {
   "cell_type": "code",
   "execution_count": 41,
   "id": "3a3d7878",
   "metadata": {},
   "outputs": [
    {
     "data": {
      "text/plain": [
       "''"
      ]
     },
     "execution_count": 41,
     "metadata": {},
     "output_type": "execute_result"
    }
   ],
   "source": [
    "x[4:1]"
   ]
  },
  {
   "cell_type": "code",
   "execution_count": 42,
   "id": "93a8f1fc",
   "metadata": {},
   "outputs": [
    {
     "data": {
      "text/plain": [
       "' si'"
      ]
     },
     "execution_count": 42,
     "metadata": {},
     "output_type": "execute_result"
    }
   ],
   "source": [
    "x[4:1:-1]"
   ]
  },
  {
   "cell_type": "code",
   "execution_count": 43,
   "id": "8077433b",
   "metadata": {},
   "outputs": [
    {
     "data": {
      "text/plain": [
       "''"
      ]
     },
     "execution_count": 43,
     "metadata": {},
     "output_type": "execute_result"
    }
   ],
   "source": [
    "x[1:4:-1]"
   ]
  },
  {
   "cell_type": "code",
   "execution_count": 44,
   "id": "f86a3ee4",
   "metadata": {},
   "outputs": [
    {
     "data": {
      "text/plain": [
       "'This is a string'"
      ]
     },
     "execution_count": 44,
     "metadata": {},
     "output_type": "execute_result"
    }
   ],
   "source": [
    "x[::1]"
   ]
  },
  {
   "cell_type": "code",
   "execution_count": 45,
   "id": "81c6be15",
   "metadata": {},
   "outputs": [
    {
     "data": {
      "text/plain": [
       "'gnirts a si sihT'"
      ]
     },
     "execution_count": 45,
     "metadata": {},
     "output_type": "execute_result"
    }
   ],
   "source": [
    "x[::-1]"
   ]
  },
  {
   "cell_type": "code",
   "execution_count": 46,
   "id": "b3f4ff54",
   "metadata": {},
   "outputs": [
    {
     "data": {
      "text/plain": [
       "'My name is John'"
      ]
     },
     "execution_count": 46,
     "metadata": {},
     "output_type": "execute_result"
    }
   ],
   "source": [
    "y='My name is John'\n",
    "y"
   ]
  },
  {
   "cell_type": "code",
   "execution_count": 47,
   "id": "c5c70a30",
   "metadata": {},
   "outputs": [
    {
     "data": {
      "text/plain": [
       "'John'"
      ]
     },
     "execution_count": 47,
     "metadata": {},
     "output_type": "execute_result"
    }
   ],
   "source": [
    "y[-4::]"
   ]
  },
  {
   "cell_type": "code",
   "execution_count": 48,
   "id": "287208a2",
   "metadata": {},
   "outputs": [
    {
     "data": {
      "text/plain": [
       "<function str.capitalize()>"
      ]
     },
     "execution_count": 48,
     "metadata": {},
     "output_type": "execute_result"
    }
   ],
   "source": [
    "x.capitalize # nothing happened as capiatalized is to be followed by (), like below"
   ]
  },
  {
   "cell_type": "code",
   "execution_count": 49,
   "id": "a1490694",
   "metadata": {},
   "outputs": [
    {
     "data": {
      "text/plain": [
       "'This is a string'"
      ]
     },
     "execution_count": 49,
     "metadata": {},
     "output_type": "execute_result"
    }
   ],
   "source": [
    "x.capitalize() #capitalize only first character, dont confuse it with upper"
   ]
  },
  {
   "cell_type": "code",
   "execution_count": 50,
   "id": "d1e7d26b",
   "metadata": {},
   "outputs": [
    {
     "data": {
      "text/plain": [
       "'THIS IS A STRING'"
      ]
     },
     "execution_count": 50,
     "metadata": {},
     "output_type": "execute_result"
    }
   ],
   "source": [
    "x.upper()"
   ]
  },
  {
   "cell_type": "code",
   "execution_count": 51,
   "id": "362c0c25",
   "metadata": {},
   "outputs": [
    {
     "data": {
      "text/plain": [
       "'yes, I m right'"
      ]
     },
     "execution_count": 51,
     "metadata": {},
     "output_type": "execute_result"
    }
   ],
   "source": [
    "y='yes, I m right'\n",
    "y"
   ]
  },
  {
   "cell_type": "code",
   "execution_count": 52,
   "id": "d3d7c1a7",
   "metadata": {},
   "outputs": [
    {
     "data": {
      "text/plain": [
       "'Yes, i m right'"
      ]
     },
     "execution_count": 52,
     "metadata": {},
     "output_type": "execute_result"
    }
   ],
   "source": [
    "y.capitalize()"
   ]
  },
  {
   "cell_type": "code",
   "execution_count": 53,
   "id": "9833ef53",
   "metadata": {},
   "outputs": [
    {
     "ename": "SyntaxError",
     "evalue": "invalid syntax (3527665443.py, line 1)",
     "output_type": "error",
     "traceback": [
      "\u001b[1;36m  Cell \u001b[1;32mIn[53], line 1\u001b[1;36m\u001b[0m\n\u001b[1;33m    x.find(is) # coz word is is not in '', we have to find 'is', not is\u001b[0m\n\u001b[1;37m           ^\u001b[0m\n\u001b[1;31mSyntaxError\u001b[0m\u001b[1;31m:\u001b[0m invalid syntax\n"
     ]
    }
   ],
   "source": [
    "x.find(is) # coz word 'is' is not in '', we have to find 'is', not is"
   ]
  },
  {
   "cell_type": "code",
   "execution_count": 55,
   "id": "da3ce8e8",
   "metadata": {},
   "outputs": [
    {
     "data": {
      "text/plain": [
       "2"
      ]
     },
     "execution_count": 55,
     "metadata": {},
     "output_type": "execute_result"
    }
   ],
   "source": [
    "x.find('is')"
   ]
  },
  {
   "cell_type": "code",
   "execution_count": 54,
   "id": "c3d8767e",
   "metadata": {},
   "outputs": [
    {
     "data": {
      "text/plain": [
       "'This is a string'"
      ]
     },
     "execution_count": 54,
     "metadata": {},
     "output_type": "execute_result"
    }
   ],
   "source": [
    "x"
   ]
  },
  {
   "cell_type": "code",
   "execution_count": 56,
   "id": "16858b3c",
   "metadata": {},
   "outputs": [
    {
     "data": {
      "text/plain": [
       "8"
      ]
     },
     "execution_count": 56,
     "metadata": {},
     "output_type": "execute_result"
    }
   ],
   "source": [
    "x.find('a')"
   ]
  },
  {
   "cell_type": "code",
   "execution_count": 57,
   "id": "4c8ddb6a",
   "metadata": {},
   "outputs": [
    {
     "data": {
      "text/plain": [
       "'Red flag'"
      ]
     },
     "execution_count": 57,
     "metadata": {},
     "output_type": "execute_result"
    }
   ],
   "source": [
    "y='Red flag'\n",
    "y"
   ]
  },
  {
   "cell_type": "code",
   "execution_count": 58,
   "id": "7b7d15cd",
   "metadata": {},
   "outputs": [
    {
     "data": {
      "text/plain": [
       "'Green flag'"
      ]
     },
     "execution_count": 58,
     "metadata": {},
     "output_type": "execute_result"
    }
   ],
   "source": [
    "y.replace(\"Red\", 'Green')"
   ]
  },
  {
   "cell_type": "code",
   "execution_count": 59,
   "id": "163a0943",
   "metadata": {},
   "outputs": [
    {
     "data": {
      "text/plain": [
       "'Red flag'"
      ]
     },
     "execution_count": 59,
     "metadata": {},
     "output_type": "execute_result"
    }
   ],
   "source": [
    "y"
   ]
  },
  {
   "cell_type": "code",
   "execution_count": 60,
   "id": "acd88d2e",
   "metadata": {},
   "outputs": [],
   "source": [
    "y=y.replace('Red', 'Green')"
   ]
  },
  {
   "cell_type": "code",
   "execution_count": 61,
   "id": "c3025340",
   "metadata": {},
   "outputs": [
    {
     "data": {
      "text/plain": [
       "'Green flag'"
      ]
     },
     "execution_count": 61,
     "metadata": {},
     "output_type": "execute_result"
    }
   ],
   "source": [
    "y"
   ]
  },
  {
   "cell_type": "code",
   "execution_count": 62,
   "id": "3030b19e",
   "metadata": {},
   "outputs": [
    {
     "data": {
      "text/plain": [
       "'Yellow Green flag'"
      ]
     },
     "execution_count": 62,
     "metadata": {},
     "output_type": "execute_result"
    }
   ],
   "source": [
    "y= 'Yellow ' + y\n",
    "y"
   ]
  },
  {
   "cell_type": "code",
   "execution_count": 63,
   "id": "c0dc06d5",
   "metadata": {},
   "outputs": [
    {
     "data": {
      "text/plain": [
       "'Yellow Green flag'"
      ]
     },
     "execution_count": 63,
     "metadata": {},
     "output_type": "execute_result"
    }
   ],
   "source": [
    "y\n"
   ]
  },
  {
   "cell_type": "code",
   "execution_count": 64,
   "id": "1aedbe23",
   "metadata": {},
   "outputs": [
    {
     "data": {
      "text/plain": [
       "'This is a string'"
      ]
     },
     "execution_count": 64,
     "metadata": {},
     "output_type": "execute_result"
    }
   ],
   "source": [
    "x"
   ]
  },
  {
   "cell_type": "code",
   "execution_count": 65,
   "id": "d59ed367",
   "metadata": {},
   "outputs": [
    {
     "data": {
      "text/plain": [
       "['This', 'is', 'a', 'string']"
      ]
     },
     "execution_count": 65,
     "metadata": {},
     "output_type": "execute_result"
    }
   ],
   "source": [
    "x.split() # by default white spaces are used as splitter, and its converted into list"
   ]
  },
  {
   "cell_type": "code",
   "execution_count": 66,
   "id": "d22a67fb",
   "metadata": {},
   "outputs": [
    {
     "data": {
      "text/plain": [
       "'This, is a, string'"
      ]
     },
     "execution_count": 66,
     "metadata": {},
     "output_type": "execute_result"
    }
   ],
   "source": [
    "#lets say we have a string with ',' and we want to split it by ','\n",
    "y='This, is a, string'\n",
    "y"
   ]
  },
  {
   "cell_type": "code",
   "execution_count": 67,
   "id": "cb2d7584",
   "metadata": {},
   "outputs": [
    {
     "data": {
      "text/plain": [
       "['This,', 'is', 'a,', 'string']"
      ]
     },
     "execution_count": 67,
     "metadata": {},
     "output_type": "execute_result"
    }
   ],
   "source": [
    "y.split() # splitted by space by default"
   ]
  },
  {
   "cell_type": "code",
   "execution_count": 68,
   "id": "ee732efe",
   "metadata": {},
   "outputs": [
    {
     "data": {
      "text/plain": [
       "['This', ' is a', ' string']"
      ]
     },
     "execution_count": 68,
     "metadata": {},
     "output_type": "execute_result"
    }
   ],
   "source": [
    "y.split(',') # splitted by ',' now"
   ]
  },
  {
   "cell_type": "code",
   "execution_count": 71,
   "id": "d9df9340",
   "metadata": {},
   "outputs": [
    {
     "data": {
      "text/plain": [
       "'This, is a, string'"
      ]
     },
     "execution_count": 71,
     "metadata": {},
     "output_type": "execute_result"
    }
   ],
   "source": [
    "#trying to trim the list items now\n",
    "y.strip() # strip changes it back to string"
   ]
  },
  {
   "cell_type": "code",
   "execution_count": 77,
   "id": "a885ea00",
   "metadata": {},
   "outputs": [
    {
     "data": {
      "text/plain": [
       "'This,is a,string'"
      ]
     },
     "execution_count": 77,
     "metadata": {},
     "output_type": "execute_result"
    }
   ],
   "source": [
    "y.replace(', ',',') # trying to remove white speces before converting it again back to list"
   ]
  },
  {
   "cell_type": "code",
   "execution_count": 79,
   "id": "2d073171",
   "metadata": {},
   "outputs": [
    {
     "data": {
      "text/plain": [
       "['This', ' is a', ' string']"
      ]
     },
     "execution_count": 79,
     "metadata": {},
     "output_type": "execute_result"
    }
   ],
   "source": [
    "y.split(\",\")"
   ]
  },
  {
   "cell_type": "code",
   "execution_count": 76,
   "id": "99fffb89",
   "metadata": {},
   "outputs": [],
   "source": [
    "# siv=ce it oicked old value of Y, list still have items with spaces"
   ]
  },
  {
   "cell_type": "code",
   "execution_count": 80,
   "id": "0f2433a8",
   "metadata": {},
   "outputs": [],
   "source": [
    "y=y.replace(', ', ',')"
   ]
  },
  {
   "cell_type": "code",
   "execution_count": 81,
   "id": "1766d6c8",
   "metadata": {},
   "outputs": [
    {
     "data": {
      "text/plain": [
       "'This,is a,string'"
      ]
     },
     "execution_count": 81,
     "metadata": {},
     "output_type": "execute_result"
    }
   ],
   "source": [
    "y"
   ]
  },
  {
   "cell_type": "code",
   "execution_count": 82,
   "id": "5dd9fd2c",
   "metadata": {},
   "outputs": [
    {
     "data": {
      "text/plain": [
       "['This', 'is a', 'string']"
      ]
     },
     "execution_count": 82,
     "metadata": {},
     "output_type": "execute_result"
    }
   ],
   "source": [
    "y.split(',')"
   ]
  },
  {
   "cell_type": "code",
   "execution_count": 83,
   "id": "1f6aedb2",
   "metadata": {},
   "outputs": [],
   "source": [
    "#bingo now list doesn't have white spaces :D"
   ]
  },
  {
   "cell_type": "code",
   "execution_count": 84,
   "id": "e8fb238c",
   "metadata": {},
   "outputs": [
    {
     "data": {
      "text/plain": [
       "'We lost the game yesterday'"
      ]
     },
     "execution_count": 84,
     "metadata": {},
     "output_type": "execute_result"
    }
   ],
   "source": [
    "old_string='We lost the game yesterday'\n",
    "old_string"
   ]
  },
  {
   "cell_type": "code",
   "execution_count": 85,
   "id": "9398d2fc",
   "metadata": {},
   "outputs": [],
   "source": [
    "new_string=old_string.replace('lost', 'won')"
   ]
  },
  {
   "cell_type": "code",
   "execution_count": 86,
   "id": "717b8e49",
   "metadata": {},
   "outputs": [
    {
     "data": {
      "text/plain": [
       "'We won the game yesterday'"
      ]
     },
     "execution_count": 86,
     "metadata": {},
     "output_type": "execute_result"
    }
   ],
   "source": [
    "new_string"
   ]
  },
  {
   "cell_type": "code",
   "execution_count": 87,
   "id": "3124acaa",
   "metadata": {},
   "outputs": [
    {
     "name": "stdout",
     "output_type": "stream",
     "text": [
      "We won the game yesterday\n"
     ]
    }
   ],
   "source": [
    "print(new_string)"
   ]
  },
  {
   "cell_type": "code",
   "execution_count": 88,
   "id": "6a479e6e",
   "metadata": {},
   "outputs": [],
   "source": [
    "#string formatting (f string)\n",
    "z='AD'\n"
   ]
  },
  {
   "cell_type": "code",
   "execution_count": 89,
   "id": "347cf4ae",
   "metadata": {},
   "outputs": [
    {
     "data": {
      "text/plain": [
       "'AD'"
      ]
     },
     "execution_count": 89,
     "metadata": {},
     "output_type": "execute_result"
    }
   ],
   "source": [
    "z"
   ]
  },
  {
   "cell_type": "code",
   "execution_count": 96,
   "id": "a1d702de",
   "metadata": {},
   "outputs": [
    {
     "data": {
      "text/plain": [
       "'Hi,my name is bar'"
      ]
     },
     "execution_count": 96,
     "metadata": {},
     "output_type": "execute_result"
    }
   ],
   "source": [
    "f'Hi,my name is {z}'"
   ]
  },
  {
   "cell_type": "code",
   "execution_count": 92,
   "id": "43a1dac9",
   "metadata": {},
   "outputs": [],
   "source": [
    "z='rab'"
   ]
  },
  {
   "cell_type": "code",
   "execution_count": 95,
   "id": "c9ae1775",
   "metadata": {},
   "outputs": [],
   "source": [
    "z='bar'"
   ]
  },
  {
   "cell_type": "code",
   "execution_count": 3,
   "id": "7ee20eb8",
   "metadata": {},
   "outputs": [
    {
     "data": {
      "text/plain": [
       "'1234 5'"
      ]
     },
     "execution_count": 3,
     "metadata": {},
     "output_type": "execute_result"
    }
   ],
   "source": [
    "#practice-revision\n",
    "x='1234 5'\n",
    "x"
   ]
  },
  {
   "cell_type": "code",
   "execution_count": 4,
   "id": "61482bd1",
   "metadata": {},
   "outputs": [
    {
     "data": {
      "text/plain": [
       "'1234'"
      ]
     },
     "execution_count": 4,
     "metadata": {},
     "output_type": "execute_result"
    }
   ],
   "source": [
    "x[0:4:1]"
   ]
  },
  {
   "cell_type": "code",
   "execution_count": 5,
   "id": "c346f9dd",
   "metadata": {},
   "outputs": [
    {
     "data": {
      "text/plain": [
       "'1234 '"
      ]
     },
     "execution_count": 5,
     "metadata": {},
     "output_type": "execute_result"
    }
   ],
   "source": [
    "x[0:5] # 1 as a step, is by default"
   ]
  },
  {
   "cell_type": "code",
   "execution_count": 6,
   "id": "93958ee3",
   "metadata": {},
   "outputs": [
    {
     "data": {
      "text/plain": [
       "'13 '"
      ]
     },
     "execution_count": 6,
     "metadata": {},
     "output_type": "execute_result"
    }
   ],
   "source": [
    "x[0:5:2]"
   ]
  },
  {
   "cell_type": "code",
   "execution_count": 10,
   "id": "758e6343",
   "metadata": {},
   "outputs": [
    {
     "data": {
      "text/plain": [
       "'This, is a, complex, string'"
      ]
     },
     "execution_count": 10,
     "metadata": {},
     "output_type": "execute_result"
    }
   ],
   "source": [
    "z='This, is a, complex, string'\n",
    "z"
   ]
  },
  {
   "cell_type": "code",
   "execution_count": 11,
   "id": "2fb47003",
   "metadata": {},
   "outputs": [
    {
     "data": {
      "text/plain": [
       "'This, is a, complex, string'"
      ]
     },
     "execution_count": 11,
     "metadata": {},
     "output_type": "execute_result"
    }
   ],
   "source": [
    "z.strip()"
   ]
  },
  {
   "cell_type": "code",
   "execution_count": 12,
   "id": "fae5c233",
   "metadata": {},
   "outputs": [
    {
     "data": {
      "text/plain": [
       "['This,', 'is', 'a,', 'complex,', 'string']"
      ]
     },
     "execution_count": 12,
     "metadata": {},
     "output_type": "execute_result"
    }
   ],
   "source": [
    "z.split()"
   ]
  },
  {
   "cell_type": "code",
   "execution_count": 16,
   "id": "375bbdbd",
   "metadata": {},
   "outputs": [
    {
     "data": {
      "text/plain": [
       "['This', ' is a', ' complex', ' string']"
      ]
     },
     "execution_count": 16,
     "metadata": {},
     "output_type": "execute_result"
    }
   ],
   "source": [
    "z.split(',')"
   ]
  },
  {
   "cell_type": "code",
   "execution_count": 17,
   "id": "4415cba7",
   "metadata": {},
   "outputs": [],
   "source": [
    "#if we want 'is a' as 'is' 'a', lets try this"
   ]
  },
  {
   "cell_type": "code",
   "execution_count": 18,
   "id": "3f4e56b0",
   "metadata": {},
   "outputs": [
    {
     "data": {
      "text/plain": [
       "'This is a complex string'"
      ]
     },
     "execution_count": 18,
     "metadata": {},
     "output_type": "execute_result"
    }
   ],
   "source": [
    "z.replace(',','')"
   ]
  },
  {
   "cell_type": "code",
   "execution_count": 19,
   "id": "e0a5a603",
   "metadata": {},
   "outputs": [],
   "source": [
    "# so ',' removed (actually replaced with white space, so now do a split again)"
   ]
  },
  {
   "cell_type": "code",
   "execution_count": 20,
   "id": "9b55e041",
   "metadata": {},
   "outputs": [
    {
     "data": {
      "text/plain": [
       "['This', ' is a', ' complex', ' string']"
      ]
     },
     "execution_count": 20,
     "metadata": {},
     "output_type": "execute_result"
    }
   ],
   "source": [
    "z.split(',')"
   ]
  },
  {
   "cell_type": "code",
   "execution_count": 21,
   "id": "c5a39ad7",
   "metadata": {},
   "outputs": [],
   "source": [
    "#hmm, we should have stored in[18] in someother variable, lets say 'nz', or modified 'z' as z=z.replace(',','')...\n",
    "#np, lets do it"
   ]
  },
  {
   "cell_type": "code",
   "execution_count": 22,
   "id": "06a60361",
   "metadata": {},
   "outputs": [
    {
     "data": {
      "text/plain": [
       "'This, is a, complex, string'"
      ]
     },
     "execution_count": 22,
     "metadata": {},
     "output_type": "execute_result"
    }
   ],
   "source": [
    "z"
   ]
  },
  {
   "cell_type": "code",
   "execution_count": 23,
   "id": "cbb5119a",
   "metadata": {},
   "outputs": [],
   "source": [
    "nz=z.replace(',','')"
   ]
  },
  {
   "cell_type": "code",
   "execution_count": 25,
   "id": "104428c1",
   "metadata": {},
   "outputs": [
    {
     "data": {
      "text/plain": [
       "['This', 'is', 'a', 'complex', 'string']"
      ]
     },
     "execution_count": 25,
     "metadata": {},
     "output_type": "execute_result"
    }
   ],
   "source": [
    "nz.split()"
   ]
  },
  {
   "cell_type": "code",
   "execution_count": null,
   "id": "9f100cf0",
   "metadata": {},
   "outputs": [],
   "source": [
    "#cool"
   ]
  }
 ],
 "metadata": {
  "kernelspec": {
   "display_name": "Python 3 (ipykernel)",
   "language": "python",
   "name": "python3"
  },
  "language_info": {
   "codemirror_mode": {
    "name": "ipython",
    "version": 3
   },
   "file_extension": ".py",
   "mimetype": "text/x-python",
   "name": "python",
   "nbconvert_exporter": "python",
   "pygments_lexer": "ipython3",
   "version": "3.11.5"
  }
 },
 "nbformat": 4,
 "nbformat_minor": 5
}
