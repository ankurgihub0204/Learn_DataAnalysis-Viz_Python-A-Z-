{
 "cells": [
  {
   "cell_type": "code",
   "execution_count": 1,
   "id": "007da1ed",
   "metadata": {},
   "outputs": [],
   "source": [
    "#dict is all about key value pair, starts and ends with {}, \n",
    "#example dict1={'key1': value1, 'key2': value2, 'key3':[list],'key4':{dict}}"
   ]
  },
  {
   "cell_type": "code",
   "execution_count": 2,
   "id": "fdef1e2b",
   "metadata": {},
   "outputs": [],
   "source": [
    "dict_x={'key1':'value1', 'key2':'value2', 'key3':'value3'}"
   ]
  },
  {
   "cell_type": "code",
   "execution_count": 3,
   "id": "50b6b52f",
   "metadata": {},
   "outputs": [
    {
     "data": {
      "text/plain": [
       "{'key1': 'value1', 'key2': 'value2', 'key3': 'value3'}"
      ]
     },
     "execution_count": 3,
     "metadata": {},
     "output_type": "execute_result"
    }
   ],
   "source": [
    "dict_x"
   ]
  },
  {
   "cell_type": "code",
   "execution_count": 7,
   "id": "c5e6e712",
   "metadata": {},
   "outputs": [
    {
     "data": {
      "text/plain": [
       "{'key4': 'value4',\n",
       " 'key2': [1, 2, 3, 4],\n",
       " 'key3': [{'key1': 'value1', 'key2': 'value2', 'key3': 'value3'}]}"
      ]
     },
     "execution_count": 7,
     "metadata": {},
     "output_type": "execute_result"
    }
   ],
   "source": [
    "list_object=[1,2,3,4]\n",
    "dict_y= {'key4':'value4','key2':list_object,'key3':[dict_x]}\n",
    "dict_y"
   ]
  },
  {
   "cell_type": "code",
   "execution_count": 5,
   "id": "eb8dd50e",
   "metadata": {},
   "outputs": [
    {
     "data": {
      "text/plain": [
       "{'brand': 'Ford', 'cost': 25000}"
      ]
     },
     "execution_count": 5,
     "metadata": {},
     "output_type": "execute_result"
    }
   ],
   "source": [
    "dict_1={'brand':'Ford', 'cost': 25000}\n",
    "dict_1"
   ]
  },
  {
   "cell_type": "code",
   "execution_count": 6,
   "id": "2316f406",
   "metadata": {},
   "outputs": [
    {
     "data": {
      "text/plain": [
       "'Ford'"
      ]
     },
     "execution_count": 6,
     "metadata": {},
     "output_type": "execute_result"
    }
   ],
   "source": [
    "#to access value ford, type the key in [] with dict name, as below:\n",
    "dict_1['brand']"
   ]
  },
  {
   "cell_type": "code",
   "execution_count": 7,
   "id": "3b986349",
   "metadata": {},
   "outputs": [],
   "source": [
    "#changing the value for a key (as dict are mutable)\n",
    "dict_1['brand']='Audi'"
   ]
  },
  {
   "cell_type": "code",
   "execution_count": 8,
   "id": "be7805a3",
   "metadata": {},
   "outputs": [
    {
     "data": {
      "text/plain": [
       "{'brand': 'Audi', 'cost': 25000}"
      ]
     },
     "execution_count": 8,
     "metadata": {},
     "output_type": "execute_result"
    }
   ],
   "source": [
    "dict_1"
   ]
  },
  {
   "cell_type": "code",
   "execution_count": 9,
   "id": "51ed5111",
   "metadata": {},
   "outputs": [],
   "source": [
    "#adding a new key-value pair\n",
    "dict_1['transmission']='Manual'"
   ]
  },
  {
   "cell_type": "code",
   "execution_count": 10,
   "id": "ac4bcf2b",
   "metadata": {},
   "outputs": [
    {
     "data": {
      "text/plain": [
       "{'brand': 'Audi', 'cost': 25000, 'transmission': 'Manual'}"
      ]
     },
     "execution_count": 10,
     "metadata": {},
     "output_type": "execute_result"
    }
   ],
   "source": [
    "dict_1"
   ]
  },
  {
   "cell_type": "code",
   "execution_count": null,
   "id": "4c56e08f",
   "metadata": {},
   "outputs": [],
   "source": [
    "#adding other key-value pair by embedding a dictionary objct itself"
   ]
  },
  {
   "cell_type": "code",
   "execution_count": 11,
   "id": "6fb29be3",
   "metadata": {},
   "outputs": [],
   "source": [
    "dict_1['other_attributes']={'color':'Black', 'year':2021}"
   ]
  },
  {
   "cell_type": "code",
   "execution_count": 12,
   "id": "3c500d1a",
   "metadata": {},
   "outputs": [
    {
     "data": {
      "text/plain": [
       "{'brand': 'Audi',\n",
       " 'cost': 25000,\n",
       " 'transmission': 'Manual',\n",
       " 'other_attributes': {'color': 'Black', 'year': 2021}}"
      ]
     },
     "execution_count": 12,
     "metadata": {},
     "output_type": "execute_result"
    }
   ],
   "source": [
    "dict_1"
   ]
  },
  {
   "cell_type": "code",
   "execution_count": 13,
   "id": "639d3ace",
   "metadata": {},
   "outputs": [
    {
     "data": {
      "text/plain": [
       "2021"
      ]
     },
     "execution_count": 13,
     "metadata": {},
     "output_type": "execute_result"
    }
   ],
   "source": [
    "# to access value of year=2021, how shoudl we do it?\n",
    "dict_1['other_attributes']['year']"
   ]
  },
  {
   "cell_type": "code",
   "execution_count": 14,
   "id": "d3186392",
   "metadata": {},
   "outputs": [],
   "source": [
    "#adding a list object to dictionary key\n",
    "dict_1['previous_owners']=['Mike', 'Shelly', 'Nitin']"
   ]
  },
  {
   "cell_type": "code",
   "execution_count": 15,
   "id": "278df5a9",
   "metadata": {},
   "outputs": [
    {
     "data": {
      "text/plain": [
       "{'brand': 'Audi',\n",
       " 'cost': 25000,\n",
       " 'transmission': 'Manual',\n",
       " 'other_attributes': {'color': 'Black', 'year': 2021},\n",
       " 'previous_owners': ['Mike', 'Shelly', 'Nitin']}"
      ]
     },
     "execution_count": 15,
     "metadata": {},
     "output_type": "execute_result"
    }
   ],
   "source": [
    "dict_1"
   ]
  },
  {
   "cell_type": "code",
   "execution_count": 16,
   "id": "73e953e4",
   "metadata": {},
   "outputs": [
    {
     "data": {
      "text/plain": [
       "['Mike', 'Shelly', 'Nitin']"
      ]
     },
     "execution_count": 16,
     "metadata": {},
     "output_type": "execute_result"
    }
   ],
   "source": [
    "dict_1['previous_owners']"
   ]
  },
  {
   "cell_type": "code",
   "execution_count": null,
   "id": "4ee032d8",
   "metadata": {},
   "outputs": [],
   "source": [
    "#storing above value in a variable to ease the indexing"
   ]
  },
  {
   "cell_type": "code",
   "execution_count": 17,
   "id": "062ba71b",
   "metadata": {},
   "outputs": [
    {
     "data": {
      "text/plain": [
       "['Mike', 'Shelly', 'Nitin']"
      ]
     },
     "execution_count": 17,
     "metadata": {},
     "output_type": "execute_result"
    }
   ],
   "source": [
    "x=dict_1['previous_owners']\n",
    "x"
   ]
  },
  {
   "cell_type": "code",
   "execution_count": 18,
   "id": "7c3b7685",
   "metadata": {},
   "outputs": [
    {
     "data": {
      "text/plain": [
       "'Shelly'"
      ]
     },
     "execution_count": 18,
     "metadata": {},
     "output_type": "execute_result"
    }
   ],
   "source": [
    "x[1]"
   ]
  },
  {
   "cell_type": "code",
   "execution_count": 19,
   "id": "196e7645",
   "metadata": {},
   "outputs": [
    {
     "data": {
      "text/plain": [
       "'Shelly'"
      ]
     },
     "execution_count": 19,
     "metadata": {},
     "output_type": "execute_result"
    }
   ],
   "source": [
    "#alternatively, we can type \n",
    "dict_1['previous_owners'][1]"
   ]
  },
  {
   "cell_type": "code",
   "execution_count": 20,
   "id": "32beae5b",
   "metadata": {},
   "outputs": [
    {
     "data": {
      "text/plain": [
       "{'brand': 'Audi',\n",
       " 'cost': 25000,\n",
       " 'transmission': 'Manual',\n",
       " 'other_attributes': {'color': 'Black', 'year': 2021},\n",
       " 'previous_owners': ['Mike', 'Shelly', 'Nitin']}"
      ]
     },
     "execution_count": 20,
     "metadata": {},
     "output_type": "execute_result"
    }
   ],
   "source": [
    "dict_1"
   ]
  },
  {
   "cell_type": "code",
   "execution_count": null,
   "id": "ac77223e",
   "metadata": {},
   "outputs": [],
   "source": [
    "#dictionary methods(pop,items, KEYS )\n"
   ]
  },
  {
   "cell_type": "code",
   "execution_count": 21,
   "id": "6f15860c",
   "metadata": {},
   "outputs": [
    {
     "data": {
      "text/plain": [
       "['Mike', 'Shelly', 'Nitin']"
      ]
     },
     "execution_count": 21,
     "metadata": {},
     "output_type": "execute_result"
    }
   ],
   "source": [
    "dict_1.pop('previous_owners') # like lists, this will display and then remove 'previous owners' key and value"
   ]
  },
  {
   "cell_type": "code",
   "execution_count": 22,
   "id": "3155584d",
   "metadata": {},
   "outputs": [
    {
     "data": {
      "text/plain": [
       "{'brand': 'Audi',\n",
       " 'cost': 25000,\n",
       " 'transmission': 'Manual',\n",
       " 'other_attributes': {'color': 'Black', 'year': 2021}}"
      ]
     },
     "execution_count": 22,
     "metadata": {},
     "output_type": "execute_result"
    }
   ],
   "source": [
    "dict_1"
   ]
  },
  {
   "cell_type": "code",
   "execution_count": 23,
   "id": "d0dc8bad",
   "metadata": {},
   "outputs": [
    {
     "data": {
      "text/plain": [
       "dict_items([('brand', 'Audi'), ('cost', 25000), ('transmission', 'Manual'), ('other_attributes', {'color': 'Black', 'year': 2021})])"
      ]
     },
     "execution_count": 23,
     "metadata": {},
     "output_type": "execute_result"
    }
   ],
   "source": [
    "dict_1.items() # it returned the key-value pairs as tTUPLES"
   ]
  },
  {
   "cell_type": "code",
   "execution_count": 24,
   "id": "98051ac6",
   "metadata": {},
   "outputs": [
    {
     "data": {
      "text/plain": [
       "dict_keys(['brand', 'cost', 'transmission', 'other_attributes'])"
      ]
     },
     "execution_count": 24,
     "metadata": {},
     "output_type": "execute_result"
    }
   ],
   "source": [
    "dict_1.keys() #return all keys as list"
   ]
  },
  {
   "cell_type": "code",
   "execution_count": 25,
   "id": "4844f55e",
   "metadata": {},
   "outputs": [
    {
     "data": {
      "text/plain": [
       "dict_values(['Audi', 25000, 'Manual', {'color': 'Black', 'year': 2021}])"
      ]
     },
     "execution_count": 25,
     "metadata": {},
     "output_type": "execute_result"
    }
   ],
   "source": [
    "dict_1.values() #simlarly, values method return all keys as list"
   ]
  },
  {
   "cell_type": "code",
   "execution_count": 26,
   "id": "1658e936",
   "metadata": {},
   "outputs": [],
   "source": [
    "#refer python.org for more\n",
    "#coding excercise follows"
   ]
  },
  {
   "cell_type": "code",
   "execution_count": 27,
   "id": "bce1f8f3",
   "metadata": {},
   "outputs": [
    {
     "data": {
      "text/plain": [
       "{'id': 2557744, 'salary': 135000}"
      ]
     },
     "execution_count": 27,
     "metadata": {},
     "output_type": "execute_result"
    }
   ],
   "source": [
    "employee={'id':2557744, 'salary':135000}\n",
    "employee"
   ]
  },
  {
   "cell_type": "code",
   "execution_count": null,
   "id": "095851a6",
   "metadata": {},
   "outputs": [],
   "source": []
  }
 ],
 "metadata": {
  "kernelspec": {
   "display_name": "Python 3 (ipykernel)",
   "language": "python",
   "name": "python3"
  },
  "language_info": {
   "codemirror_mode": {
    "name": "ipython",
    "version": 3
   },
   "file_extension": ".py",
   "mimetype": "text/x-python",
   "name": "python",
   "nbconvert_exporter": "python",
   "pygments_lexer": "ipython3",
   "version": "3.11.5"
  }
 },
 "nbformat": 4,
 "nbformat_minor": 5
}
