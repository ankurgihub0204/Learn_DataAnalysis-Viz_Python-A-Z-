{
 "cells": [
  {
   "cell_type": "code",
   "execution_count": 1,
   "id": "c8cb34a8",
   "metadata": {},
   "outputs": [],
   "source": [
    "#Funtions (ex: print, help), are not limited to data types like methods are. So they can be used with any.....\n",
    "#....data type (list, string, dict, tuple etc). \n",
    "#built in functions (print, return, help, type, pow, sum, max, min, len, round, range, sorted, input, float, zip, enumerate)"
   ]
  },
  {
   "cell_type": "code",
   "execution_count": null,
   "id": "16242fe8",
   "metadata": {},
   "outputs": [],
   "source": [
    "help(str) #...dont execute, takes lot of space"
   ]
  },
  {
   "cell_type": "code",
   "execution_count": null,
   "id": "c5cdfbca",
   "metadata": {},
   "outputs": [],
   "source": [
    "help(numpy) #...dont execute, takes lot of space"
   ]
  },
  {
   "cell_type": "code",
   "execution_count": 5,
   "id": "978ee198",
   "metadata": {},
   "outputs": [
    {
     "data": {
      "text/plain": [
       "8"
      ]
     },
     "execution_count": 5,
     "metadata": {},
     "output_type": "execute_result"
    }
   ],
   "source": [
    "pow(2,3)"
   ]
  },
  {
   "cell_type": "code",
   "execution_count": 6,
   "id": "40ea5f9e",
   "metadata": {},
   "outputs": [],
   "source": [
    "#sum function"
   ]
  },
  {
   "cell_type": "code",
   "execution_count": 7,
   "id": "72dbf992",
   "metadata": {},
   "outputs": [],
   "source": [
    "list_num=[3,7,10]\n",
    "set_num={3,7,10}\n",
    "tup_num=(3,7,10)"
   ]
  },
  {
   "cell_type": "code",
   "execution_count": 8,
   "id": "28232bd2",
   "metadata": {},
   "outputs": [
    {
     "data": {
      "text/plain": [
       "20"
      ]
     },
     "execution_count": 8,
     "metadata": {},
     "output_type": "execute_result"
    }
   ],
   "source": [
    "sum(list_num)"
   ]
  },
  {
   "cell_type": "code",
   "execution_count": 9,
   "id": "b0e94425",
   "metadata": {},
   "outputs": [
    {
     "data": {
      "text/plain": [
       "20"
      ]
     },
     "execution_count": 9,
     "metadata": {},
     "output_type": "execute_result"
    }
   ],
   "source": [
    "sum(set_num)"
   ]
  },
  {
   "cell_type": "code",
   "execution_count": 10,
   "id": "5149352c",
   "metadata": {},
   "outputs": [
    {
     "data": {
      "text/plain": [
       "20"
      ]
     },
     "execution_count": 10,
     "metadata": {},
     "output_type": "execute_result"
    }
   ],
   "source": [
    "sum(tup_num)"
   ]
  },
  {
   "cell_type": "code",
   "execution_count": 11,
   "id": "c2334db7",
   "metadata": {},
   "outputs": [
    {
     "ename": "TypeError",
     "evalue": "can only concatenate list (not \"set\") to list",
     "output_type": "error",
     "traceback": [
      "\u001b[1;31m---------------------------------------------------------------------------\u001b[0m",
      "\u001b[1;31mTypeError\u001b[0m                                 Traceback (most recent call last)",
      "Cell \u001b[1;32mIn[11], line 1\u001b[0m\n\u001b[1;32m----> 1\u001b[0m list_num \u001b[38;5;241m+\u001b[39m set_num \u001b[38;5;241m+\u001b[39m tup_num\n",
      "\u001b[1;31mTypeError\u001b[0m: can only concatenate list (not \"set\") to list"
     ]
    }
   ],
   "source": [
    "#just for curiosity, to see if we can add list+set+tup\n",
    "list_num + set_num + tup_num"
   ]
  },
  {
   "cell_type": "code",
   "execution_count": 12,
   "id": "0eef3a72",
   "metadata": {},
   "outputs": [
    {
     "ename": "TypeError",
     "evalue": "can only concatenate list (not \"tuple\") to list",
     "output_type": "error",
     "traceback": [
      "\u001b[1;31m---------------------------------------------------------------------------\u001b[0m",
      "\u001b[1;31mTypeError\u001b[0m                                 Traceback (most recent call last)",
      "Cell \u001b[1;32mIn[12], line 1\u001b[0m\n\u001b[1;32m----> 1\u001b[0m list_num \u001b[38;5;241m+\u001b[39m tup_num\n",
      "\u001b[1;31mTypeError\u001b[0m: can only concatenate list (not \"tuple\") to list"
     ]
    }
   ],
   "source": [
    "list_num + tup_num"
   ]
  },
  {
   "cell_type": "code",
   "execution_count": 13,
   "id": "a7eaeda1",
   "metadata": {},
   "outputs": [
    {
     "data": {
      "text/plain": [
       "[3, 7, 10, 3, 7, 10]"
      ]
     },
     "execution_count": 13,
     "metadata": {},
     "output_type": "execute_result"
    }
   ],
   "source": [
    "list_num + list_num"
   ]
  },
  {
   "cell_type": "code",
   "execution_count": 14,
   "id": "725c6c61",
   "metadata": {},
   "outputs": [
    {
     "ename": "TypeError",
     "evalue": "unsupported operand type(s) for +: 'set' and 'set'",
     "output_type": "error",
     "traceback": [
      "\u001b[1;31m---------------------------------------------------------------------------\u001b[0m",
      "\u001b[1;31mTypeError\u001b[0m                                 Traceback (most recent call last)",
      "Cell \u001b[1;32mIn[14], line 1\u001b[0m\n\u001b[1;32m----> 1\u001b[0m set_num \u001b[38;5;241m+\u001b[39m set_num\n",
      "\u001b[1;31mTypeError\u001b[0m: unsupported operand type(s) for +: 'set' and 'set'"
     ]
    }
   ],
   "source": [
    "set_num + set_num"
   ]
  },
  {
   "cell_type": "code",
   "execution_count": 15,
   "id": "5da4076e",
   "metadata": {},
   "outputs": [
    {
     "data": {
      "text/plain": [
       "(3, 7, 10, 3, 7, 10)"
      ]
     },
     "execution_count": 15,
     "metadata": {},
     "output_type": "execute_result"
    }
   ],
   "source": [
    "tup_num+tup_num"
   ]
  },
  {
   "cell_type": "code",
   "execution_count": 16,
   "id": "2c2f7d20",
   "metadata": {},
   "outputs": [
    {
     "data": {
      "text/plain": [
       "(3, 7, 10, 3, 7, 10)"
      ]
     },
     "execution_count": 16,
     "metadata": {},
     "output_type": "execute_result"
    }
   ],
   "source": [
    "2*tup_num"
   ]
  },
  {
   "cell_type": "code",
   "execution_count": 17,
   "id": "3e786573",
   "metadata": {},
   "outputs": [
    {
     "data": {
      "text/plain": [
       "(3, 7, 10, 3, 7, 10, 3, 7, 10)"
      ]
     },
     "execution_count": 17,
     "metadata": {},
     "output_type": "execute_result"
    }
   ],
   "source": [
    "3*tup_num"
   ]
  },
  {
   "cell_type": "code",
   "execution_count": 18,
   "id": "4dc6b90a",
   "metadata": {},
   "outputs": [
    {
     "data": {
      "text/plain": [
       "[3, 7, 10, 3, 7, 10]"
      ]
     },
     "execution_count": 18,
     "metadata": {},
     "output_type": "execute_result"
    }
   ],
   "source": [
    "2*list_num"
   ]
  },
  {
   "cell_type": "code",
   "execution_count": 19,
   "id": "0db9b1b1",
   "metadata": {},
   "outputs": [],
   "source": [
    "#cool stuff, lets get back"
   ]
  },
  {
   "cell_type": "code",
   "execution_count": 20,
   "id": "6b09acc0",
   "metadata": {},
   "outputs": [],
   "source": [
    "#max & min"
   ]
  },
  {
   "cell_type": "code",
   "execution_count": 21,
   "id": "0d3b2784",
   "metadata": {},
   "outputs": [
    {
     "data": {
      "text/plain": [
       "10"
      ]
     },
     "execution_count": 21,
     "metadata": {},
     "output_type": "execute_result"
    }
   ],
   "source": [
    "max(list_num)"
   ]
  },
  {
   "cell_type": "code",
   "execution_count": 22,
   "id": "4b385d13",
   "metadata": {},
   "outputs": [
    {
     "data": {
      "text/plain": [
       "10"
      ]
     },
     "execution_count": 22,
     "metadata": {},
     "output_type": "execute_result"
    }
   ],
   "source": [
    "max(set_num)"
   ]
  },
  {
   "cell_type": "code",
   "execution_count": 23,
   "id": "af77b60e",
   "metadata": {},
   "outputs": [
    {
     "data": {
      "text/plain": [
       "10"
      ]
     },
     "execution_count": 23,
     "metadata": {},
     "output_type": "execute_result"
    }
   ],
   "source": [
    "max(tup_num)"
   ]
  },
  {
   "cell_type": "code",
   "execution_count": 24,
   "id": "52a6f006",
   "metadata": {},
   "outputs": [
    {
     "data": {
      "text/plain": [
       "3"
      ]
     },
     "execution_count": 24,
     "metadata": {},
     "output_type": "execute_result"
    }
   ],
   "source": [
    "min(list_num)"
   ]
  },
  {
   "cell_type": "code",
   "execution_count": 25,
   "id": "b141263e",
   "metadata": {},
   "outputs": [
    {
     "data": {
      "text/plain": [
       "3"
      ]
     },
     "execution_count": 25,
     "metadata": {},
     "output_type": "execute_result"
    }
   ],
   "source": [
    "min(set_num)"
   ]
  },
  {
   "cell_type": "code",
   "execution_count": 26,
   "id": "0dbc4b07",
   "metadata": {},
   "outputs": [
    {
     "data": {
      "text/plain": [
       "3"
      ]
     },
     "execution_count": 26,
     "metadata": {},
     "output_type": "execute_result"
    }
   ],
   "source": [
    "min(tup_num)"
   ]
  },
  {
   "cell_type": "code",
   "execution_count": 27,
   "id": "59edab34",
   "metadata": {},
   "outputs": [],
   "source": [
    "# if there is list with charcaters instead of numbers"
   ]
  },
  {
   "cell_type": "code",
   "execution_count": 34,
   "id": "e4569fad",
   "metadata": {},
   "outputs": [],
   "source": [
    "list_char=['a', 'b', 'z1']"
   ]
  },
  {
   "cell_type": "code",
   "execution_count": 35,
   "id": "85a414c4",
   "metadata": {},
   "outputs": [
    {
     "data": {
      "text/plain": [
       "'z1'"
      ]
     },
     "execution_count": 35,
     "metadata": {},
     "output_type": "execute_result"
    }
   ],
   "source": [
    "max(list_char)"
   ]
  },
  {
   "cell_type": "code",
   "execution_count": 36,
   "id": "04e48369",
   "metadata": {},
   "outputs": [
    {
     "data": {
      "text/plain": [
       "'a'"
      ]
     },
     "execution_count": 36,
     "metadata": {},
     "output_type": "execute_result"
    }
   ],
   "source": [
    "min(list_char)"
   ]
  },
  {
   "cell_type": "code",
   "execution_count": 32,
   "id": "7e64178f",
   "metadata": {},
   "outputs": [
    {
     "data": {
      "text/plain": [
       "3"
      ]
     },
     "execution_count": 32,
     "metadata": {},
     "output_type": "execute_result"
    }
   ],
   "source": [
    "#len function\n",
    "len(list_num)"
   ]
  },
  {
   "cell_type": "code",
   "execution_count": 37,
   "id": "b6c91fe1",
   "metadata": {},
   "outputs": [
    {
     "data": {
      "text/plain": [
       "3"
      ]
     },
     "execution_count": 37,
     "metadata": {},
     "output_type": "execute_result"
    }
   ],
   "source": [
    "len(list_char)"
   ]
  },
  {
   "cell_type": "code",
   "execution_count": 38,
   "id": "642b480e",
   "metadata": {},
   "outputs": [],
   "source": [
    "#round function"
   ]
  },
  {
   "cell_type": "code",
   "execution_count": 39,
   "id": "d10f293e",
   "metadata": {},
   "outputs": [
    {
     "data": {
      "text/plain": [
       "33.333333333333336"
      ]
     },
     "execution_count": 39,
     "metadata": {},
     "output_type": "execute_result"
    }
   ],
   "source": [
    "x=100/3\n",
    "x"
   ]
  },
  {
   "cell_type": "code",
   "execution_count": 40,
   "id": "ef1d5f15",
   "metadata": {},
   "outputs": [
    {
     "data": {
      "text/plain": [
       "33.33"
      ]
     },
     "execution_count": 40,
     "metadata": {},
     "output_type": "execute_result"
    }
   ],
   "source": [
    "round(x,2)"
   ]
  },
  {
   "cell_type": "code",
   "execution_count": 41,
   "id": "2c46b2b0",
   "metadata": {},
   "outputs": [
    {
     "ename": "NameError",
     "evalue": "name 'roundup' is not defined",
     "output_type": "error",
     "traceback": [
      "\u001b[1;31m---------------------------------------------------------------------------\u001b[0m",
      "\u001b[1;31mNameError\u001b[0m                                 Traceback (most recent call last)",
      "Cell \u001b[1;32mIn[41], line 1\u001b[0m\n\u001b[1;32m----> 1\u001b[0m roundup(x,\u001b[38;5;241m2\u001b[39m)\n",
      "\u001b[1;31mNameError\u001b[0m: name 'roundup' is not defined"
     ]
    }
   ],
   "source": [
    "roundup(x,2)"
   ]
  },
  {
   "cell_type": "code",
   "execution_count": null,
   "id": "40951bc4",
   "metadata": {},
   "outputs": [],
   "source": [
    "#hmm, round up and round down, how to do, we shall see..."
   ]
  },
  {
   "cell_type": "code",
   "execution_count": 42,
   "id": "89ad4b35",
   "metadata": {},
   "outputs": [],
   "source": [
    "#range function (start, end and step), and it gves us the value"
   ]
  },
  {
   "cell_type": "code",
   "execution_count": 46,
   "id": "49e66a46",
   "metadata": {},
   "outputs": [
    {
     "data": {
      "text/plain": [
       "range(0, 11, 2)"
      ]
     },
     "execution_count": 46,
     "metadata": {},
     "output_type": "execute_result"
    }
   ],
   "source": [
    "x=range(0,11,2)\n",
    "x"
   ]
  },
  {
   "cell_type": "code",
   "execution_count": 47,
   "id": "8ddf2a94",
   "metadata": {},
   "outputs": [
    {
     "data": {
      "text/plain": [
       "(0, 2, 4, 6, 8, 10)"
      ]
     },
     "execution_count": 47,
     "metadata": {},
     "output_type": "execute_result"
    }
   ],
   "source": [
    "tuple(x) #thus range values can be called in as tuple"
   ]
  },
  {
   "cell_type": "code",
   "execution_count": 48,
   "id": "40bad53f",
   "metadata": {},
   "outputs": [
    {
     "data": {
      "text/plain": [
       "[0, 2, 4, 6, 8, 10]"
      ]
     },
     "execution_count": 48,
     "metadata": {},
     "output_type": "execute_result"
    }
   ],
   "source": [
    "list(x)"
   ]
  },
  {
   "cell_type": "code",
   "execution_count": 49,
   "id": "5b878c2f",
   "metadata": {},
   "outputs": [
    {
     "name": "stdout",
     "output_type": "stream",
     "text": [
      "0\n",
      "2\n",
      "4\n",
      "6\n",
      "8\n",
      "10\n"
     ]
    }
   ],
   "source": [
    "#alternatively, use loop to print x\n",
    "\n",
    "for a in x:\n",
    "    print(a)"
   ]
  },
  {
   "cell_type": "code",
   "execution_count": 50,
   "id": "69b0e1d3",
   "metadata": {},
   "outputs": [],
   "source": [
    "#sorted (takes an parameter, converts to list and then sort a list)"
   ]
  },
  {
   "cell_type": "code",
   "execution_count": 53,
   "id": "58ca20fe",
   "metadata": {},
   "outputs": [
    {
     "data": {
      "text/plain": [
       "['e', 'h', 'l', 'l', 'o']"
      ]
     },
     "execution_count": 53,
     "metadata": {},
     "output_type": "execute_result"
    }
   ],
   "source": [
    "sorted(\"hello\")"
   ]
  },
  {
   "cell_type": "code",
   "execution_count": 54,
   "id": "43baf16f",
   "metadata": {},
   "outputs": [],
   "source": [
    "# for descending order, just pass an argument reverse=True, see below (remember True with capital T)"
   ]
  },
  {
   "cell_type": "code",
   "execution_count": 57,
   "id": "0e9d2684",
   "metadata": {},
   "outputs": [
    {
     "data": {
      "text/plain": [
       "['o', 'l', 'l', 'h', 'e']"
      ]
     },
     "execution_count": 57,
     "metadata": {},
     "output_type": "execute_result"
    }
   ],
   "source": [
    "sorted('hello', reverse=True)"
   ]
  },
  {
   "cell_type": "code",
   "execution_count": 58,
   "id": "3c4015a2",
   "metadata": {},
   "outputs": [
    {
     "data": {
      "text/plain": [
       "[1, 1, 2, 3, 5, 6]"
      ]
     },
     "execution_count": 58,
     "metadata": {},
     "output_type": "execute_result"
    }
   ],
   "source": [
    "sorted([1,2,5, 6, 3 ,1])"
   ]
  },
  {
   "cell_type": "code",
   "execution_count": 59,
   "id": "402b4e8f",
   "metadata": {},
   "outputs": [
    {
     "data": {
      "text/plain": [
       "[6, 5, 3, 2, 1, 1]"
      ]
     },
     "execution_count": 59,
     "metadata": {},
     "output_type": "execute_result"
    }
   ],
   "source": [
    "sorted([1,2,5,6,3,1], reverse=True)"
   ]
  },
  {
   "cell_type": "code",
   "execution_count": 60,
   "id": "2b988758",
   "metadata": {},
   "outputs": [],
   "source": [
    "#input function (takes user input n store it in variable)"
   ]
  },
  {
   "cell_type": "code",
   "execution_count": 61,
   "id": "c8e32560",
   "metadata": {},
   "outputs": [
    {
     "name": "stdout",
     "output_type": "stream",
     "text": [
      "hello\n"
     ]
    },
    {
     "data": {
      "text/plain": [
       "'hello'"
      ]
     },
     "execution_count": 61,
     "metadata": {},
     "output_type": "execute_result"
    }
   ],
   "source": [
    "input()"
   ]
  },
  {
   "cell_type": "code",
   "execution_count": 62,
   "id": "83195020",
   "metadata": {},
   "outputs": [
    {
     "name": "stdout",
     "output_type": "stream",
     "text": [
      "hello\n"
     ]
    }
   ],
   "source": [
    "x=input()"
   ]
  },
  {
   "cell_type": "code",
   "execution_count": 63,
   "id": "dc368e05",
   "metadata": {},
   "outputs": [
    {
     "data": {
      "text/plain": [
       "'hello'"
      ]
     },
     "execution_count": 63,
     "metadata": {},
     "output_type": "execute_result"
    }
   ],
   "source": [
    "x"
   ]
  },
  {
   "cell_type": "code",
   "execution_count": 64,
   "id": "d632e234",
   "metadata": {},
   "outputs": [
    {
     "name": "stdout",
     "output_type": "stream",
     "text": [
      "123\n"
     ]
    }
   ],
   "source": [
    "num=input()"
   ]
  },
  {
   "cell_type": "code",
   "execution_count": 65,
   "id": "9e0f25ab",
   "metadata": {},
   "outputs": [
    {
     "data": {
      "text/plain": [
       "'123'"
      ]
     },
     "execution_count": 65,
     "metadata": {},
     "output_type": "execute_result"
    }
   ],
   "source": [
    "num"
   ]
  },
  {
   "cell_type": "code",
   "execution_count": 66,
   "id": "732a2d4d",
   "metadata": {},
   "outputs": [],
   "source": [
    "#so 123 returned here is as a string, so input stores the values as strings"
   ]
  },
  {
   "cell_type": "code",
   "execution_count": 67,
   "id": "e217dbbb",
   "metadata": {},
   "outputs": [],
   "source": [
    "#to store x as integer, use int funtion with input"
   ]
  },
  {
   "cell_type": "code",
   "execution_count": 68,
   "id": "8473f51e",
   "metadata": {},
   "outputs": [
    {
     "name": "stdout",
     "output_type": "stream",
     "text": [
      "1234\n"
     ]
    }
   ],
   "source": [
    "x=int(input())"
   ]
  },
  {
   "cell_type": "code",
   "execution_count": 69,
   "id": "19d61c3d",
   "metadata": {},
   "outputs": [
    {
     "data": {
      "text/plain": [
       "1234"
      ]
     },
     "execution_count": 69,
     "metadata": {},
     "output_type": "execute_result"
    }
   ],
   "source": [
    "x"
   ]
  },
  {
   "cell_type": "code",
   "execution_count": 70,
   "id": "4f731525",
   "metadata": {},
   "outputs": [
    {
     "data": {
      "text/plain": [
       "int"
      ]
     },
     "execution_count": 70,
     "metadata": {},
     "output_type": "execute_result"
    }
   ],
   "source": [
    "type(x)"
   ]
  },
  {
   "cell_type": "code",
   "execution_count": 71,
   "id": "4f278b44",
   "metadata": {},
   "outputs": [],
   "source": [
    "#cool,now float will convert x to float"
   ]
  },
  {
   "cell_type": "code",
   "execution_count": 72,
   "id": "01616cc7",
   "metadata": {},
   "outputs": [
    {
     "data": {
      "text/plain": [
       "1234.0"
      ]
     },
     "execution_count": 72,
     "metadata": {},
     "output_type": "execute_result"
    }
   ],
   "source": [
    "x=float(x)\n",
    "x"
   ]
  },
  {
   "cell_type": "code",
   "execution_count": 122,
   "id": "90396603",
   "metadata": {},
   "outputs": [
    {
     "name": "stdout",
     "output_type": "stream",
     "text": [
      "please type in the value tha you want to enter5678-r\n"
     ]
    },
    {
     "data": {
      "text/plain": [
       "'5678-r'"
      ]
     },
     "execution_count": 122,
     "metadata": {},
     "output_type": "execute_result"
    }
   ],
   "source": [
    "#if we want user to input something, we should display it with some message, like this...\n",
    "input('please type in the value tha you want to enter')"
   ]
  },
  {
   "cell_type": "code",
   "execution_count": 73,
   "id": "afa78a09",
   "metadata": {},
   "outputs": [],
   "source": [
    "#converting list to tuple or set or string"
   ]
  },
  {
   "cell_type": "code",
   "execution_count": 74,
   "id": "3d0fcc71",
   "metadata": {},
   "outputs": [],
   "source": [
    "list_1=[1,2,3]"
   ]
  },
  {
   "cell_type": "code",
   "execution_count": 75,
   "id": "f77a5092",
   "metadata": {},
   "outputs": [
    {
     "data": {
      "text/plain": [
       "(1, 2, 3)"
      ]
     },
     "execution_count": 75,
     "metadata": {},
     "output_type": "execute_result"
    }
   ],
   "source": [
    "tuple(list_1)"
   ]
  },
  {
   "cell_type": "code",
   "execution_count": 76,
   "id": "e49c6901",
   "metadata": {},
   "outputs": [
    {
     "data": {
      "text/plain": [
       "{1, 2, 3}"
      ]
     },
     "execution_count": 76,
     "metadata": {},
     "output_type": "execute_result"
    }
   ],
   "source": [
    "set(list_1)"
   ]
  },
  {
   "cell_type": "code",
   "execution_count": 77,
   "id": "24432605",
   "metadata": {},
   "outputs": [
    {
     "data": {
      "text/plain": [
       "'[1, 2, 3]'"
      ]
     },
     "execution_count": 77,
     "metadata": {},
     "output_type": "execute_result"
    }
   ],
   "source": [
    "str(list_1)"
   ]
  },
  {
   "cell_type": "code",
   "execution_count": 78,
   "id": "40cbc1bb",
   "metadata": {},
   "outputs": [
    {
     "ename": "TypeError",
     "evalue": "cannot convert dictionary update sequence element #0 to a sequence",
     "output_type": "error",
     "traceback": [
      "\u001b[1;31m---------------------------------------------------------------------------\u001b[0m",
      "\u001b[1;31mTypeError\u001b[0m                                 Traceback (most recent call last)",
      "Cell \u001b[1;32mIn[78], line 1\u001b[0m\n\u001b[1;32m----> 1\u001b[0m \u001b[38;5;28mdict\u001b[39m(list_1)\n",
      "\u001b[1;31mTypeError\u001b[0m: cannot convert dictionary update sequence element #0 to a sequence"
     ]
    }
   ],
   "source": [
    "dict(list_1)"
   ]
  },
  {
   "cell_type": "code",
   "execution_count": 79,
   "id": "26dd84e3",
   "metadata": {},
   "outputs": [],
   "source": [
    "#zip funtion"
   ]
  },
  {
   "cell_type": "code",
   "execution_count": 80,
   "id": "a527314f",
   "metadata": {},
   "outputs": [],
   "source": [
    "list1=[1,2,3,4]\n",
    "tup1=(1,2,3,4,5)\n",
    "string1='hello'"
   ]
  },
  {
   "cell_type": "code",
   "execution_count": 81,
   "id": "aaca773b",
   "metadata": {},
   "outputs": [],
   "source": [
    "x=zip(list1,tup1,string1)"
   ]
  },
  {
   "cell_type": "code",
   "execution_count": 82,
   "id": "c77f5cfc",
   "metadata": {},
   "outputs": [
    {
     "data": {
      "text/plain": [
       "zip"
      ]
     },
     "execution_count": 82,
     "metadata": {},
     "output_type": "execute_result"
    }
   ],
   "source": [
    "type(x)"
   ]
  },
  {
   "cell_type": "code",
   "execution_count": 83,
   "id": "e4749829",
   "metadata": {},
   "outputs": [
    {
     "data": {
      "text/plain": [
       "<zip at 0x21b054ef7c0>"
      ]
     },
     "execution_count": 83,
     "metadata": {},
     "output_type": "execute_result"
    }
   ],
   "source": [
    "x"
   ]
  },
  {
   "cell_type": "code",
   "execution_count": 84,
   "id": "0a3d95f1",
   "metadata": {},
   "outputs": [
    {
     "name": "stdout",
     "output_type": "stream",
     "text": [
      "<zip object at 0x0000021B054EF7C0>\n"
     ]
    }
   ],
   "source": [
    "print(x)"
   ]
  },
  {
   "cell_type": "code",
   "execution_count": 85,
   "id": "b064cd54",
   "metadata": {},
   "outputs": [],
   "source": [
    "#hmm, not displaying x this way, looks like it should be convereted to tuple, set or list"
   ]
  },
  {
   "cell_type": "code",
   "execution_count": 86,
   "id": "6949f9f5",
   "metadata": {},
   "outputs": [
    {
     "data": {
      "text/plain": [
       "((1, 1, 'h'), (2, 2, 'e'), (3, 3, 'l'), (4, 4, 'l'))"
      ]
     },
     "execution_count": 86,
     "metadata": {},
     "output_type": "execute_result"
    }
   ],
   "source": [
    "tuple(x)"
   ]
  },
  {
   "cell_type": "code",
   "execution_count": 87,
   "id": "a4881c64",
   "metadata": {},
   "outputs": [
    {
     "data": {
      "text/plain": [
       "[]"
      ]
     },
     "execution_count": 87,
     "metadata": {},
     "output_type": "execute_result"
    }
   ],
   "source": [
    "list(x)"
   ]
  },
  {
   "cell_type": "code",
   "execution_count": 88,
   "id": "569ea25b",
   "metadata": {},
   "outputs": [
    {
     "data": {
      "text/plain": [
       "<zip at 0x21b054ef7c0>"
      ]
     },
     "execution_count": 88,
     "metadata": {},
     "output_type": "execute_result"
    }
   ],
   "source": [
    "x"
   ]
  },
  {
   "cell_type": "code",
   "execution_count": 89,
   "id": "810a6a8e",
   "metadata": {},
   "outputs": [
    {
     "data": {
      "text/plain": [
       "[]"
      ]
     },
     "execution_count": 89,
     "metadata": {},
     "output_type": "execute_result"
    }
   ],
   "source": [
    "list(x)"
   ]
  },
  {
   "cell_type": "code",
   "execution_count": 90,
   "id": "1a8ef331",
   "metadata": {},
   "outputs": [],
   "source": [
    "#hmm, since this x is already a tuple now, so giving a blank list, lets zi it again, and call it as list"
   ]
  },
  {
   "cell_type": "code",
   "execution_count": 91,
   "id": "d630c270",
   "metadata": {},
   "outputs": [],
   "source": [
    "x=zip(list1,tup1,string1)"
   ]
  },
  {
   "cell_type": "code",
   "execution_count": 93,
   "id": "e06bd8df",
   "metadata": {},
   "outputs": [
    {
     "data": {
      "text/plain": [
       "[(1, 1, 'h'), (2, 2, 'e'), (3, 3, 'l'), (4, 4, 'l')]"
      ]
     },
     "execution_count": 93,
     "metadata": {},
     "output_type": "execute_result"
    }
   ],
   "source": [
    "list(x)"
   ]
  },
  {
   "cell_type": "code",
   "execution_count": 94,
   "id": "bb58a1d7",
   "metadata": {},
   "outputs": [],
   "source": [
    "# cool, we got x as list now. lets zip it again to see if we have zip elements order"
   ]
  },
  {
   "cell_type": "code",
   "execution_count": 98,
   "id": "c9794ce3",
   "metadata": {},
   "outputs": [],
   "source": [
    "tup1=(1,2,3,4,5)\n",
    "string1='hello'\n",
    "list1=[1,2,3,4]"
   ]
  },
  {
   "cell_type": "code",
   "execution_count": 99,
   "id": "93c417c5",
   "metadata": {},
   "outputs": [],
   "source": [
    "x=zip(tup1,string1, list1) #see order of elements inside zip funtion is changed"
   ]
  },
  {
   "cell_type": "code",
   "execution_count": 100,
   "id": "5df38e60",
   "metadata": {},
   "outputs": [
    {
     "data": {
      "text/plain": [
       "((1, 'h', 1), (2, 'e', 2), (3, 'l', 3), (4, 'l', 4))"
      ]
     },
     "execution_count": 100,
     "metadata": {},
     "output_type": "execute_result"
    }
   ],
   "source": [
    "tuple(x)"
   ]
  },
  {
   "cell_type": "code",
   "execution_count": 101,
   "id": "6d77e8d2",
   "metadata": {},
   "outputs": [],
   "source": [
    "#hmm, as list has smallest number of element (4 elements), x has 4 elements too. so size of zip is as of smallest....\n",
    "#...iterable object"
   ]
  },
  {
   "cell_type": "code",
   "execution_count": 102,
   "id": "eac28013",
   "metadata": {},
   "outputs": [],
   "source": [
    "#enumerate function"
   ]
  },
  {
   "cell_type": "code",
   "execution_count": 103,
   "id": "273d4b22",
   "metadata": {},
   "outputs": [],
   "source": [
    "list1=[1,2,3,'random']"
   ]
  },
  {
   "cell_type": "code",
   "execution_count": 104,
   "id": "3ff30014",
   "metadata": {},
   "outputs": [],
   "source": [
    "x=enumerate(list1)"
   ]
  },
  {
   "cell_type": "code",
   "execution_count": 105,
   "id": "a19642b0",
   "metadata": {},
   "outputs": [
    {
     "data": {
      "text/plain": [
       "<enumerate at 0x21b054ceca0>"
      ]
     },
     "execution_count": 105,
     "metadata": {},
     "output_type": "execute_result"
    }
   ],
   "source": [
    "x"
   ]
  },
  {
   "cell_type": "code",
   "execution_count": 106,
   "id": "5324feb6",
   "metadata": {},
   "outputs": [
    {
     "data": {
      "text/plain": [
       "[(0, 1), (1, 2), (2, 3), (3, 'random')]"
      ]
     },
     "execution_count": 106,
     "metadata": {},
     "output_type": "execute_result"
    }
   ],
   "source": [
    "list(x)"
   ]
  },
  {
   "cell_type": "code",
   "execution_count": 107,
   "id": "82df508e",
   "metadata": {},
   "outputs": [],
   "source": [
    "#so you see enumerate provides index postion with its corresponding element. in list1, 1 is at 0 index, so (0,1).....\n",
    "#....2 is at position1, so (1,2), and so on and thus we get [(0, 1), (1, 2), (2, 3), (3, 'random')]"
   ]
  },
  {
   "cell_type": "code",
   "execution_count": 108,
   "id": "ba16c3b2",
   "metadata": {},
   "outputs": [],
   "source": [
    "#lets do it to get set, str, tiple, and dict, and see what happens"
   ]
  },
  {
   "cell_type": "code",
   "execution_count": 110,
   "id": "882b1acf",
   "metadata": {},
   "outputs": [
    {
     "data": {
      "text/plain": [
       "()"
      ]
     },
     "execution_count": 110,
     "metadata": {},
     "output_type": "execute_result"
    }
   ],
   "source": [
    "tuple(x)"
   ]
  },
  {
   "cell_type": "code",
   "execution_count": 111,
   "id": "ecf9078a",
   "metadata": {},
   "outputs": [],
   "source": [
    "#obviously x is now list, so will get blank tuple (or set or str, or dict), lets define it again"
   ]
  },
  {
   "cell_type": "code",
   "execution_count": 112,
   "id": "23680235",
   "metadata": {},
   "outputs": [
    {
     "data": {
      "text/plain": [
       "<enumerate at 0x21b054cf6f0>"
      ]
     },
     "execution_count": 112,
     "metadata": {},
     "output_type": "execute_result"
    }
   ],
   "source": [
    "x=enumerate(list1)\n",
    "x"
   ]
  },
  {
   "cell_type": "code",
   "execution_count": 113,
   "id": "e0bf6e64",
   "metadata": {},
   "outputs": [
    {
     "data": {
      "text/plain": [
       "((0, 1), (1, 2), (2, 3), (3, 'random'))"
      ]
     },
     "execution_count": 113,
     "metadata": {},
     "output_type": "execute_result"
    }
   ],
   "source": [
    "tuple(x)"
   ]
  },
  {
   "cell_type": "code",
   "execution_count": 114,
   "id": "1ea5ba6a",
   "metadata": {},
   "outputs": [
    {
     "data": {
      "text/plain": [
       "{(0, 1), (1, 2), (2, 3), (3, 'random')}"
      ]
     },
     "execution_count": 114,
     "metadata": {},
     "output_type": "execute_result"
    }
   ],
   "source": [
    "x=enumerate(list1)\n",
    "set(x)"
   ]
  },
  {
   "cell_type": "code",
   "execution_count": 115,
   "id": "84ae29c7",
   "metadata": {},
   "outputs": [
    {
     "data": {
      "text/plain": [
       "{0: 1, 1: 2, 2: 3, 3: 'random'}"
      ]
     },
     "execution_count": 115,
     "metadata": {},
     "output_type": "execute_result"
    }
   ],
   "source": [
    "x=enumerate(list1)\n",
    "dict(x)"
   ]
  },
  {
   "cell_type": "code",
   "execution_count": 116,
   "id": "6312daab",
   "metadata": {},
   "outputs": [],
   "source": [
    "#there are loads of functions in python, again, keep learning"
   ]
  },
  {
   "cell_type": "code",
   "execution_count": 117,
   "id": "b1088e27",
   "metadata": {},
   "outputs": [],
   "source": [
    "#coding execrcise"
   ]
  },
  {
   "cell_type": "code",
   "execution_count": 118,
   "id": "10913913",
   "metadata": {},
   "outputs": [],
   "source": [
    "num = [99,83.298,2,17.823,15]"
   ]
  },
  {
   "cell_type": "code",
   "execution_count": 119,
   "id": "4b5b2c42",
   "metadata": {},
   "outputs": [],
   "source": [
    "sum_num=sum(num)"
   ]
  },
  {
   "cell_type": "code",
   "execution_count": 120,
   "id": "37ae61b1",
   "metadata": {},
   "outputs": [
    {
     "data": {
      "text/plain": [
       "217.121"
      ]
     },
     "execution_count": 120,
     "metadata": {},
     "output_type": "execute_result"
    }
   ],
   "source": [
    "sum_num"
   ]
  },
  {
   "cell_type": "code",
   "execution_count": 121,
   "id": "857af2d0",
   "metadata": {},
   "outputs": [
    {
     "data": {
      "text/plain": [
       "99"
      ]
     },
     "execution_count": 121,
     "metadata": {},
     "output_type": "execute_result"
    }
   ],
   "source": [
    "max_num=max(num)\n",
    "max_num"
   ]
  },
  {
   "cell_type": "code",
   "execution_count": null,
   "id": "71294bbf",
   "metadata": {},
   "outputs": [],
   "source": []
  }
 ],
 "metadata": {
  "kernelspec": {
   "display_name": "Python 3 (ipykernel)",
   "language": "python",
   "name": "python3"
  },
  "language_info": {
   "codemirror_mode": {
    "name": "ipython",
    "version": 3
   },
   "file_extension": ".py",
   "mimetype": "text/x-python",
   "name": "python",
   "nbconvert_exporter": "python",
   "pygments_lexer": "ipython3",
   "version": "3.11.5"
  }
 },
 "nbformat": 4,
 "nbformat_minor": 5
}
