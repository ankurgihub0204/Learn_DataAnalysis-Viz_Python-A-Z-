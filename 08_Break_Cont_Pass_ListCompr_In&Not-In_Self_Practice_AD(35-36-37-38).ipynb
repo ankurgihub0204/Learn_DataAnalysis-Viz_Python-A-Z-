{
 "cells": [
  {
   "cell_type": "code",
   "execution_count": 1,
   "id": "f97464a1",
   "metadata": {},
   "outputs": [],
   "source": [
    "#Break Continue Pass statements (to be used in control flow and loops) \n"
   ]
  },
  {
   "cell_type": "code",
   "execution_count": 2,
   "id": "e9b4da28",
   "metadata": {},
   "outputs": [],
   "source": [
    "#pass statement - basically helps us to avoid sysntax error"
   ]
  },
  {
   "cell_type": "code",
   "execution_count": 7,
   "id": "32141687",
   "metadata": {},
   "outputs": [],
   "source": [
    "num=2\n",
    "if num==2:\n",
    "    pass #(#code to be completed later)\n",
    "else:\n",
    "    print(num)"
   ]
  },
  {
   "cell_type": "code",
   "execution_count": 8,
   "id": "85fa0c69",
   "metadata": {},
   "outputs": [],
   "source": [
    "# above code can now be executed even without filling in any code after if, this left code can be filled later and .....\n",
    "# ...we wont get any error for not providng the code"
   ]
  },
  {
   "cell_type": "code",
   "execution_count": 9,
   "id": "9860abfa",
   "metadata": {},
   "outputs": [
    {
     "data": {
      "text/plain": [
       "[0, 1, 2, 3, 4, 5, 6, 7, 8, 9, 10]"
      ]
     },
     "execution_count": 9,
     "metadata": {},
     "output_type": "execute_result"
    }
   ],
   "source": [
    "num = [0,1,2,3,4,5,6,7,8,9,10]\n",
    "num"
   ]
  },
  {
   "cell_type": "code",
   "execution_count": 14,
   "id": "c0c69b06",
   "metadata": {},
   "outputs": [
    {
     "name": "stdout",
     "output_type": "stream",
     "text": [
      "0\n",
      "1\n",
      "2\n",
      "3\n",
      "4\n",
      "6\n",
      "7\n",
      "8\n",
      "9\n",
      "10\n"
     ]
    }
   ],
   "source": [
    "#lets say we want to print above list but not with element 5\n",
    "for x in num:\n",
    "    if x==5:\n",
    "        pass\n",
    "    else:\n",
    "        print (x)"
   ]
  },
  {
   "cell_type": "code",
   "execution_count": 15,
   "id": "b0abc2d1",
   "metadata": {},
   "outputs": [],
   "source": [
    "#break statemnt"
   ]
  },
  {
   "cell_type": "code",
   "execution_count": 18,
   "id": "009322a5",
   "metadata": {},
   "outputs": [
    {
     "name": "stdout",
     "output_type": "stream",
     "text": [
      "0\n",
      "1\n",
      "2\n",
      "3\n",
      "4\n"
     ]
    }
   ],
   "source": [
    "#lets say if instead of pass, we use break, then lets see what will happen\n",
    "\n",
    "for x in num:\n",
    "    if x==5:\n",
    "        break\n",
    "    else:\n",
    "        print(x)"
   ]
  },
  {
   "cell_type": "code",
   "execution_count": 20,
   "id": "327cf3b6",
   "metadata": {},
   "outputs": [],
   "source": [
    "# so it breaks at 5. Even though loop was supposed to be run till all elements ofthe list were printed..\n",
    "# but break statement, breaks the loop at x==5"
   ]
  },
  {
   "cell_type": "code",
   "execution_count": 23,
   "id": "81bb0fff",
   "metadata": {},
   "outputs": [
    {
     "name": "stdout",
     "output_type": "stream",
     "text": [
      "0\n",
      "1\n",
      "2\n",
      "3\n",
      "4\n"
     ]
    }
   ],
   "source": [
    "#line 18 code can be written even without else statement, lets see\n",
    "\n",
    "for x in num:\n",
    "    if x==5:\n",
    "        break\n",
    "    print(x)"
   ]
  },
  {
   "cell_type": "code",
   "execution_count": null,
   "id": "d36ccdac",
   "metadata": {},
   "outputs": [],
   "source": [
    "#continue statement: this skips the code for current iteration (means the if statement is true), and continue with next"
   ]
  },
  {
   "cell_type": "code",
   "execution_count": 24,
   "id": "87cae8e7",
   "metadata": {},
   "outputs": [
    {
     "name": "stdout",
     "output_type": "stream",
     "text": [
      "0\n",
      "1\n",
      "2\n",
      "3\n",
      "4\n",
      "6\n",
      "7\n",
      "8\n",
      "9\n",
      "10\n"
     ]
    }
   ],
   "source": [
    "for x in num:\n",
    "    if x==5:\n",
    "        continue\n",
    "    print(x)\n",
    "    "
   ]
  },
  {
   "cell_type": "code",
   "execution_count": 22,
   "id": "6fa006fe",
   "metadata": {},
   "outputs": [],
   "source": [
    "#so here, when x was  5, it skips, and continued from 6 onwards"
   ]
  },
  {
   "cell_type": "code",
   "execution_count": 25,
   "id": "ca80669c",
   "metadata": {},
   "outputs": [],
   "source": [
    "#List Comprehension"
   ]
  },
  {
   "cell_type": "code",
   "execution_count": 26,
   "id": "25377a43",
   "metadata": {},
   "outputs": [],
   "source": [
    "#lets say we want to convert each character of  hw_text string to list\n",
    "hw_text='hello world'"
   ]
  },
  {
   "cell_type": "code",
   "execution_count": 27,
   "id": "49b86936",
   "metadata": {},
   "outputs": [
    {
     "data": {
      "text/plain": [
       "'hello world'"
      ]
     },
     "execution_count": 27,
     "metadata": {},
     "output_type": "execute_result"
    }
   ],
   "source": [
    "hw_text"
   ]
  },
  {
   "cell_type": "code",
   "execution_count": 28,
   "id": "3f42271a",
   "metadata": {},
   "outputs": [],
   "source": [
    "#firts lets create a blank list\n",
    "hw_list=[]"
   ]
  },
  {
   "cell_type": "code",
   "execution_count": 29,
   "id": "db41740d",
   "metadata": {},
   "outputs": [
    {
     "data": {
      "text/plain": [
       "[]"
      ]
     },
     "execution_count": 29,
     "metadata": {},
     "output_type": "execute_result"
    }
   ],
   "source": [
    "hw_list"
   ]
  },
  {
   "cell_type": "code",
   "execution_count": 30,
   "id": "f5ee2d66",
   "metadata": {},
   "outputs": [],
   "source": [
    "#so now use the for loop here"
   ]
  },
  {
   "cell_type": "code",
   "execution_count": 31,
   "id": "6ea6e5de",
   "metadata": {},
   "outputs": [
    {
     "name": "stdout",
     "output_type": "stream",
     "text": [
      "h\n",
      "e\n",
      "l\n",
      "l\n",
      "o\n",
      " \n",
      "w\n",
      "o\n",
      "r\n",
      "l\n",
      "d\n"
     ]
    }
   ],
   "source": [
    "for x in hw_text:\n",
    "    print (x)"
   ]
  },
  {
   "cell_type": "code",
   "execution_count": 32,
   "id": "d5a9fd40",
   "metadata": {},
   "outputs": [],
   "source": [
    "for char in hw_text:\n",
    "    hw_list.append(char)"
   ]
  },
  {
   "cell_type": "code",
   "execution_count": 33,
   "id": "8de522f0",
   "metadata": {},
   "outputs": [
    {
     "data": {
      "text/plain": [
       "['h', 'e', 'l', 'l', 'o', ' ', 'w', 'o', 'r', 'l', 'd']"
      ]
     },
     "execution_count": 33,
     "metadata": {},
     "output_type": "execute_result"
    }
   ],
   "source": [
    "hw_list"
   ]
  },
  {
   "cell_type": "code",
   "execution_count": 34,
   "id": "c1014a08",
   "metadata": {},
   "outputs": [],
   "source": [
    "#here you go. but with list_comprehension, this can be simplified, lets see (basically some reassigning of code)"
   ]
  },
  {
   "cell_type": "code",
   "execution_count": 36,
   "id": "fc363cde",
   "metadata": {},
   "outputs": [],
   "source": [
    "hw_list=[]"
   ]
  },
  {
   "cell_type": "code",
   "execution_count": 37,
   "id": "5298bdc4",
   "metadata": {},
   "outputs": [
    {
     "data": {
      "text/plain": [
       "[]"
      ]
     },
     "execution_count": 37,
     "metadata": {},
     "output_type": "execute_result"
    }
   ],
   "source": [
    "hw_list"
   ]
  },
  {
   "cell_type": "code",
   "execution_count": 38,
   "id": "e815f6c7",
   "metadata": {},
   "outputs": [],
   "source": [
    "#cool, its made blabk again, lets do list comprehension now"
   ]
  },
  {
   "cell_type": "code",
   "execution_count": 40,
   "id": "5d19fca6",
   "metadata": {},
   "outputs": [],
   "source": [
    "hw_list= [char for char in hw_text]"
   ]
  },
  {
   "cell_type": "code",
   "execution_count": 41,
   "id": "5a559dac",
   "metadata": {},
   "outputs": [
    {
     "data": {
      "text/plain": [
       "['h', 'e', 'l', 'l', 'o', ' ', 'w', 'o', 'r', 'l', 'd']"
      ]
     },
     "execution_count": 41,
     "metadata": {},
     "output_type": "execute_result"
    }
   ],
   "source": [
    "hw_list"
   ]
  },
  {
   "cell_type": "code",
   "execution_count": 42,
   "id": "1d5d70fe",
   "metadata": {},
   "outputs": [],
   "source": [
    "#cool, so we skipped append, and jumped directly to create a list this way"
   ]
  },
  {
   "cell_type": "code",
   "execution_count": 43,
   "id": "ca80b989",
   "metadata": {},
   "outputs": [],
   "source": [
    "#to each iterable element, we can assign operation/methods too. lets say we wanted list with upper case"
   ]
  },
  {
   "cell_type": "code",
   "execution_count": 44,
   "id": "8193e421",
   "metadata": {},
   "outputs": [],
   "source": [
    "hw_list= [char.upper() for char in hw_text]"
   ]
  },
  {
   "cell_type": "code",
   "execution_count": 45,
   "id": "c889486e",
   "metadata": {},
   "outputs": [
    {
     "data": {
      "text/plain": [
       "['H', 'E', 'L', 'L', 'O', ' ', 'W', 'O', 'R', 'L', 'D']"
      ]
     },
     "execution_count": 45,
     "metadata": {},
     "output_type": "execute_result"
    }
   ],
   "source": [
    "hw_list"
   ]
  },
  {
   "cell_type": "code",
   "execution_count": 46,
   "id": "ce11e2e5",
   "metadata": {},
   "outputs": [
    {
     "data": {
      "text/plain": [
       "['hh', 'ee', 'll', 'll', 'oo', '  ', 'ww', 'oo', 'rr', 'll', 'dd']"
      ]
     },
     "execution_count": 46,
     "metadata": {},
     "output_type": "execute_result"
    }
   ],
   "source": [
    "hw_list= [char+char for char in hw_text]\n",
    "hw_list"
   ]
  },
  {
   "cell_type": "code",
   "execution_count": 47,
   "id": "797ec903",
   "metadata": {},
   "outputs": [],
   "source": [
    "#again, list comrehension is optional to use, do it if you want, otherwise for loop is working"
   ]
  },
  {
   "cell_type": "code",
   "execution_count": 48,
   "id": "108b601e",
   "metadata": {},
   "outputs": [],
   "source": [
    "#coding excercise\n"
   ]
  },
  {
   "cell_type": "code",
   "execution_count": 50,
   "id": "a730f2da",
   "metadata": {},
   "outputs": [
    {
     "data": {
      "text/plain": [
       "[320, 32, 48, 64, 80]"
      ]
     },
     "execution_count": 50,
     "metadata": {},
     "output_type": "execute_result"
    }
   ],
   "source": [
    "list_1 = [20,2,3,4,5]\n",
    "\n",
    "# Write your code below\n",
    "list_2=[x*16 for x in list_1]\n",
    "list_2"
   ]
  },
  {
   "cell_type": "code",
   "execution_count": 51,
   "id": "017dab9c",
   "metadata": {},
   "outputs": [],
   "source": [
    "#in & Not In\n",
    "#In returns true, if the object is found\n",
    "#Not in, returns True if the object CAN-NOT be found"
   ]
  },
  {
   "cell_type": "code",
   "execution_count": 53,
   "id": "90524116",
   "metadata": {},
   "outputs": [
    {
     "data": {
      "text/plain": [
       "True"
      ]
     },
     "execution_count": 53,
     "metadata": {},
     "output_type": "execute_result"
    }
   ],
   "source": [
    "list_1=[1,2,3,4]\n",
    "#to confirm if 4 is in the list\n",
    "4 in list_1"
   ]
  },
  {
   "cell_type": "code",
   "execution_count": 54,
   "id": "210017d0",
   "metadata": {},
   "outputs": [
    {
     "data": {
      "text/plain": [
       "False"
      ]
     },
     "execution_count": 54,
     "metadata": {},
     "output_type": "execute_result"
    }
   ],
   "source": [
    "6 in list_1"
   ]
  },
  {
   "cell_type": "code",
   "execution_count": 55,
   "id": "c1035a3c",
   "metadata": {},
   "outputs": [],
   "source": [
    "#cool, it works the same way in tuples and sets, and string too"
   ]
  },
  {
   "cell_type": "code",
   "execution_count": 56,
   "id": "dc4effc9",
   "metadata": {},
   "outputs": [],
   "source": [
    "#in dict, it only checks for keys"
   ]
  },
  {
   "cell_type": "code",
   "execution_count": 57,
   "id": "7aafb1c1",
   "metadata": {},
   "outputs": [],
   "source": [
    "dict_1={'key1':'value1', 'key2':'value2'}"
   ]
  },
  {
   "cell_type": "code",
   "execution_count": 58,
   "id": "6ab24423",
   "metadata": {},
   "outputs": [
    {
     "data": {
      "text/plain": [
       "{'key1': 'value1', 'key2': 'value2'}"
      ]
     },
     "execution_count": 58,
     "metadata": {},
     "output_type": "execute_result"
    }
   ],
   "source": [
    "dict_1"
   ]
  },
  {
   "cell_type": "code",
   "execution_count": 60,
   "id": "20f413a7",
   "metadata": {},
   "outputs": [
    {
     "data": {
      "text/plain": [
       "True"
      ]
     },
     "execution_count": 60,
     "metadata": {},
     "output_type": "execute_result"
    }
   ],
   "source": [
    "'key1' in dict_1"
   ]
  },
  {
   "cell_type": "code",
   "execution_count": 61,
   "id": "287e184e",
   "metadata": {},
   "outputs": [
    {
     "data": {
      "text/plain": [
       "False"
      ]
     },
     "execution_count": 61,
     "metadata": {},
     "output_type": "execute_result"
    }
   ],
   "source": [
    "'value1' in dict_1"
   ]
  },
  {
   "cell_type": "code",
   "execution_count": 62,
   "id": "46d0183e",
   "metadata": {},
   "outputs": [],
   "source": [
    "#oops, wrong result, value 1 is there in dict_1. so it doesn't work for values then, hmmm\n",
    "#so how to do it now ??\n",
    "#remember, we can call dict values in an object dict_.value() :)"
   ]
  },
  {
   "cell_type": "code",
   "execution_count": 63,
   "id": "4f06f6e1",
   "metadata": {},
   "outputs": [
    {
     "data": {
      "text/plain": [
       "dict_values(['value1', 'value2'])"
      ]
     },
     "execution_count": 63,
     "metadata": {},
     "output_type": "execute_result"
    }
   ],
   "source": [
    "dict_1.values()"
   ]
  },
  {
   "cell_type": "code",
   "execution_count": 64,
   "id": "018d3cf5",
   "metadata": {},
   "outputs": [
    {
     "data": {
      "text/plain": [
       "True"
      ]
     },
     "execution_count": 64,
     "metadata": {},
     "output_type": "execute_result"
    }
   ],
   "source": [
    "#so, lets check here\n",
    "'value1' in dict_1.values()"
   ]
  },
  {
   "cell_type": "code",
   "execution_count": 65,
   "id": "e10227b0",
   "metadata": {},
   "outputs": [],
   "source": [
    "#bingo, its there\n",
    "#lets not leave tuples, sets and strings too, continue after line 55...\n"
   ]
  },
  {
   "cell_type": "code",
   "execution_count": 66,
   "id": "921e4fb0",
   "metadata": {},
   "outputs": [
    {
     "data": {
      "text/plain": [
       "True"
      ]
     },
     "execution_count": 66,
     "metadata": {},
     "output_type": "execute_result"
    }
   ],
   "source": [
    "tuple_1=(1,2,3,4)\n",
    "1 in tuple_1"
   ]
  },
  {
   "cell_type": "code",
   "execution_count": 67,
   "id": "b4417c7c",
   "metadata": {},
   "outputs": [
    {
     "data": {
      "text/plain": [
       "True"
      ]
     },
     "execution_count": 67,
     "metadata": {},
     "output_type": "execute_result"
    }
   ],
   "source": [
    "set_1={1,2,3,4}\n",
    "2 in set_1"
   ]
  },
  {
   "cell_type": "code",
   "execution_count": 68,
   "id": "8409dce4",
   "metadata": {},
   "outputs": [
    {
     "data": {
      "text/plain": [
       "False"
      ]
     },
     "execution_count": 68,
     "metadata": {},
     "output_type": "execute_result"
    }
   ],
   "source": [
    "1 not in set_1"
   ]
  },
  {
   "cell_type": "code",
   "execution_count": 73,
   "id": "3f30ddee",
   "metadata": {},
   "outputs": [],
   "source": [
    "str_1='Hello world'"
   ]
  },
  {
   "cell_type": "code",
   "execution_count": 74,
   "id": "0103d6b9",
   "metadata": {},
   "outputs": [
    {
     "data": {
      "text/plain": [
       "False"
      ]
     },
     "execution_count": 74,
     "metadata": {},
     "output_type": "execute_result"
    }
   ],
   "source": [
    "'h' in str_1"
   ]
  },
  {
   "cell_type": "code",
   "execution_count": 75,
   "id": "0e13324f",
   "metadata": {},
   "outputs": [
    {
     "data": {
      "text/plain": [
       "True"
      ]
     },
     "execution_count": 75,
     "metadata": {},
     "output_type": "execute_result"
    }
   ],
   "source": [
    "'H' in str_1"
   ]
  },
  {
   "cell_type": "code",
   "execution_count": 77,
   "id": "90b51968",
   "metadata": {},
   "outputs": [
    {
     "data": {
      "text/plain": [
       "True"
      ]
     },
     "execution_count": 77,
     "metadata": {},
     "output_type": "execute_result"
    }
   ],
   "source": [
    "'Hel' in str_1"
   ]
  },
  {
   "cell_type": "code",
   "execution_count": null,
   "id": "5b0abcaa",
   "metadata": {},
   "outputs": [],
   "source": []
  }
 ],
 "metadata": {
  "kernelspec": {
   "display_name": "Python 3 (ipykernel)",
   "language": "python",
   "name": "python3"
  },
  "language_info": {
   "codemirror_mode": {
    "name": "ipython",
    "version": 3
   },
   "file_extension": ".py",
   "mimetype": "text/x-python",
   "name": "python",
   "nbconvert_exporter": "python",
   "pygments_lexer": "ipython3",
   "version": "3.11.5"
  }
 },
 "nbformat": 4,
 "nbformat_minor": 5
}
